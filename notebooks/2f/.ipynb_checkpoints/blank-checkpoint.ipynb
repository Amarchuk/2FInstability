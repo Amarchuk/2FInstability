{
 "cells": [
  {
   "cell_type": "markdown",
   "metadata": {},
   "source": [
    "# NGC ... (UGC ...)"
   ]
  },
  {
   "cell_type": "code",
   "execution_count": 1,
   "metadata": {
    "collapsed": false
   },
   "outputs": [
    {
     "name": "stdout",
     "output_type": "stream",
     "text": [
      "Using matplotlib backend: Qt4Agg\n",
      "Populating the interactive namespace from numpy and matplotlib\n"
     ]
    }
   ],
   "source": [
    "from IPython.display import HTML\n",
    "from IPython.display import Image\n",
    "import os\n",
    "\n",
    "%pylab\n",
    "%matplotlib inline\n",
    "%run ../../utils/load_notebook.py"
   ]
  },
  {
   "cell_type": "code",
   "execution_count": 2,
   "metadata": {
    "collapsed": false
   },
   "outputs": [
    {
     "name": "stdout",
     "output_type": "stream",
     "text": [
      "importing Jupyter notebook from photometry.ipynb\n",
      "Using matplotlib backend: Qt4Agg\n",
      "Populating the interactive namespace from numpy and matplotlib\n"
     ]
    }
   ],
   "source": [
    "from photometry import *"
   ]
  },
  {
   "cell_type": "code",
   "execution_count": 3,
   "metadata": {
    "collapsed": false
   },
   "outputs": [
    {
     "name": "stdout",
     "output_type": "stream",
     "text": [
      "importing Jupyter notebook from instabilities.ipynb\n",
      "Using matplotlib backend: Qt4Agg\n",
      "Populating the interactive namespace from numpy and matplotlib\n"
     ]
    }
   ],
   "source": [
    "from instabilities import *"
   ]
  },
  {
   "cell_type": "code",
   "execution_count": 4,
   "metadata": {
    "collapsed": false
   },
   "outputs": [],
   "source": [
    "name = '...'\n",
    "gtype = '...'\n",
    "incl = None\n",
    "scale = None #kpc/arcsec\n",
    "\n",
    "data_path = None\n",
    "# sin_i, cos_i = np.sin(incl*np.pi/180.), np.cos(incl*np.pi/180.)"
   ]
  },
  {
   "cell_type": "code",
   "execution_count": 5,
   "metadata": {
    "collapsed": false
   },
   "outputs": [
    {
     "data": {
      "application/javascript": [
       "$.getScript('https://kmahelona.github.io/ipython_notebook_goodies/ipython_notebook_toc.js')"
      ],
      "text/plain": [
       "<IPython.core.display.Javascript object>"
      ]
     },
     "metadata": {},
     "output_type": "display_data"
    }
   ],
   "source": [
    "%%javascript \n",
    "$.getScript('https://kmahelona.github.io/ipython_notebook_goodies/ipython_notebook_toc.js')"
   ]
  },
  {
   "cell_type": "markdown",
   "metadata": {},
   "source": [
    "<h2 id=\"tocheading\">Оглавление</h2>\n",
    "<div id=\"toc\"></div>"
   ]
  },
  {
   "cell_type": "markdown",
   "metadata": {
    "heading_collapsed": true
   },
   "source": [
    "## Статьи"
   ]
  },
  {
   "cell_type": "markdown",
   "metadata": {},
   "source": [
    "## Разное"
   ]
  },
  {
   "cell_type": "code",
   "execution_count": 6,
   "metadata": {
    "collapsed": false
   },
   "outputs": [],
   "source": [
    "# Данные из NED\n",
    "# HTML('<iframe src=http://ned.ipac.caltech.edu/cgi-bin/objsearch?objname=ngc+4725&extend=no&hconst=\\\n",
    "# 73&omegam=0.27&omegav=0.73&corr_z=1&out_csys=Equatorial&out_equinox=J2000.0&obj_sort=RA+or+Longitude&of=pre_text&zv_breaker=\\\n",
    "# 30000.0&list_limit=5&img_stamp=YES width=1000 height=350></iframe>')"
   ]
  },
  {
   "cell_type": "code",
   "execution_count": 7,
   "metadata": {
    "collapsed": false
   },
   "outputs": [],
   "source": [
    "# Данные из HYPERLEDA\n",
    "# HTML('<iframe src=http://leda.univ-lyon1.fr/ledacat.cgi?o=ngc4725 width=1000 height=350></iframe>')"
   ]
  },
  {
   "cell_type": "markdown",
   "metadata": {},
   "source": [
    "## Кинематические данные по звездам"
   ]
  },
  {
   "cell_type": "markdown",
   "metadata": {},
   "source": [
    "### Кривая вращения"
   ]
  },
  {
   "cell_type": "code",
   "execution_count": 8,
   "metadata": {
    "collapsed": true
   },
   "outputs": [],
   "source": [
    "# os.chdir(data_path)"
   ]
  },
  {
   "cell_type": "markdown",
   "metadata": {},
   "source": [
    "### Дисперсии"
   ]
  },
  {
   "cell_type": "markdown",
   "metadata": {
    "collapsed": true
   },
   "source": [
    "Для большой оси: $\\sigma^2_{maj} = \\sigma^2_{\\varphi}\\sin^2 i + \\sigma^2_{z}\\cos^2 i$, следовательно примерные ограничения\n",
    "$$\\sigma_{maj} < \\sigma_R = \\frac{\\sigma_{maj}}{\\sqrt{f\\sin^2 i + \\alpha^2\\cos^2 i}} ~< \\frac{\\sqrt{2}\\sigma_{maj}}{\\sin i} (или \\frac{\\sigma_{maj}}{\\sqrt{f}\\sin i}),$$ \n",
    "или можно более точную оценку дать, если построить $f$ (сейчас $0.5 < f < 1$).\n",
    "\n",
    "Для малой оси: $\\sigma^2_{min} = \\sigma^2_{R}\\sin^2 i + \\sigma^2_{z}\\cos^2 i$ и ограничения\n",
    "$$\\sigma_{min} < \\sigma_R = \\frac{\\sigma_{min}}{\\sqrt{\\sin^2 i + \\alpha^2\\cos^2 i}} ~< \\frac{\\sigma_{min}}{\\sin i}$$ "
   ]
  },
  {
   "cell_type": "markdown",
   "metadata": {},
   "source": [
    "## Данные по газу"
   ]
  },
  {
   "cell_type": "markdown",
   "metadata": {},
   "source": [
    "### Кривая вращения"
   ]
  },
  {
   "cell_type": "markdown",
   "metadata": {},
   "source": [
    "### Эпициклическая частота"
   ]
  },
  {
   "cell_type": "markdown",
   "metadata": {},
   "source": [
    "Для случая бесконечного тонкого диска: $$\\kappa=\\frac{3}{R}\\frac{d\\Phi}{dR}+\\frac{d^2\\Phi}{dR^2}$$\n",
    "где $\\Phi$ - гравпотенциал, однако его знать не надо, т.к. есть проще формула: $$\\kappa=\\sqrt{2}\\frac{\\vartheta_c}{R}\\sqrt{1+\\frac{R}{\\vartheta_c}\\frac{d\\vartheta_c}{dR}}$$\n",
    "\n",
    "TODO: использовать $\\varkappa$? точно ли тут газовая кривая?"
   ]
  },
  {
   "cell_type": "code",
   "execution_count": 9,
   "metadata": {
    "collapsed": false,
    "scrolled": false
   },
   "outputs": [],
   "source": [
    "# TODO: move to utils\n",
    "def epicyclicFreq_real(poly_gas, R, resolution):\n",
    "    '''Честное вычисление эпициклической частоты на расстоянии R для сплайна или полинома'''\n",
    "    try:\n",
    "        return sqrt(2.0) * poly_gas(R) * sqrt(1 + R * poly_gas.deriv()(R) / poly_gas(R)) / (R * resolution )\n",
    "    except:\n",
    "        return sqrt(2.0) * poly_gas(R) * sqrt(1 + R * poly_gas.derivative()(R) / poly_gas(R)) / (R * resolution )"
   ]
  },
  {
   "cell_type": "markdown",
   "metadata": {},
   "source": [
    "### Поверхностная плотность газа "
   ]
  },
  {
   "cell_type": "markdown",
   "metadata": {},
   "source": [
    "## Данные по фотометрии"
   ]
  },
  {
   "cell_type": "markdown",
   "metadata": {},
   "source": [
    "## Зоны звездообразования\n"
   ]
  },
  {
   "cell_type": "code",
   "execution_count": 10,
   "metadata": {
    "collapsed": false
   },
   "outputs": [
    {
     "data": {
      "text/plain": [
       "(0, 200)"
      ]
     },
     "execution_count": 10,
     "metadata": {},
     "output_type": "execute_result"
    },
    {
     "data": {
      "image/png": "[encoded data removed]",
      "text/plain": [
       "<matplotlib.figure.Figure at 0xa132cc0>"
      ]
     },
     "metadata": {},
     "output_type": "display_data"
    }
   ],
   "source": [
    "def plot_SF(ax):\n",
    "    pass\n",
    "    \n",
    "plot_SF(plt.gca())\n",
    "plt.xlim(0, 350)\n",
    "plt.ylim(0, 200)"
   ]
  },
  {
   "cell_type": "markdown",
   "metadata": {},
   "source": [
    "## Неустойчивость"
   ]
  },
  {
   "cell_type": "markdown",
   "metadata": {},
   "source": [
    "### Одножидкостная"
   ]
  },
  {
   "cell_type": "markdown",
   "metadata": {},
   "source": [
    "Устойчиво, когда > 1:\n",
    "$$Q_g = \\frac{\\Sigma_g^{cr}}{\\Sigma_g}=\\frac{\\kappa c_g}{\\pi G \\Sigma_g}$$\n",
    "$$Q_s = \\frac{\\Sigma_s^{cr}}{\\Sigma_s}=\\frac{\\sigma_R}{\\sigma_R^{min}}=\\frac{\\kappa \\sigma_R}{3.36 G \\Sigma_s}$$"
   ]
  },
  {
   "cell_type": "markdown",
   "metadata": {},
   "source": [
    "### Двухжидкостная"
   ]
  },
  {
   "cell_type": "markdown",
   "metadata": {},
   "source": [
    "Кинетическое приближение:\n",
    "$$\\frac{1}{Q_{\\mathrm{eff}}}=\\frac{2}{Q_{\\mathrm{s}}}\\frac{1}{\\bar{k}}\\left[1-e^{-\\bar{k}^{2}}I_{0}(\\bar{k}^{2})\\right]+\\frac{2}{Q_{\\mathrm{g}}}s\\frac{\\bar{k}}{1+\\bar{k}^{2}s^{2}}>1\\,$$\n",
    "\n",
    "Гидродинамическое приближение:\n",
    "$$\\frac{2\\,\\pi\\, G\\, k\\,\\Sigma_{\\mathrm{s}}}{\\kappa+k^{2}\\sigma_{\\mathrm{s}}}+\\frac{2\\,\\pi\\, G\\, k\\,\\Sigma_{\\mathrm{g}}}{\\kappa+k^{2}c_{\\mathrm{g}}}>1$$ или $$\\frac{1}{Q_{\\mathrm{eff}}}=\\frac{2}{Q_{\\mathrm{s}}}\\frac{\\bar{k}}{1+\\bar{k}^{2}}+\\frac{2}{Q_{\\mathrm{g}}}s\\frac{\\bar{k}}{1+\\bar{k}^{2}s^{2}}>1$$ для безразмерного волнового числа ${\\displaystyle \\bar{k}\\equiv\\frac{k\\,\\sigma_{\\mathrm{s}}}{\\kappa}},\\, s=c/\\sigma$"
   ]
  },
  {
   "cell_type": "markdown",
   "metadata": {},
   "source": [
    "## Учет толщины"
   ]
  },
  {
   "cell_type": "markdown",
   "metadata": {},
   "source": [
    "$$\\frac{2\\,\\pi\\, G\\, k\\,\\Sigma_{\\mathrm{s}}}{\\kappa+k^{2}\\sigma_{\\mathrm{s}}}\\,\\left\\{ \\frac{1-\\exp(-k\\, h_{z}^{\\mathrm{s}})}{k\\, h_{z}^{\\mathrm{s}}}\\right\\} +\\frac{2\\,\\pi\\, G\\, k\\,\\Sigma_{\\mathrm{g}}}{\\kappa+k^{2}c_{\\mathrm{g}}}\\,\\left\\{ \\frac{1-\\exp(-k\\, h_{z}^{\\mathrm{g}})}{k\\, h_{z}^{\\mathrm{g}}}\\right\\} >1$$"
   ]
  },
  {
   "cell_type": "markdown",
   "metadata": {},
   "source": [
    "$$\\begin{array}{rcl}\n",
    "\\sigma_{z}^{2}=\\pi Gz_{0}^{\\mathrm{s}}(\\Sigma_{\\mathrm{s}}+\\Sigma_{\\mathrm{g}})\\,,\\\\\n",
    "\\\\\n",
    "c_{\\mathrm{g}}^{2}=\\pi Gz_{0}^{\\mathrm{g}}(\\Sigma_{\\mathrm{g}}+\\Sigma_{\\mathrm{s}})\\,.\n",
    "\\end{array}$$\n",
    "\n",
    "Отсюда можно найти толщины"
   ]
  },
  {
   "cell_type": "markdown",
   "metadata": {},
   "source": [
    "## Эксперименты"
   ]
  },
  {
   "cell_type": "code",
   "execution_count": 11,
   "metadata": {
    "collapsed": false
   },
   "outputs": [
    {
     "data": {
      "application/json": {
       "Software versions": [
        {
         "module": "Python",
         "version": "2.7.12 64bit [MSC v.1500 64 bit (AMD64)]"
        },
        {
         "module": "IPython",
         "version": "5.1.0"
        },
        {
         "module": "OS",
         "version": "Windows 7 6.1.7601 SP1"
        },
        {
         "module": "numpy",
         "version": "1.11.2"
        },
        {
         "module": "scipy",
         "version": "0.18.1"
        },
        {
         "module": "matplotlib",
         "version": "1.5.1"
        }
       ]
      },
      "text/html": [
       "<table><tr><th>Software</th><th>Version</th></tr><tr><td>Python</td><td>2.7.12 64bit [MSC v.1500 64 bit (AMD64)]</td></tr><tr><td>IPython</td><td>5.1.0</td></tr><tr><td>OS</td><td>Windows 7 6.1.7601 SP1</td></tr><tr><td>numpy</td><td>1.11.2</td></tr><tr><td>scipy</td><td>0.18.1</td></tr><tr><td>matplotlib</td><td>1.5.1</td></tr><tr><td colspan='2'>Tue Oct 25 17:30:47 2016 RTZ 2 (зима)</td></tr></table>"
      ],
      "text/latex": [
       "\\begin{tabular}{|l|l|}\\hline\n",
       "{\\bf Software} & {\\bf Version} \\\\ \\hline\\hline\n",
       "Python & 2.7.12 64bit [MSC v.1500 64 bit (AMD64)] \\\\ \\hline\n",
       "IPython & 5.1.0 \\\\ \\hline\n",
       "OS & Windows 7 6.1.7601 SP1 \\\\ \\hline\n",
       "numpy & 1.11.2 \\\\ \\hline\n",
       "scipy & 0.18.1 \\\\ \\hline\n",
       "matplotlib & 1.5.1 \\\\ \\hline\n",
       "\\hline \\multicolumn{2}{|l|}{Tue Oct 25 17:30:47 2016 RTZ 2 (зима)} \\\\ \\hline\n",
       "\\end{tabular}\n"
      ],
      "text/plain": [
       "Software versions\n",
       "Python 2.7.12 64bit [MSC v.1500 64 bit (AMD64)]\n",
       "IPython 5.1.0\n",
       "OS Windows 7 6.1.7601 SP1\n",
       "numpy 1.11.2\n",
       "scipy 0.18.1\n",
       "matplotlib 1.5.1\n",
       "Tue Oct 25 17:30:47 2016 RTZ 2 (зима)"
      ]
     },
     "execution_count": 11,
     "metadata": {},
     "output_type": "execute_result"
    }
   ],
   "source": [
    "# %install_ext http://raw.github.com/jrjohansson/version_information/master/version_information.py\n",
    "%load_ext version_information\n",
    "%reload_ext version_information\n",
    "\n",
    "%version_information numpy, scipy, matplotlib"
   ]
  },
  {
   "cell_type": "code",
   "execution_count": 3,
   "metadata": {
    "collapsed": false
   },
   "outputs": [
    {
     "data": {
      "text/html": [
       "<script>requirejs.config({paths: { 'plotly': ['https://cdn.plot.ly/plotly-latest.min']},});if(!window.Plotly) {{require(['plotly'],function(plotly) {window.Plotly=plotly;});}}</script>"
      ],
      "text/plain": [
       "<IPython.core.display.HTML object>"
      ]
     },
     "metadata": {},
     "output_type": "display_data"
    }
   ],
   "source": [
    "from plotly import tools\n",
    "from plotly.offline import init_notebook_mode, iplot\n",
    "import plotly.plotly as py\n",
    "import plotly.graph_objs as go\n",
    "import numpy as np\n",
    "init_notebook_mode(connected=True)"
   ]
  },
  {
   "cell_type": "code",
   "execution_count": 4,
   "metadata": {
    "collapsed": false
   },
   "outputs": [
    {
     "data": {
      "text/html": [
       "<div id=\"d2a5bcfa-41b6-461a-89ff-5e29584b5997\" style=\"height: 525px; width: 100%;\" class=\"plotly-graph-div\"></div><script type=\"text/javascript\">require([\"plotly\"], function(Plotly) { window.PLOTLYENV=window.PLOTLYENV || {};window.PLOTLYENV.BASE_URL=\"https://plot.ly\";Plotly.newPlot(\"d2a5bcfa-41b6-461a-89ff-5e29584b5997\", [{\"marker\": {\"color\": [0.06179821728399182, 0.4921557305384854, 0.9574342199636486, 0.22019190178924997, 0.6887760337767775, 0.2646606139382507, 0.1775588049204233, 0.7386650476499633, 0.9550563163137239, 0.6250980240600881, 0.2601915643049625, 0.49807358261328394, 0.31057009269420754, 0.7069400386855408, 0.01514761707302592, 0.20461327811417152, 0.8435144768694005, 0.21545073597929, 0.07441945351043, 0.9190952146954973, 0.5301467624719867, 0.6491102401209549, 0.5582244437725743, 0.0018487822958412892, 0.6931830525654351, 0.4335519836138906, 0.3211194889875465, 0.6604770028898836, 0.23569189202970986, 0.46792611755242064], \"colorscale\": \"Hot\", \"size\": \"16\"}, \"y\": [-0.3455659922636078, -0.6149502414353933, -1.3188494842189815, -0.6430906259648934, 0.5919440816840931, 2.169645219689844, -1.5924990970898985, -1.0356244953432936, -0.33233786973543705, -0.6800756411978214, -0.8361729213762017, -0.1250815693982037, 0.40850903451107323, 0.3016423648048898, 0.01675069919502618, -0.7220096298532706, -0.8663894260621757, 0.7419113005412441, -1.7414441279690556, 1.1765031064908962, -0.45005797396327746, -0.1076764398851349, -0.07046711752261269, -0.31024133491200023, 0.7675649712612803, -0.9890114482408259, 0.6066844170225776, 0.8051270656519146, -0.020050378607051677, 0.5450394341919407], \"type\": \"scatter\", \"mode\": \"markers\", \"x\": [-0.5419226751320967, 0.455912561294811, -1.4680115885197214, 0.05105703273236745, -0.2747619321285324, -0.7773932854056046, -0.7306683271854427, -1.5611976545779473, 0.7371209485677355, -1.2149698822603932, 1.267151303564188, -1.9973673224066657, -0.006375961213052193, 0.0587676156083029, -0.739997333069063, 0.5617557359816804, -1.731151162068279, -1.1103932013801123, -0.13586994972376096, 1.4056454874900868, 0.9115856602218121, -0.8435807138332199, -0.1841911301728006, 1.364414829016343, 0.5336818248772954, -2.4436638812635825, 0.08906288414062405, 0.5129985947830442, -0.6469327042326836, -0.021988247062438685]}], {}, {\"linkText\": \"Export to plot.ly\", \"showLink\": true})});</script>"
      ],
      "text/plain": [
       "<IPython.core.display.HTML object>"
      ]
     },
     "metadata": {},
     "output_type": "display_data"
    }
   ],
   "source": [
    "acc_dot = go.Scatter(\n",
    "    x = np.random.randn(30),\n",
    "    y = np.random.randn(30),\n",
    "    mode='markers',\n",
    "    marker=dict(\n",
    "        size='16',\n",
    "        color = np.random.rand(30),\n",
    "        colorscale='Hot')\n",
    ")\n",
    "data = [acc_dot]\n",
    "\n",
    "iplot(data, filename='scatter-plot-with-colorscale')"
   ]
  },
  {
   "cell_type": "code",
   "execution_count": null,
   "metadata": {
    "collapsed": true
   },
   "outputs": [],
   "source": []
  }
 ],
 "metadata": {
  "kernelspec": {
   "display_name": "Python 2",
   "language": "python",
   "name": "python2"
  },
  "language_info": {
   "codemirror_mode": {
    "name": "ipython",
    "version": 2
   },
   "file_extension": ".py",
   "mimetype": "text/x-python",
   "name": "python",
   "nbconvert_exporter": "python",
   "pygments_lexer": "ipython2",
   "version": "2.7.12"
  },
  "nav_menu": {},
  "toc": {
   "navigate_menu": true,
   "number_sections": true,
   "sideBar": false,
   "threshold": 6,
   "toc_cell": false,
   "toc_section_display": "block",
   "toc_window_display": false
  },
  "toc_position": {
   "height": "459px",
   "left": "0.994318px",
   "right": "20px",
   "top": "105px",
   "width": "189px"
  }
 },
 "nbformat": 4,
 "nbformat_minor": 1
}
