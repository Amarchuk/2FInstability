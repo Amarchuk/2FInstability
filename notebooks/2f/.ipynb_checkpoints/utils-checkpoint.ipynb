{
 "cells": [
  {
   "cell_type": "markdown",
   "metadata": {
    "deletable": true,
    "editable": true
   },
   "source": [
    "TODO: сделать так, чтобы можно было импортировать"
   ]
  },
  {
   "cell_type": "code",
   "execution_count": 1,
   "metadata": {
    "collapsed": false,
    "deletable": true,
    "editable": true
   },
   "outputs": [
    {
     "name": "stdout",
     "output_type": "stream",
     "text": [
      "importing Jupyter notebook from instabilities.ipynb\n",
      "Using matplotlib backend: Qt4Agg\n",
      "Populating the interactive namespace from numpy and matplotlib\n"
     ]
    }
   ],
   "source": [
    "%run ../../utils/load_notebook.py\n",
    "from instabilities import *\n",
    "import numpy as np"
   ]
  },
  {
   "cell_type": "markdown",
   "metadata": {
    "deletable": true,
    "editable": true
   },
   "source": [
    "Коэффициент для учета вклада гелия в массу газа (см. Notes):"
   ]
  },
  {
   "cell_type": "code",
   "execution_count": 1,
   "metadata": {
    "collapsed": true,
    "deletable": true,
    "editable": true
   },
   "outputs": [],
   "source": [
    "He_coeff = 1.34"
   ]
  },
  {
   "cell_type": "code",
   "execution_count": null,
   "metadata": {
    "collapsed": true,
    "deletable": true,
    "editable": true
   },
   "outputs": [],
   "source": []
  },
  {
   "cell_type": "code",
   "execution_count": 2,
   "metadata": {
    "collapsed": true,
    "deletable": true,
    "editable": true
   },
   "outputs": [],
   "source": [
    "def flat_end(argument):\n",
    "    '''декоратор для того, чтобы продолжать функцию на уровне последнего значения'''\n",
    "    def real_decorator(function):\n",
    "        def wrapper(*args, **kwargs):\n",
    "            if args[0] < argument:\n",
    "                return function(*args, **kwargs)\n",
    "            else:\n",
    "                return function(argument, *args[1:], **kwargs)\n",
    "        return wrapper\n",
    "    return real_decorator"
   ]
  },
  {
   "cell_type": "markdown",
   "metadata": {
    "collapsed": true,
    "deletable": true,
    "editable": true
   },
   "source": [
    "Для большой оси: $\\sigma^2_{maj} = \\sigma^2_{\\varphi}\\sin^2 i + \\sigma^2_{z}\\cos^2 i$, следовательно примерные ограничения\n",
    "$$\\sigma_{maj}  < \\frac{\\sigma_{maj}}{\\sqrt{\\sin^2 i + 0.49\\cos^2 i}}< \\sigma_R = \\frac{\\sigma_{maj}}{\\sqrt{f\\sin^2 i + \\alpha^2\\cos^2 i}} ~< \\frac{\\sigma_{maj}}{\\sqrt{0.5\\sin^2 i + 0.09\\cos^2 i}} < \\frac{\\sqrt{2}\\sigma_{maj}}{\\sin i} (или \\frac{\\sigma_{maj}}{\\sqrt{f}\\sin i}),$$ \n",
    "или можно более точную оценку дать, если построить $f$ (сейчас $0.5 < f < 1$).\n",
    "\n",
    "Для малой оси: $\\sigma^2_{min} = \\sigma^2_{R}\\sin^2 i + \\sigma^2_{z}\\cos^2 i$ и ограничения\n",
    "$$\\sigma_{min} < \\frac{\\sigma_{min}}{\\sqrt{\\sin^2 i + 0.49\\cos^2 i}} < \\sigma_R = \\frac{\\sigma_{min}}{\\sqrt{\\sin^2 i + \\alpha^2\\cos^2 i}} ~< \\frac{\\sigma_{min}}{\\sqrt{\\sin^2 i + 0.09\\cos^2 i}} < \\frac{\\sigma_{min}}{\\sin i}$$ \n",
    "\n",
    "Соответственно имеем 5 оценок из maj и 4 оценки из min."
   ]
  },
  {
   "cell_type": "code",
   "execution_count": 3,
   "metadata": {
    "collapsed": true,
    "deletable": true,
    "editable": true
   },
   "outputs": [],
   "source": [
    "# sig_maj_lim=None\n",
    "# spl_maj=None\n",
    "\n",
    "# @flat_end(sig_maj_lim)\n",
    "# def sig_R_maj_minmin(r, spl_maj=spl_maj):\n",
    "#     return spl_maj(r).item()\n",
    "\n",
    "# @flat_end(sig_maj_lim)\n",
    "# def sig_R_maj_min(r, spl_maj=spl_maj):\n",
    "#     return spl_maj(r).item()/sqrt(sin_i**2 + 0.49*cos_i**2)\n",
    "    \n",
    "# @flat_end(sig_maj_lim)\n",
    "# def sig_R_maj_max(r, spl_maj=spl_maj):\n",
    "#     return spl_maj(r).item()/sqrt(0.5*sin_i**2 + 0.09*cos_i**2)\n",
    "\n",
    "# @flat_end(sig_maj_lim)\n",
    "# def sig_R_maj_maxmax(r, spl_maj=spl_maj):\n",
    "#     return spl_maj(r)*sqrt(2)/sin_i\n",
    "    \n",
    "# @flat_end(sig_maj_lim)\n",
    "# def sig_R_maj_maxmaxtrue(r, spl_maj=spl_maj):\n",
    "#     return spl_maj(r)/sin_i/sqrt(sigPhi_to_sigR_real(r))"
   ]
  },
  {
   "cell_type": "code",
   "execution_count": 4,
   "metadata": {
    "collapsed": false,
    "deletable": true,
    "editable": true
   },
   "outputs": [],
   "source": [
    "# sig_min_lim=None\n",
    "# spl_min=None\n",
    "\n",
    "# @flat_end(sig_min_lim)\n",
    "# def sig_R_minor_minmin(r, spl_min=spl_min):\n",
    "#     return spl_min(r).item()\n",
    "\n",
    "# @flat_end(sig_min_lim)\n",
    "# def sig_R_minor_min(r, spl_min=spl_min):\n",
    "#     return spl_min(r).item()/sqrt(sin_i**2 + 0.49*cos_i**2)\n",
    "    \n",
    "# @flat_end(sig_min_lim)\n",
    "# def sig_R_minor_max(r, spl_min=spl_min):\n",
    "#     return spl_min(r).item()/sqrt(sin_i**2 + 0.09*cos_i**2)\n",
    "\n",
    "# @flat_end(sig_min_lim)\n",
    "# def sig_R_minor_maxmax(r, spl_min=spl_min):\n",
    "#     return spl_min(r)/sin_i"
   ]
  },
  {
   "cell_type": "code",
   "execution_count": 6,
   "metadata": {
    "collapsed": true,
    "deletable": true,
    "editable": true
   },
   "outputs": [],
   "source": [
    "# TODO: move to proper place\n",
    "\n",
    "def plot_data_lim(ax, data_lim):\n",
    "    '''Вертикальная линия, обозначающая конец данных'''\n",
    "    ax.axvline(x=data_lim, ls='-.', color='black', alpha=0.5)\n",
    "    \n",
    "def plot_disc_scale(scale, ax, text=None):\n",
    "    '''Обозначает масштаб диска'''\n",
    "    ax.plot([scale, scale], [0., 0.05], '-', lw=6., color='black')\n",
    "    if text:\n",
    "        ax.annotate(text, xy=(scale, 0.025), xytext=(scale, 0.065), textcoords='data', arrowprops=dict(arrowstyle=\"->\"))\n",
    "        \n",
    "def plot_Q_levels(ax, Qs, style='--', color='grey', alpha=0.4):\n",
    "    '''Функция, чтобы рисовать горизонтальные линии различных уровней $Q^{-1}$:'''\n",
    "    for Q in Qs:\n",
    "        ax.axhline(y=1./Q, ls=style, color=color, alpha=alpha)\n",
    "        \n",
    "def plot_2f_vs_1f(ax=None, total_gas_data=None, epicycl=None, gas_approx=None, sound_vel=None, scale=None, sigma_max=None, sigma_min=None, star_density_max=None, \n",
    "                  star_density_min=None, data_lim=None, color=None, alpha=0.3, disk_scales=[], label=None):\n",
    "    '''Картинка сравнения 2F и 1F критерия для разных фотометрий и величин sig_R, \n",
    "    куда подается весь газ, результат НЕ исправляется за осесимметричные возмущения.'''\n",
    "\n",
    "    invQg, invQs, invQeff_min = zip(*get_invQeff_from_data(gas_data=total_gas_data, \n",
    "                                    epicycl=epicycl, \n",
    "                                    gas_approx=gas_approx,\n",
    "                                    sound_vel=sound_vel, \n",
    "                                    scale=scale,\n",
    "                                    sigma=sigma_max,\n",
    "                                    star_density=star_density_min))\n",
    "\n",
    "    invQg, invQs, invQeff_max = zip(*get_invQeff_from_data(gas_data=total_gas_data, \n",
    "                                    epicycl=epicycl, \n",
    "                                    gas_approx=gas_approx,\n",
    "                                    sound_vel=sound_vel, \n",
    "                                    scale=scale,\n",
    "                                    sigma=sigma_min,\n",
    "                                    star_density=star_density_max))\n",
    "\n",
    "#     invQg = map(lambda l: l*1.6, invQg)\n",
    "#     invQeff_min = map(lambda l: l*1.6, invQeff_min)\n",
    "#     invQeff_max = map(lambda l: l*1.6, invQeff_max)\n",
    "    \n",
    "    rr = zip(*total_gas_data)[0]\n",
    "    \n",
    "    ax.fill_between(rr, invQeff_min, invQeff_max, color=color, alpha=alpha, label=label)\n",
    "    ax.plot(rr, invQeff_min, 'd-', color=color, alpha=0.6)\n",
    "    ax.plot(rr, invQeff_max, 'd-', color=color, alpha=0.6)\n",
    "    ax.plot(rr, invQg, 'v-', color='b')\n",
    "\n",
    "    ax.set_ylim(0., 1.5)\n",
    "    ax.set_xlim(0., data_lim+50.)\n",
    "#     plot_SF(ax)\n",
    "    plot_data_lim(ax, data_lim)\n",
    "    for h, annot in disk_scales:\n",
    "        plot_disc_scale(h, ax, annot)\n",
    "    plot_Q_levels(ax, [1., 1.5, 2., 3.])\n",
    "    ax.legend()"
   ]
  },
  {
   "cell_type": "markdown",
   "metadata": {
    "deletable": true,
    "editable": true
   },
   "source": [
    "Для случая бесконечного тонкого диска: $$\\kappa=\\frac{3}{R}\\frac{d\\Phi}{dR}+\\frac{d^2\\Phi}{dR^2}$$\n",
    "где $\\Phi$ - гравпотенциал, однако его знать не надо, т.к. есть проще формула: $$\\kappa=\\sqrt{2}\\frac{\\vartheta_c}{R}\\sqrt{1+\\frac{R}{\\vartheta_c}\\frac{d\\vartheta_c}{dR}}$$"
   ]
  },
  {
   "cell_type": "code",
   "execution_count": 1,
   "metadata": {
    "collapsed": false,
    "deletable": true,
    "editable": true,
    "scrolled": false
   },
   "outputs": [],
   "source": [
    "def epicyclicFreq_real(poly_gas, R, resolution):\n",
    "    '''Честное вычисление эпициклической частоты на расстоянии R для сплайна или полинома'''\n",
    "    try:\n",
    "        return sqrt(2.0) * poly_gas(R) * sqrt(1 + R * poly_gas.deriv()(R) / poly_gas(R)) / (R * resolution )\n",
    "    except:\n",
    "        return sqrt(2.0) * poly_gas(R) * sqrt(1 + R * poly_gas.derivative()(R) / poly_gas(R)) / (R * resolution )"
   ]
  },
  {
   "cell_type": "code",
   "execution_count": null,
   "metadata": {
    "collapsed": true,
    "deletable": true,
    "editable": true
   },
   "outputs": [],
   "source": []
  },
  {
   "cell_type": "markdown",
   "metadata": {
    "deletable": true,
    "editable": true
   },
   "source": [
    "Два других механизма из http://iopscience.iop.org/article/10.1088/0004-6256/148/4/69/pdf:"
   ]
  },
  {
   "cell_type": "markdown",
   "metadata": {
    "deletable": true,
    "editable": true
   },
   "source": [
    "Schaye (2004), 'cold gas phase':\n",
    "$$\\Sigma_g > 6.1 f_g^{0.3} Z^{-0.3} I^{0.23}$$\n",
    "или при constant metallicity of 0.1 $Z_{sun}$ and interstellar flux of ionizing photons 10^6 cm−2 s−1:\n",
    "$$\\Sigma_g > 6.1 \\frac{\\Sigma_g}{\\Sigma_g + \\Sigma_s}$$"
   ]
  },
  {
   "cell_type": "code",
   "execution_count": 59,
   "metadata": {
    "collapsed": true,
    "deletable": true,
    "editable": true
   },
   "outputs": [],
   "source": [
    "def Sigma_crit_S04(gas_dens, r_gas, star_surf_dens):\n",
    "    return 6.1 * gas_dens / (gas_dens + star_surf_dens(r_gas)) "
   ]
  },
  {
   "cell_type": "markdown",
   "metadata": {
    "deletable": true,
    "editable": true
   },
   "source": [
    "Hunter et al (1998), 'competition with shear' according to Leroy: \n",
    "$$\\Sigma_A = \\alpha_A\\frac{\\sigma_g A}{\\pi G}$$"
   ]
  },
  {
   "cell_type": "code",
   "execution_count": 2,
   "metadata": {
    "collapsed": false,
    "deletable": true,
    "editable": true
   },
   "outputs": [],
   "source": [
    "def oort_a(r, gas_vel):\n",
    "    try:\n",
    "        return 0.5 * (gas_vel(r)/r - gas_vel.deriv()(r))\n",
    "    except:\n",
    "        return 0.5 * (gas_vel(r)/r - gas_vel.derivative()(r))"
   ]
  },
  {
   "cell_type": "code",
   "execution_count": 3,
   "metadata": {
    "collapsed": true,
    "deletable": true,
    "editable": true
   },
   "outputs": [],
   "source": [
    "def Sigma_crit_A(r, gas_vel, alpha, sound_vel):\n",
    "    G = 4.32\n",
    "    return alpha * (sound_vel*oort_a(r, gas_vel)) / (np.pi*G)"
   ]
  },
  {
   "cell_type": "code",
   "execution_count": null,
   "metadata": {
    "collapsed": true,
    "deletable": true,
    "editable": true
   },
   "outputs": [],
   "source": []
  },
  {
   "cell_type": "markdown",
   "metadata": {
    "deletable": true,
    "editable": true
   },
   "source": [
    "Кривая вращения тонкого диска:\n",
    "$$\\frac{v^2}{r} = 2\\pi G \\Sigma_0 \\frac{r}{2h} \\left[I_0(\\frac{r}{2h})K_0(\\frac{r}{2h}) - I_1(\\frac{r}{2h})K_1(\\frac{r}{2h})\\right]$$"
   ]
  },
  {
   "cell_type": "code",
   "execution_count": 4,
   "metadata": {
    "collapsed": false,
    "deletable": true,
    "editable": true
   },
   "outputs": [],
   "source": [
    "from scipy.special import i0, i1, k0, k1\n",
    "\n",
    "def disc_vel(r, Sigma0, h, scale, Sigma0_2=None, h_2=None):\n",
    "    G = 4.3\n",
    "    bessels = i0(0.5*r/h)*k0(0.5*r/h) - i1(0.5*r/h)*k1(0.5*r/h)\n",
    "    if h_2 is None:\n",
    "        return np.sqrt(2*np.pi*G*Sigma0*r*scale * 0.5*r/h * bessels)\n",
    "    else: #двухдисковая модель\n",
    "        bessels2 = i0(0.5*r/h_2)*k0(0.5*r/h_2) - i1(0.5*r/h_2)*k1(0.5*r/h_2)\n",
    "        return np.sqrt(2*np.pi*G*Sigma0*r*scale * 0.5*r/h * bessels + 2*np.pi*G*Sigma0_2*r*scale * 0.5*r/h_2 * bessels2)"
   ]
  },
  {
   "cell_type": "code",
   "execution_count": null,
   "metadata": {
    "collapsed": true,
    "deletable": true,
    "editable": true
   },
   "outputs": [],
   "source": []
  },
  {
   "cell_type": "markdown",
   "metadata": {
    "collapsed": true,
    "deletable": true,
    "editable": true
   },
   "source": [
    "Функция для печати статистики по фотометриям, куда добавлена также информация о полной массе диска $M_d = 2\\pi h^2 \\Sigma(0)$ (только нужно учесть, что там пк в arcsec надо перевести):"
   ]
  },
  {
   "cell_type": "code",
   "execution_count": 3,
   "metadata": {
    "collapsed": true,
    "deletable": true,
    "editable": true
   },
   "outputs": [],
   "source": [
    "from tabulate import tabulate\n",
    "import pandas as pd\n",
    "\n",
    "def show_all_photometry_table(all_photometry, scale):\n",
    "    '''scale in kpc/arcsec'''\n",
    "    \n",
    "    copy = [list(l) for l in all_photometry]\n",
    "    \n",
    "    #все это дальше из-за того, что бывают двухдисковые модели и их нужно по другому использовать\n",
    "    for entry in copy:\n",
    "        if type(entry[5]) == tuple:\n",
    "            entry[5] = (round(entry[5][0], 2), round(entry[5][1], 2))\n",
    "        else:\n",
    "            entry[5] = round(entry[5], 2)\n",
    "            \n",
    "    for entry in copy:\n",
    "        if type(entry[4]) == tuple:\n",
    "            entry[4] = (round(entry[4][0], 2), round(entry[4][1], 2))\n",
    "        else:\n",
    "            entry[4] = round(entry[4], 2)\n",
    "            \n",
    "    for entry in copy:\n",
    "        if type(entry[5]) == tuple:\n",
    "            entry.append(2*math.pi*entry[5][0]**2 * entry[-1][0](0) * (scale * 1000.)**2 + \n",
    "                         2*math.pi*entry[5][1]**2 * entry[-1][1](0) * (scale * 1000.)**2)\n",
    "        else:\n",
    "            entry.append(2*math.pi*entry[5]**2 * entry[-1](0) * (scale * 1000.)**2)\n",
    "            \n",
    "    for entry in copy:\n",
    "        if type(entry[5]) == tuple:\n",
    "            entry.append(entry[7][0](0) + entry[7][1](0))\n",
    "        else:\n",
    "            entry.append(entry[7](0))\n",
    "    \n",
    "    df = pd.DataFrame(data=copy, columns=['Name', 'r_eff', 'mu_eff', 'n', 'mu0_d', 'h_disc', 'M/L', 'surf', 'M_d/M_sun', 'Sigma_0'])\n",
    "    df['M/L'] = df['M/L'].apply(lambda l: '%2.2f'%l)\n",
    "\n",
    "#     df['Sigma_0'] = df['surf'].map(lambda l:l(0))\n",
    "    df['Sigma_0'] = df['Sigma_0'].apply(lambda l: '%2.0f' % l)\n",
    "       \n",
    "#     df['M_d/M_sun'] = 2*math.pi*df['h_disc']**2 * df['surf'].map(lambda l:l(0)) * (scale * 1000.)**2\n",
    "    df['M_d/M_sun'] = df['M_d/M_sun'].apply(lambda l: '%.2E.' % l)\n",
    "    \n",
    "    df.drop('surf', axis=1, inplace=True)\n",
    "    print tabulate(df, headers='keys', tablefmt='psql', floatfmt=\".2f\")"
   ]
  },
  {
   "cell_type": "code",
   "execution_count": null,
   "metadata": {
    "collapsed": true,
    "deletable": true,
    "editable": true
   },
   "outputs": [],
   "source": []
  },
  {
   "cell_type": "markdown",
   "metadata": {
    "deletable": true,
    "editable": true
   },
   "source": [
    "Префикс для плохих фотометрий, чтобы их не брать в конце."
   ]
  },
  {
   "cell_type": "code",
   "execution_count": 1,
   "metadata": {
    "collapsed": true,
    "deletable": true,
    "editable": true
   },
   "outputs": [],
   "source": [
    "BAD_MODEL_PREFIX = 'b:'"
   ]
  },
  {
   "cell_type": "code",
   "execution_count": null,
   "metadata": {
    "collapsed": true,
    "deletable": true,
    "editable": true
   },
   "outputs": [],
   "source": []
  },
  {
   "cell_type": "markdown",
   "metadata": {
    "collapsed": true,
    "deletable": true,
    "editable": true
   },
   "source": [
    "Функция, которая возвращает суммарный профиль плотности для двухдисковой модели, если это необходимо:"
   ]
  },
  {
   "cell_type": "code",
   "execution_count": 1,
   "metadata": {
    "collapsed": true,
    "deletable": true,
    "editable": true
   },
   "outputs": [],
   "source": [
    "def tot_dens(dens):\n",
    "    if type(dens) == tuple:\n",
    "        star_density = lambda l: dens[0](l) + dens[1](l)\n",
    "    else:\n",
    "        star_density = lambda l: dens(l)\n",
    "    return star_density"
   ]
  },
  {
   "cell_type": "code",
   "execution_count": null,
   "metadata": {
    "collapsed": true,
    "deletable": true,
    "editable": true
   },
   "outputs": [],
   "source": []
  },
  {
   "cell_type": "markdown",
   "metadata": {
    "deletable": true,
    "editable": true
   },
   "source": [
    "Цикл по стилям линий для того, что бы они отличались там, где их много на одной картинке и цвета сливаются."
   ]
  },
  {
   "cell_type": "code",
   "execution_count": 1,
   "metadata": {
    "collapsed": true,
    "deletable": true,
    "editable": true
   },
   "outputs": [],
   "source": [
    "from itertools import cycle\n",
    "lines = [\"-\",\"--\",\"-.\",\":\"]\n",
    "linecycler = cycle(lines)"
   ]
  },
  {
   "cell_type": "code",
   "execution_count": null,
   "metadata": {
    "collapsed": true,
    "deletable": true,
    "editable": true
   },
   "outputs": [],
   "source": []
  },
  {
   "cell_type": "markdown",
   "metadata": {
    "deletable": true,
    "editable": true
   },
   "source": [
    "Раскрашиваем задний фон в \"зебру\" с некоей периодичностью."
   ]
  },
  {
   "cell_type": "code",
   "execution_count": 1,
   "metadata": {
    "collapsed": true,
    "deletable": true,
    "editable": true
   },
   "outputs": [],
   "source": [
    "def foreground_zebra(ax, step, alpha):\n",
    "    for i in range(int(ax.get_xlim()[1])+1):\n",
    "        if i%2 == 0:\n",
    "            ax.axvspan(i*step, (i+1)*step, color='grey', alpha=alpha)"
   ]
  },
  {
   "cell_type": "code",
   "execution_count": null,
   "metadata": {
    "collapsed": true,
    "deletable": true,
    "editable": true
   },
   "outputs": [],
   "source": []
  },
  {
   "cell_type": "markdown",
   "metadata": {
    "deletable": true,
    "editable": true
   },
   "source": [
    "Сравним с оценкой Romeo & Falstad (2013) https://ui.adsabs.harvard.edu/#abs/2013MNRAS.433.1389R/abstract:\n",
    "\n",
    "$$Q_N^{-1} = \\sum_{i=1}^{N}\\frac{W_i}{Q_iT_i}$$ где\n",
    "\n",
    "$$Q_i = \\frac{\\kappa\\sigma_{R,i}}{\\pi G\\Sigma_i}$$\n",
    "\n",
    "$$T_i= \\begin{cases} 1 + 0.6(\\frac{\\sigma_z}{\\sigma_R})^2_i, & \\mbox{if } 0.0 \\le \\frac{\\sigma_z}{\\sigma_R} \\le 0.5,\n",
    "\\\\ 0.8 + 0.7(\\frac{\\sigma_z}{\\sigma_R})_i, & \\mbox{if } 0.5 \\le \\frac{\\sigma_z}{\\sigma_R} \\le 1.0 \\end{cases}$$\n",
    "\n",
    "$$W_i = \\frac{2\\sigma_{R,m}\\sigma_{R,i}}{\\sigma_{R,m}^2 + \\sigma_{R,i}^2},$$\n",
    "$$m:\\ index\\ of\\ min(T_iQ_i)$$\n"
   ]
  },
  {
   "cell_type": "markdown",
   "metadata": {
    "deletable": true,
    "editable": true
   },
   "source": [
    "В самой развитой модели 3 компонента - HI, CO, stars. В их же модели полагается $(\\sigma_z/\\sigma_R)_{CO} = (\\sigma_z/\\sigma_R)_{HI} = 1$, т.е. $T_{CO} = T_{HI} = 1.5$. Скорость звука я буду полагать в обеих средах равной 11 км/c. Звезды у меня в двух крайних случаях бывают с $\\alpha$ равным 0.3 и 0.7, соответственно $T_{0.3} = 1.05;\\ T_{0.7}=1.29$. "
   ]
  },
  {
   "cell_type": "code",
   "execution_count": 3,
   "metadata": {
    "collapsed": true,
    "deletable": true,
    "editable": true
   },
   "outputs": [],
   "source": [
    "from math import pi\n",
    "\n",
    "def romeo_Qinv(r=None, epicycl=None, sound_vel=11., sigma_R=None, star_density=None, \n",
    "               HI_density=None, CO_density=None, alpha=None, scale=None, gas_approx=None, verbose=False):\n",
    "    G = 4.32\n",
    "    kappa = epicycl(gas_approx, r, scale)\n",
    "    Q_star = kappa*sigma_R(r)/(pi*G*star_density(r))\n",
    "    Q_CO = kappa*sound_vel/(pi*G*CO_density)\n",
    "    Q_HI = kappa*sound_vel/(pi*G*HI_density)\n",
    "    T_CO, T_HI = 1.5, 1.5\n",
    "    if alpha > 0 and alpha <= 0.5:\n",
    "        T_star = 1. + 0.6*alpha**2\n",
    "    else:\n",
    "        T_star = 0.8 + 0.7*alpha\n",
    "    \n",
    "    dispersions = [sigma_R(r), sound_vel, sound_vel]\n",
    "    QTs = [Q_star*T_star, Q_HI*T_HI, Q_CO*T_CO]\n",
    "    components = ['star', 'HI', 'H2']\n",
    "    index = QTs.index(min(QTs))\n",
    "    \n",
    "    if verbose:\n",
    "        print 'QTs: {}'.format(QTs)\n",
    "        print 'min index: {}'.format(index)\n",
    "        print 'min component: {}'.format(components[index])\n",
    "    \n",
    "    sig_m = dispersions[index]\n",
    "    def W_i(sig_m, sig_i):\n",
    "        return 2*sig_m*sig_i/(sig_m**2 + sig_i**2)\n",
    "    return W_i(sig_m, dispersions[0])/QTs[0] + W_i(sig_m, dispersions[1])/QTs[1] + W_i(sig_m, dispersions[2])/QTs[2], components[index]"
   ]
  },
  {
   "cell_type": "markdown",
   "metadata": {
    "deletable": true,
    "editable": true
   },
   "source": [
    "Для тонкого диска:"
   ]
  },
  {
   "cell_type": "code",
   "execution_count": 1,
   "metadata": {
    "collapsed": true,
    "deletable": true,
    "editable": true
   },
   "outputs": [],
   "source": [
    "def romeo_Qinv_thin(r=None, epicycl=None, sound_vel=11., sigma_R=None, star_density=None, \n",
    "               HI_density=None, CO_density=None, alpha=None, scale=None, gas_approx=None, verbose=False, show=False):\n",
    "    G = 4.32\n",
    "    kappa = epicycl(gas_approx, r, scale)\n",
    "    Q_star = kappa*sigma_R(r)/(pi*G*star_density(r))\n",
    "    Q_CO = kappa*sound_vel/(pi*G*CO_density)\n",
    "    Q_HI = kappa*sound_vel/(pi*G*HI_density)\n",
    "    \n",
    "#     TODO: оставить только show или verbose\n",
    "    if show:\n",
    "        print 'r={:7.3f} Qg={:7.3f} Qs={:7.3f} Qg^-1={:7.3f} Qs^-1={:7.3f}'.format(r, Q_HI, Q_star, 1./Q_HI, 1./Q_star)\n",
    "        \n",
    "    dispersions = [sigma_R(r), sound_vel, sound_vel]\n",
    "    QTs = [Q_star, Q_HI, Q_CO]\n",
    "    components = ['star', 'HI', 'H2']\n",
    "    index = QTs.index(min(QTs))\n",
    "    \n",
    "    if verbose:\n",
    "        print 'QTs: {}'.format(QTs)\n",
    "        print 'min index: {}'.format(index)\n",
    "        print 'min component: {}'.format(components[index])\n",
    "    \n",
    "    sig_m = dispersions[index]\n",
    "    def W_i(sig_m, sig_i):\n",
    "        return 2*sig_m*sig_i/(sig_m**2 + sig_i**2)\n",
    "    return W_i(sig_m, dispersions[0])/QTs[0] + W_i(sig_m, dispersions[1])/QTs[1] + W_i(sig_m, dispersions[2])/QTs[2], components[index]"
   ]
  },
  {
   "cell_type": "markdown",
   "metadata": {
    "collapsed": true,
    "deletable": true,
    "editable": true
   },
   "source": [
    "Функция-сравнение с наблюдениями:"
   ]
  },
  {
   "cell_type": "code",
   "execution_count": null,
   "metadata": {
    "collapsed": true,
    "deletable": true,
    "editable": true
   },
   "outputs": [],
   "source": [
    "def plot_RF13_vs_2F(r_g_dens=None, HI_gas_dens=None, CO_gas_dens=None, epicycl=None, sound_vel=None, sigma_R_max=None, sigma_R_min=None,  \n",
    "           star_density=None, alpha_max=None, alpha_min=None, scale=None, gas_approx=None, thin=True, show=False):\n",
    "    '''Плотности газа передаются не скорр. за гелий.'''\n",
    "    \n",
    "    if thin:\n",
    "        romeo_Q = romeo_Qinv_thin\n",
    "    else:\n",
    "        romeo_Q = romeo_Qinv\n",
    "        \n",
    "    fig = plt.figure(figsize=[20, 5])\n",
    "    ax = plt.subplot(131)\n",
    "    \n",
    "    totgas = zip(r_g_dens, [He_coeff*(l[0]+l[1]) for l in zip(HI_gas_dens, CO_gas_dens)])[1:]\n",
    "    \n",
    "    if show:\n",
    "        print 'sig_R_max case:'\n",
    "    romeo_min = []\n",
    "    for r, g, co in zip(r_g_dens, HI_gas_dens, CO_gas_dens):\n",
    "        rom, _ = romeo_Q(r=r, epicycl=epicycl, sound_vel=sound_vel, sigma_R=sigma_R_max, \n",
    "               star_density=star_density, HI_density=He_coeff*g, CO_density=He_coeff*co, \n",
    "                         alpha=alpha_min, scale=scale, gas_approx=gas_approx, show=show)\n",
    "        romeo_min.append(rom)\n",
    "        if _ == 'star':\n",
    "            color = 'g' \n",
    "        elif _ == 'HI':\n",
    "            color = 'b'\n",
    "        else:\n",
    "            color = 'm'\n",
    "        ax.scatter(r, rom, 10, marker='o', color=color)\n",
    "\n",
    "\n",
    "    invQg, invQs, invQeff_min = zip(*get_invQeff_from_data(gas_data=totgas, \n",
    "                                    epicycl=epicycl, \n",
    "                                    gas_approx=gas_approx,\n",
    "                                    sound_vel=sound_vel, \n",
    "                                    scale=scale,\n",
    "                                    sigma=sigma_R_max,\n",
    "                                    star_density=star_density))\n",
    "\n",
    "    if show:\n",
    "        print 'sig_R_min case:'\n",
    "    \n",
    "    romeo_max = []\n",
    "    for r, g, co in zip(r_g_dens, HI_gas_dens, CO_gas_dens):\n",
    "        rom, _ = romeo_Q(r=r, epicycl=epicycl, sound_vel=sound_vel, sigma_R=sigma_R_min, \n",
    "               star_density=star_density, HI_density=He_coeff*g, CO_density=He_coeff*co, \n",
    "                         alpha=alpha_max, scale=scale, gas_approx=gas_approx, show=show)\n",
    "        romeo_max.append(rom)\n",
    "        if _ == 'star':\n",
    "            color = 'g' \n",
    "        elif _ == 'HI':\n",
    "            color = 'b'\n",
    "        else:\n",
    "            color = 'm'\n",
    "        ax.scatter(r, rom, 10, marker = 's', color=color)\n",
    "\n",
    "\n",
    "    invQg, invQs, invQeff_max = zip(*get_invQeff_from_data(gas_data=totgas, \n",
    "                                    epicycl=epicycl, \n",
    "                                    gas_approx=gas_approx,\n",
    "                                    sound_vel=sound_vel, \n",
    "                                    scale=scale,\n",
    "                                    sigma=sigma_R_min,\n",
    "                                    star_density=star_density))\n",
    "\n",
    "    \n",
    "    ax.plot(r_g_dens[1:], invQeff_min, '-', alpha=0.5, color='r')\n",
    "    ax.plot(r_g_dens[1:], invQeff_max, '-', alpha=0.5, color='r')\n",
    "    \n",
    "    plot_Q_levels(ax, [1., 1.5, 2., 3.])\n",
    "    ax.set_xlim(0)\n",
    "    ax.set_ylim(0)\n",
    "    ax.legend([matplotlib.lines.Line2D([0], [0], linestyle='none', mfc='g', mec='none', marker='o'), \n",
    "                      matplotlib.lines.Line2D([0], [0], linestyle='none', mfc='b', mec='none', marker='o'), \n",
    "                      matplotlib.lines.Line2D([0], [0], linestyle='none', mfc='m', mec='none', marker='o')], \n",
    "                     ['star', 'HI', 'H2'], numpoints=1, markerscale=1, loc='upper right') #add custom legend\n",
    "    ax.set_title('RF13: major component')\n",
    "    \n",
    "    ax = plt.subplot(132)\n",
    "    ax.plot(romeo_min[1:], invQeff_min, 'o')\n",
    "    ax.plot(romeo_max[1:], invQeff_max, 'o', color='m', alpha=0.5)\n",
    "    ax.set_xlabel('Romeo')\n",
    "    ax.set_ylabel('2F')\n",
    "    ax.set_xlim(0., 1.)\n",
    "    ax.set_ylim(0., 1.)\n",
    "    ax.plot(ax.get_xlim(), ax.get_ylim(), '--')\n",
    "    \n",
    "    ax = plt.subplot(133)\n",
    "    ax.plot(r_g_dens[1:], [l[1]/l[0] for l in zip(romeo_min[1:], invQeff_min)], 'o-')\n",
    "    ax.plot(r_g_dens[1:], [l[1]/l[0] for l in zip(romeo_max[1:], invQeff_max)], 'o-', color='m', alpha=0.5)\n",
    "    ax.set_xlabel('R')\n",
    "    ax.set_ylabel('[2F]/[Romeo]');"
   ]
  },
  {
   "cell_type": "code",
   "execution_count": null,
   "metadata": {
    "collapsed": true,
    "deletable": true,
    "editable": true
   },
   "outputs": [],
   "source": []
  },
  {
   "cell_type": "markdown",
   "metadata": {
    "collapsed": true,
    "deletable": true,
    "editable": true
   },
   "source": [
    "Функция для исправления центральной поверхностной яркости за наклон (приведение диска к виду \"плашмя\"). Взята из http://www.astronet.ru/db/msg/1166765/node20.html, (61)."
   ]
  },
  {
   "cell_type": "code",
   "execution_count": 2,
   "metadata": {
    "collapsed": true,
    "deletable": true,
    "editable": true
   },
   "outputs": [],
   "source": [
    "def mu_face_on(mu0d, cos_i):\n",
    "    return mu0d + 2.5*np.log10(1./cos_i)"
   ]
  },
  {
   "cell_type": "code",
   "execution_count": null,
   "metadata": {
    "collapsed": true,
    "deletable": true,
    "editable": true
   },
   "outputs": [],
   "source": []
  },
  {
   "cell_type": "markdown",
   "metadata": {
    "deletable": true,
    "editable": true
   },
   "source": [
    "Функция для анализа влияния параметров. Берет стандартные параметры, делает из них списки и прогоняет для всех в списке, после чего измеряет среднее и std. Можно варьировать несколько параметров одновременно. "
   ]
  },
  {
   "cell_type": "code",
   "execution_count": 1,
   "metadata": {
    "collapsed": true,
    "deletable": true,
    "editable": true
   },
   "outputs": [],
   "source": [
    "def plot_param_depend(ax=None, N=None, data_lim=None, color=None, alpha=0.3, disk_scales=[], label=None, **kwargs):\n",
    "\n",
    "    params = kwargs.copy()\n",
    "       \n",
    "    for p in params.keys():\n",
    "        if p == 'total_gas_data':\n",
    "            depth = lambda L: isinstance(L, list) and max(map(depth, L))+1 #depth of nested lists\n",
    "            if depth(params[p]) == 1:\n",
    "                params[p] = [params[p]]*N\n",
    "        elif type(params[p]) is not list:\n",
    "            params[p] = [params[p]]*N\n",
    "                \n",
    "    result = []\n",
    "    for i in range(N):\n",
    "\n",
    "        invQg, invQs, invQeff_min = zip(*get_invQeff_from_data(gas_data=params['total_gas_data'][i], \n",
    "                                        epicycl=params['epicycl'][i], \n",
    "                                        gas_approx=params['gas_approx'][i],\n",
    "                                        sound_vel=params['sound_vel'][i], \n",
    "                                        scale=params['scale'][i],\n",
    "                                        sigma=params['sigma_max'][i],\n",
    "                                        star_density=params['star_density_min'][i]))\n",
    "\n",
    "        invQg, invQs, invQeff_max = zip(*get_invQeff_from_data(gas_data=params['total_gas_data'][i], \n",
    "                                        epicycl=params['epicycl'][i], \n",
    "                                        gas_approx=params['gas_approx'][i],\n",
    "                                        sound_vel=params['sound_vel'][i], \n",
    "                                        scale=params['scale'][i],\n",
    "                                        sigma=params['sigma_min'][i],\n",
    "                                        star_density=params['star_density_max'][i]))\n",
    "\n",
    "\n",
    "        result.append((invQeff_min, invQeff_max))\n",
    "    \n",
    "    rr = zip(*params['total_gas_data'][0])[0]\n",
    "    qmins = []\n",
    "    qmaxs = []\n",
    "    for ind, rrr in enumerate(rr):\n",
    "        qmin = [result[l][0][ind] for l in range(len(result))]\n",
    "        qmax = [result[l][1][ind] for l in range(len(result))]\n",
    "        qmins.append((np.mean(qmin), np.std(qmin)))\n",
    "        qmaxs.append((np.mean(qmax), np.std(qmax)))\n",
    "    ax.errorbar(rr, zip(*qmins)[0], fmt='o-', yerr=zip(*qmins)[1], elinewidth=6, alpha=0.3);\n",
    "    ax.errorbar(rr, zip(*qmaxs)[0], fmt='o-', yerr=zip(*qmaxs)[1])\n",
    "    ax.axhline(y=1., ls='-', color='grey')\n",
    "    \n",
    "    ax.set_ylim(0.)\n",
    "    ax.set_xlim(0.)\n",
    "    plot_data_lim(ax, data_lim)\n",
    "    plot_Q_levels(ax, [1., 1.5, 2., 3.]);"
   ]
  },
  {
   "cell_type": "code",
   "execution_count": null,
   "metadata": {
    "collapsed": true,
    "deletable": true,
    "editable": true
   },
   "outputs": [],
   "source": []
  },
  {
   "cell_type": "code",
   "execution_count": null,
   "metadata": {
    "collapsed": true,
    "deletable": true,
    "editable": true
   },
   "outputs": [],
   "source": []
  },
  {
   "cell_type": "code",
   "execution_count": null,
   "metadata": {
    "collapsed": true,
    "deletable": true,
    "editable": true
   },
   "outputs": [],
   "source": []
  }
 ],
 "metadata": {
  "kernelspec": {
   "display_name": "Python 2",
   "language": "python",
   "name": "python2"
  },
  "language_info": {
   "codemirror_mode": {
    "name": "ipython",
    "version": 2
   },
   "file_extension": ".py",
   "mimetype": "text/x-python",
   "name": "python",
   "nbconvert_exporter": "python",
   "pygments_lexer": "ipython2",
   "version": "2.7.12"
  },
  "nav_menu": {},
  "toc": {
   "navigate_menu": true,
   "number_sections": true,
   "sideBar": true,
   "threshold": 6,
   "toc_cell": false,
   "toc_section_display": "block",
   "toc_window_display": false
  }
 },
 "nbformat": 4,
 "nbformat_minor": 1
}
