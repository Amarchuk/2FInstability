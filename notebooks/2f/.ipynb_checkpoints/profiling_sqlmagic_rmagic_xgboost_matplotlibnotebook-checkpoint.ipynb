{
 "cells": [
  {
   "cell_type": "markdown",
   "metadata": {
    "collapsed": true
   },
   "source": [
    "<div class=\"alert alert-success\">\n",
    "    <b>EXERCISE</b>: Colors example\n",
    "</div>"
   ]
  },
  {
   "cell_type": "markdown",
   "metadata": {},
   "source": [
    "<div class=\"alert alert-info\">\n",
    "  <b>Another Example</b>\n",
    "</div>"
   ]
  },
  {
   "cell_type": "markdown",
   "metadata": {},
   "source": [
    "<div class=\"alert alert-warning\">\n",
    "  <b>Another Example</b>\n",
    "</div>"
   ]
  },
  {
   "cell_type": "markdown",
   "metadata": {},
   "source": [
    "<div class=\"alert alert-danger\">\n",
    "  <strong>Danger!</strong> Indicates a dangerous or potentially negative action.\n",
    "</div>"
   ]
  },
  {
   "cell_type": "markdown",
   "metadata": {},
   "source": [
    "Question Example:\n",
    "\n",
    "---\n",
    "<a href=\"#answer\" class=\"btn btn-default\" data-toggle=\"collapse\">Show Answer</a>\n",
    "<div id=\"answer\" class=\"collapse\">\n",
    "Answer!!!\n",
    "\n",
    "</div>\n",
    "\n",
    "\n"
   ]
  },
  {
   "cell_type": "code",
   "execution_count": 50,
   "metadata": {
    "collapsed": false
   },
   "outputs": [
    {
     "name": "stdout",
     "output_type": "stream",
     "text": [
      "The autotime extension is already loaded. To reload it, use:\n",
      "  %reload_ext autotime\n",
      "time: 2 ms\n"
     ]
    }
   ],
   "source": [
    "#show every cell time - maybe use %%time instead\n",
    "# not longer work, see https://github.com/ipython/ipython/issues/8634\n",
    "# %install_ext https://raw.github.com/cpcloud/ipython-autotime/master/autotime.py \n",
    "\n",
    "# %load_ext autotime"
   ]
  },
  {
   "cell_type": "markdown",
   "metadata": {},
   "source": [
    "Profiling:\n",
    "\n",
    "чтобы использовать все кроме %prun - надо настроить как сказано в http://pynash.org/2013/03/06/timing-and-profiling/"
   ]
  },
  {
   "cell_type": "code",
   "execution_count": 1,
   "metadata": {
    "collapsed": false
   },
   "outputs": [],
   "source": [
    "import time"
   ]
  },
  {
   "cell_type": "code",
   "execution_count": 5,
   "metadata": {
    "collapsed": false
   },
   "outputs": [],
   "source": [
    "def foo(): time.sleep(1)"
   ]
  },
  {
   "cell_type": "code",
   "execution_count": 6,
   "metadata": {
    "collapsed": false
   },
   "outputs": [
    {
     "name": "stdout",
     "output_type": "stream",
     "text": [
      " "
     ]
    }
   ],
   "source": [
    "%prun foo()"
   ]
  },
  {
   "cell_type": "code",
   "execution_count": 7,
   "metadata": {
    "collapsed": true
   },
   "outputs": [],
   "source": [
    "def foo(n):\n",
    "    phrase = 'repeat me'\n",
    "    pmul = phrase * n\n",
    "    pjoi = ''.join([phrase for x in xrange(n)])\n",
    "    pinc = ''\n",
    "    for x in xrange(n):\n",
    "        pinc += phrase\n",
    "    del pmul, pjoi, pinc"
   ]
  },
  {
   "cell_type": "code",
   "execution_count": 10,
   "metadata": {
    "collapsed": false
   },
   "outputs": [
    {
     "name": "stderr",
     "output_type": "stream",
     "text": [
      "ERROR:root:Line magic function `%mprun` not found.\n"
     ]
    }
   ],
   "source": [
    "%mprun -f foo(100000)"
   ]
  },
  {
   "cell_type": "code",
   "execution_count": 11,
   "metadata": {
    "collapsed": false
   },
   "outputs": [
    {
     "name": "stderr",
     "output_type": "stream",
     "text": [
      "ERROR:root:Line magic function `%memit` not found.\n"
     ]
    }
   ],
   "source": [
    "%memit -r 3 [x for x in xrange(1000000)]"
   ]
  },
  {
   "cell_type": "code",
   "execution_count": null,
   "metadata": {
    "collapsed": true
   },
   "outputs": [],
   "source": []
  },
  {
   "cell_type": "code",
   "execution_count": 99,
   "metadata": {
    "collapsed": false
   },
   "outputs": [
    {
     "data": {
      "application/javascript": [
       "/* Put everything inside the global mpl namespace */\n",
       "window.mpl = {};\n",
       "\n",
       "mpl.get_websocket_type = function() {\n",
       "    if (typeof(WebSocket) !== 'undefined') {\n",
       "        return WebSocket;\n",
       "    } else if (typeof(MozWebSocket) !== 'undefined') {\n",
       "        return MozWebSocket;\n",
       "    } else {\n",
       "        alert('Your browser does not have WebSocket support.' +\n",
       "              'Please try Chrome, Safari or Firefox ≥ 6. ' +\n",
       "              'Firefox 4 and 5 are also supported but you ' +\n",
       "              'have to enable WebSockets in about:config.');\n",
       "    };\n",
       "}\n",
       "\n",
       "mpl.figure = function(figure_id, websocket, ondownload, parent_element) {\n",
       "    this.id = figure_id;\n",
       "\n",
       "    this.ws = websocket;\n",
       "\n",
       "    this.supports_binary = (this.ws.binaryType != undefined);\n",
       "\n",
       "    if (!this.supports_binary) {\n",
       "        var warnings = document.getElementById(\"mpl-warnings\");\n",
       "        if (warnings) {\n",
       "            warnings.style.display = 'block';\n",
       "            warnings.textContent = (\n",
       "                \"This browser does not support binary websocket messages. \" +\n",
       "                    \"Performance may be slow.\");\n",
       "        }\n",
       "    }\n",
       "\n",
       "    this.imageObj = new Image();\n",
       "\n",
       "    this.context = undefined;\n",
       "    this.message = undefined;\n",
       "    this.canvas = undefined;\n",
       "    this.rubberband_canvas = undefined;\n",
       "    this.rubberband_context = undefined;\n",
       "    this.format_dropdown = undefined;\n",
       "\n",
       "    this.image_mode = 'full';\n",
       "\n",
       "    this.root = $('<div/>');\n",
       "    this._root_extra_style(this.root)\n",
       "    this.root.attr('style', 'display: inline-block');\n",
       "\n",
       "    $(parent_element).append(this.root);\n",
       "\n",
       "    this._init_header(this);\n",
       "    this._init_canvas(this);\n",
       "    this._init_toolbar(this);\n",
       "\n",
       "    var fig = this;\n",
       "\n",
       "    this.waiting = false;\n",
       "\n",
       "    this.ws.onopen =  function () {\n",
       "            fig.send_message(\"supports_binary\", {value: fig.supports_binary});\n",
       "            fig.send_message(\"send_image_mode\", {});\n",
       "            fig.send_message(\"refresh\", {});\n",
       "        }\n",
       "\n",
       "    this.imageObj.onload = function() {\n",
       "            if (fig.image_mode == 'full') {\n",
       "                // Full images could contain transparency (where diff images\n",
       "                // almost always do), so we need to clear the canvas so that\n",
       "                // there is no ghosting.\n",
       "                fig.context.clearRect(0, 0, fig.canvas.width, fig.canvas.height);\n",
       "            }\n",
       "            fig.context.drawImage(fig.imageObj, 0, 0);\n",
       "            fig.waiting = false;\n",
       "        };\n",
       "\n",
       "    this.imageObj.onunload = function() {\n",
       "        this.ws.close();\n",
       "    }\n",
       "\n",
       "    this.ws.onmessage = this._make_on_message_function(this);\n",
       "\n",
       "    this.ondownload = ondownload;\n",
       "}\n",
       "\n",
       "mpl.figure.prototype._init_header = function() {\n",
       "    var titlebar = $(\n",
       "        '<div class=\"ui-dialog-titlebar ui-widget-header ui-corner-all ' +\n",
       "        'ui-helper-clearfix\"/>');\n",
       "    var titletext = $(\n",
       "        '<div class=\"ui-dialog-title\" style=\"width: 100%; ' +\n",
       "        'text-align: center; padding: 3px;\"/>');\n",
       "    titlebar.append(titletext)\n",
       "    this.root.append(titlebar);\n",
       "    this.header = titletext[0];\n",
       "}\n",
       "\n",
       "\n",
       "\n",
       "mpl.figure.prototype._canvas_extra_style = function(canvas_div) {\n",
       "\n",
       "}\n",
       "\n",
       "\n",
       "mpl.figure.prototype._root_extra_style = function(canvas_div) {\n",
       "\n",
       "}\n",
       "\n",
       "mpl.figure.prototype._init_canvas = function() {\n",
       "    var fig = this;\n",
       "\n",
       "    var canvas_div = $('<div/>');\n",
       "\n",
       "    canvas_div.attr('style', 'position: relative; clear: both; outline: 0');\n",
       "\n",
       "    function canvas_keyboard_event(event) {\n",
       "        return fig.key_event(event, event['data']);\n",
       "    }\n",
       "\n",
       "    canvas_div.keydown('key_press', canvas_keyboard_event);\n",
       "    canvas_div.keyup('key_release', canvas_keyboard_event);\n",
       "    this.canvas_div = canvas_div\n",
       "    this._canvas_extra_style(canvas_div)\n",
       "    this.root.append(canvas_div);\n",
       "\n",
       "    var canvas = $('<canvas/>');\n",
       "    canvas.addClass('mpl-canvas');\n",
       "    canvas.attr('style', \"left: 0; top: 0; z-index: 0; outline: 0\")\n",
       "\n",
       "    this.canvas = canvas[0];\n",
       "    this.context = canvas[0].getContext(\"2d\");\n",
       "\n",
       "    var rubberband = $('<canvas/>');\n",
       "    rubberband.attr('style', \"position: absolute; left: 0; top: 0; z-index: 1;\")\n",
       "\n",
       "    var pass_mouse_events = true;\n",
       "\n",
       "    canvas_div.resizable({\n",
       "        start: function(event, ui) {\n",
       "            pass_mouse_events = false;\n",
       "        },\n",
       "        resize: function(event, ui) {\n",
       "            fig.request_resize(ui.size.width, ui.size.height);\n",
       "        },\n",
       "        stop: function(event, ui) {\n",
       "            pass_mouse_events = true;\n",
       "            fig.request_resize(ui.size.width, ui.size.height);\n",
       "        },\n",
       "    });\n",
       "\n",
       "    function mouse_event_fn(event) {\n",
       "        if (pass_mouse_events)\n",
       "            return fig.mouse_event(event, event['data']);\n",
       "    }\n",
       "\n",
       "    rubberband.mousedown('button_press', mouse_event_fn);\n",
       "    rubberband.mouseup('button_release', mouse_event_fn);\n",
       "    // Throttle sequential mouse events to 1 every 20ms.\n",
       "    rubberband.mousemove('motion_notify', mouse_event_fn);\n",
       "\n",
       "    rubberband.mouseenter('figure_enter', mouse_event_fn);\n",
       "    rubberband.mouseleave('figure_leave', mouse_event_fn);\n",
       "\n",
       "    canvas_div.on(\"wheel\", function (event) {\n",
       "        event = event.originalEvent;\n",
       "        event['data'] = 'scroll'\n",
       "        if (event.deltaY < 0) {\n",
       "            event.step = 1;\n",
       "        } else {\n",
       "            event.step = -1;\n",
       "        }\n",
       "        mouse_event_fn(event);\n",
       "    });\n",
       "\n",
       "    canvas_div.append(canvas);\n",
       "    canvas_div.append(rubberband);\n",
       "\n",
       "    this.rubberband = rubberband;\n",
       "    this.rubberband_canvas = rubberband[0];\n",
       "    this.rubberband_context = rubberband[0].getContext(\"2d\");\n",
       "    this.rubberband_context.strokeStyle = \"#000000\";\n",
       "\n",
       "    this._resize_canvas = function(width, height) {\n",
       "        // Keep the size of the canvas, canvas container, and rubber band\n",
       "        // canvas in synch.\n",
       "        canvas_div.css('width', width)\n",
       "        canvas_div.css('height', height)\n",
       "\n",
       "        canvas.attr('width', width);\n",
       "        canvas.attr('height', height);\n",
       "\n",
       "        rubberband.attr('width', width);\n",
       "        rubberband.attr('height', height);\n",
       "    }\n",
       "\n",
       "    // Set the figure to an initial 600x600px, this will subsequently be updated\n",
       "    // upon first draw.\n",
       "    this._resize_canvas(600, 600);\n",
       "\n",
       "    // Disable right mouse context menu.\n",
       "    $(this.rubberband_canvas).bind(\"contextmenu\",function(e){\n",
       "        return false;\n",
       "    });\n",
       "\n",
       "    function set_focus () {\n",
       "        canvas.focus();\n",
       "        canvas_div.focus();\n",
       "    }\n",
       "\n",
       "    window.setTimeout(set_focus, 100);\n",
       "}\n",
       "\n",
       "mpl.figure.prototype._init_toolbar = function() {\n",
       "    var fig = this;\n",
       "\n",
       "    var nav_element = $('<div/>')\n",
       "    nav_element.attr('style', 'width: 100%');\n",
       "    this.root.append(nav_element);\n",
       "\n",
       "    // Define a callback function for later on.\n",
       "    function toolbar_event(event) {\n",
       "        return fig.toolbar_button_onclick(event['data']);\n",
       "    }\n",
       "    function toolbar_mouse_event(event) {\n",
       "        return fig.toolbar_button_onmouseover(event['data']);\n",
       "    }\n",
       "\n",
       "    for(var toolbar_ind in mpl.toolbar_items) {\n",
       "        var name = mpl.toolbar_items[toolbar_ind][0];\n",
       "        var tooltip = mpl.toolbar_items[toolbar_ind][1];\n",
       "        var image = mpl.toolbar_items[toolbar_ind][2];\n",
       "        var method_name = mpl.toolbar_items[toolbar_ind][3];\n",
       "\n",
       "        if (!name) {\n",
       "            // put a spacer in here.\n",
       "            continue;\n",
       "        }\n",
       "        var button = $('<button/>');\n",
       "        button.addClass('ui-button ui-widget ui-state-default ui-corner-all ' +\n",
       "                        'ui-button-icon-only');\n",
       "        button.attr('role', 'button');\n",
       "        button.attr('aria-disabled', 'false');\n",
       "        button.click(method_name, toolbar_event);\n",
       "        button.mouseover(tooltip, toolbar_mouse_event);\n",
       "\n",
       "        var icon_img = $('<span/>');\n",
       "        icon_img.addClass('ui-button-icon-primary ui-icon');\n",
       "        icon_img.addClass(image);\n",
       "        icon_img.addClass('ui-corner-all');\n",
       "\n",
       "        var tooltip_span = $('<span/>');\n",
       "        tooltip_span.addClass('ui-button-text');\n",
       "        tooltip_span.html(tooltip);\n",
       "\n",
       "        button.append(icon_img);\n",
       "        button.append(tooltip_span);\n",
       "\n",
       "        nav_element.append(button);\n",
       "    }\n",
       "\n",
       "    var fmt_picker_span = $('<span/>');\n",
       "\n",
       "    var fmt_picker = $('<select/>');\n",
       "    fmt_picker.addClass('mpl-toolbar-option ui-widget ui-widget-content');\n",
       "    fmt_picker_span.append(fmt_picker);\n",
       "    nav_element.append(fmt_picker_span);\n",
       "    this.format_dropdown = fmt_picker[0];\n",
       "\n",
       "    for (var ind in mpl.extensions) {\n",
       "        var fmt = mpl.extensions[ind];\n",
       "        var option = $(\n",
       "            '<option/>', {selected: fmt === mpl.default_extension}).html(fmt);\n",
       "        fmt_picker.append(option)\n",
       "    }\n",
       "\n",
       "    // Add hover states to the ui-buttons\n",
       "    $( \".ui-button\" ).hover(\n",
       "        function() { $(this).addClass(\"ui-state-hover\");},\n",
       "        function() { $(this).removeClass(\"ui-state-hover\");}\n",
       "    );\n",
       "\n",
       "    var status_bar = $('<span class=\"mpl-message\"/>');\n",
       "    nav_element.append(status_bar);\n",
       "    this.message = status_bar[0];\n",
       "}\n",
       "\n",
       "mpl.figure.prototype.request_resize = function(x_pixels, y_pixels) {\n",
       "    // Request matplotlib to resize the figure. Matplotlib will then trigger a resize in the client,\n",
       "    // which will in turn request a refresh of the image.\n",
       "    this.send_message('resize', {'width': x_pixels, 'height': y_pixels});\n",
       "}\n",
       "\n",
       "mpl.figure.prototype.send_message = function(type, properties) {\n",
       "    properties['type'] = type;\n",
       "    properties['figure_id'] = this.id;\n",
       "    this.ws.send(JSON.stringify(properties));\n",
       "}\n",
       "\n",
       "mpl.figure.prototype.send_draw_message = function() {\n",
       "    if (!this.waiting) {\n",
       "        this.waiting = true;\n",
       "        this.ws.send(JSON.stringify({type: \"draw\", figure_id: this.id}));\n",
       "    }\n",
       "}\n",
       "\n",
       "\n",
       "mpl.figure.prototype.handle_save = function(fig, msg) {\n",
       "    var format_dropdown = fig.format_dropdown;\n",
       "    var format = format_dropdown.options[format_dropdown.selectedIndex].value;\n",
       "    fig.ondownload(fig, format);\n",
       "}\n",
       "\n",
       "\n",
       "mpl.figure.prototype.handle_resize = function(fig, msg) {\n",
       "    var size = msg['size'];\n",
       "    if (size[0] != fig.canvas.width || size[1] != fig.canvas.height) {\n",
       "        fig._resize_canvas(size[0], size[1]);\n",
       "        fig.send_message(\"refresh\", {});\n",
       "    };\n",
       "}\n",
       "\n",
       "mpl.figure.prototype.handle_rubberband = function(fig, msg) {\n",
       "    var x0 = msg['x0'];\n",
       "    var y0 = fig.canvas.height - msg['y0'];\n",
       "    var x1 = msg['x1'];\n",
       "    var y1 = fig.canvas.height - msg['y1'];\n",
       "    x0 = Math.floor(x0) + 0.5;\n",
       "    y0 = Math.floor(y0) + 0.5;\n",
       "    x1 = Math.floor(x1) + 0.5;\n",
       "    y1 = Math.floor(y1) + 0.5;\n",
       "    var min_x = Math.min(x0, x1);\n",
       "    var min_y = Math.min(y0, y1);\n",
       "    var width = Math.abs(x1 - x0);\n",
       "    var height = Math.abs(y1 - y0);\n",
       "\n",
       "    fig.rubberband_context.clearRect(\n",
       "        0, 0, fig.canvas.width, fig.canvas.height);\n",
       "\n",
       "    fig.rubberband_context.strokeRect(min_x, min_y, width, height);\n",
       "}\n",
       "\n",
       "mpl.figure.prototype.handle_figure_label = function(fig, msg) {\n",
       "    // Updates the figure title.\n",
       "    fig.header.textContent = msg['label'];\n",
       "}\n",
       "\n",
       "mpl.figure.prototype.handle_cursor = function(fig, msg) {\n",
       "    var cursor = msg['cursor'];\n",
       "    switch(cursor)\n",
       "    {\n",
       "    case 0:\n",
       "        cursor = 'pointer';\n",
       "        break;\n",
       "    case 1:\n",
       "        cursor = 'default';\n",
       "        break;\n",
       "    case 2:\n",
       "        cursor = 'crosshair';\n",
       "        break;\n",
       "    case 3:\n",
       "        cursor = 'move';\n",
       "        break;\n",
       "    }\n",
       "    fig.rubberband_canvas.style.cursor = cursor;\n",
       "}\n",
       "\n",
       "mpl.figure.prototype.handle_message = function(fig, msg) {\n",
       "    fig.message.textContent = msg['message'];\n",
       "}\n",
       "\n",
       "mpl.figure.prototype.handle_draw = function(fig, msg) {\n",
       "    // Request the server to send over a new figure.\n",
       "    fig.send_draw_message();\n",
       "}\n",
       "\n",
       "mpl.figure.prototype.handle_image_mode = function(fig, msg) {\n",
       "    fig.image_mode = msg['mode'];\n",
       "}\n",
       "\n",
       "mpl.figure.prototype.updated_canvas_event = function() {\n",
       "    // Called whenever the canvas gets updated.\n",
       "    this.send_message(\"ack\", {});\n",
       "}\n",
       "\n",
       "// A function to construct a web socket function for onmessage handling.\n",
       "// Called in the figure constructor.\n",
       "mpl.figure.prototype._make_on_message_function = function(fig) {\n",
       "    return function socket_on_message(evt) {\n",
       "        if (evt.data instanceof Blob) {\n",
       "            /* FIXME: We get \"Resource interpreted as Image but\n",
       "             * transferred with MIME type text/plain:\" errors on\n",
       "             * Chrome.  But how to set the MIME type?  It doesn't seem\n",
       "             * to be part of the websocket stream */\n",
       "            evt.data.type = \"image/png\";\n",
       "\n",
       "            /* Free the memory for the previous frames */\n",
       "            if (fig.imageObj.src) {\n",
       "                (window.URL || window.webkitURL).revokeObjectURL(\n",
       "                    fig.imageObj.src);\n",
       "            }\n",
       "\n",
       "            fig.imageObj.src = (window.URL || window.webkitURL).createObjectURL(\n",
       "                evt.data);\n",
       "            fig.updated_canvas_event();\n",
       "            return;\n",
       "        }\n",
       "        else if (typeof evt.data === 'string' && evt.data.slice(0, 21) == \"data:image/png;base64\") {\n",
       "            fig.imageObj.src = evt.data;\n",
       "            fig.updated_canvas_event();\n",
       "            return;\n",
       "        }\n",
       "\n",
       "        var msg = JSON.parse(evt.data);\n",
       "        var msg_type = msg['type'];\n",
       "\n",
       "        // Call the  \"handle_{type}\" callback, which takes\n",
       "        // the figure and JSON message as its only arguments.\n",
       "        try {\n",
       "            var callback = fig[\"handle_\" + msg_type];\n",
       "        } catch (e) {\n",
       "            console.log(\"No handler for the '\" + msg_type + \"' message type: \", msg);\n",
       "            return;\n",
       "        }\n",
       "\n",
       "        if (callback) {\n",
       "            try {\n",
       "                // console.log(\"Handling '\" + msg_type + \"' message: \", msg);\n",
       "                callback(fig, msg);\n",
       "            } catch (e) {\n",
       "                console.log(\"Exception inside the 'handler_\" + msg_type + \"' callback:\", e, e.stack, msg);\n",
       "            }\n",
       "        }\n",
       "    };\n",
       "}\n",
       "\n",
       "// from http://stackoverflow.com/questions/1114465/getting-mouse-location-in-canvas\n",
       "mpl.findpos = function(e) {\n",
       "    //this section is from http://www.quirksmode.org/js/events_properties.html\n",
       "    var targ;\n",
       "    if (!e)\n",
       "        e = window.event;\n",
       "    if (e.target)\n",
       "        targ = e.target;\n",
       "    else if (e.srcElement)\n",
       "        targ = e.srcElement;\n",
       "    if (targ.nodeType == 3) // defeat Safari bug\n",
       "        targ = targ.parentNode;\n",
       "\n",
       "    // jQuery normalizes the pageX and pageY\n",
       "    // pageX,Y are the mouse positions relative to the document\n",
       "    // offset() returns the position of the element relative to the document\n",
       "    var x = e.pageX - $(targ).offset().left;\n",
       "    var y = e.pageY - $(targ).offset().top;\n",
       "\n",
       "    return {\"x\": x, \"y\": y};\n",
       "};\n",
       "\n",
       "mpl.figure.prototype.mouse_event = function(event, name) {\n",
       "    var canvas_pos = mpl.findpos(event)\n",
       "\n",
       "    if (name === 'button_press')\n",
       "    {\n",
       "        this.canvas.focus();\n",
       "        this.canvas_div.focus();\n",
       "    }\n",
       "\n",
       "    var x = canvas_pos.x;\n",
       "    var y = canvas_pos.y;\n",
       "\n",
       "    this.send_message(name, {x: x, y: y, button: event.button,\n",
       "                             step: event.step});\n",
       "\n",
       "    /* This prevents the web browser from automatically changing to\n",
       "     * the text insertion cursor when the button is pressed.  We want\n",
       "     * to control all of the cursor setting manually through the\n",
       "     * 'cursor' event from matplotlib */\n",
       "    event.preventDefault();\n",
       "    return false;\n",
       "}\n",
       "\n",
       "mpl.figure.prototype._key_event_extra = function(event, name) {\n",
       "    // Handle any extra behaviour associated with a key event\n",
       "}\n",
       "\n",
       "mpl.figure.prototype.key_event = function(event, name) {\n",
       "\n",
       "    // Prevent repeat events\n",
       "    if (name == 'key_press')\n",
       "    {\n",
       "        if (event.which === this._key)\n",
       "            return;\n",
       "        else\n",
       "            this._key = event.which;\n",
       "    }\n",
       "    if (name == 'key_release')\n",
       "        this._key = null;\n",
       "\n",
       "    var value = '';\n",
       "    if (event.ctrlKey && event.which != 17)\n",
       "        value += \"ctrl+\";\n",
       "    if (event.altKey && event.which != 18)\n",
       "        value += \"alt+\";\n",
       "    if (event.shiftKey && event.which != 16)\n",
       "        value += \"shift+\";\n",
       "\n",
       "    value += 'k';\n",
       "    value += event.which.toString();\n",
       "\n",
       "    this._key_event_extra(event, name);\n",
       "\n",
       "    this.send_message(name, {key: value});\n",
       "    return false;\n",
       "}\n",
       "\n",
       "mpl.figure.prototype.toolbar_button_onclick = function(name) {\n",
       "    if (name == 'download') {\n",
       "        this.handle_save(this, null);\n",
       "    } else {\n",
       "        this.send_message(\"toolbar_button\", {name: name});\n",
       "    }\n",
       "};\n",
       "\n",
       "mpl.figure.prototype.toolbar_button_onmouseover = function(tooltip) {\n",
       "    this.message.textContent = tooltip;\n",
       "};\n",
       "mpl.toolbar_items = [[\"Home\", \"Reset original view\", \"fa fa-home icon-home\", \"home\"], [\"Back\", \"Back to  previous view\", \"fa fa-arrow-left icon-arrow-left\", \"back\"], [\"Forward\", \"Forward to next view\", \"fa fa-arrow-right icon-arrow-right\", \"forward\"], [\"\", \"\", \"\", \"\"], [\"Pan\", \"Pan axes with left mouse, zoom with right\", \"fa fa-arrows icon-move\", \"pan\"], [\"Zoom\", \"Zoom to rectangle\", \"fa fa-square-o icon-check-empty\", \"zoom\"], [\"\", \"\", \"\", \"\"], [\"Download\", \"Download plot\", \"fa fa-floppy-o icon-save\", \"download\"]];\n",
       "\n",
       "mpl.extensions = [\"eps\", \"jpeg\", \"pdf\", \"png\", \"ps\", \"raw\", \"svg\", \"tif\"];\n",
       "\n",
       "mpl.default_extension = \"png\";var comm_websocket_adapter = function(comm) {\n",
       "    // Create a \"websocket\"-like object which calls the given IPython comm\n",
       "    // object with the appropriate methods. Currently this is a non binary\n",
       "    // socket, so there is still some room for performance tuning.\n",
       "    var ws = {};\n",
       "\n",
       "    ws.close = function() {\n",
       "        comm.close()\n",
       "    };\n",
       "    ws.send = function(m) {\n",
       "        //console.log('sending', m);\n",
       "        comm.send(m);\n",
       "    };\n",
       "    // Register the callback with on_msg.\n",
       "    comm.on_msg(function(msg) {\n",
       "        //console.log('receiving', msg['content']['data'], msg);\n",
       "        // Pass the mpl event to the overriden (by mpl) onmessage function.\n",
       "        ws.onmessage(msg['content']['data'])\n",
       "    });\n",
       "    return ws;\n",
       "}\n",
       "\n",
       "mpl.mpl_figure_comm = function(comm, msg) {\n",
       "    // This is the function which gets called when the mpl process\n",
       "    // starts-up an IPython Comm through the \"matplotlib\" channel.\n",
       "\n",
       "    var id = msg.content.data.id;\n",
       "    // Get hold of the div created by the display call when the Comm\n",
       "    // socket was opened in Python.\n",
       "    var element = $(\"#\" + id);\n",
       "    var ws_proxy = comm_websocket_adapter(comm)\n",
       "\n",
       "    function ondownload(figure, format) {\n",
       "        window.open(figure.imageObj.src);\n",
       "    }\n",
       "\n",
       "    var fig = new mpl.figure(id, ws_proxy,\n",
       "                           ondownload,\n",
       "                           element.get(0));\n",
       "\n",
       "    // Call onopen now - mpl needs it, as it is assuming we've passed it a real\n",
       "    // web socket which is closed, not our websocket->open comm proxy.\n",
       "    ws_proxy.onopen();\n",
       "\n",
       "    fig.parent_element = element.get(0);\n",
       "    fig.cell_info = mpl.find_output_cell(\"<div id='\" + id + \"'></div>\");\n",
       "    if (!fig.cell_info) {\n",
       "        console.error(\"Failed to find cell for figure\", id, fig);\n",
       "        return;\n",
       "    }\n",
       "\n",
       "    var output_index = fig.cell_info[2]\n",
       "    var cell = fig.cell_info[0];\n",
       "\n",
       "};\n",
       "\n",
       "mpl.figure.prototype.handle_close = function(fig, msg) {\n",
       "    // Update the output cell to use the data from the current canvas.\n",
       "    fig.push_to_output();\n",
       "    var dataURL = fig.canvas.toDataURL();\n",
       "    // Re-enable the keyboard manager in IPython - without this line, in FF,\n",
       "    // the notebook keyboard shortcuts fail.\n",
       "    IPython.keyboard_manager.enable()\n",
       "    $(fig.parent_element).html('<img src=\"' + dataURL + '\">');\n",
       "    fig.send_message('closing', {});\n",
       "    fig.ws.close()\n",
       "}\n",
       "\n",
       "mpl.figure.prototype.push_to_output = function(remove_interactive) {\n",
       "    // Turn the data on the canvas into data in the output cell.\n",
       "    var dataURL = this.canvas.toDataURL();\n",
       "    this.cell_info[1]['text/html'] = '<img src=\"' + dataURL + '\">';\n",
       "}\n",
       "\n",
       "mpl.figure.prototype.updated_canvas_event = function() {\n",
       "    // Tell IPython that the notebook contents must change.\n",
       "    IPython.notebook.set_dirty(true);\n",
       "    this.send_message(\"ack\", {});\n",
       "    var fig = this;\n",
       "    // Wait a second, then push the new image to the DOM so\n",
       "    // that it is saved nicely (might be nice to debounce this).\n",
       "    setTimeout(function () { fig.push_to_output() }, 1000);\n",
       "}\n",
       "\n",
       "mpl.figure.prototype._init_toolbar = function() {\n",
       "    var fig = this;\n",
       "\n",
       "    var nav_element = $('<div/>')\n",
       "    nav_element.attr('style', 'width: 100%');\n",
       "    this.root.append(nav_element);\n",
       "\n",
       "    // Define a callback function for later on.\n",
       "    function toolbar_event(event) {\n",
       "        return fig.toolbar_button_onclick(event['data']);\n",
       "    }\n",
       "    function toolbar_mouse_event(event) {\n",
       "        return fig.toolbar_button_onmouseover(event['data']);\n",
       "    }\n",
       "\n",
       "    for(var toolbar_ind in mpl.toolbar_items){\n",
       "        var name = mpl.toolbar_items[toolbar_ind][0];\n",
       "        var tooltip = mpl.toolbar_items[toolbar_ind][1];\n",
       "        var image = mpl.toolbar_items[toolbar_ind][2];\n",
       "        var method_name = mpl.toolbar_items[toolbar_ind][3];\n",
       "\n",
       "        if (!name) { continue; };\n",
       "\n",
       "        var button = $('<button class=\"btn btn-default\" href=\"#\" title=\"' + name + '\"><i class=\"fa ' + image + ' fa-lg\"></i></button>');\n",
       "        button.click(method_name, toolbar_event);\n",
       "        button.mouseover(tooltip, toolbar_mouse_event);\n",
       "        nav_element.append(button);\n",
       "    }\n",
       "\n",
       "    // Add the status bar.\n",
       "    var status_bar = $('<span class=\"mpl-message\" style=\"text-align:right; float: right;\"/>');\n",
       "    nav_element.append(status_bar);\n",
       "    this.message = status_bar[0];\n",
       "\n",
       "    // Add the close button to the window.\n",
       "    var buttongrp = $('<div class=\"btn-group inline pull-right\"></div>');\n",
       "    var button = $('<button class=\"btn btn-mini btn-danger\" href=\"#\" title=\"Close figure\"><i class=\"fa fa-times icon-remove icon-large\"></i></button>');\n",
       "    button.click(function (evt) { fig.handle_close(fig, {}); } );\n",
       "    button.mouseover('Close figure', toolbar_mouse_event);\n",
       "    buttongrp.append(button);\n",
       "    var titlebar = this.root.find($('.ui-dialog-titlebar'));\n",
       "    titlebar.prepend(buttongrp);\n",
       "}\n",
       "\n",
       "\n",
       "mpl.figure.prototype._canvas_extra_style = function(el){\n",
       "    // this is important to make the div 'focusable\n",
       "    el.attr('tabindex', 0)\n",
       "    // reach out to IPython and tell the keyboard manager to turn it's self\n",
       "    // off when our div gets focus\n",
       "\n",
       "    // location in version 3\n",
       "    if (IPython.notebook.keyboard_manager) {\n",
       "        IPython.notebook.keyboard_manager.register_events(el);\n",
       "    }\n",
       "    else {\n",
       "        // location in version 2\n",
       "        IPython.keyboard_manager.register_events(el);\n",
       "    }\n",
       "\n",
       "}\n",
       "\n",
       "mpl.figure.prototype._key_event_extra = function(event, name) {\n",
       "    var manager = IPython.notebook.keyboard_manager;\n",
       "    if (!manager)\n",
       "        manager = IPython.keyboard_manager;\n",
       "\n",
       "    // Check for shift+enter\n",
       "    if (event.shiftKey && event.which == 13) {\n",
       "        this.canvas_div.blur();\n",
       "        event.shiftKey = false;\n",
       "        // Send a \"J\" for go to next cell\n",
       "        event.which = 74;\n",
       "        event.keyCode = 74;\n",
       "        manager.command_mode();\n",
       "        manager.handle_keydown(event);\n",
       "    }\n",
       "}\n",
       "\n",
       "mpl.figure.prototype.handle_save = function(fig, msg) {\n",
       "    fig.ondownload(fig, null);\n",
       "}\n",
       "\n",
       "\n",
       "mpl.find_output_cell = function(html_output) {\n",
       "    // Return the cell and output element which can be found *uniquely* in the notebook.\n",
       "    // Note - this is a bit hacky, but it is done because the \"notebook_saving.Notebook\"\n",
       "    // IPython event is triggered only after the cells have been serialised, which for\n",
       "    // our purposes (turning an active figure into a static one), is too late.\n",
       "    var cells = IPython.notebook.get_cells();\n",
       "    var ncells = cells.length;\n",
       "    for (var i=0; i<ncells; i++) {\n",
       "        var cell = cells[i];\n",
       "        if (cell.cell_type === 'code'){\n",
       "            for (var j=0; j<cell.output_area.outputs.length; j++) {\n",
       "                var data = cell.output_area.outputs[j];\n",
       "                if (data.data) {\n",
       "                    // IPython >= 3 moved mimebundle to data attribute of output\n",
       "                    data = data.data;\n",
       "                }\n",
       "                if (data['text/html'] == html_output) {\n",
       "                    return [cell, data, j];\n",
       "                }\n",
       "            }\n",
       "        }\n",
       "    }\n",
       "}\n",
       "\n",
       "// Register the function which deals with the matplotlib target/channel.\n",
       "// The kernel may be null if the page has been refreshed.\n",
       "if (IPython.notebook.kernel != null) {\n",
       "    IPython.notebook.kernel.comm_manager.register_target('matplotlib', mpl.mpl_figure_comm);\n",
       "}\n"
      ],
      "text/plain": [
       "<IPython.core.display.Javascript object>"
      ]
     },
     "metadata": {},
     "output_type": "display_data"
    },
    {
     "data": {
      "text/html": [
       "<img src=\"data:image/png;base64,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\">"
      ],
      "text/plain": [
       "<IPython.core.display.HTML object>"
      ]
     },
     "metadata": {},
     "output_type": "display_data"
    }
   ],
   "source": [
    "%matplotlib notebook\n",
    "import pandas as pd\n",
    "import matplotlib.pyplot as plt\n",
    "from ipywidgets import *\n",
    "from IPython.display import display\n",
    "import ping\n",
    "# from IPython.html import widgets\n",
    "plt.style.use('ggplot')\n",
    "\n",
    "NUMBER_OF_PINGS = 4\n",
    "\n",
    "# displaying the text widget\n",
    "text = widgets.Text(description=\"Domain to ping\", width=200)\n",
    "display(text)\n",
    "\n",
    "# preparing the plot \n",
    "data = pd.DataFrame()\n",
    "x = range(1,NUMBER_OF_PINGS+1)\n",
    "plots = dict()\n",
    "fig, ax = plt.subplots()\n",
    "plt.xlabel('iterations')\n",
    "plt.ylabel('ms')\n",
    "plt.xticks(x)\n",
    "plt.show()\n",
    "\n",
    "# preparing a container to put in created checkbox per domain\n",
    "checkboxes = []\n",
    "cb_container = HBox()\n",
    "display(cb_container)\n",
    "\n",
    "# add button that updates the graph based on the checkboxes\n",
    "button = Button(description=\"Update the graph\")\n",
    "\n",
    "# function to deal with the added domain name\n",
    "def handle_submit(sender):\n",
    "    # a part of the magic inside python : pinging\n",
    "#     print text.value\n",
    "#     res = !ping -n {NUMBER_OF_PINGS} {text.value}\n",
    "#     print res[0:4]\n",
    "#     hits = res.grep('32').fields(-2).s.replace(\"time=\",\"\").split()\n",
    "    hits = np.random.uniform(low=10.0, high=1000.0, size=4)\n",
    "    if len(hits) == 0:\n",
    "        print \"Domain gave error on pinging\"\n",
    "    else:\n",
    "         # rebuild plot based on ping result\n",
    "        data[text.value] = hits\n",
    "        data[text.value] = data[text.value].astype(float)\n",
    "        plots[text.value], = ax.plot(x, data[text.value], label=text.value)\n",
    "        plt.legend()\n",
    "        plt.draw()\n",
    "        # add a new checkbox for the new domain\n",
    "        checkboxes.append(widgets.Checkbox(description = text.value, value=True, width=90))\n",
    "        cb_container.children=[i for i in checkboxes]\n",
    "        if len(checkboxes) == 1:\n",
    "            display(button)\n",
    "\n",
    "# function to deal with the checkbox update button       \n",
    "def on_button_clicked(b):\n",
    "    for c in cb_container.children:\n",
    "        if not c.value:\n",
    "            plots[c.description].set_visible(False)\n",
    "        else:\n",
    "            plots[c.description].set_visible(True)\n",
    "    plt.legend()\n",
    "    plt.draw()\n",
    "\n",
    "button.on_click(on_button_clicked)\n",
    "text.on_submit(handle_submit)\n",
    "plt.show()"
   ]
  },
  {
   "cell_type": "markdown",
   "metadata": {},
   "source": [
    "# Feature Importance and Feature Selection With XGBoost in Python\n",
    "http://machinelearningmastery.com/feature-importance-and-feature-selection-with-xgboost-in-python/"
   ]
  },
  {
   "cell_type": "code",
   "execution_count": 4,
   "metadata": {
    "collapsed": false
   },
   "outputs": [
    {
     "ename": "WindowsError",
     "evalue": "[Error 126] ",
     "output_type": "error",
     "traceback": [
      "\u001b[0;31m---------------------------------------------------------------------------\u001b[0m",
      "\u001b[0;31mWindowsError\u001b[0m                              Traceback (most recent call last)",
      "\u001b[0;32m<ipython-input-4-afdaff4619ce>\u001b[0m in \u001b[0;36m<module>\u001b[0;34m()\u001b[0m\n\u001b[0;32m----> 1\u001b[0;31m \u001b[0;32mimport\u001b[0m \u001b[0mxgboost\u001b[0m\u001b[0;34m\u001b[0m\u001b[0m\n\u001b[0m",
      "\u001b[0;32mC:\\Anaconda\\lib\\site-packages\\xgboost-0.6-py2.7.egg\\xgboost\\__init__.py\u001b[0m in \u001b[0;36m<module>\u001b[0;34m()\u001b[0m\n\u001b[1;32m      9\u001b[0m \u001b[0;32mimport\u001b[0m \u001b[0mos\u001b[0m\u001b[0;34m\u001b[0m\u001b[0m\n\u001b[1;32m     10\u001b[0m \u001b[0;34m\u001b[0m\u001b[0m\n\u001b[0;32m---> 11\u001b[0;31m \u001b[0;32mfrom\u001b[0m \u001b[0;34m.\u001b[0m\u001b[0mcore\u001b[0m \u001b[0;32mimport\u001b[0m \u001b[0mDMatrix\u001b[0m\u001b[0;34m,\u001b[0m \u001b[0mBooster\u001b[0m\u001b[0;34m\u001b[0m\u001b[0m\n\u001b[0m\u001b[1;32m     12\u001b[0m \u001b[0;32mfrom\u001b[0m \u001b[0;34m.\u001b[0m\u001b[0mtraining\u001b[0m \u001b[0;32mimport\u001b[0m \u001b[0mtrain\u001b[0m\u001b[0;34m,\u001b[0m \u001b[0mcv\u001b[0m\u001b[0;34m\u001b[0m\u001b[0m\n\u001b[1;32m     13\u001b[0m \u001b[0;32mfrom\u001b[0m \u001b[0;34m.\u001b[0m \u001b[0;32mimport\u001b[0m \u001b[0mrabit\u001b[0m                   \u001b[0;31m# noqa\u001b[0m\u001b[0;34m\u001b[0m\u001b[0m\n",
      "\u001b[0;32mC:\\Anaconda\\lib\\site-packages\\xgboost-0.6-py2.7.egg\\xgboost\\core.py\u001b[0m in \u001b[0;36m<module>\u001b[0;34m()\u001b[0m\n\u001b[1;32m    110\u001b[0m \u001b[0;34m\u001b[0m\u001b[0m\n\u001b[1;32m    111\u001b[0m \u001b[0;31m# load the XGBoost library globally\u001b[0m\u001b[0;34m\u001b[0m\u001b[0;34m\u001b[0m\u001b[0m\n\u001b[0;32m--> 112\u001b[0;31m \u001b[0m_LIB\u001b[0m \u001b[0;34m=\u001b[0m \u001b[0m_load_lib\u001b[0m\u001b[0;34m(\u001b[0m\u001b[0;34m)\u001b[0m\u001b[0;34m\u001b[0m\u001b[0m\n\u001b[0m\u001b[1;32m    113\u001b[0m \u001b[0;34m\u001b[0m\u001b[0m\n\u001b[1;32m    114\u001b[0m \u001b[0;34m\u001b[0m\u001b[0m\n",
      "\u001b[0;32mC:\\Anaconda\\lib\\site-packages\\xgboost-0.6-py2.7.egg\\xgboost\\core.py\u001b[0m in \u001b[0;36m_load_lib\u001b[0;34m()\u001b[0m\n\u001b[1;32m    104\u001b[0m     \u001b[0;32mif\u001b[0m \u001b[0mlen\u001b[0m\u001b[0;34m(\u001b[0m\u001b[0mlib_path\u001b[0m\u001b[0;34m)\u001b[0m \u001b[0;34m==\u001b[0m \u001b[0;36m0\u001b[0m\u001b[0;34m:\u001b[0m\u001b[0;34m\u001b[0m\u001b[0m\n\u001b[1;32m    105\u001b[0m         \u001b[0;32mreturn\u001b[0m \u001b[0mNone\u001b[0m\u001b[0;34m\u001b[0m\u001b[0m\n\u001b[0;32m--> 106\u001b[0;31m     \u001b[0mlib\u001b[0m \u001b[0;34m=\u001b[0m \u001b[0mctypes\u001b[0m\u001b[0;34m.\u001b[0m\u001b[0mcdll\u001b[0m\u001b[0;34m.\u001b[0m\u001b[0mLoadLibrary\u001b[0m\u001b[0;34m(\u001b[0m\u001b[0mlib_path\u001b[0m\u001b[0;34m[\u001b[0m\u001b[0;36m0\u001b[0m\u001b[0;34m]\u001b[0m\u001b[0;34m)\u001b[0m\u001b[0;34m\u001b[0m\u001b[0m\n\u001b[0m\u001b[1;32m    107\u001b[0m     \u001b[0mlib\u001b[0m\u001b[0;34m.\u001b[0m\u001b[0mXGBGetLastError\u001b[0m\u001b[0;34m.\u001b[0m\u001b[0mrestype\u001b[0m \u001b[0;34m=\u001b[0m \u001b[0mctypes\u001b[0m\u001b[0;34m.\u001b[0m\u001b[0mc_char_p\u001b[0m\u001b[0;34m\u001b[0m\u001b[0m\n\u001b[1;32m    108\u001b[0m     \u001b[0;32mreturn\u001b[0m \u001b[0mlib\u001b[0m\u001b[0;34m\u001b[0m\u001b[0m\n",
      "\u001b[0;32mC:\\Anaconda\\lib\\ctypes\\__init__.pyc\u001b[0m in \u001b[0;36mLoadLibrary\u001b[0;34m(self, name)\u001b[0m\n\u001b[1;32m    438\u001b[0m \u001b[0;34m\u001b[0m\u001b[0m\n\u001b[1;32m    439\u001b[0m     \u001b[0;32mdef\u001b[0m \u001b[0mLoadLibrary\u001b[0m\u001b[0;34m(\u001b[0m\u001b[0mself\u001b[0m\u001b[0;34m,\u001b[0m \u001b[0mname\u001b[0m\u001b[0;34m)\u001b[0m\u001b[0;34m:\u001b[0m\u001b[0;34m\u001b[0m\u001b[0m\n\u001b[0;32m--> 440\u001b[0;31m         \u001b[0;32mreturn\u001b[0m \u001b[0mself\u001b[0m\u001b[0;34m.\u001b[0m\u001b[0m_dlltype\u001b[0m\u001b[0;34m(\u001b[0m\u001b[0mname\u001b[0m\u001b[0;34m)\u001b[0m\u001b[0;34m\u001b[0m\u001b[0m\n\u001b[0m\u001b[1;32m    441\u001b[0m \u001b[0;34m\u001b[0m\u001b[0m\n\u001b[1;32m    442\u001b[0m \u001b[0mcdll\u001b[0m \u001b[0;34m=\u001b[0m \u001b[0mLibraryLoader\u001b[0m\u001b[0;34m(\u001b[0m\u001b[0mCDLL\u001b[0m\u001b[0;34m)\u001b[0m\u001b[0;34m\u001b[0m\u001b[0m\n",
      "\u001b[0;32mC:\\Anaconda\\lib\\ctypes\\__init__.pyc\u001b[0m in \u001b[0;36m__init__\u001b[0;34m(self, name, mode, handle, use_errno, use_last_error)\u001b[0m\n\u001b[1;32m    360\u001b[0m \u001b[0;34m\u001b[0m\u001b[0m\n\u001b[1;32m    361\u001b[0m         \u001b[0;32mif\u001b[0m \u001b[0mhandle\u001b[0m \u001b[0;32mis\u001b[0m \u001b[0mNone\u001b[0m\u001b[0;34m:\u001b[0m\u001b[0;34m\u001b[0m\u001b[0m\n\u001b[0;32m--> 362\u001b[0;31m             \u001b[0mself\u001b[0m\u001b[0;34m.\u001b[0m\u001b[0m_handle\u001b[0m \u001b[0;34m=\u001b[0m \u001b[0m_dlopen\u001b[0m\u001b[0;34m(\u001b[0m\u001b[0mself\u001b[0m\u001b[0;34m.\u001b[0m\u001b[0m_name\u001b[0m\u001b[0;34m,\u001b[0m \u001b[0mmode\u001b[0m\u001b[0;34m)\u001b[0m\u001b[0;34m\u001b[0m\u001b[0m\n\u001b[0m\u001b[1;32m    363\u001b[0m         \u001b[0;32melse\u001b[0m\u001b[0;34m:\u001b[0m\u001b[0;34m\u001b[0m\u001b[0m\n\u001b[1;32m    364\u001b[0m             \u001b[0mself\u001b[0m\u001b[0;34m.\u001b[0m\u001b[0m_handle\u001b[0m \u001b[0;34m=\u001b[0m \u001b[0mhandle\u001b[0m\u001b[0;34m\u001b[0m\u001b[0m\n",
      "\u001b[0;31mWindowsError\u001b[0m: [Error 126] "
     ]
    }
   ],
   "source": [
    "# as for boruta, works in console but not in notebook\n",
    "import xgboost"
   ]
  },
  {
   "cell_type": "code",
   "execution_count": 1,
   "metadata": {
    "collapsed": false
   },
   "outputs": [
    {
     "ename": "ImportError",
     "evalue": "No module named xgboost",
     "output_type": "error",
     "traceback": [
      "\u001b[0;31m---------------------------------------------------------------------------\u001b[0m",
      "\u001b[0;31mImportError\u001b[0m                               Traceback (most recent call last)",
      "\u001b[0;32m<ipython-input-1-9b31cfdb821c>\u001b[0m in \u001b[0;36m<module>\u001b[0;34m()\u001b[0m\n\u001b[0;32m----> 1\u001b[0;31m \u001b[0;32mfrom\u001b[0m \u001b[0mxgboost\u001b[0m \u001b[0;32mimport\u001b[0m \u001b[0mXGBClassifier\u001b[0m\u001b[0;34m\u001b[0m\u001b[0m\n\u001b[0m",
      "\u001b[0;31mImportError\u001b[0m: No module named xgboost"
     ]
    }
   ],
   "source": [
    "from xgboost import XGBClassifier"
   ]
  },
  {
   "cell_type": "markdown",
   "metadata": {},
   "source": [
    "* https://habrahabr.ru/post/273363/\n",
    "* https://www.ibm.com/developerworks/community/blogs/jfp/entry/Installing_XGBoost_For_Anaconda_on_Windows?lang=ru\n",
    "* https://xgboost.readthedocs.io/en/latest/build.html#python-package-installation"
   ]
  },
  {
   "cell_type": "markdown",
   "metadata": {},
   "source": [
    "# Rmagic\n",
    "\n",
    "http://rpy2.bitbucket.org/\n",
    "\n",
    "https://blog.dominodatalab.com/lesser-known-ways-of-using-notebooks/"
   ]
  },
  {
   "cell_type": "code",
   "execution_count": 6,
   "metadata": {
    "collapsed": false
   },
   "outputs": [
    {
     "name": "stderr",
     "output_type": "stream",
     "text": [
      "C:\\Anaconda\\lib\\site-packages\\IPython\\extensions\\rmagic.py:11: UserWarning: The rmagic extension in IPython has moved to `rpy2.ipython`, please see `rpy2` documentation.\n",
      "  warnings.warn(\"The rmagic extension in IPython has moved to \"\n"
     ]
    }
   ],
   "source": [
    "%load_ext rmagic"
   ]
  },
  {
   "cell_type": "code",
   "execution_count": 9,
   "metadata": {
    "collapsed": false
   },
   "outputs": [
    {
     "name": "stderr",
     "output_type": "stream",
     "text": [
      "ERROR:root:Cell magic `%%R` not found.\n"
     ]
    }
   ],
   "source": [
    "%%R\n",
    "x <- runif(10)"
   ]
  },
  {
   "cell_type": "code",
   "execution_count": 10,
   "metadata": {
    "collapsed": false
   },
   "outputs": [
    {
     "name": "stderr",
     "output_type": "stream",
     "text": [
      "ERROR:root:Line magic function `%R` not found.\n"
     ]
    }
   ],
   "source": [
    "%R X=c(1,4,5,7); sd(X); mean(X)"
   ]
  },
  {
   "cell_type": "code",
   "execution_count": 5,
   "metadata": {
    "collapsed": false
   },
   "outputs": [
    {
     "ename": "WindowsError",
     "evalue": "[Error 2] ",
     "output_type": "error",
     "traceback": [
      "\u001b[0;31m---------------------------------------------------------------------------\u001b[0m",
      "\u001b[0;31mWindowsError\u001b[0m                              Traceback (most recent call last)",
      "\u001b[0;32m<ipython-input-5-691c6d73b073>\u001b[0m in \u001b[0;36m<module>\u001b[0;34m()\u001b[0m\n\u001b[0;32m----> 1\u001b[0;31m \u001b[0mget_ipython\u001b[0m\u001b[0;34m(\u001b[0m\u001b[0;34m)\u001b[0m\u001b[0;34m.\u001b[0m\u001b[0mmagic\u001b[0m\u001b[0;34m(\u001b[0m\u001b[0;34mu'load_ext rpy2.ipython'\u001b[0m\u001b[0;34m)\u001b[0m\u001b[0;34m\u001b[0m\u001b[0m\n\u001b[0m",
      "\u001b[0;32mC:\\Anaconda\\lib\\site-packages\\IPython\\core\\interactiveshell.pyc\u001b[0m in \u001b[0;36mmagic\u001b[0;34m(self, arg_s)\u001b[0m\n\u001b[1;32m   2144\u001b[0m         \u001b[0mmagic_name\u001b[0m\u001b[0;34m,\u001b[0m \u001b[0m_\u001b[0m\u001b[0;34m,\u001b[0m \u001b[0mmagic_arg_s\u001b[0m \u001b[0;34m=\u001b[0m \u001b[0marg_s\u001b[0m\u001b[0;34m.\u001b[0m\u001b[0mpartition\u001b[0m\u001b[0;34m(\u001b[0m\u001b[0;34m' '\u001b[0m\u001b[0;34m)\u001b[0m\u001b[0;34m\u001b[0m\u001b[0m\n\u001b[1;32m   2145\u001b[0m         \u001b[0mmagic_name\u001b[0m \u001b[0;34m=\u001b[0m \u001b[0mmagic_name\u001b[0m\u001b[0;34m.\u001b[0m\u001b[0mlstrip\u001b[0m\u001b[0;34m(\u001b[0m\u001b[0mprefilter\u001b[0m\u001b[0;34m.\u001b[0m\u001b[0mESC_MAGIC\u001b[0m\u001b[0;34m)\u001b[0m\u001b[0;34m\u001b[0m\u001b[0m\n\u001b[0;32m-> 2146\u001b[0;31m         \u001b[0;32mreturn\u001b[0m \u001b[0mself\u001b[0m\u001b[0;34m.\u001b[0m\u001b[0mrun_line_magic\u001b[0m\u001b[0;34m(\u001b[0m\u001b[0mmagic_name\u001b[0m\u001b[0;34m,\u001b[0m \u001b[0mmagic_arg_s\u001b[0m\u001b[0;34m)\u001b[0m\u001b[0;34m\u001b[0m\u001b[0m\n\u001b[0m\u001b[1;32m   2147\u001b[0m \u001b[0;34m\u001b[0m\u001b[0m\n\u001b[1;32m   2148\u001b[0m     \u001b[0;31m#-------------------------------------------------------------------------\u001b[0m\u001b[0;34m\u001b[0m\u001b[0;34m\u001b[0m\u001b[0m\n",
      "\u001b[0;32mC:\\Anaconda\\lib\\site-packages\\IPython\\core\\interactiveshell.pyc\u001b[0m in \u001b[0;36mrun_line_magic\u001b[0;34m(self, magic_name, line)\u001b[0m\n\u001b[1;32m   2065\u001b[0m                 \u001b[0mkwargs\u001b[0m\u001b[0;34m[\u001b[0m\u001b[0;34m'local_ns'\u001b[0m\u001b[0;34m]\u001b[0m \u001b[0;34m=\u001b[0m \u001b[0msys\u001b[0m\u001b[0;34m.\u001b[0m\u001b[0m_getframe\u001b[0m\u001b[0;34m(\u001b[0m\u001b[0mstack_depth\u001b[0m\u001b[0;34m)\u001b[0m\u001b[0;34m.\u001b[0m\u001b[0mf_locals\u001b[0m\u001b[0;34m\u001b[0m\u001b[0m\n\u001b[1;32m   2066\u001b[0m             \u001b[0;32mwith\u001b[0m \u001b[0mself\u001b[0m\u001b[0;34m.\u001b[0m\u001b[0mbuiltin_trap\u001b[0m\u001b[0;34m:\u001b[0m\u001b[0;34m\u001b[0m\u001b[0m\n\u001b[0;32m-> 2067\u001b[0;31m                 \u001b[0mresult\u001b[0m \u001b[0;34m=\u001b[0m \u001b[0mfn\u001b[0m\u001b[0;34m(\u001b[0m\u001b[0;34m*\u001b[0m\u001b[0margs\u001b[0m\u001b[0;34m,\u001b[0m\u001b[0;34m**\u001b[0m\u001b[0mkwargs\u001b[0m\u001b[0;34m)\u001b[0m\u001b[0;34m\u001b[0m\u001b[0m\n\u001b[0m\u001b[1;32m   2068\u001b[0m             \u001b[0;32mreturn\u001b[0m \u001b[0mresult\u001b[0m\u001b[0;34m\u001b[0m\u001b[0m\n\u001b[1;32m   2069\u001b[0m \u001b[0;34m\u001b[0m\u001b[0m\n",
      "\u001b[0;32m<decorator-gen-63>\u001b[0m in \u001b[0;36mload_ext\u001b[0;34m(self, module_str)\u001b[0m\n",
      "\u001b[0;32mC:\\Anaconda\\lib\\site-packages\\IPython\\core\\magic.pyc\u001b[0m in \u001b[0;36m<lambda>\u001b[0;34m(f, *a, **k)\u001b[0m\n\u001b[1;32m    186\u001b[0m     \u001b[0;31m# but it's overkill for just that one bit of state.\u001b[0m\u001b[0;34m\u001b[0m\u001b[0;34m\u001b[0m\u001b[0m\n\u001b[1;32m    187\u001b[0m     \u001b[0;32mdef\u001b[0m \u001b[0mmagic_deco\u001b[0m\u001b[0;34m(\u001b[0m\u001b[0marg\u001b[0m\u001b[0;34m)\u001b[0m\u001b[0;34m:\u001b[0m\u001b[0;34m\u001b[0m\u001b[0m\n\u001b[0;32m--> 188\u001b[0;31m         \u001b[0mcall\u001b[0m \u001b[0;34m=\u001b[0m \u001b[0;32mlambda\u001b[0m \u001b[0mf\u001b[0m\u001b[0;34m,\u001b[0m \u001b[0;34m*\u001b[0m\u001b[0ma\u001b[0m\u001b[0;34m,\u001b[0m \u001b[0;34m**\u001b[0m\u001b[0mk\u001b[0m\u001b[0;34m:\u001b[0m \u001b[0mf\u001b[0m\u001b[0;34m(\u001b[0m\u001b[0;34m*\u001b[0m\u001b[0ma\u001b[0m\u001b[0;34m,\u001b[0m \u001b[0;34m**\u001b[0m\u001b[0mk\u001b[0m\u001b[0;34m)\u001b[0m\u001b[0;34m\u001b[0m\u001b[0m\n\u001b[0m\u001b[1;32m    189\u001b[0m \u001b[0;34m\u001b[0m\u001b[0m\n\u001b[1;32m    190\u001b[0m         \u001b[0;32mif\u001b[0m \u001b[0mcallable\u001b[0m\u001b[0;34m(\u001b[0m\u001b[0marg\u001b[0m\u001b[0;34m)\u001b[0m\u001b[0;34m:\u001b[0m\u001b[0;34m\u001b[0m\u001b[0m\n",
      "\u001b[0;32mC:\\Anaconda\\lib\\site-packages\\IPython\\core\\magics\\extension.pyc\u001b[0m in \u001b[0;36mload_ext\u001b[0;34m(self, module_str)\u001b[0m\n\u001b[1;32m     35\u001b[0m         \u001b[0;32mif\u001b[0m \u001b[0;32mnot\u001b[0m \u001b[0mmodule_str\u001b[0m\u001b[0;34m:\u001b[0m\u001b[0;34m\u001b[0m\u001b[0m\n\u001b[1;32m     36\u001b[0m             \u001b[0;32mraise\u001b[0m \u001b[0mUsageError\u001b[0m\u001b[0;34m(\u001b[0m\u001b[0;34m'Missing module name.'\u001b[0m\u001b[0;34m)\u001b[0m\u001b[0;34m\u001b[0m\u001b[0m\n\u001b[0;32m---> 37\u001b[0;31m         \u001b[0mres\u001b[0m \u001b[0;34m=\u001b[0m \u001b[0mself\u001b[0m\u001b[0;34m.\u001b[0m\u001b[0mshell\u001b[0m\u001b[0;34m.\u001b[0m\u001b[0mextension_manager\u001b[0m\u001b[0;34m.\u001b[0m\u001b[0mload_extension\u001b[0m\u001b[0;34m(\u001b[0m\u001b[0mmodule_str\u001b[0m\u001b[0;34m)\u001b[0m\u001b[0;34m\u001b[0m\u001b[0m\n\u001b[0m\u001b[1;32m     38\u001b[0m \u001b[0;34m\u001b[0m\u001b[0m\n\u001b[1;32m     39\u001b[0m         \u001b[0;32mif\u001b[0m \u001b[0mres\u001b[0m \u001b[0;34m==\u001b[0m \u001b[0;34m'already loaded'\u001b[0m\u001b[0;34m:\u001b[0m\u001b[0;34m\u001b[0m\u001b[0m\n",
      "\u001b[0;32mC:\\Anaconda\\lib\\site-packages\\IPython\\core\\extensions.pyc\u001b[0m in \u001b[0;36mload_extension\u001b[0;34m(self, module_str)\u001b[0m\n\u001b[1;32m     81\u001b[0m             \u001b[0;32mif\u001b[0m \u001b[0mmodule_str\u001b[0m \u001b[0;32mnot\u001b[0m \u001b[0;32min\u001b[0m \u001b[0msys\u001b[0m\u001b[0;34m.\u001b[0m\u001b[0mmodules\u001b[0m\u001b[0;34m:\u001b[0m\u001b[0;34m\u001b[0m\u001b[0m\n\u001b[1;32m     82\u001b[0m                 \u001b[0;32mwith\u001b[0m \u001b[0mprepended_to_syspath\u001b[0m\u001b[0;34m(\u001b[0m\u001b[0mself\u001b[0m\u001b[0;34m.\u001b[0m\u001b[0mipython_extension_dir\u001b[0m\u001b[0;34m)\u001b[0m\u001b[0;34m:\u001b[0m\u001b[0;34m\u001b[0m\u001b[0m\n\u001b[0;32m---> 83\u001b[0;31m                     \u001b[0m__import__\u001b[0m\u001b[0;34m(\u001b[0m\u001b[0mmodule_str\u001b[0m\u001b[0;34m)\u001b[0m\u001b[0;34m\u001b[0m\u001b[0m\n\u001b[0m\u001b[1;32m     84\u001b[0m             \u001b[0mmod\u001b[0m \u001b[0;34m=\u001b[0m \u001b[0msys\u001b[0m\u001b[0;34m.\u001b[0m\u001b[0mmodules\u001b[0m\u001b[0;34m[\u001b[0m\u001b[0mmodule_str\u001b[0m\u001b[0;34m]\u001b[0m\u001b[0;34m\u001b[0m\u001b[0m\n\u001b[1;32m     85\u001b[0m             \u001b[0;32mif\u001b[0m \u001b[0mself\u001b[0m\u001b[0;34m.\u001b[0m\u001b[0m_call_load_ipython_extension\u001b[0m\u001b[0;34m(\u001b[0m\u001b[0mmod\u001b[0m\u001b[0;34m)\u001b[0m\u001b[0;34m:\u001b[0m\u001b[0;34m\u001b[0m\u001b[0m\n",
      "\u001b[0;32mC:\\Anaconda\\lib\\site-packages\\rpy2\\ipython\\__init__.py\u001b[0m in \u001b[0;36m<module>\u001b[0;34m()\u001b[0m\n\u001b[0;32m----> 1\u001b[0;31m \u001b[0;32mfrom\u001b[0m \u001b[0;34m.\u001b[0m\u001b[0mrmagic\u001b[0m \u001b[0;32mimport\u001b[0m \u001b[0mload_ipython_extension\u001b[0m\u001b[0;34m\u001b[0m\u001b[0m\n\u001b[0m",
      "\u001b[0;32mC:\\Anaconda\\lib\\site-packages\\rpy2\\ipython\\rmagic.py\u001b[0m in \u001b[0;36m<module>\u001b[0;34m()\u001b[0m\n\u001b[1;32m     50\u001b[0m \u001b[0;31m# numpy and rpy2 imports\u001b[0m\u001b[0;34m\u001b[0m\u001b[0;34m\u001b[0m\u001b[0m\n\u001b[1;32m     51\u001b[0m \u001b[0;34m\u001b[0m\u001b[0m\n\u001b[0;32m---> 52\u001b[0;31m \u001b[0;32mimport\u001b[0m \u001b[0mrpy2\u001b[0m\u001b[0;34m.\u001b[0m\u001b[0mrinterface\u001b[0m \u001b[0;32mas\u001b[0m \u001b[0mri\u001b[0m\u001b[0;34m\u001b[0m\u001b[0m\n\u001b[0m\u001b[1;32m     53\u001b[0m \u001b[0;32mimport\u001b[0m \u001b[0mrpy2\u001b[0m\u001b[0;34m.\u001b[0m\u001b[0mrobjects\u001b[0m \u001b[0;32mas\u001b[0m \u001b[0mro\u001b[0m\u001b[0;34m\u001b[0m\u001b[0m\n\u001b[1;32m     54\u001b[0m \u001b[0;32mimport\u001b[0m \u001b[0mrpy2\u001b[0m\u001b[0;34m.\u001b[0m\u001b[0mrobjects\u001b[0m\u001b[0;34m.\u001b[0m\u001b[0mpackages\u001b[0m \u001b[0;32mas\u001b[0m \u001b[0mrpacks\u001b[0m\u001b[0;34m\u001b[0m\u001b[0m\n",
      "\u001b[0;32mC:\\Anaconda\\lib\\site-packages\\rpy2\\rinterface\\__init__.py\u001b[0m in \u001b[0;36m<module>\u001b[0;34m()\u001b[0m\n\u001b[1;32m     14\u001b[0m     \u001b[0mR_HOME\u001b[0m \u001b[0;34m=\u001b[0m \u001b[0;34m(\u001b[0m\u001b[0mos\u001b[0m\u001b[0;34m.\u001b[0m\u001b[0menviron\u001b[0m\u001b[0;34m[\u001b[0m\u001b[0;34m\"R_HOME\"\u001b[0m\u001b[0;34m]\u001b[0m\u001b[0;34m,\u001b[0m \u001b[0;34m)\u001b[0m\u001b[0;34m\u001b[0m\u001b[0m\n\u001b[1;32m     15\u001b[0m \u001b[0;32mexcept\u001b[0m \u001b[0mKeyError\u001b[0m\u001b[0;34m:\u001b[0m\u001b[0;34m\u001b[0m\u001b[0m\n\u001b[0;32m---> 16\u001b[0;31m     \u001b[0mtmp\u001b[0m \u001b[0;34m=\u001b[0m \u001b[0msubprocess\u001b[0m\u001b[0;34m.\u001b[0m\u001b[0mcheck_output\u001b[0m\u001b[0;34m(\u001b[0m\u001b[0;34m(\u001b[0m\u001b[0;34m\"R\"\u001b[0m\u001b[0;34m,\u001b[0m \u001b[0;34m\"RHOME\"\u001b[0m\u001b[0;34m)\u001b[0m\u001b[0;34m,\u001b[0m \u001b[0muniversal_newlines\u001b[0m\u001b[0;34m=\u001b[0m\u001b[0mTrue\u001b[0m\u001b[0;34m)\u001b[0m\u001b[0;34m\u001b[0m\u001b[0m\n\u001b[0m\u001b[1;32m     17\u001b[0m     \u001b[0mR_HOME\u001b[0m \u001b[0;34m=\u001b[0m \u001b[0mtmp\u001b[0m\u001b[0;34m.\u001b[0m\u001b[0msplit\u001b[0m\u001b[0;34m(\u001b[0m\u001b[0mos\u001b[0m\u001b[0;34m.\u001b[0m\u001b[0mlinesep\u001b[0m\u001b[0;34m)\u001b[0m\u001b[0;34m\u001b[0m\u001b[0m\n\u001b[1;32m     18\u001b[0m     \u001b[0;32mdel\u001b[0m\u001b[0;34m(\u001b[0m\u001b[0mtmp\u001b[0m\u001b[0;34m)\u001b[0m\u001b[0;34m\u001b[0m\u001b[0m\n",
      "\u001b[0;32mC:\\Anaconda\\lib\\subprocess.pyc\u001b[0m in \u001b[0;36mcheck_output\u001b[0;34m(*popenargs, **kwargs)\u001b[0m\n\u001b[1;32m    565\u001b[0m     \u001b[0;32mif\u001b[0m \u001b[0;34m'stdout'\u001b[0m \u001b[0;32min\u001b[0m \u001b[0mkwargs\u001b[0m\u001b[0;34m:\u001b[0m\u001b[0;34m\u001b[0m\u001b[0m\n\u001b[1;32m    566\u001b[0m         \u001b[0;32mraise\u001b[0m \u001b[0mValueError\u001b[0m\u001b[0;34m(\u001b[0m\u001b[0;34m'stdout argument not allowed, it will be overridden.'\u001b[0m\u001b[0;34m)\u001b[0m\u001b[0;34m\u001b[0m\u001b[0m\n\u001b[0;32m--> 567\u001b[0;31m     \u001b[0mprocess\u001b[0m \u001b[0;34m=\u001b[0m \u001b[0mPopen\u001b[0m\u001b[0;34m(\u001b[0m\u001b[0mstdout\u001b[0m\u001b[0;34m=\u001b[0m\u001b[0mPIPE\u001b[0m\u001b[0;34m,\u001b[0m \u001b[0;34m*\u001b[0m\u001b[0mpopenargs\u001b[0m\u001b[0;34m,\u001b[0m \u001b[0;34m**\u001b[0m\u001b[0mkwargs\u001b[0m\u001b[0;34m)\u001b[0m\u001b[0;34m\u001b[0m\u001b[0m\n\u001b[0m\u001b[1;32m    568\u001b[0m     \u001b[0moutput\u001b[0m\u001b[0;34m,\u001b[0m \u001b[0munused_err\u001b[0m \u001b[0;34m=\u001b[0m \u001b[0mprocess\u001b[0m\u001b[0;34m.\u001b[0m\u001b[0mcommunicate\u001b[0m\u001b[0;34m(\u001b[0m\u001b[0;34m)\u001b[0m\u001b[0;34m\u001b[0m\u001b[0m\n\u001b[1;32m    569\u001b[0m     \u001b[0mretcode\u001b[0m \u001b[0;34m=\u001b[0m \u001b[0mprocess\u001b[0m\u001b[0;34m.\u001b[0m\u001b[0mpoll\u001b[0m\u001b[0;34m(\u001b[0m\u001b[0;34m)\u001b[0m\u001b[0;34m\u001b[0m\u001b[0m\n",
      "\u001b[0;32mC:\\Anaconda\\lib\\subprocess.pyc\u001b[0m in \u001b[0;36m__init__\u001b[0;34m(self, args, bufsize, executable, stdin, stdout, stderr, preexec_fn, close_fds, shell, cwd, env, universal_newlines, startupinfo, creationflags)\u001b[0m\n\u001b[1;32m    709\u001b[0m                                 \u001b[0mp2cread\u001b[0m\u001b[0;34m,\u001b[0m \u001b[0mp2cwrite\u001b[0m\u001b[0;34m,\u001b[0m\u001b[0;34m\u001b[0m\u001b[0m\n\u001b[1;32m    710\u001b[0m                                 \u001b[0mc2pread\u001b[0m\u001b[0;34m,\u001b[0m \u001b[0mc2pwrite\u001b[0m\u001b[0;34m,\u001b[0m\u001b[0;34m\u001b[0m\u001b[0m\n\u001b[0;32m--> 711\u001b[0;31m                                 errread, errwrite)\n\u001b[0m\u001b[1;32m    712\u001b[0m         \u001b[0;32mexcept\u001b[0m \u001b[0mException\u001b[0m\u001b[0;34m:\u001b[0m\u001b[0;34m\u001b[0m\u001b[0m\n\u001b[1;32m    713\u001b[0m             \u001b[0;31m# Preserve original exception in case os.close raises.\u001b[0m\u001b[0;34m\u001b[0m\u001b[0;34m\u001b[0m\u001b[0m\n",
      "\u001b[0;32mC:\\Anaconda\\lib\\subprocess.pyc\u001b[0m in \u001b[0;36m_execute_child\u001b[0;34m(self, args, executable, preexec_fn, close_fds, cwd, env, universal_newlines, startupinfo, creationflags, shell, to_close, p2cread, p2cwrite, c2pread, c2pwrite, errread, errwrite)\u001b[0m\n\u001b[1;32m    957\u001b[0m                                          \u001b[0menv\u001b[0m\u001b[0;34m,\u001b[0m\u001b[0;34m\u001b[0m\u001b[0m\n\u001b[1;32m    958\u001b[0m                                          \u001b[0mcwd\u001b[0m\u001b[0;34m,\u001b[0m\u001b[0;34m\u001b[0m\u001b[0m\n\u001b[0;32m--> 959\u001b[0;31m                                          startupinfo)\n\u001b[0m\u001b[1;32m    960\u001b[0m             \u001b[0;32mexcept\u001b[0m \u001b[0mpywintypes\u001b[0m\u001b[0;34m.\u001b[0m\u001b[0merror\u001b[0m\u001b[0;34m,\u001b[0m \u001b[0me\u001b[0m\u001b[0;34m:\u001b[0m\u001b[0;34m\u001b[0m\u001b[0m\n\u001b[1;32m    961\u001b[0m                 \u001b[0;31m# Translate pywintypes.error to WindowsError, which is\u001b[0m\u001b[0;34m\u001b[0m\u001b[0;34m\u001b[0m\u001b[0m\n",
      "\u001b[0;31mWindowsError\u001b[0m: [Error 2] "
     ]
    }
   ],
   "source": [
    "%load_ext rpy2.ipython"
   ]
  },
  {
   "cell_type": "code",
   "execution_count": 7,
   "metadata": {
    "collapsed": false
   },
   "outputs": [
    {
     "ename": "WindowsError",
     "evalue": "[Error 2] ",
     "output_type": "error",
     "traceback": [
      "\u001b[0;31m---------------------------------------------------------------------------\u001b[0m",
      "\u001b[0;31mWindowsError\u001b[0m                              Traceback (most recent call last)",
      "\u001b[0;32m<ipython-input-7-bded7f36a2c2>\u001b[0m in \u001b[0;36m<module>\u001b[0;34m()\u001b[0m\n\u001b[1;32m      1\u001b[0m \u001b[0;32mimport\u001b[0m \u001b[0mrpy2\u001b[0m\u001b[0;34m\u001b[0m\u001b[0m\n\u001b[0;32m----> 2\u001b[0;31m \u001b[0;32mfrom\u001b[0m \u001b[0mrpy2\u001b[0m\u001b[0;34m.\u001b[0m\u001b[0mrobjects\u001b[0m \u001b[0;32mimport\u001b[0m \u001b[0mr\u001b[0m\u001b[0;34m\u001b[0m\u001b[0m\n\u001b[0m\u001b[1;32m      3\u001b[0m \u001b[0;34m\u001b[0m\u001b[0m\n\u001b[1;32m      4\u001b[0m \u001b[0;32mprint\u001b[0m \u001b[0mdir\u001b[0m\u001b[0;34m(\u001b[0m\u001b[0mr\u001b[0m\u001b[0;34m)\u001b[0m\u001b[0;34m\u001b[0m\u001b[0m\n",
      "\u001b[0;32mC:\\Anaconda\\lib\\site-packages\\rpy2\\robjects\\__init__.py\u001b[0m in \u001b[0;36m<module>\u001b[0;34m()\u001b[0m\n\u001b[1;32m     13\u001b[0m \u001b[0;32mimport\u001b[0m \u001b[0mitertools\u001b[0m\u001b[0;34m\u001b[0m\u001b[0m\n\u001b[1;32m     14\u001b[0m \u001b[0;32mfrom\u001b[0m \u001b[0mdatetime\u001b[0m \u001b[0;32mimport\u001b[0m \u001b[0mdatetime\u001b[0m\u001b[0;34m\u001b[0m\u001b[0m\n\u001b[0;32m---> 15\u001b[0;31m \u001b[0;32mimport\u001b[0m \u001b[0mrpy2\u001b[0m\u001b[0;34m.\u001b[0m\u001b[0mrinterface\u001b[0m \u001b[0;32mas\u001b[0m \u001b[0mrinterface\u001b[0m\u001b[0;34m\u001b[0m\u001b[0m\n\u001b[0m\u001b[1;32m     16\u001b[0m \u001b[0;32mimport\u001b[0m \u001b[0mrpy2\u001b[0m\u001b[0;34m.\u001b[0m\u001b[0mrlike\u001b[0m\u001b[0;34m.\u001b[0m\u001b[0mcontainer\u001b[0m \u001b[0;32mas\u001b[0m \u001b[0mrlc\u001b[0m\u001b[0;34m\u001b[0m\u001b[0m\n\u001b[1;32m     17\u001b[0m \u001b[0;34m\u001b[0m\u001b[0m\n",
      "\u001b[0;32mC:\\Anaconda\\lib\\site-packages\\rpy2\\rinterface\\__init__.py\u001b[0m in \u001b[0;36m<module>\u001b[0;34m()\u001b[0m\n\u001b[1;32m     14\u001b[0m     \u001b[0mR_HOME\u001b[0m \u001b[0;34m=\u001b[0m \u001b[0;34m(\u001b[0m\u001b[0mos\u001b[0m\u001b[0;34m.\u001b[0m\u001b[0menviron\u001b[0m\u001b[0;34m[\u001b[0m\u001b[0;34m\"R_HOME\"\u001b[0m\u001b[0;34m]\u001b[0m\u001b[0;34m,\u001b[0m \u001b[0;34m)\u001b[0m\u001b[0;34m\u001b[0m\u001b[0m\n\u001b[1;32m     15\u001b[0m \u001b[0;32mexcept\u001b[0m \u001b[0mKeyError\u001b[0m\u001b[0;34m:\u001b[0m\u001b[0;34m\u001b[0m\u001b[0m\n\u001b[0;32m---> 16\u001b[0;31m     \u001b[0mtmp\u001b[0m \u001b[0;34m=\u001b[0m \u001b[0msubprocess\u001b[0m\u001b[0;34m.\u001b[0m\u001b[0mcheck_output\u001b[0m\u001b[0;34m(\u001b[0m\u001b[0;34m(\u001b[0m\u001b[0;34m\"R\"\u001b[0m\u001b[0;34m,\u001b[0m \u001b[0;34m\"RHOME\"\u001b[0m\u001b[0;34m)\u001b[0m\u001b[0;34m,\u001b[0m \u001b[0muniversal_newlines\u001b[0m\u001b[0;34m=\u001b[0m\u001b[0mTrue\u001b[0m\u001b[0;34m)\u001b[0m\u001b[0;34m\u001b[0m\u001b[0m\n\u001b[0m\u001b[1;32m     17\u001b[0m     \u001b[0mR_HOME\u001b[0m \u001b[0;34m=\u001b[0m \u001b[0mtmp\u001b[0m\u001b[0;34m.\u001b[0m\u001b[0msplit\u001b[0m\u001b[0;34m(\u001b[0m\u001b[0mos\u001b[0m\u001b[0;34m.\u001b[0m\u001b[0mlinesep\u001b[0m\u001b[0;34m)\u001b[0m\u001b[0;34m\u001b[0m\u001b[0m\n\u001b[1;32m     18\u001b[0m     \u001b[0;32mdel\u001b[0m\u001b[0;34m(\u001b[0m\u001b[0mtmp\u001b[0m\u001b[0;34m)\u001b[0m\u001b[0;34m\u001b[0m\u001b[0m\n",
      "\u001b[0;32mC:\\Anaconda\\lib\\subprocess.pyc\u001b[0m in \u001b[0;36mcheck_output\u001b[0;34m(*popenargs, **kwargs)\u001b[0m\n\u001b[1;32m    565\u001b[0m     \u001b[0;32mif\u001b[0m \u001b[0;34m'stdout'\u001b[0m \u001b[0;32min\u001b[0m \u001b[0mkwargs\u001b[0m\u001b[0;34m:\u001b[0m\u001b[0;34m\u001b[0m\u001b[0m\n\u001b[1;32m    566\u001b[0m         \u001b[0;32mraise\u001b[0m \u001b[0mValueError\u001b[0m\u001b[0;34m(\u001b[0m\u001b[0;34m'stdout argument not allowed, it will be overridden.'\u001b[0m\u001b[0;34m)\u001b[0m\u001b[0;34m\u001b[0m\u001b[0m\n\u001b[0;32m--> 567\u001b[0;31m     \u001b[0mprocess\u001b[0m \u001b[0;34m=\u001b[0m \u001b[0mPopen\u001b[0m\u001b[0;34m(\u001b[0m\u001b[0mstdout\u001b[0m\u001b[0;34m=\u001b[0m\u001b[0mPIPE\u001b[0m\u001b[0;34m,\u001b[0m \u001b[0;34m*\u001b[0m\u001b[0mpopenargs\u001b[0m\u001b[0;34m,\u001b[0m \u001b[0;34m**\u001b[0m\u001b[0mkwargs\u001b[0m\u001b[0;34m)\u001b[0m\u001b[0;34m\u001b[0m\u001b[0m\n\u001b[0m\u001b[1;32m    568\u001b[0m     \u001b[0moutput\u001b[0m\u001b[0;34m,\u001b[0m \u001b[0munused_err\u001b[0m \u001b[0;34m=\u001b[0m \u001b[0mprocess\u001b[0m\u001b[0;34m.\u001b[0m\u001b[0mcommunicate\u001b[0m\u001b[0;34m(\u001b[0m\u001b[0;34m)\u001b[0m\u001b[0;34m\u001b[0m\u001b[0m\n\u001b[1;32m    569\u001b[0m     \u001b[0mretcode\u001b[0m \u001b[0;34m=\u001b[0m \u001b[0mprocess\u001b[0m\u001b[0;34m.\u001b[0m\u001b[0mpoll\u001b[0m\u001b[0;34m(\u001b[0m\u001b[0;34m)\u001b[0m\u001b[0;34m\u001b[0m\u001b[0m\n",
      "\u001b[0;32mC:\\Anaconda\\lib\\subprocess.pyc\u001b[0m in \u001b[0;36m__init__\u001b[0;34m(self, args, bufsize, executable, stdin, stdout, stderr, preexec_fn, close_fds, shell, cwd, env, universal_newlines, startupinfo, creationflags)\u001b[0m\n\u001b[1;32m    709\u001b[0m                                 \u001b[0mp2cread\u001b[0m\u001b[0;34m,\u001b[0m \u001b[0mp2cwrite\u001b[0m\u001b[0;34m,\u001b[0m\u001b[0;34m\u001b[0m\u001b[0m\n\u001b[1;32m    710\u001b[0m                                 \u001b[0mc2pread\u001b[0m\u001b[0;34m,\u001b[0m \u001b[0mc2pwrite\u001b[0m\u001b[0;34m,\u001b[0m\u001b[0;34m\u001b[0m\u001b[0m\n\u001b[0;32m--> 711\u001b[0;31m                                 errread, errwrite)\n\u001b[0m\u001b[1;32m    712\u001b[0m         \u001b[0;32mexcept\u001b[0m \u001b[0mException\u001b[0m\u001b[0;34m:\u001b[0m\u001b[0;34m\u001b[0m\u001b[0m\n\u001b[1;32m    713\u001b[0m             \u001b[0;31m# Preserve original exception in case os.close raises.\u001b[0m\u001b[0;34m\u001b[0m\u001b[0;34m\u001b[0m\u001b[0m\n",
      "\u001b[0;32mC:\\Anaconda\\lib\\subprocess.pyc\u001b[0m in \u001b[0;36m_execute_child\u001b[0;34m(self, args, executable, preexec_fn, close_fds, cwd, env, universal_newlines, startupinfo, creationflags, shell, to_close, p2cread, p2cwrite, c2pread, c2pwrite, errread, errwrite)\u001b[0m\n\u001b[1;32m    957\u001b[0m                                          \u001b[0menv\u001b[0m\u001b[0;34m,\u001b[0m\u001b[0;34m\u001b[0m\u001b[0m\n\u001b[1;32m    958\u001b[0m                                          \u001b[0mcwd\u001b[0m\u001b[0;34m,\u001b[0m\u001b[0;34m\u001b[0m\u001b[0m\n\u001b[0;32m--> 959\u001b[0;31m                                          startupinfo)\n\u001b[0m\u001b[1;32m    960\u001b[0m             \u001b[0;32mexcept\u001b[0m \u001b[0mpywintypes\u001b[0m\u001b[0;34m.\u001b[0m\u001b[0merror\u001b[0m\u001b[0;34m,\u001b[0m \u001b[0me\u001b[0m\u001b[0;34m:\u001b[0m\u001b[0;34m\u001b[0m\u001b[0m\n\u001b[1;32m    961\u001b[0m                 \u001b[0;31m# Translate pywintypes.error to WindowsError, which is\u001b[0m\u001b[0;34m\u001b[0m\u001b[0;34m\u001b[0m\u001b[0m\n",
      "\u001b[0;31mWindowsError\u001b[0m: [Error 2] "
     ]
    }
   ],
   "source": [
    "import rpy2\n",
    "from rpy2.robjects import r\n",
    "\n",
    "print dir(r)"
   ]
  },
  {
   "cell_type": "markdown",
   "metadata": {},
   "source": [
    "%Rpush and %Rpull"
   ]
  },
  {
   "cell_type": "markdown",
   "metadata": {},
   "source": [
    "# %sql magic\n",
    "https://github.com/catherinedevlin/ipython-sql"
   ]
  },
  {
   "cell_type": "code",
   "execution_count": 68,
   "metadata": {
    "collapsed": false
   },
   "outputs": [
    {
     "name": "stderr",
     "output_type": "stream",
     "text": [
      "C:\\Anaconda\\lib\\site-packages\\IPython\\config.py:13: ShimWarning: The `IPython.config` package has been deprecated. You should import from traitlets.config instead.\n",
      "  \"You should import from traitlets.config instead.\", ShimWarning)\n",
      "C:\\Anaconda\\lib\\site-packages\\IPython\\utils\\traitlets.py:5: UserWarning: IPython.utils.traitlets has moved to a top-level traitlets package.\n",
      "  warn(\"IPython.utils.traitlets has moved to a top-level traitlets package.\")\n"
     ]
    }
   ],
   "source": [
    "%load_ext sql"
   ]
  },
  {
   "cell_type": "code",
   "execution_count": 73,
   "metadata": {
    "collapsed": false
   },
   "outputs": [
    {
     "data": {
      "text/plain": [
       "'Connected: None@None'"
      ]
     },
     "execution_count": 73,
     "metadata": {},
     "output_type": "execute_result"
    }
   ],
   "source": [
    "%sql sqlite://"
   ]
  },
  {
   "cell_type": "code",
   "execution_count": 75,
   "metadata": {
    "collapsed": false
   },
   "outputs": [
    {
     "name": "stdout",
     "output_type": "stream",
     "text": [
      "Done.\n",
      "1 rows affected.\n",
      "1 rows affected.\n"
     ]
    },
    {
     "data": {
      "text/plain": [
       "[]"
      ]
     },
     "execution_count": 75,
     "metadata": {},
     "output_type": "execute_result"
    }
   ],
   "source": [
    "%%sql\n",
    "CREATE TABLE writer (fn, ln, year);\n",
    "INSERT INTO writer VALUES ('Will', 'Sheak', 1616);\n",
    "INSERT INTO writer VALUES ('Baddy', 'Butch', 1916);     "
   ]
  },
  {
   "cell_type": "code",
   "execution_count": 76,
   "metadata": {
    "collapsed": false
   },
   "outputs": [
    {
     "name": "stdout",
     "output_type": "stream",
     "text": [
      "Done.\n"
     ]
    },
    {
     "data": {
      "text/html": [
       "<table>\n",
       "    <tr>\n",
       "        <th>fn</th>\n",
       "        <th>ln</th>\n",
       "        <th>year</th>\n",
       "    </tr>\n",
       "    <tr>\n",
       "        <td>Will</td>\n",
       "        <td>Sheak</td>\n",
       "        <td>1616</td>\n",
       "    </tr>\n",
       "</table>"
      ],
      "text/plain": [
       "[(u'Will', u'Sheak', 1616)]"
      ]
     },
     "execution_count": 76,
     "metadata": {},
     "output_type": "execute_result"
    }
   ],
   "source": [
    "%%sql\n",
    "SELECT * FROM writer\n",
    "WHERE year = 1616"
   ]
  }
 ],
 "metadata": {
  "kernelspec": {
   "display_name": "Python 2",
   "language": "python",
   "name": "python2"
  },
  "language_info": {
   "codemirror_mode": {
    "name": "ipython",
    "version": 2
   },
   "file_extension": ".py",
   "mimetype": "text/x-python",
   "name": "python",
   "nbconvert_exporter": "python",
   "pygments_lexer": "ipython2",
   "version": "2.7.12"
  }
 },
 "nbformat": 4,
 "nbformat_minor": 0
}
