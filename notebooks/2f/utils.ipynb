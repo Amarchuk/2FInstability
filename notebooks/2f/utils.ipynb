{
 "cells": [
  {
   "cell_type": "markdown",
   "metadata": {},
   "source": [
    "TODO: сделать так, чтобы можно было импортировать"
   ]
  },
  {
   "cell_type": "code",
   "execution_count": 1,
   "metadata": {
    "collapsed": false
   },
   "outputs": [
    {
     "name": "stdout",
     "output_type": "stream",
     "text": [
      "importing Jupyter notebook from instabilities.ipynb\n",
      "Using matplotlib backend: Qt4Agg\n",
      "Populating the interactive namespace from numpy and matplotlib\n"
     ]
    }
   ],
   "source": [
    "%run ../../utils/load_notebook.py\n",
    "from instabilities import *"
   ]
  },
  {
   "cell_type": "markdown",
   "metadata": {},
   "source": [
    "Коэффициент для учета вклада гелия в массу газа:"
   ]
  },
  {
   "cell_type": "code",
   "execution_count": 1,
   "metadata": {
    "collapsed": true
   },
   "outputs": [],
   "source": [
    "He_coeff = 1.44"
   ]
  },
  {
   "cell_type": "code",
   "execution_count": 2,
   "metadata": {
    "collapsed": true
   },
   "outputs": [],
   "source": [
    "def flat_end(argument):\n",
    "    '''декоратор для того, чтобы продолжать функцию на уровне последнего значения'''\n",
    "    def real_decorator(function):\n",
    "        def wrapper(*args, **kwargs):\n",
    "            if args[0] < argument:\n",
    "                return function(*args, **kwargs)\n",
    "            else:\n",
    "                return function(argument, *args[1:], **kwargs)\n",
    "        return wrapper\n",
    "    return real_decorator"
   ]
  },
  {
   "cell_type": "markdown",
   "metadata": {
    "collapsed": true
   },
   "source": [
    "Для большой оси: $\\sigma^2_{maj} = \\sigma^2_{\\varphi}\\sin^2 i + \\sigma^2_{z}\\cos^2 i$, следовательно примерные ограничения\n",
    "$$\\sigma_{maj}  < \\frac{\\sigma_{maj}}{\\sqrt{\\sin^2 i + 0.49\\cos^2 i}}< \\sigma_R = \\frac{\\sigma_{maj}}{\\sqrt{f\\sin^2 i + \\alpha^2\\cos^2 i}} ~< \\frac{\\sigma_{maj}}{\\sqrt{0.5\\sin^2 i + 0.09\\cos^2 i}} < \\frac{\\sqrt{2}\\sigma_{maj}}{\\sin i} (или \\frac{\\sigma_{maj}}{\\sqrt{f}\\sin i}),$$ \n",
    "или можно более точную оценку дать, если построить $f$ (сейчас $0.5 < f < 1$).\n",
    "\n",
    "Для малой оси: $\\sigma^2_{min} = \\sigma^2_{R}\\sin^2 i + \\sigma^2_{z}\\cos^2 i$ и ограничения\n",
    "$$\\sigma_{min} < \\frac{\\sigma_{min}}{\\sqrt{\\sin^2 i + 0.49\\cos^2 i}} < \\sigma_R = \\frac{\\sigma_{min}}{\\sqrt{\\sin^2 i + \\alpha^2\\cos^2 i}} ~< \\frac{\\sigma_{min}}{\\sqrt{\\sin^2 i + 0.09\\cos^2 i}} < \\frac{\\sigma_{min}}{\\sin i}$$ \n",
    "\n",
    "Соответственно имеем 5 оценок из maj и 4 оценки из min."
   ]
  },
  {
   "cell_type": "code",
   "execution_count": 3,
   "metadata": {
    "collapsed": true
   },
   "outputs": [],
   "source": [
    "# sig_maj_lim=None\n",
    "# spl_maj=None\n",
    "\n",
    "# @flat_end(sig_maj_lim)\n",
    "# def sig_R_maj_minmin(r, spl_maj=spl_maj):\n",
    "#     return spl_maj(r).item()\n",
    "\n",
    "# @flat_end(sig_maj_lim)\n",
    "# def sig_R_maj_min(r, spl_maj=spl_maj):\n",
    "#     return spl_maj(r).item()/sqrt(sin_i**2 + 0.49*cos_i**2)\n",
    "    \n",
    "# @flat_end(sig_maj_lim)\n",
    "# def sig_R_maj_max(r, spl_maj=spl_maj):\n",
    "#     return spl_maj(r).item()/sqrt(0.5*sin_i**2 + 0.09*cos_i**2)\n",
    "\n",
    "# @flat_end(sig_maj_lim)\n",
    "# def sig_R_maj_maxmax(r, spl_maj=spl_maj):\n",
    "#     return spl_maj(r)*sqrt(2)/sin_i\n",
    "    \n",
    "# @flat_end(sig_maj_lim)\n",
    "# def sig_R_maj_maxmaxtrue(r, spl_maj=spl_maj):\n",
    "#     return spl_maj(r)/sin_i/sqrt(sigPhi_to_sigR_real(r))"
   ]
  },
  {
   "cell_type": "code",
   "execution_count": 4,
   "metadata": {
    "collapsed": false
   },
   "outputs": [],
   "source": [
    "# sig_min_lim=None\n",
    "# spl_min=None\n",
    "\n",
    "# @flat_end(sig_min_lim)\n",
    "# def sig_R_minor_minmin(r, spl_min=spl_min):\n",
    "#     return spl_min(r).item()\n",
    "\n",
    "# @flat_end(sig_min_lim)\n",
    "# def sig_R_minor_min(r, spl_min=spl_min):\n",
    "#     return spl_min(r).item()/sqrt(sin_i**2 + 0.49*cos_i**2)\n",
    "    \n",
    "# @flat_end(sig_min_lim)\n",
    "# def sig_R_minor_max(r, spl_min=spl_min):\n",
    "#     return spl_min(r).item()/sqrt(sin_i**2 + 0.09*cos_i**2)\n",
    "\n",
    "# @flat_end(sig_min_lim)\n",
    "# def sig_R_minor_maxmax(r, spl_min=spl_min):\n",
    "#     return spl_min(r)/sin_i"
   ]
  },
  {
   "cell_type": "code",
   "execution_count": 6,
   "metadata": {
    "collapsed": true
   },
   "outputs": [],
   "source": [
    "# TODO: move to proper place\n",
    "\n",
    "def plot_data_lim(ax, data_lim):\n",
    "    '''Вертикальная линия, обозначающая конец данных'''\n",
    "    ax.axvline(x=data_lim, ls='-.', color='black', alpha=0.5)\n",
    "    \n",
    "def plot_disc_scale(scale, ax, text=None):\n",
    "    '''Обозначает масштаб диска'''\n",
    "    ax.plot([scale, scale], [0., 0.05], '-', lw=6., color='black')\n",
    "    if text:\n",
    "        ax.annotate(text, xy=(scale, 0.025), xytext=(scale, 0.065), textcoords='data', arrowprops=dict(arrowstyle=\"->\"))\n",
    "        \n",
    "def plot_2f_vs_1f(ax=None, total_gas_data=None, epicycl=None, gas_approx=None, sound_vel=None, scale=None, sigma_max=None, sigma_min=None, star_density_max=None, \n",
    "                  star_density_min=None, data_lim=None, color=None, alpha=0.3, disk_scales=[], label=None):\n",
    "    '''Картинка сравнения 2F и 1F критерия для разных фотометрий и величин sig_R, \n",
    "    куда подается весь газ и результат исправляется за 1.6 (осесимметричные возмущения).'''\n",
    "\n",
    "    invQg, invQs, invQeff_min = zip(*get_invQeff_from_data(gas_data=total_gas_data, \n",
    "                                    epicycl=epicycl, \n",
    "                                    gas_approx=gas_approx,\n",
    "                                    sound_vel=sound_vel, \n",
    "                                    scale=scale,\n",
    "                                    sigma=sigma_max,\n",
    "                                    star_density=star_density_min))\n",
    "\n",
    "    invQg, invQs, invQeff_max = zip(*get_invQeff_from_data(gas_data=total_gas_data, \n",
    "                                    epicycl=epicycl, \n",
    "                                    gas_approx=gas_approx,\n",
    "                                    sound_vel=sound_vel, \n",
    "                                    scale=scale,\n",
    "                                    sigma=sigma_min,\n",
    "                                    star_density=star_density_max))\n",
    "\n",
    "    invQg = map(lambda l: l*1.6, invQg)\n",
    "    invQeff_min = map(lambda l: l*1.6, invQeff_min)\n",
    "    invQeff_max = map(lambda l: l*1.6, invQeff_max)\n",
    "    \n",
    "    rr = zip(*total_gas_data)[0]\n",
    "    \n",
    "    ax.fill_between(rr, invQeff_min, invQeff_max, color=color, alpha=alpha, label=label)\n",
    "    ax.plot(rr, invQeff_min, 'd-', color=color, alpha=0.6)\n",
    "    ax.plot(rr, invQeff_max, 'd-', color=color, alpha=0.6)\n",
    "    ax.plot(rr, invQg, 'v-', color='b')\n",
    "\n",
    "    ax.set_ylim(0., 1.5)\n",
    "    ax.set_xlim(0., data_lim+50.)\n",
    "#     plot_SF(ax)\n",
    "    plot_data_lim(ax, data_lim)\n",
    "    for h, annot in disk_scales:\n",
    "        plot_disc_scale(h, ax, annot)\n",
    "    ax.legend()"
   ]
  },
  {
   "cell_type": "markdown",
   "metadata": {},
   "source": [
    "Для случая бесконечного тонкого диска: $$\\kappa=\\frac{3}{R}\\frac{d\\Phi}{dR}+\\frac{d^2\\Phi}{dR^2}$$\n",
    "где $\\Phi$ - гравпотенциал, однако его знать не надо, т.к. есть проще формула: $$\\kappa=\\sqrt{2}\\frac{\\vartheta_c}{R}\\sqrt{1+\\frac{R}{\\vartheta_c}\\frac{d\\vartheta_c}{dR}}$$"
   ]
  },
  {
   "cell_type": "code",
   "execution_count": 1,
   "metadata": {
    "collapsed": false,
    "scrolled": false
   },
   "outputs": [],
   "source": [
    "def epicyclicFreq_real(poly_gas, R, resolution):\n",
    "    '''Честное вычисление эпициклической частоты на расстоянии R для сплайна или полинома'''\n",
    "    try:\n",
    "        return sqrt(2.0) * poly_gas(R) * sqrt(1 + R * poly_gas.deriv()(R) / poly_gas(R)) / (R * resolution )\n",
    "    except:\n",
    "        return sqrt(2.0) * poly_gas(R) * sqrt(1 + R * poly_gas.derivative()(R) / poly_gas(R)) / (R * resolution )"
   ]
  },
  {
   "cell_type": "code",
   "execution_count": null,
   "metadata": {
    "collapsed": true
   },
   "outputs": [],
   "source": []
  },
  {
   "cell_type": "markdown",
   "metadata": {},
   "source": [
    "Два других механизма из http://iopscience.iop.org/article/10.1088/0004-6256/148/4/69/pdf:"
   ]
  },
  {
   "cell_type": "markdown",
   "metadata": {},
   "source": [
    "Schaye (2004), 'cold gas phase':\n",
    "$$\\Sigma_g > 6.1 f_g^{0.3} Z^{-0.3} I^{0.23}$$\n",
    "или при constant metallicity of 0.1 $Z_{sun}$ and interstellar flux of ionizing photons 10^6 cm−2 s−1:\n",
    "$$\\Sigma_g > 6.1 \\frac{\\Sigma_g}{\\Sigma_g + \\Sigma_s}$$"
   ]
  },
  {
   "cell_type": "code",
   "execution_count": 59,
   "metadata": {
    "collapsed": true
   },
   "outputs": [],
   "source": [
    "def Sigma_crit_S04(gas_dens, r_gas, star_surf_dens):\n",
    "    return 6.1 * gas_dens / (gas_dens + star_surf_dens(r_gas)) "
   ]
  },
  {
   "cell_type": "markdown",
   "metadata": {},
   "source": [
    "Hunter et al (1998), 'competition with shear' according to Leroy: \n",
    "$$\\Sigma_A = \\alpha_A\\frac{\\sigma_g A}{\\pi G}$$"
   ]
  },
  {
   "cell_type": "code",
   "execution_count": 2,
   "metadata": {
    "collapsed": false
   },
   "outputs": [],
   "source": [
    "def oort_a(r, gas_vel):\n",
    "    try:\n",
    "        return 0.5 * (gas_vel(r)/r - gas_vel.deriv()(r))\n",
    "    except:\n",
    "        return 0.5 * (gas_vel(r)/r - gas_vel.derivative()(r))"
   ]
  },
  {
   "cell_type": "code",
   "execution_count": 3,
   "metadata": {
    "collapsed": true
   },
   "outputs": [],
   "source": [
    "def Sigma_crit_A(r, gas_vel, alpha, sound_vel):\n",
    "    G = 4.32\n",
    "    return alpha * (sound_vel*oort_a(r, gas_vel)) / (np.pi*G)"
   ]
  },
  {
   "cell_type": "code",
   "execution_count": null,
   "metadata": {
    "collapsed": true
   },
   "outputs": [],
   "source": []
  },
  {
   "cell_type": "markdown",
   "metadata": {},
   "source": [
    "Кривая вращения тонкого диска:\n",
    "$$\\frac{v^2}{r} = 2\\pi G \\Sigma_0 \\frac{r}{2h} \\left[I_0(\\frac{r}{2h})K_0(\\frac{r}{2h}) - I_1(\\frac{r}{2h})K_1(\\frac{r}{2h})\\right]$$"
   ]
  },
  {
   "cell_type": "code",
   "execution_count": 1,
   "metadata": {
    "collapsed": false
   },
   "outputs": [],
   "source": [
    "from scipy.special import i0, i1, k0, k1\n",
    "\n",
    "def disc_vel(r, Sigma0, h, scale):\n",
    "    G = 4.3\n",
    "    bessels = i0(0.5*r/h)*k0(0.5*r/h) - i1(0.5*r/h)*k1(0.5*r/h)\n",
    "    return np.sqrt(2*np.pi*G*Sigma0*r*scale * 0.5*r/h * bessels)"
   ]
  },
  {
   "cell_type": "code",
   "execution_count": null,
   "metadata": {
    "collapsed": true
   },
   "outputs": [],
   "source": []
  }
 ],
 "metadata": {
  "kernelspec": {
   "display_name": "Python 2",
   "language": "python",
   "name": "python2"
  },
  "language_info": {
   "codemirror_mode": {
    "name": "ipython",
    "version": 2
   },
   "file_extension": ".py",
   "mimetype": "text/x-python",
   "name": "python",
   "nbconvert_exporter": "python",
   "pygments_lexer": "ipython2",
   "version": "2.7.12"
  },
  "nav_menu": {},
  "toc": {
   "navigate_menu": true,
   "number_sections": true,
   "sideBar": true,
   "threshold": 6,
   "toc_cell": false,
   "toc_section_display": "block",
   "toc_window_display": false
  }
 },
 "nbformat": 4,
 "nbformat_minor": 1
}
