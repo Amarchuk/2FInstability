{
 "cells": [
  {
   "cell_type": "code",
   "execution_count": 1,
   "metadata": {
    "collapsed": false
   },
   "outputs": [
    {
     "name": "stdout",
     "output_type": "stream",
     "text": [
      "Using matplotlib backend: Qt5Agg\n",
      "Populating the interactive namespace from numpy and matplotlib\n"
     ]
    }
   ],
   "source": [
    "from IPython.display import HTML\n",
    "from IPython.display import Image\n",
    "import os\n",
    "\n",
    "%pylab\n",
    "%matplotlib inline\n",
    "%run ../../../utils/load_notebook.py"
   ]
  },
  {
   "cell_type": "code",
   "execution_count": 2,
   "metadata": {
    "collapsed": false,
    "deletable": true,
    "editable": true
   },
   "outputs": [
    {
     "name": "stdout",
     "output_type": "stream",
     "text": [
      "importing Jupyter notebook from photometry.ipynb\n",
      "Using matplotlib backend: Qt5Agg\n",
      "Populating the interactive namespace from numpy and matplotlib\n"
     ]
    }
   ],
   "source": [
    "from photometry import *"
   ]
  },
  {
   "cell_type": "code",
   "execution_count": 3,
   "metadata": {
    "collapsed": false,
    "deletable": true,
    "editable": true
   },
   "outputs": [
    {
     "name": "stdout",
     "output_type": "stream",
     "text": [
      "importing Jupyter notebook from instabilities.ipynb\n",
      "Using matplotlib backend: Qt5Agg\n",
      "Populating the interactive namespace from numpy and matplotlib\n"
     ]
    }
   ],
   "source": [
    "from instabilities import *"
   ]
  },
  {
   "cell_type": "code",
   "execution_count": 9,
   "metadata": {
    "collapsed": false,
    "deletable": true,
    "editable": true
   },
   "outputs": [],
   "source": [
    "from utils import *"
   ]
  },
  {
   "cell_type": "code",
   "execution_count": 64,
   "metadata": {
    "collapsed": false
   },
   "outputs": [],
   "source": [
    "dictionary = np.load('models//n1167_modelRmax.npy').tolist()"
   ]
  },
  {
   "cell_type": "code",
   "execution_count": 62,
   "metadata": {
    "code_folding": [
     0,
     4,
     10,
     15
    ],
    "collapsed": true
   },
   "outputs": [],
   "source": [
    "def plot_data_lim(ax, data_lim):\n",
    "    '''Вертикальная линия, обозначающая конец данных'''\n",
    "    ax.axvline(x=data_lim, ls='-.', color='black', alpha=0.5)\n",
    "    \n",
    "def plot_disc_scale(scale, ax, text=None):\n",
    "    '''Обозначает масштаб диска'''\n",
    "    ax.plot([scale, scale], [0., 0.05], '-', lw=6., color='black')\n",
    "    if text:\n",
    "        ax.annotate(text, xy=(scale, 0.025), xytext=(scale, 0.065), textcoords='data', arrowprops=dict(arrowstyle=\"->\"))\n",
    "        \n",
    "def plot_Q_levels(ax, Qs, style='--', color='grey', alpha=0.4):\n",
    "    '''Функция, чтобы рисовать горизонтальные линии различных уровней $Q^{-1}$:'''\n",
    "    for Q in Qs:\n",
    "        ax.axhline(y=1./Q, ls=style, color=color, alpha=alpha)\n",
    "        \n",
    "def plot_2f_vs_1f_(ax=None, total_gas_data=None, epicycl=None, gas_approx=None, sound_vel=None, scale=None, sigma_max=None, sigma_min=None, star_density_max=None, \n",
    "                  star_density_min=None, data_lim=None, color=None, alpha=0.3, disk_scales=[], label=None, **kwargs):\n",
    "    '''Картинка сравнения 2F и 1F критерия для разных фотометрий и величин sig_R, \n",
    "    куда подается весь газ, результат НЕ исправляется за осесимметричные возмущения.'''\n",
    "    \n",
    "    Qgs = []\n",
    "    Qss = []\n",
    "    invQeff_min = []\n",
    "    for ind, (r, gd) in enumerate(total_gas_data):\n",
    "        Qgs.append(Qg(epicycl=epicycl[ind], sound_vel=sound_vel, gas_density=gd))\n",
    "        Qss.append(Qs(epicycl=epicycl[ind], sigma=sigma_max[ind], star_density=star_density_min[ind]))\n",
    "        qeff = findInvKinemQeffBrentq(Qss[-1], Qgs[-1], sound_vel/sigma_max[ind], np.arange(0.01, 60000., 1.))\n",
    "        invQeff_min.append(qeff[1])\n",
    "\n",
    "\n",
    "    Qgs = []\n",
    "    Qss = []\n",
    "    invQeff_max = []\n",
    "    for ind, (r, gd) in enumerate(total_gas_data):\n",
    "        Qgs.append(Qg(epicycl=epicycl[ind], sound_vel=sound_vel, gas_density=gd))\n",
    "        Qss.append(Qs(epicycl=epicycl[ind], sigma=sigma_min[ind], star_density=star_density_max[ind]))\n",
    "        qeff = findInvKinemQeffBrentq(Qss[-1], Qgs[-1], sound_vel/sigma_min[ind], np.arange(0.01, 60000., 1.))\n",
    "        invQeff_max.append(qeff[1])\n",
    "           \n",
    "    rr = zip(*total_gas_data)[0]\n",
    "    \n",
    "    ax.fill_between(rr, invQeff_min, invQeff_max, color=color, alpha=alpha, label=label)\n",
    "    ax.plot(rr, invQeff_min, 'd-', color=color, alpha=0.6)\n",
    "    ax.plot(rr, invQeff_max, 'd-', color=color, alpha=0.6)\n",
    "    ax.plot(rr, [1./_ for _ in Qgs], 'v-', color='b')\n",
    "\n",
    "    ax.set_ylim(0., 1.5)\n",
    "    ax.set_xlim(0., data_lim+50.)\n",
    "    plot_data_lim(ax, data_lim)\n",
    "    for h, annot in disk_scales:\n",
    "        plot_disc_scale(h, ax, annot)\n",
    "    plot_Q_levels(ax, [1., 1.5, 2., 3.])\n",
    "    ax.legend()"
   ]
  },
  {
   "cell_type": "code",
   "execution_count": 65,
   "metadata": {
    "collapsed": false
   },
   "outputs": [
    {
     "data": {
      "image/png": "[encoded data removed]",
      "text/plain": [
       "<matplotlib.figure.Figure at 0xed2dd68>"
      ]
     },
     "metadata": {},
     "output_type": "display_data"
    }
   ],
   "source": [
    "plot_2f_vs_1f_(ax=plt.gca(), **dictionary);"
   ]
  },
  {
   "cell_type": "code",
   "execution_count": 66,
   "metadata": {
    "collapsed": true
   },
   "outputs": [],
   "source": [
    "dictionary = np.load('models//n1167_modelRsubmax.npy').tolist()"
   ]
  },
  {
   "cell_type": "code",
   "execution_count": 67,
   "metadata": {
    "collapsed": false
   },
   "outputs": [
    {
     "data": {
      "image/png": "[encoded data removed]",
      "text/plain": [
       "<matplotlib.figure.Figure at 0xed4f898>"
      ]
     },
     "metadata": {},
     "output_type": "display_data"
    }
   ],
   "source": [
    "plot_2f_vs_1f_(ax=plt.gca(), **dictionary);"
   ]
  },
  {
   "cell_type": "code",
   "execution_count": null,
   "metadata": {
    "collapsed": true
   },
   "outputs": [],
   "source": []
  }
 ],
 "metadata": {
  "kernelspec": {
   "display_name": "Python 2",
   "language": "python",
   "name": "python2"
  },
  "language_info": {
   "codemirror_mode": {
    "name": "ipython",
    "version": 2
   },
   "file_extension": ".py",
   "mimetype": "text/x-python",
   "name": "python",
   "nbconvert_exporter": "python",
   "pygments_lexer": "ipython2",
   "version": "2.7.12"
  },
  "nav_menu": {},
  "toc": {
   "navigate_menu": true,
   "number_sections": true,
   "sideBar": true,
   "threshold": 6,
   "toc_cell": false,
   "toc_section_display": "block",
   "toc_window_display": false
  }
 },
 "nbformat": 4,
 "nbformat_minor": 2
}
