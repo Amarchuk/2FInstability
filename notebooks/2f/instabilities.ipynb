{
 "cells": [
  {
   "cell_type": "markdown",
   "metadata": {},
   "source": [
    "# Неустойчивости\n",
    "\n",
    "Тут будут все функции, имеющие отношение к неустойчивостям, чтобы не копировать их каждый раз.\n",
    "Тесты на эти функции в соседнем ноутбуке."
   ]
  },
  {
   "cell_type": "code",
   "execution_count": 3,
   "metadata": {
    "collapsed": false
   },
   "outputs": [
    {
     "name": "stdout",
     "output_type": "stream",
     "text": [
      "Using matplotlib backend: Qt4Agg\n",
      "Populating the interactive namespace from numpy and matplotlib\n"
     ]
    }
   ],
   "source": [
    "from IPython.display import HTML\n",
    "from IPython.display import Image\n",
    "from PIL import Image as ImagePIL\n",
    "\n",
    "%pylab\n",
    "%matplotlib inline"
   ]
  },
  {
   "cell_type": "markdown",
   "metadata": {},
   "source": [
    "# Одножидкостный критерий\n",
    "Устойчиво, когда > 1:\n",
    "$$Q_g = \\frac{\\Sigma_g^{cr}}{\\Sigma_g}=\\frac{\\kappa c_g}{\\pi G \\Sigma_g}$$\n",
    "$$Q_s = \\frac{\\Sigma_s^{cr}}{\\Sigma_s}=\\frac{\\sigma_R}{\\sigma_R^{min}}=\\frac{\\kappa \\sigma_R}{3.36 G \\Sigma_s}$$"
   ]
  },
  {
   "cell_type": "code",
   "execution_count": 4,
   "metadata": {
    "collapsed": true
   },
   "outputs": [],
   "source": [
    "G = 4.32 #гравитационная постоянная в нужных единицах\n",
    "\n",
    "def Qs(epicycl=None, sigma=None, star_density=None):\n",
    "    '''Вычисление безразмерного параметра Тумре для звездного диска. \n",
    "    Зависит от плотности звезд, дисперсии скоростей и эпициклической частоты.'''\n",
    "    return epicycl * sigma / (3.36 * G * star_density)\n",
    "\n",
    "\n",
    "def Qg(epicycl=None, sound_vel=None, gas_density=None):\n",
    "    '''Вычисление безразмерного параметра Тумре для газового диска. \n",
    "    Зависит от плотности газа и эпициклической частоты, скорости звука в газе.'''\n",
    "    return epicycl * sound_vel / (math.pi * G * gas_density)"
   ]
  },
  {
   "cell_type": "markdown",
   "metadata": {},
   "source": [
    "# Двухжидкостный критерий\n",
    "\n",
    "Кинетическое приближение:\n",
    "$$\\frac{1}{Q_{\\mathrm{eff}}}=\\frac{2}{Q_{\\mathrm{s}}}\\frac{1}{\\bar{k}}\\left[1-e^{-\\bar{k}^{2}}I_{0}(\\bar{k}^{2})\\right]+\\frac{2}{Q_{\\mathrm{g}}}s\\frac{\\bar{k}}{1+\\bar{k}^{2}s^{2}}>1\\,$$\n",
    "\n",
    "Гидродинамическое приближение:\n",
    "$$\\frac{2\\,\\pi\\, G\\, k\\,\\Sigma_{\\mathrm{s}}}{\\kappa+k^{2}\\sigma_{\\mathrm{s}}}+\\frac{2\\,\\pi\\, G\\, k\\,\\Sigma_{\\mathrm{g}}}{\\kappa+k^{2}c_{\\mathrm{g}}}>1$$ или $$\\frac{1}{Q_{\\mathrm{eff}}}=\\frac{2}{Q_{\\mathrm{s}}}\\frac{\\bar{k}}{1+\\bar{k}^{2}}+\\frac{2}{Q_{\\mathrm{g}}}s\\frac{\\bar{k}}{1+\\bar{k}^{2}s^{2}}>1$$ для безразмерного волнового числа ${\\displaystyle \\bar{k}\\equiv\\frac{k\\,\\sigma_{\\mathrm{s}}}{\\kappa}},\\, s=c/\\sigma$"
   ]
  },
  {
   "cell_type": "code",
   "execution_count": 5,
   "metadata": {
    "collapsed": true
   },
   "outputs": [],
   "source": [
    "from scipy.special import i0e, i1e\n",
    "\n",
    "def inverse_hydro_Qeff_from_k(dimlK, Qg=None, Qs=None, s=None):\n",
    "    return 2.*dimlK / Qs / (1 + dimlK**2) + 2*s*dimlK / Qg / (1 + dimlK**2 * s**2)\n",
    "\n",
    "def inverse_kinem_Qeff_from_k(dimlK, Qg=None, Qs=None, s=None):\n",
    "    return 2. / dimlK / Qs * (1 - i0e(dimlK ** 2)) + 2*s*dimlK / Qg / (1 + dimlK**2 * s**2)"
   ]
  },
  {
   "cell_type": "markdown",
   "metadata": {},
   "source": [
    "### Нахождение максимума: "
   ]
  },
  {
   "cell_type": "markdown",
   "metadata": {},
   "source": [
    "Найти максимум функции в гидродинамическом приближении вообще просто - это многочлен\n",
    "$$\\frac{2}{Q_{\\mathrm{s}}}\\frac{\\bar{k}}{1+\\bar{k}^{2}}+\\frac{2}{Q_{\\mathrm{g}}}s\\frac{\\bar{k}}{1+\\bar{k}^{2}s^{2}}>1$$\n",
    "и у него можно найти максимум методами Sympy, взяв производную:"
   ]
  },
  {
   "cell_type": "code",
   "execution_count": 6,
   "metadata": {
    "collapsed": true
   },
   "outputs": [],
   "source": [
    "from sympy import Symbol, solve\n",
    "\n",
    "def findInvHydroQeffSympy(Qs, Qg, s):\n",
    "    '''Решаем уравнение deriv()=0 чтобы найти максимум функции в гидродинамическом приближении.'''\n",
    "    k = Symbol('k') #solve for complex because it may returns roots as 1.03957287978471 + 0.e-20*I \n",
    "    foo = 2./Qs*k/(1+k**2) + 2/Qg*s*k/(1+k**2 * s**2)\n",
    "    foo2 = 2./Qs * (1-k)*(1+k * s**2)**2 + 2/Qg*s*(1-k*s**2)*(1+k)**2\n",
    "    roots = solve(foo2.simplify(), k)\n",
    "    roots = [np.sqrt(float(abs(re(r)))) for r in roots]\n",
    "    _tmp = [foo.evalf(subs={k:r}) for r in roots]\n",
    "    max_val = max(_tmp)\n",
    "    return (roots[_tmp.index(max_val)], max_val)"
   ]
  },
  {
   "cell_type": "code",
   "execution_count": 7,
   "metadata": {
    "collapsed": true
   },
   "outputs": [],
   "source": [
    "def findInvHydroQeffBrute(Qs, Qg, s, krange):\n",
    "    '''Находим максимум функции в гидродинамическом приближении перебором по сетке.'''\n",
    "    _tmp = [inverse_hydro_Qeff_from_k(l, Qg=Qg, Qs=Qs, s=s) for l in krange]\n",
    "    max_val = max(_tmp)\n",
    "    root_for_max = krange[_tmp.index(max_val)]\n",
    "    if abs(root_for_max-krange[-1]) < 0.5:\n",
    "        print 'WARNING! For Qs={} Qg={} s={} root of max near the max of k-range'.format(Qs, Qg, s)\n",
    "    return (root_for_max, max_val)"
   ]
  },
  {
   "cell_type": "code",
   "execution_count": 8,
   "metadata": {
    "collapsed": true
   },
   "outputs": [],
   "source": [
    "from scipy.optimize import brentq\n",
    "\n",
    "def findInvHydroQeffBrentq(Qs, Qg, s, krange):\n",
    "    '''Решение уравнения deriv(9) = 0 для нахождения максимума исходной функции. Запускается brentq на исходной сетке,\n",
    "    в случае если на концах сетки разные знаки функции (промежуток содержит корень),\n",
    "    затем выбираются лучшие корни, после чего ищется, какой их них дает максимум. Возвращается только этот корень.'''\n",
    "    grid = krange\n",
    "    args = [Qs, Qg, s]\n",
    "    signs = [derivTwoFluidHydroQeff(x, *args) for x in grid]\n",
    "    signs = map(lambda x: x / abs(x), signs)\n",
    "    roots = []\n",
    "    for i in range(0, signs.__len__() - 1):\n",
    "        if signs[i] * signs[i + 1] < 0:\n",
    "            roots.append(brentq(lambda x: derivTwoFluidHydroQeff(x, *args), grid[i], grid[i + 1]))\n",
    "    original = [inverse_hydro_Qeff_from_k(l, Qg=Qg, Qs=Qs, s=s) for l in roots]\n",
    "    root_for_max = roots[original.index(max(original))]\n",
    "    if abs(root_for_max-krange[-1]) < 0.5:\n",
    "        print 'WARNING! For Qs={} Qg={} s={} root of max near the max of k-range'.format(Qs, Qg, s)\n",
    "    return (root_for_max, max(original))\n",
    "\n",
    "def derivTwoFluidHydroQeff(dimlK, Qs, Qg, s):\n",
    "    '''Производная по \\bar{k} от левой части (9) для того, чтобы найти максимум.'''\n",
    "    part1 = (1 - dimlK ** 2) / (1 + dimlK ** 2) ** 2\n",
    "    part3 = (1 - (dimlK * s) ** 2) / (1 + (dimlK * s) ** 2) ** 2\n",
    "    return (2 * part1 / Qs) + (2 * s * part3 / Qg)"
   ]
  },
  {
   "cell_type": "markdown",
   "metadata": {},
   "source": [
    "Теперь кинематическое приближение:\n",
    "$$\\frac{2}{Q_{\\mathrm{s}}}\\frac{1}{\\bar{k}}\\left[1-e^{-\\bar{k}^{2}}I_{0}(\\bar{k}^{2})\\right]+\\frac{2}{Q_{\\mathrm{g}}}s\\frac{\\bar{k}}{1+\\bar{k}^{2}s^{2}}>1\\,$$\n",
    "Тут сложнее, честно уже не решить. остается два способа - брутфорсом и brentq, производная известна."
   ]
  },
  {
   "cell_type": "code",
   "execution_count": 9,
   "metadata": {
    "collapsed": true
   },
   "outputs": [],
   "source": [
    "def findInvKinemQeffBrute(Qs, Qg, s, krange):\n",
    "    '''Находим максимум функции в кинематическом приближении перебором по сетке.'''\n",
    "    _tmp = [inverse_kinem_Qeff_from_k(l, Qg=Qg, Qs=Qs, s=s) for l in krange]\n",
    "    max_val = max(_tmp)\n",
    "    root_for_max = krange[_tmp.index(max_val)]\n",
    "    if abs(root_for_max-krange[-1]) < 0.5:\n",
    "        print 'WARNING! For Qs={} Qg={} s={} root of max near the max of k-range'.format(Qs, Qg, s)\n",
    "    return (root_for_max, max_val)"
   ]
  },
  {
   "cell_type": "code",
   "execution_count": 10,
   "metadata": {
    "collapsed": true
   },
   "outputs": [],
   "source": [
    "def findInvKinemQeffBrentq(Qs, Qg, s, krange):\n",
    "    '''Решение уравнения deriv(13) = 0 для нахождения максимума исходной функции. Запускается brentq на исходной сетке,\n",
    "    в случае если на концах сетки разные знаки функции (промежуток содержит корень),\n",
    "    затем выбираются лучшие корни, после чего ищется, какой их них дает максимум. Возвращается только этот корень.'''\n",
    "    grid = krange\n",
    "    args = [Qs, Qg, s]\n",
    "    signs = [derivTwoFluidKinemQeff(x, *args) for x in grid]\n",
    "    signs = map(lambda x: x / abs(x), signs)\n",
    "    roots = []\n",
    "    for i in range(0, signs.__len__() - 1):\n",
    "        if signs[i] * signs[i + 1] < 0:\n",
    "            roots.append(brentq(lambda x: derivTwoFluidKinemQeff(x, *args), grid[i], grid[i + 1]))\n",
    "    original = [inverse_kinem_Qeff_from_k(l, Qg=Qg, Qs=Qs, s=s) for l in roots]\n",
    "    root_for_max = roots[original.index(max(original))]\n",
    "    if abs(root_for_max-krange[-1]) < 0.5:\n",
    "        print 'WARNING! For Qs={} Qg={} s={} root of max near the max of k-range'.format(Qs, Qg, s)\n",
    "    return (root_for_max, max(original))\n",
    "\n",
    "\n",
    "def derivTwoFluidKinemQeff(dimlK, Qs, Qg, s):\n",
    "    '''Производная по \\bar{k} от левой части (13) для того, чтобы найти максимум. Коррекция за ассимптотику производится\n",
    "    с помощью встроенных функций бесселя, нормированных на exp.'''\n",
    "    part1 = (1 - i0e(dimlK ** 2)) / (-dimlK ** 2)\n",
    "    part2 = (2 * dimlK * i0e(dimlK ** 2) - 2 * dimlK * i1e(dimlK ** 2)) / dimlK\n",
    "    part3 = (1 - (dimlK * s) ** 2) / (1 + (dimlK * s) ** 2) ** 2\n",
    "    return 2 * (part1 + part2) / Qs + 2 * s * part3 / Qg"
   ]
  },
  {
   "cell_type": "code",
   "execution_count": null,
   "metadata": {
    "collapsed": true
   },
   "outputs": [],
   "source": []
  }
 ],
 "metadata": {
  "kernelspec": {
   "display_name": "Python 2",
   "language": "python",
   "name": "python2"
  },
  "language_info": {
   "codemirror_mode": {
    "name": "ipython",
    "version": 2
   },
   "file_extension": ".py",
   "mimetype": "text/x-python",
   "name": "python",
   "nbconvert_exporter": "python",
   "pygments_lexer": "ipython2",
   "version": "2.7.12"
  }
 },
 "nbformat": 4,
 "nbformat_minor": 0
}
