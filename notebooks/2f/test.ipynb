{
 "cells": [
  {
   "cell_type": "code",
   "execution_count": 1,
   "metadata": {
    "collapsed": false,
    "deletable": true,
    "editable": true
   },
   "outputs": [],
   "source": [
    "%run ../../utils/load_notebook.py"
   ]
  },
  {
   "cell_type": "code",
   "execution_count": null,
   "metadata": {
    "collapsed": false,
    "deletable": true,
    "editable": true
   },
   "outputs": [
    {
     "data": {
      "text/plain": [
       "datetime.datetime(2017, 4, 27, 16, 55, 58, 346000)"
      ]
     },
     "execution_count": 2,
     "metadata": {},
     "output_type": "execute_result"
    }
   ],
   "source": [
    "import datetime\n",
    "start = datetime.datetime.now()\n",
    "start"
   ]
  },
  {
   "cell_type": "code",
   "execution_count": null,
   "metadata": {
    "collapsed": false,
    "deletable": true,
    "editable": true,
    "scrolled": true
   },
   "outputs": [
    {
     "name": "stdout",
     "output_type": "stream",
     "text": [
      "importing Jupyter notebook from n338.ipynb\n",
      "Using matplotlib backend: Qt4Agg\n",
      "Populating the interactive namespace from numpy and matplotlib\n",
      "importing Jupyter notebook from photometry.ipynb\n",
      "Using matplotlib backend: Qt4Agg\n",
      "Populating the interactive namespace from numpy and matplotlib\n",
      "importing Jupyter notebook from instabilities.ipynb\n",
      "Using matplotlib backend: Qt4Agg\n",
      "Populating the interactive namespace from numpy and matplotlib\n",
      "importing Jupyter notebook from utils.ipynb\n"
     ]
    },
    {
     "data": {
      "application/javascript": [
       "$.getScript('https://kmahelona.github.io/ipython_notebook_goodies/ipython_notebook_toc.js')"
      ],
      "text/plain": [
       "<IPython.core.display.Javascript object>"
      ]
     },
     "metadata": {},
     "output_type": "display_data"
    },
    {
     "name": "stdout",
     "output_type": "stream",
     "text": [
      "Wall time: 77 ms\n",
      "I : 1.15; B : 1.06; R: 1.24.\n",
      "+------+-----------+---------+----------+------+---------+----------+-------+-------------+-----------+\n",
      "|      | Name      |   r_eff |   mu_eff |    n |   mu0_d |   h_disc |   M/L | M_d/M_sun   |   Sigma_0 |\n",
      "|------+-----------+---------+----------+------+---------+----------+-------+-------------+-----------|\n",
      "| 0.00 | Noorder R |   15.00 |    20.95 | 3.70 |   21.92 |    18.30 |  1.24 | 9.43E+09.   |        53 |\n",
      "| 1.00 | Noorder B |   15.00 |    22.70 | 3.70 |   22.53 |    17.70 |  1.06 | 1.14E+10.   |        68 |\n",
      "| 2.00 | Noorder I |   15.00 |    20.41 | 3.70 |   19.79 |    12.90 |  1.15 | 2.27E+10.   |       255 |\n",
      "+------+-----------+---------+----------+------+---------+----------+-------+-------------+-----------+\n"
     ]
    },
    {
     "name": "stderr",
     "output_type": "stream",
     "text": [
      "C:\\Anaconda\\lib\\site-packages\\matplotlib\\axes\\_axes.py:519: UserWarning: No labelled objects found. Use label='...' kwarg on individual plots.\n",
      "  warnings.warn(\"No labelled objects found. \"\n"
     ]
    },
    {
     "name": "stdout",
     "output_type": "stream",
     "text": [
      "Noorder R      : M/L was 1.24 and for max it equal 20.91, for submax equal 10.42\n",
      "Noorder B      : M/L was 1.06 and for max it equal 14.02, for submax equal 6.99\n",
      "Noorder I      : M/L was 1.15 and for max it equal 6.23, for submax equal 3.10\n"
     ]
    },
    {
     "name": "stderr",
     "output_type": "stream",
     "text": [
      "C:\\Anaconda\\lib\\site-packages\\matplotlib\\pyplot.py:516: RuntimeWarning: More than 20 figures have been opened. Figures created through the pyplot interface (`matplotlib.pyplot.figure`) are retained until explicitly closed and may consume too much memory. (To control this warning, see the rcParam `figure.max_open_warning`).\n",
      "  max_open_warning, RuntimeWarning)\n"
     ]
    },
    {
     "name": "stdout",
     "output_type": "stream",
     "text": [
      "#!!!!!!!!!!!!# Asymmetric drift evaluation procedure with eps = 0.1 starts.\n",
      "#!!!!!!!!!!!!# Next approx h_kin = 14.856759297\n",
      "#!!!!!!!!!!!!# Next approx h_kin = 15.0412765167\n",
      "#!!!!!!!!!!!!# Next approx h_kin = 15.0295676634\n",
      "1.49037576946\n",
      "1.30919086677\n",
      "1.49037576946\n",
      "1.65418924277\n",
      "51.027908262\n",
      "Wall time: 3min 25s\n",
      "Wall time: 1min 43s\n",
      "Wall time: 51.6 s\n",
      "Wall time: 1min 12s\n",
      "Wall time: 20.7 s\n",
      "Wall time: 1min 43s\n"
     ]
    },
    {
     "data": {
      "image/png": "[encoded data removed]",
      "text/plain": [
       "<matplotlib.figure.Figure at 0xba96588>"
      ]
     },
     "metadata": {},
     "output_type": "display_data"
    },
    {
     "data": {
      "image/png": "[encoded data removed]",
      "text/plain": [
       "<matplotlib.figure.Figure at 0xcbdb9e8>"
      ]
     },
     "metadata": {},
     "output_type": "display_data"
    },
    {
     "data": {
      "image/png": "[encoded data removed]",
      "text/plain": [
       "<matplotlib.figure.Figure at 0xe180400>"
      ]
     },
     "metadata": {},
     "output_type": "display_data"
    }
   ],
   "source": [
    "%%time\n",
    "from n338 import *"
   ]
  },
  {
   "cell_type": "code",
   "execution_count": null,
   "metadata": {
    "collapsed": false,
    "deletable": true,
    "editable": true
   },
   "outputs": [],
   "source": [
    "name"
   ]
  },
  {
   "cell_type": "code",
   "execution_count": null,
   "metadata": {
    "collapsed": false,
    "deletable": true,
    "editable": true
   },
   "outputs": [],
   "source": [
    "n338dict = dict(globals(), **locals())"
   ]
  },
  {
   "cell_type": "code",
   "execution_count": null,
   "metadata": {
    "collapsed": false,
    "deletable": true,
    "editable": true
   },
   "outputs": [],
   "source": [
    "n338dict['name']"
   ]
  },
  {
   "cell_type": "code",
   "execution_count": null,
   "metadata": {
    "collapsed": false,
    "deletable": true,
    "editable": true
   },
   "outputs": [],
   "source": [
    "os.chdir('../../notebooks/2f')"
   ]
  },
  {
   "cell_type": "code",
   "execution_count": null,
   "metadata": {
    "collapsed": false,
    "deletable": true,
    "editable": true,
    "scrolled": true
   },
   "outputs": [],
   "source": [
    "%%time\n",
    "from n1167 import *"
   ]
  },
  {
   "cell_type": "code",
   "execution_count": null,
   "metadata": {
    "collapsed": false,
    "deletable": true,
    "editable": true
   },
   "outputs": [],
   "source": [
    "name"
   ]
  },
  {
   "cell_type": "code",
   "execution_count": null,
   "metadata": {
    "collapsed": true,
    "deletable": true,
    "editable": true
   },
   "outputs": [],
   "source": [
    "n1167dict = dict(globals(), **locals())"
   ]
  },
  {
   "cell_type": "code",
   "execution_count": null,
   "metadata": {
    "collapsed": false,
    "deletable": true,
    "editable": true
   },
   "outputs": [],
   "source": [
    "n1167dict['name']"
   ]
  },
  {
   "cell_type": "code",
   "execution_count": null,
   "metadata": {
    "collapsed": false,
    "deletable": true,
    "editable": true
   },
   "outputs": [],
   "source": [
    "del n1167dict['n338dict']"
   ]
  },
  {
   "cell_type": "code",
   "execution_count": null,
   "metadata": {
    "collapsed": true,
    "deletable": true,
    "editable": true
   },
   "outputs": [],
   "source": [
    "os.chdir('../../notebooks/2f')"
   ]
  },
  {
   "cell_type": "code",
   "execution_count": null,
   "metadata": {
    "collapsed": false,
    "deletable": true,
    "editable": true,
    "scrolled": true
   },
   "outputs": [],
   "source": [
    "%%time\n",
    "from n2985 import *"
   ]
  },
  {
   "cell_type": "code",
   "execution_count": null,
   "metadata": {
    "collapsed": true,
    "deletable": true,
    "editable": true
   },
   "outputs": [],
   "source": [
    "n2985dict = dict(globals(), **locals())"
   ]
  },
  {
   "cell_type": "code",
   "execution_count": null,
   "metadata": {
    "collapsed": false,
    "deletable": true,
    "editable": true
   },
   "outputs": [],
   "source": [
    "n2985dict['name']"
   ]
  },
  {
   "cell_type": "code",
   "execution_count": null,
   "metadata": {
    "collapsed": true,
    "deletable": true,
    "editable": true
   },
   "outputs": [],
   "source": [
    "del n2985dict['n338dict']\n",
    "del n2985dict['n1167dict']"
   ]
  },
  {
   "cell_type": "code",
   "execution_count": null,
   "metadata": {
    "collapsed": true,
    "deletable": true,
    "editable": true
   },
   "outputs": [],
   "source": [
    "os.chdir('../../notebooks/2f')"
   ]
  },
  {
   "cell_type": "code",
   "execution_count": null,
   "metadata": {
    "collapsed": false,
    "deletable": true,
    "editable": true,
    "scrolled": true
   },
   "outputs": [],
   "source": [
    "%%time\n",
    "from n3898 import *"
   ]
  },
  {
   "cell_type": "code",
   "execution_count": null,
   "metadata": {
    "collapsed": true,
    "deletable": true,
    "editable": true
   },
   "outputs": [],
   "source": [
    "n3898dict = dict(globals(), **locals())"
   ]
  },
  {
   "cell_type": "code",
   "execution_count": null,
   "metadata": {
    "collapsed": false,
    "deletable": true,
    "editable": true
   },
   "outputs": [],
   "source": [
    "n3898dict['name']"
   ]
  },
  {
   "cell_type": "code",
   "execution_count": null,
   "metadata": {
    "collapsed": false,
    "deletable": true,
    "editable": true
   },
   "outputs": [],
   "source": [
    "del n3898dict['n338dict']\n",
    "del n3898dict['n1167dict']\n",
    "del n3898dict['n2985dict']"
   ]
  },
  {
   "cell_type": "code",
   "execution_count": null,
   "metadata": {
    "collapsed": true,
    "deletable": true,
    "editable": true
   },
   "outputs": [],
   "source": [
    "os.chdir('../../notebooks/2f')"
   ]
  },
  {
   "cell_type": "code",
   "execution_count": null,
   "metadata": {
    "collapsed": false,
    "deletable": true,
    "editable": true,
    "scrolled": true
   },
   "outputs": [],
   "source": [
    "%%time\n",
    "from n4258 import *"
   ]
  },
  {
   "cell_type": "code",
   "execution_count": null,
   "metadata": {
    "collapsed": true,
    "deletable": true,
    "editable": true
   },
   "outputs": [],
   "source": [
    "n4258dict = dict(globals(), **locals())"
   ]
  },
  {
   "cell_type": "code",
   "execution_count": null,
   "metadata": {
    "collapsed": false,
    "deletable": true,
    "editable": true
   },
   "outputs": [],
   "source": [
    "n4258dict['name']"
   ]
  },
  {
   "cell_type": "code",
   "execution_count": null,
   "metadata": {
    "collapsed": true,
    "deletable": true,
    "editable": true
   },
   "outputs": [],
   "source": [
    "del n4258dict['n338dict']\n",
    "del n4258dict['n1167dict']\n",
    "del n4258dict['n2985dict']\n",
    "del n4258dict['n3898dict']"
   ]
  },
  {
   "cell_type": "code",
   "execution_count": null,
   "metadata": {
    "collapsed": true,
    "deletable": true,
    "editable": true
   },
   "outputs": [],
   "source": [
    "os.chdir('../../notebooks/2f')"
   ]
  },
  {
   "cell_type": "code",
   "execution_count": null,
   "metadata": {
    "collapsed": false,
    "deletable": true,
    "editable": true,
    "scrolled": true
   },
   "outputs": [],
   "source": [
    "%%time\n",
    "from n4725 import *"
   ]
  },
  {
   "cell_type": "code",
   "execution_count": null,
   "metadata": {
    "collapsed": true,
    "deletable": true,
    "editable": true
   },
   "outputs": [],
   "source": [
    "n4725dict = dict(globals(), **locals())"
   ]
  },
  {
   "cell_type": "code",
   "execution_count": null,
   "metadata": {
    "collapsed": false,
    "deletable": true,
    "editable": true
   },
   "outputs": [],
   "source": [
    "n4725dict['name']"
   ]
  },
  {
   "cell_type": "code",
   "execution_count": null,
   "metadata": {
    "collapsed": true,
    "deletable": true,
    "editable": true
   },
   "outputs": [],
   "source": [
    "del n4725dict['n338dict']\n",
    "del n4725dict['n1167dict']\n",
    "del n4725dict['n2985dict']\n",
    "del n4725dict['n3898dict']\n",
    "del n4725dict['n4258dict']"
   ]
  },
  {
   "cell_type": "code",
   "execution_count": null,
   "metadata": {
    "collapsed": true,
    "deletable": true,
    "editable": true
   },
   "outputs": [],
   "source": [
    "os.chdir('../../notebooks/2f')"
   ]
  },
  {
   "cell_type": "code",
   "execution_count": null,
   "metadata": {
    "collapsed": false,
    "deletable": true,
    "editable": true,
    "scrolled": true
   },
   "outputs": [],
   "source": [
    "%%time\n",
    "from n5533 import *"
   ]
  },
  {
   "cell_type": "code",
   "execution_count": null,
   "metadata": {
    "collapsed": true,
    "deletable": true,
    "editable": true
   },
   "outputs": [],
   "source": [
    "n5533dict = dict(globals(), **locals())"
   ]
  },
  {
   "cell_type": "code",
   "execution_count": null,
   "metadata": {
    "collapsed": false,
    "deletable": true,
    "editable": true
   },
   "outputs": [],
   "source": [
    "n5533dict['name']"
   ]
  },
  {
   "cell_type": "code",
   "execution_count": null,
   "metadata": {
    "collapsed": true,
    "deletable": true,
    "editable": true
   },
   "outputs": [],
   "source": [
    "del n5533dict['n338dict']\n",
    "del n5533dict['n1167dict']\n",
    "del n5533dict['n2985dict']\n",
    "del n5533dict['n3898dict']\n",
    "del n5533dict['n4258dict']\n",
    "del n5533dict['n4725dict']"
   ]
  },
  {
   "cell_type": "code",
   "execution_count": null,
   "metadata": {
    "collapsed": false,
    "deletable": true,
    "editable": true
   },
   "outputs": [],
   "source": [
    "end = datetime.datetime.now()\n",
    "end"
   ]
  },
  {
   "cell_type": "code",
   "execution_count": null,
   "metadata": {
    "collapsed": false,
    "deletable": true,
    "editable": true
   },
   "outputs": [],
   "source": [
    "finish = end-start"
   ]
  },
  {
   "cell_type": "code",
   "execution_count": null,
   "metadata": {
    "collapsed": false,
    "deletable": true,
    "editable": true
   },
   "outputs": [],
   "source": [
    "finish.total_seconds()/3600."
   ]
  },
  {
   "cell_type": "code",
   "execution_count": null,
   "metadata": {
    "collapsed": true,
    "deletable": true,
    "editable": true
   },
   "outputs": [],
   "source": []
  },
  {
   "cell_type": "code",
   "execution_count": null,
   "metadata": {
    "collapsed": true,
    "deletable": true,
    "editable": true
   },
   "outputs": [],
   "source": []
  },
  {
   "cell_type": "code",
   "execution_count": null,
   "metadata": {
    "collapsed": false,
    "deletable": true,
    "editable": true
   },
   "outputs": [],
   "source": [
    "# %%time\n",
    "# for ind, name1 in enumerate(['n338', 'n1167', 'n2985', 'n3898', 'n4258', 'n4725', 'n5533']):\n",
    "#     for name2 in ['n338', 'n1167', 'n2985', 'n3898', 'n4258', 'n4725', 'n5533'][ind+1:]:\n",
    "#         dict1 = locals()[name1+'dict']\n",
    "#         dict2 = locals()[name2+'dict']\n",
    "#         for key in dict1.keys():\n",
    "#             if key in dict2.keys():\n",
    "#                 try:\n",
    "#                     if type(dict1[key]) == type(dict2[key]) == np.ndarray:\n",
    "#                         if (dict1[key] == dict2[key]).all():\n",
    "#                             del dict2[key]\n",
    "#                     elif dict1[key] == dict2[key]:\n",
    "#                         del dict2[key]\n",
    "#                 except Exception:\n",
    "#                     print key, name1, name2"
   ]
  },
  {
   "cell_type": "code",
   "execution_count": null,
   "metadata": {
    "collapsed": true,
    "deletable": true,
    "editable": true
   },
   "outputs": [],
   "source": []
  },
  {
   "cell_type": "code",
   "execution_count": null,
   "metadata": {
    "collapsed": false,
    "deletable": true,
    "editable": true
   },
   "outputs": [],
   "source": [
    "n338dict['star_approx'] == n2985dict['star_approx']"
   ]
  },
  {
   "cell_type": "code",
   "execution_count": null,
   "metadata": {
    "collapsed": true,
    "deletable": true,
    "editable": true
   },
   "outputs": [],
   "source": []
  },
  {
   "cell_type": "code",
   "execution_count": null,
   "metadata": {
    "collapsed": true,
    "deletable": true,
    "editable": true
   },
   "outputs": [],
   "source": []
  },
  {
   "cell_type": "code",
   "execution_count": null,
   "metadata": {
    "collapsed": true,
    "deletable": true,
    "editable": true
   },
   "outputs": [],
   "source": [
    "tex_imgs_dir = 'C:\\\\Users\\\\root\\\\Dropbox\\\\RotationCurves\\\\PhD\\\\paper2\\\\imgs'"
   ]
  },
  {
   "cell_type": "code",
   "execution_count": null,
   "metadata": {
    "collapsed": false,
    "deletable": true,
    "editable": true,
    "scrolled": false
   },
   "outputs": [],
   "source": [
    "os.chdir(tex_imgs_dir)\n",
    "\n",
    "fig, axs = plt.subplots(nrows=7, ncols=3, sharex=False, sharey=False, figsize=[16,30])\n",
    "\n",
    "names  = [r'$\\rm{NGC\\, 338}$', r'$\\rm{NGC\\, 1167}$', r'$\\rm{NGC\\, 2985}$', r'$\\rm{NGC\\, 3898}$', r'$\\rm{NGC\\, 4258}$', r'$\\rm{NGC\\, 4725}$', r'$\\rm{NGC\\, 5533}$',]\n",
    "\n",
    "ax1 = axs[0,0]\n",
    "ax2 = axs[1,0]\n",
    "ax3 = axs[2,0]\n",
    "ax4 = axs[3,0]\n",
    "ax5 = axs[4,0]\n",
    "ax6 = axs[5,0]\n",
    "ax7 = axs[6,0]\n",
    "\n",
    "axes = [ax1, ax2, ax3, ax4, ax5, ax6, ax7]\n",
    "\n",
    "# ===================================================\n",
    "# Дисперии\n",
    "# ===================================================\n",
    "\n",
    "for ind, name in enumerate(['n338', 'n1167', 'n2985', 'n3898', 'n4258', 'n4725', 'n5533']):\n",
    "    ax = axes[ind]\n",
    "    try:\n",
    "        ax.errorbar(map(abs, locals()[name+'dict']['r_sig_ma']), locals()[name+'dict']['sig_ma'], yerr=locals()[name+'dict']['e_sig_ma'], \n",
    "                    fmt='.', marker='.', mew=0, color='red', label='$\\sigma_{los}^{maj}$')\n",
    "        ax.plot(points, map(locals()[name+'dict']['sig_R_maj_min'], locals()[name+'dict']['points']))\n",
    "        ax.plot(points, map(locals()[name+'dict']['sig_R_maj_max'], locals()[name+'dict']['points']))\n",
    "#         ax.plot(points, map(locals()[name+'dict']['sig_R_maj_maxmaxtrue'], locals()[name+'dict']['points']))\n",
    "    except Exception:\n",
    "        print 'WARNING S:{}'.format(name)\n",
    "\n",
    "    ax.xaxis.set_major_locator(MultipleLocator(10))\n",
    "    ax.xaxis.set_minor_locator(MultipleLocator(2))\n",
    "#     ax.plot([reb, reb],[0, (50 - 30*(ind/2))], color='black', lw=2)\n",
    "#     ax.axvline(x=reb, ls='--', color='black')\n",
    "    ax.text(0.8, 0.9, names[ind], fontsize=20, ha='center', va='center', transform=ax.transAxes)\n",
    "    ax.yaxis.set_label_coords(-0.055, 0.5)\n",
    "    ax.set_ylabel(r'$\\sigma_{\\rm{los}},\\, \\rm{km/s}$', fontsize=20)\n",
    "    ax.set_xlabel(r'$R,\\, \\rm{arcsec}$', fontsize=20)\n",
    "    ax.yaxis.set_major_locator(MultipleLocator(100))\n",
    "\n",
    "    \n",
    "# ===================================================\n",
    "# Кривая вращения\n",
    "# ===================================================\n",
    "\n",
    "ax1 = axs[0,1]\n",
    "ax2 = axs[1,1]\n",
    "ax3 = axs[2,1]\n",
    "ax4 = axs[3,1]\n",
    "ax5 = axs[4,1]\n",
    "ax6 = axs[5,1]\n",
    "ax7 = axs[6,1]\n",
    "\n",
    "axes = [ax1, ax2, ax3, ax4, ax5, ax6, ax7]\n",
    "\n",
    "for ind, name in enumerate(['n338', 'n1167', 'n2985', 'n3898', 'n4258', 'n4725', 'n5533']):\n",
    "    ax = axes[ind]\n",
    "    try:\n",
    "        ax.plot(points, map(locals()[name+'dict']['spl_gas'], locals()[name+'dict']['points']), '--')\n",
    "        ax.plot(locals()[name+'dict']['r_g_b'], locals()[name+'dict']['vel_g_b'], '.')\n",
    "    except Exception:\n",
    "        print 'WARNING V:{}'.format(name)\n",
    "        \n",
    "    try:\n",
    "        ax.plot(locals()[name+'dict']['r_wsrt'], locals()[name+'dict']['vel_wsrt'], '.')\n",
    "    except Exception:\n",
    "        print 'WARNING V:{}'.format(name)\n",
    "        \n",
    "    try:\n",
    "        ax.plot(locals()[name+'dict']['r_noord'], locals()[name+'dict']['vel_noord'], '.')\n",
    "        ax.plot(locals()[name+'dict']['r_ma_n'], locals()[name+'dict']['vel_ma_n'], 's')\n",
    "    except Exception:\n",
    "        print 'WARNING V:{}'.format(name)    \n",
    "        \n",
    "    \n",
    "    ax.text(0.8, 0.2, names[ind], fontsize=20, ha='center', va='center', transform=ax.transAxes)\n",
    "    ax.yaxis.set_label_coords(-0.055, 0.5)\n",
    "    ax.set_ylabel(r'$V,\\, \\rm{km/s}$', fontsize=20)\n",
    "    ax.set_xlabel(r'$R,\\, \\rm{arcsec}$', fontsize=20)\n",
    "    ax.set_ylim(0, 400)\n",
    "    ax.xaxis.set_major_locator(MultipleLocator(10))\n",
    "#     ax.xaxis.set_minor_locator(MultipleLocator(2))\n",
    "    ax.yaxis.set_major_locator(MultipleLocator(100))\n",
    "    \n",
    "# ax2.set_ylim(0, 400)\n",
    "\n",
    "\n",
    "# ===================================================\n",
    "# Поверхностная плотность\n",
    "# ===================================================\n",
    "    \n",
    "ax1 = axs[0,2]\n",
    "ax2 = axs[1,2]\n",
    "ax3 = axs[2,2]\n",
    "ax4 = axs[3,2]\n",
    "ax5 = axs[4,2]\n",
    "ax6 = axs[5,2]\n",
    "ax7 = axs[6,2]\n",
    "\n",
    "axes = [ax1, ax2, ax3, ax4, ax5, ax6, ax7]\n",
    "\n",
    "\n",
    "\n",
    "#     axes[3].plot(r_g_dens, gas_dens, 'd-')\n",
    "#     axes[3].plot(r_g_dens, [He_coeff*(y_interp_(l[0], h_disc_R) + l[1]) for l in zip(r_g_dens, gas_dens)], '*-')\n",
    "#     axes[3].plot(r_g_dens, [y_interp_(l, h_disc_R) for l in r_g_dens], '--', label='H2 (R-photom)')\n",
    "#     axes[3].set_title('Gas')\n",
    "#     axes[3].grid()\n",
    "#     axes[3].set_xlim(0, 200)\n",
    "#     axes[3].legend()\n",
    "    \n",
    "#     axes[3].plot(r_g_dens, gas_dens, 'd-')\n",
    "#     axes[3].plot(r_g_dens, [He_coeff*(y_interp_(l[0], h_disc_I) + l[1]) for l in zip(r_g_dens, gas_dens)], '*-')\n",
    "#     axes[3].plot(r_g_dens, [y_interp_(l, h_disc_I) for l in r_g_dens], '--', label='H2 (I-photom)')\n",
    "#     axes[3].set_title('Gas')\n",
    "#     axes[3].grid()\n",
    "#     axes[3].set_xlim(0, 200)\n",
    "#     axes[3].legend()\n",
    "    \n",
    "#     axes[3].plot(r_HI_dens, HI_dens, '--', label='HI')\n",
    "#     axes[3].plot(zip(*total_gas_data)[0], zip(*total_gas_data)[1], '*-')\n",
    "#     axes[3].plot(r_mol_dens, mol_dens, '--', label='mol')\n",
    "#     axes[3].set_title('Gas')\n",
    "#     axes[3].grid()\n",
    "#     axes[3].set_xlim(0, 200)\n",
    "#     axes[3].legend()\n",
    "\n",
    "\n",
    "for ind, name in enumerate(['n338', 'n1167', 'n2985', 'n3898', 'n4258', 'n4725', 'n5533']):\n",
    "    ax = axes[ind]\n",
    "    try:\n",
    "        ax.plot(locals()[name+'dict']['r_g_dens'], locals()[name+'dict']['gas_dens'], 'o-')\n",
    "    except Exception:\n",
    "        print 'WARNING G:{}'.format(name)\n",
    "        \n",
    "    try:\n",
    "        ax.plot(locals()[name+'dict']['r_HI_dens'], locals()[name+'dict']['HI_dens'], 'o-')\n",
    "    except Exception:\n",
    "        print 'WARNING G:{}'.format(name)\n",
    "        \n",
    "    try:\n",
    "        ax.plot(zip(*locals()[name+'dict']['total_gas_data'])[0], zip(*locals()[name+'dict']['total_gas_data'])[1], 'o-')\n",
    "    except Exception:\n",
    "        print 'WARNING G:{}'.format(name)\n",
    "        \n",
    "    try:\n",
    "        ax.plot(zip(*locals()[name+'dict']['total_gas_data_'])[0], zip(*locals()[name+'dict']['total_gas_data_'])[1], 'o-')\n",
    "    except Exception:\n",
    "        print 'WARNING G:{}'.format(name)\n",
    "\n",
    "    ax.xaxis.set_major_locator(MultipleLocator(100))\n",
    "    ax.xaxis.set_minor_locator(MultipleLocator(50))\n",
    "#     ax.plot([reb, reb],[0, (50 - 30*(ind/2))], color='black', lw=2)\n",
    "#     ax.axvline(x=reb, ls='--', color='black')\n",
    "    ax.text(0.8, 0.9, names[ind], fontsize=20, ha='center', va='center', transform=ax.transAxes)\n",
    "    ax.yaxis.set_label_coords(-0.055, 0.5)\n",
    "    ax.set_ylabel(r'$\\Sigma_{\\rm{los}},\\, \\rm{M_{sun}/{pc}^2}$', fontsize=20)\n",
    "    ax.set_xlabel(r'$R,\\, \\rm{arcsec}$', fontsize=20)\n",
    "    ax.yaxis.set_major_locator(MultipleLocator(10))\n",
    "    ax.yaxis.set_minor_locator(MultipleLocator(1))\n",
    "    if name == 'n4258':\n",
    "        ax.set_ylim(0, 30)\n",
    "\n",
    "# ax1.set_xlim(0, 45)\n",
    "# ax1.set_ylim(0)    \n",
    "\n",
    "# ax2.set_ylim(0, 240)\n",
    "# ax2.set_xlim(0, 45)\n",
    "# # ax2.set_ylabel(r'$\\sigma_{\\rm{los}},\\, \\rm{km/s}$', fontsize=15)\n",
    "\n",
    "# ax3.set_ylim(0, 225)\n",
    "# ax3.set_xlim(0, 60)\n",
    "# # ax3.axes.yaxis.set_ticklabels([])\n",
    "\n",
    "# # ax4.set_ylim(0, 150)\n",
    "# # ax4.set_xlim(0, 72)\n",
    "# # ax4.set_ylabel(r'$\\sigma_{\\rm{los}},\\, \\rm{km/s}$', fontsize=10)\n",
    "# # ax4.set_xlabel(r'$R,\\, \\rm{arcsec}$', fontsize=15)\n",
    "\n",
    "# ax4.set_ylim(0, 110)\n",
    "# # ax5.set_xlim(0, 50)\n",
    "# # ax5.axes.yaxis.set_ticklabels([])\n",
    "# # ax5.set_ylabel(r'$\\sigma_{\\rm{gas}},\\, \\rm{km/s}$', fontsize=20)\n",
    "# # ax5.set_xlabel(r'$R,\\, \\rm{arcsec}$', fontsize=20)\n",
    "\n",
    "\n",
    "fig.subplots_adjust(wspace=0.15, hspace=0.25)\n",
    "# plt.savefig('observ_data.eps', format='eps')\n",
    "# plt.savefig('observ_data.png', format='png')\n",
    "# plt.savefig('observ_data.pdf', format='pdf', dpi=150)\n",
    "plt.show()"
   ]
  },
  {
   "cell_type": "code",
   "execution_count": null,
   "metadata": {
    "collapsed": true,
    "deletable": true,
    "editable": true
   },
   "outputs": [],
   "source": []
  },
  {
   "cell_type": "code",
   "execution_count": null,
   "metadata": {
    "collapsed": true,
    "deletable": true,
    "editable": true
   },
   "outputs": [],
   "source": []
  },
  {
   "cell_type": "code",
   "execution_count": null,
   "metadata": {
    "collapsed": true,
    "deletable": true,
    "editable": true
   },
   "outputs": [],
   "source": []
  }
 ],
 "metadata": {
  "kernelspec": {
   "display_name": "Python 2",
   "language": "python",
   "name": "python2"
  },
  "language_info": {
   "codemirror_mode": {
    "name": "ipython",
    "version": 2
   },
   "file_extension": ".py",
   "mimetype": "text/x-python",
   "name": "python",
   "nbconvert_exporter": "python",
   "pygments_lexer": "ipython2",
   "version": "2.7.12"
  },
  "nav_menu": {
   "height": "154px",
   "width": "255px"
  },
  "toc": {
   "navigate_menu": true,
   "number_sections": true,
   "sideBar": true,
   "threshold": 6,
   "toc_cell": false,
   "toc_section_display": "block",
   "toc_window_display": false
  }
 },
 "nbformat": 4,
 "nbformat_minor": 2
}
