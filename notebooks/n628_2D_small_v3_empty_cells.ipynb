{
 "cells": [
  {
   "cell_type": "markdown",
   "metadata": {},
   "source": [
    "# NGC 628 (M74, UGC 1149)  spiral arm detection"
   ]
  },
  {
   "cell_type": "code",
   "execution_count": null,
   "metadata": {},
   "outputs": [],
   "source": [
    "from IPython.display import HTML\n",
    "from IPython.display import Image\n",
    "import os\n",
    "from PIL import Image as ImagePIL\n",
    "import itertools\n",
    "import time\n",
    "from astropy.io import fits\n",
    "import cv2\n",
    "import matplotlib.patches as patches\n",
    "from matplotlib.collections import LineCollection\n",
    "import math\n",
    "import copy\n",
    "from sklearn.metrics import *\n",
    "from matplotlib.ticker import MultipleLocator, FormatStrFormatter, AutoMinorLocator\n",
    "\n",
    "from scipy.interpolate import LinearNDInterpolator, RectBivariateSpline, RegularGridInterpolator\n",
    "from scipy.ndimage import map_coordinates\n",
    "# https://nbviewer.jupyter.org/github/pierre-haessig/stodynprog/blob/master/stodynprog/linear_interp_benchmark.ipynb\n",
    "\n",
    "%pylab\n",
    "%matplotlib inline\n",
    "# %run ../../utils/load_notebook.py"
   ]
  },
  {
   "cell_type": "code",
   "execution_count": null,
   "metadata": {},
   "outputs": [],
   "source": [
    "# from utils import *"
   ]
  },
  {
   "cell_type": "code",
   "execution_count": null,
   "metadata": {},
   "outputs": [],
   "source": [
    "# from photometry import *"
   ]
  },
  {
   "cell_type": "code",
   "execution_count": null,
   "metadata": {},
   "outputs": [],
   "source": [
    "# from instabilities import *"
   ]
  },
  {
   "cell_type": "markdown",
   "metadata": {},
   "source": [
    "* [NED](https://ned.ipac.caltech.edu/cgi-bin/objsearch?objname=n628&extend=no&hconst=73&omegam=0.27&omegav=0.73&corr_z=1&out_csys=Equatorial&out_equinox=J2000.0&obj_sort=RA+or+Longitude&of=pre_text&zv_breaker=30000.0&list_limit=5&img_stamp=YES)\n",
    "* [HYPERLEDA](http://leda.univ-lyon1.fr/ledacat.cgi?o=n628)"
   ]
  },
  {
   "cell_type": "code",
   "execution_count": null,
   "metadata": {},
   "outputs": [],
   "source": [
    "name = 'NGC628'\n",
    "# gtype = 'SBm' #LEDA\n",
    "incl = 7.0  #Leroy, Walter08\n",
    "distance = 8.6 #Mpc, Herrmann et al. 2008\n",
    "# scale = calc_scale(distance) #kpc/arcsec\n",
    "\n",
    "data_path = '../../data/ngc628'\n",
    "\n",
    "sin_i, cos_i = np.sin(incl*np.pi/180.), np.cos(incl*np.pi/180.)\n",
    "# print 'sin_i={:5.5f}, cos_i={:5.5f}, scale={:5.5f} kpc/arcsec'.format(sin_i, cos_i, scale)"
   ]
  },
  {
   "cell_type": "markdown",
   "metadata": {},
   "source": [
    "# Литература"
   ]
  },
  {
   "cell_type": "markdown",
   "metadata": {},
   "source": [
    "Основополагающая работа, где есть также результат для этой галактики\n",
    "\n",
    "[ARM AND INTERARM STAR FORMATION IN SPIRAL GALAXIE](http://iopscience.iop.org/article/10.1088/0004-637X/725/1/534/pdf) Foyle, Rix, Walter, Leroy (2010)\n",
    "\n",
    "Описывается все в разделе **2.2**, но без подробностей."
   ]
  },
  {
   "cell_type": "code",
   "execution_count": null,
   "metadata": {},
   "outputs": [],
   "source": [
    "Image('Foyle2010.png')"
   ]
  },
  {
   "cell_type": "markdown",
   "metadata": {},
   "source": [
    "Похоже сам алгоритм был предложен и подробнее всего описывается в старой работе \n",
    "\n",
    "[Nonaxisymmetric Structures in the Stellar Disks of Galaxies](https://arxiv.org/pdf/astro-ph/9505111.pdf) Rix & Zaritsky (1995)\n",
    "\n",
    "Интересно там то, как определяли угол (из соотношения T-F). Модель и подробности фитирования - разделы **3.1** и  **3.2**.\n",
    "\n",
    "$$\\frac{\\mu(R,\\phi)}{<\\mu(R)>} = \\sum_{m=1}^{\\inf}A_m(R)e^{im[\\phi-\\phi_m(R)]}$$\n",
    "\n",
    "Делаются полярные бины."
   ]
  },
  {
   "cell_type": "markdown",
   "metadata": {},
   "source": [
    "Небольшая критика подхода Foyle et al. из https://academic.oup.com/mnras/article/433/3/1837/1215753:\n",
    "\n",
    "> For example, Hitschfeld et al. (2009) attributed\n",
    "all emission above a certain threshold molecular gas surface density\n",
    "to spiral arms and the remainder to the inner-arm regions, and\n",
    "Foyle et al. (2010) followed a similar approach but instead used the\n",
    "surface density of stellar 3.6 µm emission. This approach, however,\n",
    "has the effect of including emission features (spurs) bridging the\n",
    "gap between the spiral arms as part of the arms themselves."
   ]
  },
  {
   "cell_type": "markdown",
   "metadata": {},
   "source": [
    "[Classifying and modelling spiral structures in hydrodynamic simulations of astrophysical discs](https://arxiv.org/pdf/1802.01364.pdf) Forgan et al. (2018) - упоминают подход Foyle и предлагают свой для анализа гидродинамических экспериментов. Детектируют т.н. spine points и затем friends-of-friends алгоритм.\n",
    "\n",
    "У них есть опубликованный код https://github.com/dh4gan/tache, но он только для SPH snapshot files (currently sphNG formats only)."
   ]
  },
  {
   "cell_type": "code",
   "execution_count": null,
   "metadata": {},
   "outputs": [],
   "source": []
  },
  {
   "cell_type": "code",
   "execution_count": null,
   "metadata": {},
   "outputs": [],
   "source": []
  },
  {
   "cell_type": "markdown",
   "metadata": {},
   "source": [
    "http://www.astrobetter.com/blog/2010/03/03/fourier-transforms-of-images-in-python/"
   ]
  },
  {
   "cell_type": "code",
   "execution_count": null,
   "metadata": {},
   "outputs": [],
   "source": []
  },
  {
   "cell_type": "code",
   "execution_count": null,
   "metadata": {},
   "outputs": [],
   "source": []
  },
  {
   "cell_type": "markdown",
   "metadata": {},
   "source": [
    "# DBSCAN"
   ]
  },
  {
   "cell_type": "code",
   "execution_count": null,
   "metadata": {},
   "outputs": [],
   "source": [
    "Image('clustering.png')"
   ]
  },
  {
   "cell_type": "code",
   "execution_count": null,
   "metadata": {},
   "outputs": [],
   "source": []
  },
  {
   "cell_type": "code",
   "execution_count": null,
   "metadata": {},
   "outputs": [],
   "source": [
    "# def radial_data(data,annulus_width=1,working_mask=None,x=None,y=None,rmax=None):\n",
    "#     \"\"\"\n",
    "#     r = radial_data(data,annulus_width,working_mask,x,y)\n",
    "    \n",
    "#     A function to reduce an image to a radial cross-section.\n",
    "    \n",
    "#     INPUT:\n",
    "#     ------\n",
    "#     data   - whatever data you are radially averaging.  Data is\n",
    "#             binned into a series of annuli of width 'annulus_width'\n",
    "#             pixels.\n",
    "#     annulus_width - width of each annulus.  Default is 1.\n",
    "#     working_mask - array of same size as 'data', with zeros at\n",
    "#                       whichever 'data' points you don't want included\n",
    "#                       in the radial data computations.\n",
    "#       x,y - coordinate system in which the data exists (used to set\n",
    "#              the center of the data).  By default, these are set to\n",
    "#              integer meshgrids\n",
    "#       rmax -- maximum radial value over which to compute statistics\n",
    "    \n",
    "#      OUTPUT:\n",
    "#      -------\n",
    "#       r - a data structure containing the following\n",
    "#                    statistics, computed across each annulus:\n",
    "#           .r      - the radial coordinate used (outer edge of annulus)\n",
    "#           .mean   - mean of the data in the annulus\n",
    "#           .std    - standard deviation of the data in the annulus\n",
    "#           .median - median value in the annulus\n",
    "#           .max    - maximum value in the annulus\n",
    "#           .min    - minimum value in the annulus\n",
    "#           .numel  - number of elements in the annulus\n",
    "#     \"\"\"\n",
    "    \n",
    "# # 2010-03-10 19:22 IJC: Ported to python from Matlab\n",
    "# # 2005/12/19 Added 'working_region' option (IJC)\n",
    "# # 2005/12/15 Switched order of outputs (IJC)\n",
    "# # 2005/12/12 IJC: Removed decifact, changed name, wrote comments.\n",
    "# # 2005/11/04 by Ian Crossfield at the Jet Propulsion Laboratory\n",
    " \n",
    "#     import numpy as ny\n",
    "\n",
    "#     class radialDat:\n",
    "#         \"\"\"Empty object container.\n",
    "#         \"\"\"\n",
    "#         def __init__(self): \n",
    "#             self.mean = None\n",
    "#             self.std = None\n",
    "#             self.median = None\n",
    "#             self.numel = None\n",
    "#             self.max = None\n",
    "#             self.min = None\n",
    "#             self.r = None\n",
    "\n",
    "#     #---------------------\n",
    "#     # Set up input parameters\n",
    "#     #---------------------\n",
    "#     data = ny.array(data)\n",
    "    \n",
    "#     if working_mask==None:\n",
    "#         working_mask = ny.ones(data.shape,bool)\n",
    "    \n",
    "#     npix, npiy = data.shape\n",
    "#     if x==None or y==None:\n",
    "#         x1 = ny.arange(-npix/2.,npix/2.)\n",
    "#         y1 = ny.arange(-npiy/2.,npiy/2.)\n",
    "#         x,y = ny.meshgrid(y1,x1)\n",
    "\n",
    "#     r = abs(x+1j*y)\n",
    "\n",
    "#     if rmax==None:\n",
    "#         rmax = r[working_mask].max()\n",
    "\n",
    "#     #---------------------\n",
    "#     # Prepare the data container\n",
    "#     #---------------------\n",
    "#     dr = ny.abs([x[0,0] - x[0,1]]) * annulus_width\n",
    "#     radial = ny.arange(rmax/dr)*dr + dr/2.\n",
    "#     nrad = len(radial)\n",
    "#     radialdata = radialDat()\n",
    "#     radialdata.mean = ny.zeros(nrad)\n",
    "#     radialdata.std = ny.zeros(nrad)\n",
    "#     radialdata.median = ny.zeros(nrad)\n",
    "#     radialdata.numel = ny.zeros(nrad)\n",
    "#     radialdata.max = ny.zeros(nrad)\n",
    "#     radialdata.min = ny.zeros(nrad)\n",
    "#     radialdata.r = radial\n",
    "    \n",
    "#     #---------------------\n",
    "#     # Loop through the bins\n",
    "#     #---------------------\n",
    "#     for irad in range(nrad): #= 1:numel(radial)\n",
    "#       minrad = irad*dr\n",
    "#       maxrad = minrad + dr\n",
    "#       thisindex = (r>=minrad) * (r<maxrad) * working_mask\n",
    "#       if not thisindex.ravel().any():\n",
    "#         radialdata.mean[irad] = ny.nan\n",
    "#         radialdata.std[irad]  = ny.nan\n",
    "#         radialdata.median[irad] = ny.nan\n",
    "#         radialdata.numel[irad] = ny.nan\n",
    "#         radialdata.max[irad] = ny.nan\n",
    "#         radialdata.min[irad] = ny.nan\n",
    "#       else:\n",
    "#         radialdata.mean[irad] = data[thisindex].mean()\n",
    "#         radialdata.std[irad]  = data[thisindex].std()\n",
    "#         radialdata.median[irad] = ny.median(data[thisindex])\n",
    "#         radialdata.numel[irad] = data[thisindex].size\n",
    "#         radialdata.max[irad] = data[thisindex].max()\n",
    "#         radialdata.min[irad] = data[thisindex].min()\n",
    "    \n",
    "#     #---------------------\n",
    "#     # Return with data\n",
    "#     #---------------------\n",
    "    \n",
    "#     return radialdata"
   ]
  },
  {
   "cell_type": "code",
   "execution_count": null,
   "metadata": {},
   "outputs": [],
   "source": [
    "def azimuthalAverage(image, center=None):\n",
    "    \"\"\"\n",
    "    Calculate the azimuthally averaged radial profile.\n",
    "\n",
    "    image - The 2D image\n",
    "    center - The [x,y] pixel coordinates used as the center. The default is \n",
    "             None, which then uses the center of the image (including \n",
    "             fracitonal pixels).\n",
    "    \n",
    "    \"\"\"\n",
    "    # Calculate the indices from the image\n",
    "    y, x = np.indices(image.shape)\n",
    "\n",
    "    if not center:\n",
    "        center = np.array([(x.max()-x.min())/2.0, (x.max()-x.min())/2.0])\n",
    "\n",
    "    r = np.hypot(x - center[0], y - center[1])\n",
    "\n",
    "    # Get sorted radii\n",
    "    ind = np.argsort(r.flat)\n",
    "    r_sorted = r.flat[ind]\n",
    "    i_sorted = image.flat[ind]\n",
    "\n",
    "    # Get the integer part of the radii (bin size = 1)\n",
    "    r_int = r_sorted.astype(int)\n",
    "\n",
    "    # Find all pixels that fall within each radial bin.\n",
    "    deltar = r_int[1:] - r_int[:-1]  # Assumes all radii represented\n",
    "    rind = np.where(deltar)[0]       # location of changed radius\n",
    "    nr = rind[1:] - rind[:-1]        # number of radius bin\n",
    "    \n",
    "    # Cumulative sum to figure out sums for each radius bin\n",
    "    csim = np.cumsum(i_sorted, dtype=float)\n",
    "    tbin = csim[rind[1:]] - csim[rind[:-1]]\n",
    "\n",
    "    radial_prof = tbin / nr\n",
    "\n",
    "    return radial_prof"
   ]
  },
  {
   "cell_type": "code",
   "execution_count": null,
   "metadata": {},
   "outputs": [],
   "source": [
    "from scipy import fftpack\n",
    "import pyfits\n",
    "import numpy as np\n",
    "import pylab as py\n",
    "# import radialProfile\n",
    "\n",
    "# an astronomical image (left), \n",
    "# the 2D power spectrum of the image (middle), \n",
    "# and the azimuthally averaged 1D power spectrum (right)\n",
    " \n",
    "image = pyfits.getdata('../../data/ngc628/ngc0628_heracles_mom0.fits')\n",
    "\n",
    "image = np.squeeze(fits.getdata('../../data/ngc628/ngc0628_heracles_mom0.fits'))\n",
    "image[np.isnan(image)] = 0\n",
    "# image.data = np.require(image.data, dtype=np.float16)\n",
    "\n",
    "im2 = np.resize(np.float32(image.flatten()),(294, 295))\n",
    " \n",
    "# Take the fourier transform of the image.\n",
    "F1 = fftpack.fft2(im2)\n",
    " \n",
    "# Now shift the quadrants around so that low spatial frequencies are in\n",
    "# the center of the 2D fourier transformed image.\n",
    "F2 = fftpack.fftshift( F1 )\n",
    " \n",
    "# Calculate a 2D power spectrum\n",
    "psd2D = np.abs( F2 )**2\n",
    " \n",
    "# Calculate the azimuthally averaged 1D power spectrum\n",
    "psd1D = azimuthalAverage(psd2D)\n",
    " \n",
    "# Now plot up both\n",
    "py.figure(1)\n",
    "py.clf()\n",
    "py.imshow( np.log10( image ), cmap=py.cm.Greys)\n",
    " \n",
    "py.figure(2)\n",
    "py.clf()\n",
    "py.imshow( np.log10( psd2D ))\n",
    " \n",
    "py.figure(3)\n",
    "py.clf()\n",
    "py.semilogy( psd1D )\n",
    "py.xlabel('Spatial Frequency')\n",
    "py.ylabel('Power Spectrum')\n",
    " \n",
    "py.show()"
   ]
  },
  {
   "cell_type": "code",
   "execution_count": null,
   "metadata": {},
   "outputs": [],
   "source": [
    "from mpl_toolkits import mplot3d\n",
    "\n",
    "ax = plt.axes(projection='3d')\n",
    "ax.plot3D(xline, yline, zline, 'gray')"
   ]
  },
  {
   "cell_type": "code",
   "execution_count": null,
   "metadata": {},
   "outputs": [],
   "source": []
  },
  {
   "cell_type": "code",
   "execution_count": null,
   "metadata": {},
   "outputs": [],
   "source": []
  },
  {
   "cell_type": "code",
   "execution_count": null,
   "metadata": {},
   "outputs": [],
   "source": []
  },
  {
   "cell_type": "code",
   "execution_count": null,
   "metadata": {},
   "outputs": [],
   "source": [
    "fig = plt.figure(figsize=[24,16])\n",
    "plt.subplot(121)\n",
    "ax = plt.gca()\n",
    "fname = '../../data/ngc628/ngc0628_heracles_mom0.fits'\n",
    "data = fits.getdata(fname)\n",
    "im = plt.imshow(np.squeeze(data), origin='lower', cmap='jet')"
   ]
  },
  {
   "cell_type": "code",
   "execution_count": null,
   "metadata": {},
   "outputs": [],
   "source": [
    "fig = plt.figure(figsize=[24,16])\n",
    "plt.subplot(121)\n",
    "im = plt.imshow(np.squeeze(data), origin='lower', cmap='jet', vmin=3.5, vmax=5)"
   ]
  },
  {
   "cell_type": "code",
   "execution_count": null,
   "metadata": {},
   "outputs": [],
   "source": [
    "data"
   ]
  },
  {
   "cell_type": "code",
   "execution_count": null,
   "metadata": {},
   "outputs": [],
   "source": []
  },
  {
   "cell_type": "code",
   "execution_count": null,
   "metadata": {},
   "outputs": [],
   "source": [
    "fig = plt.figure(figsize=[24,16])\n",
    "plt.subplot(121)\n",
    "ax = plt.gca()\n",
    "fname = '../../data/ngc628/NGC0628_WISE_3.4.fits'\n",
    "data = fits.getdata(fname)\n",
    "im = plt.imshow(np.squeeze(data[1100:1500, 1100:1500]), origin='lower', cmap='jet', vmin=0.00002, vmax= 0.00013)"
   ]
  },
  {
   "cell_type": "code",
   "execution_count": null,
   "metadata": {},
   "outputs": [],
   "source": [
    "fig = plt.figure(figsize=[24,16])\n",
    "plt.subplot(121)\n",
    "ax = plt.gca()\n",
    "fname = '../../data/ngc628/NGC0628_Spitzer_3.6.fits.gz'\n",
    "data = fits.getdata(fname)\n",
    "im = plt.imshow(np.squeeze(data[2100:2700, 2100:2700]), origin='lower', cmap='jet', vmax=0.00007, vmin=0.000005)\n",
    "plt.scatter(300, 300, 50, 'b')"
   ]
  },
  {
   "cell_type": "code",
   "execution_count": null,
   "metadata": {},
   "outputs": [],
   "source": [
    "spitzer = np.squeeze(data[2100:2700, 2100:2700])"
   ]
  },
  {
   "cell_type": "code",
   "execution_count": null,
   "metadata": {},
   "outputs": [],
   "source": [
    "spitzer[300][300]"
   ]
  },
  {
   "cell_type": "code",
   "execution_count": null,
   "metadata": {},
   "outputs": [],
   "source": [
    "dist = np.zeros(spitzer.shape)\n",
    "for i in range(0, 600):\n",
    "    for j in range(0, 600):\n",
    "        dist[i][j] = np.sqrt((i-300)**2 + (j-300)**2)"
   ]
  },
  {
   "cell_type": "code",
   "execution_count": null,
   "metadata": {},
   "outputs": [],
   "source": [
    "fig = plt.figure(figsize=[24,16])\n",
    "plt.subplot(121)\n",
    "ax = plt.gca()\n",
    "im = plt.imshow(dist, origin='lower', cmap='jet')\n",
    "plt.scatter(300, 300, 50, 'b')"
   ]
  },
  {
   "cell_type": "code",
   "execution_count": null,
   "metadata": {},
   "outputs": [],
   "source": [
    "substr = spitzer.copy()\n",
    "for i in range(0, 600):\n",
    "    for j in range(0, 600):\n",
    "        substr[i][j] -= spitzer[300][300]*np.exp(-dist[i][j]/50.)"
   ]
  },
  {
   "cell_type": "code",
   "execution_count": null,
   "metadata": {},
   "outputs": [],
   "source": [
    "fig = plt.figure(figsize=[24,16])\n",
    "plt.subplot(121)\n",
    "ax = plt.gca()\n",
    "im = plt.imshow(np.log10(np.abs(substr)), origin='lower', cmap='jet', vmax=-3.7, vmin=-7)\n",
    "plt.scatter(300, 300, 50, 'b')\n",
    "plt.colorbar(im)"
   ]
  },
  {
   "cell_type": "code",
   "execution_count": null,
   "metadata": {},
   "outputs": [],
   "source": [
    "fig = plt.figure(figsize=[24,16])\n",
    "plt.subplot(121)\n",
    "ax = plt.gca()\n",
    "im = plt.imshow(np.log10(np.abs(substr))[200:400, 200:400], origin='lower', cmap='jet', vmax=-4.2, vmin=-4.5)\n",
    "# plt.scatter(300, 300, 50, 'b')\n",
    "plt.colorbar(im)"
   ]
  },
  {
   "cell_type": "code",
   "execution_count": null,
   "metadata": {},
   "outputs": [],
   "source": []
  },
  {
   "cell_type": "code",
   "execution_count": null,
   "metadata": {},
   "outputs": [],
   "source": []
  },
  {
   "cell_type": "code",
   "execution_count": null,
   "metadata": {},
   "outputs": [],
   "source": []
  },
  {
   "cell_type": "code",
   "execution_count": null,
   "metadata": {},
   "outputs": [],
   "source": []
  },
  {
   "cell_type": "code",
   "execution_count": null,
   "metadata": {},
   "outputs": [],
   "source": []
  },
  {
   "cell_type": "markdown",
   "metadata": {},
   "source": [
    "Сравнивать будем с результатами из [The Star Formation Efficiency in Nearby Galaxies: Measuring Where Gas Forms Stars Effectively](http://iopscience.iop.org/article/10.1088/0004-6256/136/6/2782/pdf) Leroy 2008\n",
    "\n",
    "Цитата про S04 модель, которая объясняет чем у них плохо:\n",
    "> Inner galaxy disks will tend\n",
    "to have higher metallicities, which will lower ΣS04. We already\n",
    "find Σgas > ΣS04 over most inner disks; therefore, missing Z\n",
    "seems unlikely to seriously bias our results."
   ]
  },
  {
   "cell_type": "code",
   "execution_count": null,
   "metadata": {},
   "outputs": [],
   "source": [
    "# Image('Leroy2008_maps.png')"
   ]
  },
  {
   "cell_type": "code",
   "execution_count": null,
   "metadata": {},
   "outputs": [],
   "source": [
    "# Image('Leroy2008_results.png')"
   ]
  },
  {
   "cell_type": "markdown",
   "metadata": {},
   "source": [
    "* [THINGS: THE H i NEARBY GALAXY SURVEY](http://iopscience.iop.org/article/10.1088/0004-6256/136/6/2563/pdf) Walter 2008 - $I_{HI}, V_{HI}, \\sigma_{HI}$\n",
    "* https://arxiv.org/pdf/1612.05272.pdf - velocity dispersion of the HI gas, and early work with the WSRT indicated a value around 10 km/s, with a slight enhancement in star forming regions as found for NGC 628 by Shostak and van der Kruit (1984)\n",
    "* [THE BIMA SURVEY OF NEARBY GALAXIES. I. THE RADIAL DISTRIBUTION OF CO EMISSION IN SPIRAL GALAXIES](http://iopscience.iop.org/article/10.1086/323221/pdf)-$I_{CO}$\n",
    "* [THE VIRUS-P EXPLORATION OF NEARBY GALAXIES (VENGA): SURVEY DESIGN, DATA PROCESSING, AND SPECTRAL ANALYSIS METHODS](http://iopscience.iop.org/article/10.1088/0004-6256/145/5/138/pdf) - $V_*, \\sigma_*$\n",
    "* [THE VIRUS-P EXPLORATION OF NEARBY GALAXIES (VENGA): THE XCO GRADIENT IN NGC 628](http://iopscience.iop.org/article/10.1088/0004-637X/764/2/117/pdf) - Данные по $SFR$, $I_{CO}$ из HERACLES, BIMA, CARMS, карта металличности, изучение $X_{CO}$\n",
    ">We caution against adopting a single XCO value when large changes in gas surface density\n",
    "or metallicity are present.\n",
    "* [The JCMT Nearby Galaxies Legacy Survey – IV. Velocity dispersions in the molecular interstellar medium in spiral galaxies](https://ui.adsabs.harvard.edu/#abs/2011MNRAS.410.1409W/abstract)- $\\sigma_{CO(3-2)}$\n",
    ">CO J = 3–2 velocity dispersion for six galaxies which are not members of the Virgo cluster. (a) NGC 628. Contour levels are 2.5, 5 and 10 km s−1\n",
    "and the colour scale peak is 15 km s−1.\n",
    "* [The extended law of star formation: the combined role of gas and stars](https://arxiv.org/pdf/1702.02609.pdf) Dib (2016) - **обязательно цитировать**, ибо они делают очень похожее и для той же галактики с теми же данными! Но при этом там непонятная турбулентность, результаты похожи на читерские, пикселей всего 90 (The number of resolution elements in NGC 628 that simultaneously have σ∗ measurements in VENGA as well as measured values of ΣSFR,obs is 91 - ?), звезды у них изотермическая жидкость, т.е. дисперсии во все стороны равны.\n",
    "* [COMPARING C ii, H i, AND CO DYNAMICS OF NEARBY GALAXIES](https://arxiv.org/pdf/1604.08777.pdf)- есть карта скоростей CII, HI и CO\n",
    "* [CO(J = 3 − 2) On-the-fly Mapping of the Nearby Spiral Galaxies NGC 628 and NGC 7793: Spatially-resolved CO(J = 3 − 2) Star-formation Law](https://arxiv.org/pdf/1512.04159.pdf)-$I_{CO(3-2)}$\n",
    "* [HI AND CO VELOCITY DISPERSIONS IN NEARBY GALAXIES](https://arxiv.org/pdf/1511.06006.pdf) - радиальные профили $\\sigma_{HI}, \\sigma_{CO}$, можно использовать для проверки\n",
    "* [HERACLES: THE HERA CO LINE EXTRAGALACTIC SURVEY](http://iopscience.iop.org/article/10.1088/0004-6256/137/6/4670/pdf) Leroy 2009 - есть карта $I_{CO(2-1)}$\n",
    "* [SCALING RELATIONS OF THE PROPERTIES FOR CO RESOLVED STRUCTURES IN NEARBY SPIRAL GALAXIES](http://iopscience.iop.org/article/10.1088/0004-637X/808/1/99/pdf) Leroy 2015 - $\\Sigma_{H_2}, \\Sigma_{SFR}$ (правда только для верхней части галактики судя по всему)\n",
    "* [THE CO-TO-H2 CONVERSION FACTOR AND DUST-TO-GAS RATIO ON KILOPARSEC SCALES IN NEARBY GALAXIES](http://iopscience.iop.org/article/10.1088/0004-637X/777/1/5/pdf) - Данные по $\\alpha_{CO}, \\Sigma_{dust}$\n",
    "* [DISCOVERY OF RECENT STAR FORMATION IN THE EXTREME OUTER REGIONS OF DISK GALAXIES](http://iopscience.iop.org/article/10.1086/311626/pdf) - $H_{\\alpha}$ картинка\n",
    "* [The JCMT Nearby Galaxies Legacy Survey. VII. Hα imaging and massive star formation properties](https://arxiv.org/pdf/1203.0001.pdf) - картинка $H_{\\alpha}$\n",
    "* [The Westerbork SINGS survey III. Global magnetic field topology](https://www.aanda.org/articles/aa/pdf/2010/06/aa13375-09.pdf) - В случае, если нас заинтересует - есть данные по магнитному полю\n",
    "* [Hα Kinematics of the SINGS Nearby Galaxies Survey](https://arxiv.org/pdf/astro-ph/0601376.pdf) - $H_{\\alpha}$ кривая вращения\n",
    "* [The JCMT Nearby Galaxies Legacy Survey – VIII. CO data and the LCO(3−2)–LFIR correlation in the SINGS sample](https://oup.silverchair-cdn.com/oup/backfile/Content_public/Journal/mnras/424/4/10.1111_j.1365-2966.2012.21453.x/1/424-4-3050.pdf?Expires=1504015928&Signature=LkroryIoCFcC7KwEtI73WJ5DKK3qzRrM56WiybgKCpcejAtQaaqbqzVcZkEUnYo3u3M8-nsM4AWNjXtjV3nJHRi5FU1dqAQ4VqritmCvXw1hbstOSTNWjsZzPNiD9TAehKbLPAblc6EFF0338NS7vyGp8UUNWq95zIeqA0FIjM4UxtotKVyOfjsMruYY4PjjJCbF8ItUsFFXelMiri2JlKUuVS6Lz2pmfxj8UntbHhqzVBawtdWD4IV0BTLPHN6oB58hwZ~3lVXurPXOkm1C9a-GBaZCQgEucyDCTjIPoJJWnE1fY7z5ouaRL6BsJsdHEe3XTr9F9uW387tcailomQ__&Key-Pair-Id=APKAIUCZBIA4LVPAVW3Q) - есть карта $I_{CO(3-2)}, V_{CO(3-2)}$\n",
    "* Heidt 2001 https://www.aanda.org/articles/aa/pdf/2001/10/aa10227.pdf - Фотометрия балдж 13-20 arcsec\n",
    "* http://iopscience.iop.org/article/10.1088/0004-6256/142/1/16/pdf - Фотометрия балдж вроде порядка 15\n",
    "* [http://www.oulu.fi/astronomy/S4G_PIPELINE4/MAIN/decomp0053.html#entry0003](S4G) - там тоже видно, что балдж не такой большой (точно не скажу, надо вспоминать, там scale есть)\n",
    "* https://arxiv.org/pdf/1506.01653.pdf - $M_*,SFR, extinction$ maps\n",
    "* SPITZER изображение http://www.spitzer.caltech.edu/images/2257-sig06-018c-NASA-s-Spitzer-Space-Telescope-View-of-M74\n",
    "* На заглавной https://guaix.fis.ucm.es/sings есть куча картинок NGC628 в полосах FUV 1528 A,\tNUV   2271 A,\tB   0.45 μm,\tV   0.55 μm,\tR   0.66 μm,\tI   0.81 μm, IRAC1   3.6 μm,\n",
    "\tIRAC2   4.5 μm,IRAC3   5.8 μm,\tIRAC4   8.0 μm,\tMIPS1   24 μm,\tMIPS2   70 μm. \n",
    "* S4G $S^4G$ http://www.oulu.fi/astronomy/S4G_PIPELINE4/MAIN/decomp0053.html#entry0003\n",
    "* [Parameters of the brightest star formation regions in the two principal spiral arms of NGC 628](https://arxiv.org/pdf/1310.3690.pdf) - спиральные рукава и star-forming regions\n",
    "* [Late-type galaxies observed with SAURON: two-dimensional stellar and emission-line kinematics of 18 spirals](https://academic.oup.com/mnras/article/367/1/46/1020614/Late-type-galaxies-observed-with-SAURON-two) - странные диспресии и скорости\n",
    "* [The inner mass distribution of late-type spiral galaxies from SAURON stellar kinematic maps](https://arxiv.org/pdf/1609.08700.pdf) - еще более странные дисперсии и скорости. Есть кривая вращения, но как-то уж очень странно извлеченная.\n",
    "* [Hα kinematics of the SINGS nearby galaxies survey – I](http://adsabs.harvard.edu/abs/2006MNRAS.367..469D)\n",
    "* http://iopscience.iop.org/article/10.1088/0004-6256/141/1/24/pdf Vollmer Leroy 2011 - турбулентная модель и кривая вращения\n",
    "* [THE HIERARCHICAL DISTRIBUTION OF THE YOUNG STELLAR CLUSTERS IN SIX LOCAL STAR FORMING GALAXIES](https://arxiv.org/pdf/1704.06321.pdf) и [PLANETARY NEBULAE IN FACE-ON SPIRAL GALAXIES. III. PLANETARY NEBULA KINEMATICS AND DISK MASS](http://iopscience.iop.org/article/10.1088/0004-637X/705/2/1686/pdf) - есть кривая вращения и много разноцветных кружков YSO\n",
    "* [HERACLES: THE HERA CO LINE EXTRAGALACTIC SURVEY](http://iopscience.iop.org/article/10.1088/0004-6256/137/6/4670/pdf) HERACLES CO Leroy 2009 - M_H2/M_HI = 0.24, M_H2/M_* = 0.1, (M_H2 + M_HI)/M_* = 0.52, ну и карта уровней CO само собой\n",
    "* [WHAT IS DRIVING THE H i VELOCITY DISPERSION?](http://iopscience.iop.org/article/10.1088/0004-6256/137/5/4424/pdf) Tamburro 2009 - THINGS velocity resolution of the H i data cubes - 2.6 km/s, H i mass-weighted median of the H i velocity dispersion - 8.0 km/s, LEDA Hubble Type - S?, есть Radial profiles of H i velocity dispersion \n",
    "* [THE STAR FORMATION EFFICIENCY IN NEARBY GALAXIES: MEASURING WHERE GAS FORMS STARS EFFECTIVELY](http://iopscience.iop.org/article/10.1088/0004-6256/136/6/2782/pdf) Leroy 2008 - M_B = −20.0, logM* = 10.1, logM_HI = 9.7, logM_H2 = 9.0, SFR=0.807 Msun/yr, $l_*\\approx l{SFR} \\approx l_{CO}$, таблица профилей $\\Sigma_{HI},\\Sigma_{H2}, \\Sigma_{*}, FUV,24\\mu m$\n",
    "* [THINGS: THE H i NEARBY GALAXY SURVEY](http://iopscience.iop.org/article/10.1088/0004-6256/136/6/2563/pdf) Walter 2008 -  M 74, UGC 1149 RA - 01 36 41.8, Decl. +15 47 00, D-7.3 [Karachentsev et al. 2004], m_B=9.35, PA=20 [Tamburro et al. 2008],  12+log(O/H) - 8.33 [Moustakas 2006], SFR-1.21 [Lee 2006], параметры кубов (их два - NA и RO), $M_{HI} = 3.8\\times 10^9$\n",
    "* [KINGFISH—Key Insights on Nearby Galaxies: A Far-Infrared Survey with Herschel: Survey Description and Image Atlas](http://iopscience.iop.org/article/10.1086/663818/pdf) KENNICUTT 2011 - SAc, size 10.5x9.5 arcmin, dist method SN II, SFR - 0.68, high surface brightness\n",
    "* [ARM AND INTERARM STAR FORMATION IN SPIRAL GALAXIES](http://iopscience.iop.org/article/10.1088/0004-637X/725/1/534/pdf) Foyle 2010 - изучают спиральный узор, много красивых карт и слов про узор (сколько руковов), но главное\n",
    "> Taken together these results show that interarm star formation\n",
    "is significant and that the spiral arms gather the gas into\n",
    "regions of higher surface densities, which leads to an enhanced\n",
    "molecular fraction, but they do not “shock trigger” star formation\n",
    "nor molecular gas formation. Thus, spiral arms act only to\n",
    "reorganize the material in the disk out of which stars form.\n",
    "* [REGULATION OF STAR FORMATION RATES IN MULTIPHASE GALACTIC DISKS: A THERMAL/DYNAMICAL EQUILIBRIUM MODEL](http://iopscience.iop.org/article/10.1088/0004-637X/721/2/975/pdf) Ostriker 2010 - довольно важная работа, interstellar medium (ISM) heating by stellar UV plays a key role. By requiring that thermal and (vertical) dynamical equilibrium are simultaneously satisfied within the diffuse gas, and that stars form at a rate proportional to the mass of the self-gravitating component. Получилось неплохое согласие с наблюдениями в 628, но там все азимутально усреднено, масштаб в логарифме и толщина постоянна. Но думаю упомянуть стоит в работе.\n",
    "* [A HIGH-DISPERSION MOLECULAR GAS COMPONENT IN NEARBY GALAXIES](http://iopscience.iop.org/article/10.1088/0004-6256/146/6/150/pdf) Caldu-Primo 2013 - изучали профили диспресий и есть вывод, который можно использовать чтобы обосновать одинаковую дисперсию для HI и CO (также  Combes & Becquaert, 1997):\n",
    "> similarity of the CO and H i dispersions suggests that the two\n",
    "components are well mixed, and are only two different phases\n",
    "of the same kinematical gas component\n",
    "* https://arxiv.org/pdf/1606.07077.pdf 2016 - есть CO карта с разрешением 45-60 пк.\n",
    "* [H I AND CO VELOCITY DISPERSIONS IN NEARBY GALAXIES](http://iopscience.iop.org/article/10.3847/0004-6256/151/1/15/pdf) Mogotsi 2016 - есть средние дисперсии по HI и H2 и соотношение между ними и средняя разница (все азимутально усредненное). Дисперсии очень мало отличаются.\n",
    "* обязательно надо что-то процитировать из http://iopscience.iop.org/article/10.1088/0004-637X/808/1/99/pdf (большая работа, много упоминаний)\n",
    "* пыль и $X_{CO}$ также исследовались в http://iopscience.iop.org/article/10.1088/0004-637X/756/2/138/pdf, большая яработа, может быть важна (есть карты пыли) \n",
    "* [A REVISED PLANETARY NEBULA LUMINOSITY FUNCTION DISTANCE TO NGC 628 USING MUSE](https://arxiv.org/pdf/1611.09369.pdf) - самые новые данные по расстоянию, хотя точность меньше чем у тех где 8.6"
   ]
  },
  {
   "cell_type": "markdown",
   "metadata": {},
   "source": [
    "Еще данных:"
   ]
  },
  {
   "cell_type": "code",
   "execution_count": null,
   "metadata": {},
   "outputs": [],
   "source": [
    "# http://iopscience.iop.org/article/10.1088/0004-6256/140/5/1194/pdf - Bigiel2010\n",
    "# D-7.3, i-7, PA=20, r25 = 4.9 arcmin, type - Sc\n",
    "# Image('Bigiel2010.png', width=500)"
   ]
  },
  {
   "cell_type": "markdown",
   "metadata": {},
   "source": [
    "[THE FINE-SCALE STRUCTURE OF THE NEUTRAL INTERSTELLAR MEDIUM IN NEARBY GALAXIES](http://iopscience.iop.org/article/10.1088/0004-6256/141/1/23/pdf) Bagetakos 2011 - изучают HI holes:\n",
    "\n",
    "> there must be sufficient contrast (at least a 50% drop in\n",
    "surface brightness) between the hole and its immediate\n",
    "surroundings & 4. the shape of the hole in pV space must be clearly defined\n",
    "and adequately described by an ellipse\n",
    "\n",
    "Также анализируют высоту (средняя - 500 пк ), но там все как обычно по методам. Дыр найдено примерно 100\n",
    "\n",
    "> NGC 628 is a grand-design Sc spiral galaxy located at a\n",
    "distance of 7.3 Mpc and is seen almost completely face-on.\n",
    "We detected 104 holes in its H i layer, with diameters ranging\n",
    "from 0.24 kpc (the resolution limit) to 2 kpc. Only a small\n",
    "fraction of these holes are type 3 (≈5%). Several supershells\n",
    "were detected, however four cases (holes number 24, 45, 47,\n",
    "and 99) are probably superpositions of two or more holes."
   ]
  },
  {
   "cell_type": "code",
   "execution_count": null,
   "metadata": {},
   "outputs": [],
   "source": [
    "# Image('holes.png', width=600)"
   ]
  },
  {
   "cell_type": "markdown",
   "metadata": {},
   "source": [
    "[A TEST OF STAR FORMATION LAWS IN DISK GALAXIES. II. DEPENDENCE ON DYNAMICAL PROPERTIES](http://iopscience.iop.org/article/10.1088/0004-637X/787/1/68/pdf) Suwannajak 2014 - есть кривая вращения и сравнение 6 законов звездообразования (K-S,Constant Molecular,KM05,KMT09,Gas-Ω, GMC Collision law), которые все неплохо согласуются."
   ]
  },
  {
   "cell_type": "code",
   "execution_count": null,
   "metadata": {},
   "outputs": [],
   "source": [
    "# Image('Suwannajak2014.png')"
   ]
  },
  {
   "cell_type": "markdown",
   "metadata": {},
   "source": [
    "# Данные"
   ]
  },
  {
   "cell_type": "code",
   "execution_count": null,
   "metadata": {},
   "outputs": [],
   "source": [
    "os.chdir(data_path)"
   ]
  },
  {
   "cell_type": "markdown",
   "metadata": {
    "heading_collapsed": true
   },
   "source": [
    "## Расстояния (THINGS/VENGA область)"
   ]
  },
  {
   "cell_type": "markdown",
   "metadata": {
    "hidden": true
   },
   "source": [
    "Рассчитаем покоординатно расстояние от центра галактики.\n",
    "\n",
    "https://physics.stackexchange.com/questions/224950/how-can-i-convert-right-ascension-and-declination-to-distances"
   ]
  },
  {
   "cell_type": "code",
   "execution_count": null,
   "metadata": {
    "hidden": true
   },
   "outputs": [],
   "source": [
    "%%time\n",
    "cposition= SkyCoord('24.174042  15.783472', frame='fk5', unit='deg', equinox='J2000.0')\n",
    "dist = np.zeros((55, 155))\n",
    "\n",
    "for i in range(len(dist)):\n",
    "    for j in range(len(dist[0])):\n",
    "        scoord = sgrid[i][j]\n",
    "        dist[i][j] = cposition.separation(scoord).arcsec"
   ]
  },
  {
   "cell_type": "code",
   "execution_count": null,
   "metadata": {
    "hidden": true
   },
   "outputs": [],
   "source": [
    "X,Y = np.meshgrid(np.arange(0.,155,1), np.arange(0.,55,1))\n",
    "plt.figure(figsize=[18, 6])\n",
    "quadmesh = plt.pcolormesh(X, Y, dist, cmap=cm.Blues)\n",
    "plt.colorbar()\n",
    "quadmesh.cmap.set_under('white')\n",
    "CS = plt.contour(X, Y, dist, levels=[50, 100, 150, 500, 750])"
   ]
  },
  {
   "cell_type": "code",
   "execution_count": null,
   "metadata": {
    "hidden": true
   },
   "outputs": [],
   "source": [
    "# dist_[28][0] + dist_[28][-1], dist_[0][81] + dist_[-1][81]"
   ]
  },
  {
   "cell_type": "code",
   "execution_count": null,
   "metadata": {
    "hidden": true
   },
   "outputs": [],
   "source": [
    "# fname = '../../data/ngc628/blanc_fits/NGC0628_map_ha_corr.fits'\n",
    "# data = fits.getdata(fname)\n",
    "# plt.figure(figsize=[18, 6])\n",
    "# quadmesh = plt.pcolormesh(X, Y, np.squeeze(data)[4:-1, 3:-2], cmap='sauron')\n",
    "# quadmesh.set_clim(vmin=0., vmax=1e-14)\n",
    "# # quadmesh.cmap.set_under('white')\n",
    "# plt.colorbar()\n",
    "# CS = plt.contour(X, Y, dist, levels=[50, 100, 150, 500, 750])\n",
    "\n",
    "# plt.show()"
   ]
  },
  {
   "cell_type": "code",
   "execution_count": null,
   "metadata": {
    "hidden": true
   },
   "outputs": [],
   "source": [
    "np.save('dist.npy', dist)"
   ]
  },
  {
   "cell_type": "markdown",
   "metadata": {
    "collapsed": true,
    "heading_collapsed": true
   },
   "source": [
    "## Дисперсии $\\sigma_{\\rm s}$ (VENGA)"
   ]
  },
  {
   "cell_type": "markdown",
   "metadata": {
    "hidden": true
   },
   "source": [
    "$$\\sigma^2_{los, \\phi} = [\\sigma_R^2\\sin^2\\phi + \\sigma^2_{\\varphi}\\cos^2\\phi]\\sin^2 i + \\sigma_z^2\\cos^2 i,$$ where $\\phi$ is the angle between the slit and the major axis of the\n",
    "projected stellar disc (the position angle).\n",
    "\n",
    "TODO: разрешение куба в пространственном и по скоростям, учеть другой угол и расстояние если надо - у них inclination of i = 8.7 and a distance of 8.6 Mpc (Herrmann et al. 2008).\n",
    "\n",
    "Как и с SFR, cперва уберем точки и лишнее, применим dilation\n",
    "\n",
    "VENGA 2013: At the assumed distance of NGC 628 the VENGA spatial resolution corresponds to ∼235 pc (=5.6\" FWHM, но пиксели же???)"
   ]
  },
  {
   "cell_type": "markdown",
   "metadata": {
    "hidden": true
   },
   "source": [
    "Fits, который прислал Blanc:"
   ]
  },
  {
   "cell_type": "code",
   "execution_count": null,
   "metadata": {
    "hidden": true
   },
   "outputs": [],
   "source": [
    "from astropy.io import fits\n",
    "from mpl_toolkits.axes_grid1 import make_axes_locatable\n",
    "\n",
    "fig = plt.figure(figsize=[24,16])\n",
    "ax = plt.gca()\n",
    "fname = '../../data/ngc628/blanc_fits/NGC0628_map_sigstar.fits'\n",
    "data = fits.getdata(fname)\n",
    "im = plt.imshow(np.squeeze(data), origin='lower', cmap='jet')\n",
    "\n",
    "plt.title(fname, fontsize=19)\n",
    "divider = make_axes_locatable(ax)\n",
    "cax = divider.append_axes(\"right\", size=\"5%\", pad=0.05)\n",
    "\n",
    "plt.colorbar(im, cax=cax)\n",
    "\n",
    "plt.show()"
   ]
  },
  {
   "cell_type": "code",
   "execution_count": null,
   "metadata": {
    "hidden": true
   },
   "outputs": [],
   "source": [
    "data = np.squeeze(data)\n",
    "data = np.nan_to_num(data)\n",
    "data.shape"
   ]
  },
  {
   "cell_type": "markdown",
   "metadata": {
    "hidden": true
   },
   "source": [
    "Т.е. 60 на 160 pix. Посмотрим в сауроновских цветах и при оригинальном колорбаре, а также нанесем сетку:"
   ]
  },
  {
   "cell_type": "code",
   "execution_count": null,
   "metadata": {
    "hidden": true
   },
   "outputs": [],
   "source": [
    "# X,Y = np.meshgrid(np.arange(0.,len(data[0]),1), np.arange(0.,len(data),1))\n",
    "# Z = data\n",
    "\n",
    "# # ax1,ax2 = plt.subplots(ncols=2, nrows=1, figsize=[16, 8])\n",
    "# fig = plt.figure(figsize=[38, 12])\n",
    "# quadmesh = plt.pcolormesh(X, Y, Z, cmap='sauron')\n",
    "# quadmesh.set_clim(vmin=6., vmax=80.)\n",
    "\n",
    "# # CS = plt.contour(X, Y, Z, levels=[5000, 10000, 20000])\n",
    "# # plt.clabel(CS, inline=1, fontsize=10)\n",
    "\n",
    "# plt.colorbar()\n",
    "\n",
    "# ax = plt.gca()\n",
    "\n",
    "# # Major ticks\n",
    "# ax.set_xticks(np.arange(0, 160, 1));\n",
    "# ax.set_yticks(np.arange(0, 60, 1));\n",
    "\n",
    "# # # Labels for major ticks\n",
    "# # ax.set_xticklabels(np.arange(1, 11, 1));\n",
    "# # ax.set_yticklabels(np.arange(1, 11, 1));\n",
    "\n",
    "# # # Minor ticks\n",
    "# # ax.set_xticks(np.arange(-.5, 10, 0.5), minor=True);\n",
    "# # ax.set_yticks(np.arange(-.5, 10, 0.5), minor=True);\n",
    "\n",
    "# # Gridlines based on minor ticks\n",
    "# ax.grid(which='major', color='w', linestyle='-', linewidth=2)\n",
    "# # ax.grid(which='minor', color='w', linestyle='-', linewidth=1)"
   ]
  },
  {
   "cell_type": "code",
   "execution_count": null,
   "metadata": {
    "hidden": true
   },
   "outputs": [],
   "source": [
    "# Image('VENGA_sig_los.png', width=1350)"
   ]
  },
  {
   "cell_type": "markdown",
   "metadata": {
    "hidden": true
   },
   "source": [
    "Все очень похоже, хотя они явно снизу убрали часть пикселей (а также слева, справа и сверху). Это согласуется с анализом точек на картинке со статьи, где количество пикселей получилось равным (54L, 154L) (по одному видимо на конце картинки не учли)."
   ]
  },
  {
   "cell_type": "code",
   "execution_count": null,
   "metadata": {
    "hidden": true
   },
   "outputs": [],
   "source": [
    "sig_los = Z[4:-1, 3:-2]"
   ]
  },
  {
   "cell_type": "code",
   "execution_count": null,
   "metadata": {
    "hidden": true
   },
   "outputs": [],
   "source": [
    "np.save('sig_los.npy', sig_los)"
   ]
  },
  {
   "cell_type": "markdown",
   "metadata": {
    "hidden": true
   },
   "source": [
    "Теперь надо $\\sigma_R$ извлечь, используя формулу выше.\n",
    "\n",
    "Рассчитаем углы $\\phi$ и проверим что верно:"
   ]
  },
  {
   "cell_type": "code",
   "execution_count": null,
   "metadata": {
    "hidden": true
   },
   "outputs": [],
   "source": [
    "import math\n",
    "\n",
    "def dotproduct(v1, v2):\n",
    "    return sum((a*b) for a, b in zip(v1, v2))\n",
    "\n",
    "def length(v):\n",
    "    return math.sqrt(dotproduct(v, v))\n",
    "\n",
    "def angle(v1, v2):\n",
    "    return math.acos(dotproduct(v1, v2) / (length(v1) * length(v2)))"
   ]
  },
  {
   "cell_type": "code",
   "execution_count": null,
   "metadata": {
    "hidden": true
   },
   "outputs": [],
   "source": [
    "phi = np.zeros(sig_los.shape)\n",
    "\n",
    "for i in range(len(sig_los[0])):\n",
    "    for j in range(len(sig_los)):\n",
    "        x, y  = 813.5*155./1553.-i, 253.5*55./513.-j\n",
    "        phi[j][i] = angle(np.array([x,y]), np.array([155., 155.*np.sin(22.5*np.pi/180.)]))*180./np.pi"
   ]
  },
  {
   "cell_type": "markdown",
   "metadata": {
    "hidden": true
   },
   "source": [
    "TODO: проверить, почему приходится дополнительно делать вычитание при отрисовке нулевой линии"
   ]
  },
  {
   "cell_type": "code",
   "execution_count": null,
   "metadata": {
    "hidden": true,
    "scrolled": false
   },
   "outputs": [],
   "source": [
    "X,Y = np.meshgrid(np.arange(0.,len(sig_los[0]),1), np.arange(0.,len(sig_los),1))\n",
    "\n",
    "plt.figure(figsize=[24, 8])\n",
    "quadmesh = plt.pcolormesh(X, Y, phi, cmap=cm.jet)\n",
    "# quadmesh.set_clim(vmin=6.0, vmax=80.)\n",
    "plt.colorbar()\n",
    "quadmesh.cmap.set_under('white')\n",
    "quadmesh.cmap.set_over('white')\n",
    "\n",
    "CS = plt.contour(X, Y, phi, levels=[45., 90., 135.], aspect='auto')\n",
    "\n",
    "plt.plot([0., 160.], [0.-4.0, 160.*np.sin(22.5*np.pi/180.)-4.0], '-', lw=3)\n",
    "plt.scatter([813.5*155./1553.],[253.5*55./513.],[150.])"
   ]
  },
  {
   "cell_type": "code",
   "execution_count": null,
   "metadata": {
    "hidden": true
   },
   "outputs": [],
   "source": [
    "sig_r_max = lambda sig, phi_: sig/np.sqrt(sin_i**2 * np.sin(phi_*np.pi/180.)**2 + 0.25*sin_i**2*np.cos(phi_*np.pi/180.)**2 + 0.09*cos_i**2) \n",
    "sig_r_min = lambda sig, phi_: sig/np.sqrt(sin_i**2 + 0.49*cos_i**2)"
   ]
  },
  {
   "cell_type": "code",
   "execution_count": null,
   "metadata": {
    "hidden": true
   },
   "outputs": [],
   "source": [
    "sig_R_max = np.zeros(sig_los.shape)\n",
    "\n",
    "for i in range(len(sig_los)):\n",
    "    for j in range(len(sig_los[0])):\n",
    "        sig_R_max[i][j] = sig_r_max(sig_los[i][j], phi[i][j])\n",
    "        \n",
    "sig_R_min = np.zeros(sig_los.shape)\n",
    "\n",
    "for i in range(len(sig_los)):\n",
    "    for j in range(len(sig_los[0])):\n",
    "        sig_R_min[i][j] = sig_r_min(sig_los[i][j], phi[i][j])"
   ]
  },
  {
   "cell_type": "code",
   "execution_count": null,
   "metadata": {
    "hidden": true
   },
   "outputs": [],
   "source": [
    "plt.figure(figsize=[24, 12])\n",
    "plt.subplot(2,1,1)\n",
    "quadmesh = plt.pcolormesh(X, Y, sig_R_min, cmap=cm.jet)\n",
    "quadmesh.set_clim(vmin=1.0, vmax=250.)\n",
    "plt.colorbar()\n",
    "quadmesh.cmap.set_under('white')\n",
    "quadmesh.cmap.set_over('white')\n",
    "plt.title(r'$\\sigma_R^{min}$')\n",
    "\n",
    "plt.subplot(2,1,2)\n",
    "quadmesh = plt.pcolormesh(X, Y, sig_R_max, cmap=cm.jet)\n",
    "quadmesh.set_clim(vmin=1.0, vmax=250.)\n",
    "plt.colorbar()\n",
    "quadmesh.cmap.set_under('white')\n",
    "quadmesh.cmap.set_over('white')\n",
    "plt.title(r'$\\sigma_R^{max}$')\n",
    "plt.show()"
   ]
  },
  {
   "cell_type": "code",
   "execution_count": null,
   "metadata": {
    "hidden": true
   },
   "outputs": [],
   "source": [
    "np.save('sig_R_max.npy', sig_R_max)\n",
    "np.save('sig_R_min.npy', sig_R_min)"
   ]
  },
  {
   "cell_type": "markdown",
   "metadata": {
    "hidden": true
   },
   "source": [
    "Ошибки:"
   ]
  },
  {
   "cell_type": "code",
   "execution_count": null,
   "metadata": {
    "hidden": true
   },
   "outputs": [],
   "source": [
    "# fig = plt.figure(figsize=[24,16])\n",
    "# ax = plt.gca()\n",
    "# fname = '../../data/ngc628/blanc_fits/NGC0628_map_siggas_err.fits'\n",
    "# data = fits.getdata(fname)\n",
    "# im = plt.imshow(np.squeeze(data), origin='lower', cmap='jet')\n",
    "\n",
    "# plt.title(fname, fontsize=19)\n",
    "# divider = make_axes_locatable(ax)\n",
    "# cax = divider.append_axes(\"right\", size=\"5%\", pad=0.05)\n",
    "\n",
    "# plt.colorbar(im, cax=cax)\n",
    "\n",
    "# plt.show()"
   ]
  },
  {
   "cell_type": "markdown",
   "metadata": {
    "hidden": true
   },
   "source": [
    "Подсчитаем относительную ошибку:"
   ]
  },
  {
   "cell_type": "code",
   "execution_count": null,
   "metadata": {
    "hidden": true
   },
   "outputs": [],
   "source": [
    "fig = plt.figure(figsize=[24,16])\n",
    "ax = plt.gca()\n",
    "fname = '../../data/ngc628/blanc_fits/NGC0628_map_siggas_err.fits'\n",
    "data_sl = fits.getdata(fname)\n",
    "rel_sl_err = np.divide(np.squeeze(data_sl), np.squeeze(data))\n",
    "im = plt.imshow(rel_sl_err, origin='lower', cmap=cm.Blues)\n",
    "\n",
    "plt.title('Relative error', fontsize=19)\n",
    "divider = make_axes_locatable(ax)\n",
    "cax = divider.append_axes(\"right\", size=\"5%\", pad=0.05)\n",
    "plt.colorbar(im, cax=cax)\n",
    "plt.show()"
   ]
  },
  {
   "cell_type": "code",
   "execution_count": null,
   "metadata": {
    "hidden": true
   },
   "outputs": [],
   "source": [
    "np.save('rel_sl_err.npy', rel_sl_err[4:-1, 3:-2])"
   ]
  },
  {
   "cell_type": "markdown",
   "metadata": {
    "heading_collapsed": true
   },
   "source": [
    "## Плотность $\\Sigma_{\\rm HI}$ (THINGS)"
   ]
  },
  {
   "cell_type": "markdown",
   "metadata": {
    "hidden": true
   },
   "source": [
    "Куб данных из THINGS http://www.mpia.de/THINGS/Data.html - дисперсии $\\sigma_{HI}$ и плотности $\\Sigma_{HI}$.\n",
    "\n",
    "TODO: про куб - разрешение, почему NA или RO, размеры бима, переводные коэффициенты?, расстояние, H_0 из\n",
    "\n",
    "http://iopscience.iop.org/article/10.1088/0004-6256/136/6/2563/pdf - масштаб $1.5^{''}/pix$ (а в пк порядка 50 чтоли?)"
   ]
  },
  {
   "cell_type": "code",
   "execution_count": null,
   "metadata": {
    "hidden": true
   },
   "outputs": [],
   "source": [
    "# from astropy.io import fits\n",
    "\n",
    "# fig = plt.figure(figsize=[12,12])\n",
    "# data = fits.getdata('NGC_628_NA_MOM0_THINGS.FITS')\n",
    "# plt.imshow(np.squeeze(data), origin='lower', cmap='gist_yarg')\n",
    "# plt.show()"
   ]
  },
  {
   "cell_type": "markdown",
   "metadata": {
    "collapsed": true,
    "hidden": true
   },
   "source": [
    "$$\\Sigma_{HI} [M_{sun} pc^{-2}] = 0.020 \\cos i \\times I_{21cm} [K km s^{-1}]$$\n",
    "\n",
    "Leroy:**which accounts for inclination and includes a factor of 1.36 to\n",
    "reflect the presence of helium!** Так что нужно /1.36\n",
    "\n",
    "из https://arxiv.org/pdf/1609.03179.pdf $$\\Sigma_{HI}[M_{sun} {pc}^{-2}] = 8840\\times\\frac{F_{HI}[Jy / beam \\times km/s]}{bmaj\\times bmin [arcsec]},$$\n",
    "where the bmaj and bmin are the major and minor axis size of the beam, respectively. FHI is the flux detected across all velocity channels.\n",
    "\n",
    "Чтобы перевести в кельвины в Walter написана формула\n",
    "$$T[K] = 6.07\\times 10^5\\times S[Jy beam^{-1}]/(B_{maj}\\times B_{min}),$$ где $B_{maj},B_{min}$ - размеры бима в секундах"
   ]
  },
  {
   "cell_type": "code",
   "execution_count": null,
   "metadata": {
    "hidden": true
   },
   "outputs": [],
   "source": [
    "# заменяем nan на 0.\n",
    "data = np.squeeze(data)\n",
    "data = np.nan_to_num(data)"
   ]
  },
  {
   "cell_type": "markdown",
   "metadata": {
    "hidden": true
   },
   "source": [
    "Т.к. мы использовал ```NA``` данные - размеры бима 11.88 и 9.30 arcsec"
   ]
  },
  {
   "cell_type": "markdown",
   "metadata": {
    "hidden": true
   },
   "source": [
    "Не знаю почему, но похоже надо переводить beam в пк."
   ]
  },
  {
   "cell_type": "code",
   "execution_count": null,
   "metadata": {
    "hidden": true
   },
   "outputs": [],
   "source": [
    "f = lambda l: (6.07*2*1000*cos_i*l/(11.88*9.30*calc_scale(distance)**2 * 1000**2))/1.36\n",
    "Z1 = f(data)"
   ]
  },
  {
   "cell_type": "code",
   "execution_count": null,
   "metadata": {
    "hidden": true
   },
   "outputs": [],
   "source": [
    "Sigma_HI = Z1\n",
    "np.save('Sigma_HI.npy', Sigma_HI)"
   ]
  },
  {
   "cell_type": "markdown",
   "metadata": {
    "hidden": true
   },
   "source": [
    "Проверка и сравнение с данными Лероя дают схожие результаты.\n",
    "\n",
    "Вырежем теперь cutout и сохраним данные по гриду:"
   ]
  },
  {
   "cell_type": "code",
   "execution_count": null,
   "metadata": {
    "hidden": true
   },
   "outputs": [],
   "source": [
    "from astropy.visualization.wcsaxes import SphericalCircle\n",
    "\n",
    "cutout, wcs = get_cutout('NGC_628_NA_MOM0_THINGS.FITS', size=size)\n",
    "\n",
    "fig = plt.figure(figsize=[24, 8])\n",
    "ax = fig.add_subplot(111, projection=cutout.wcs)\n",
    "im = ax.imshow(cutout.data, origin='lower')\n",
    "\n",
    "lon = ax.coords[0]\n",
    "lat = ax.coords[1]\n",
    "lon.set_major_formatter('dd:mm:ss')\n",
    "lat.set_major_formatter('dd:mm:ss')\n",
    "\n",
    "lon.set_ticks(spacing=30. * u.arcsec)\n",
    "lat.set_ticks(spacing=30. * u.arcsec)\n",
    "\n",
    "lon.display_minor_ticks(True)\n",
    "lat.display_minor_ticks(True)\n",
    "lat.set_minor_frequency(3)\n",
    "lon.set_minor_frequency(3)\n",
    "\n",
    "# r = SphericalCircle((24.174042 * u.deg, 15.783472 * u.deg), 1500 * u.arcsec,\n",
    "#                      edgecolor='yellow', facecolor='none', transform=ax.get_transform(cutout.wcs))\n",
    "# ax.add_patch(r)\n",
    "plt.show()"
   ]
  },
  {
   "cell_type": "code",
   "execution_count": null,
   "metadata": {
    "hidden": true,
    "scrolled": false
   },
   "outputs": [],
   "source": [
    "%%time\n",
    "cutout = plot_cutout('NGC_628_NA_MOM0_THINGS.FITS', size=size, coordinates=True, figsize=[24, 8], title='hi_density', cmap='sauron')\n",
    "\n",
    "hi_grid_pixs = []\n",
    "Sigma_HI_cut = []\n",
    "for scoord in sgrid.ravel():\n",
    "    spix = skycoord_to_pixel(scoord, cutout.wcs)\n",
    "    hi_grid_pixs.append(spix)\n",
    "    Sigma_HI_cut.append(f(cutout.data[int(spix[1])][int(spix[0])]))\n",
    "plt.plot(zip(*hi_grid_pixs)[0],  zip(*hi_grid_pixs)[1], '.', ms=3, color='r')\n",
    "plt.show()"
   ]
  },
  {
   "cell_type": "code",
   "execution_count": null,
   "metadata": {
    "hidden": true
   },
   "outputs": [],
   "source": [
    "len(hi_grid_pixs)"
   ]
  },
  {
   "cell_type": "markdown",
   "metadata": {
    "hidden": true
   },
   "source": [
    "Площадка еще раз"
   ]
  },
  {
   "cell_type": "code",
   "execution_count": null,
   "metadata": {
    "hidden": true
   },
   "outputs": [],
   "source": [
    "# cutout = plot_cutout('NGC_628_NA_MOM0_THINGS.FITS', size=size, coordinates=True, figsize=[24, 8], title='hi_density', cmap='sauron')\n",
    "\n",
    "# plot_rectange_from_grid(plt.gca(), hi_grid_pixs)\n",
    "# plt.show()"
   ]
  },
  {
   "cell_type": "code",
   "execution_count": null,
   "metadata": {
    "hidden": true
   },
   "outputs": [],
   "source": [
    "Sigma_HI_cut = np.array(Sigma_HI_cut).reshape((55, 155))"
   ]
  },
  {
   "cell_type": "code",
   "execution_count": null,
   "metadata": {
    "hidden": true
   },
   "outputs": [],
   "source": [
    "# plt.figure(figsize=[18, 7])\n",
    "# X,Y = np.meshgrid(np.arange(0.,155,1), np.arange(0.,55,1))\n",
    "# Z = Sigma_HI_cut\n",
    "# quadmesh = plt.pcolormesh(X, Y, Z, cmap=cm.gist_yarg)\n",
    "# plt.colorbar()\n",
    "# quadmesh.cmap.set_under('white')"
   ]
  },
  {
   "cell_type": "code",
   "execution_count": null,
   "metadata": {
    "hidden": true
   },
   "outputs": [],
   "source": [
    "np.save('Sigma_HI_cut.npy', Sigma_HI_cut)"
   ]
  },
  {
   "cell_type": "markdown",
   "metadata": {
    "heading_collapsed": true
   },
   "source": [
    "## Дисперсии $\\sigma_{\\rm HI}$ (THINGS)"
   ]
  },
  {
   "cell_type": "markdown",
   "metadata": {
    "hidden": true
   },
   "source": [
    "C картинкой в статье совпадает (только в ней вроде убраны с малым S/N точки):"
   ]
  },
  {
   "cell_type": "code",
   "execution_count": null,
   "metadata": {
    "hidden": true
   },
   "outputs": [],
   "source": [
    "# data = fits.getdata('NGC_628_NA_MOM2_THINGS.FITS')\n",
    "# data = np.squeeze(data)\n",
    "# data = np.nan_to_num(data)\n",
    "\n",
    "# X,Y = np.meshgrid(np.arange(0.,len(data),1), np.arange(0.,len(data[0]),1))\n",
    "# Z = data\n",
    "\n",
    "# # ax1,ax2 = plt.subplots(ncols=2, nrows=1, figsize=[16, 8])\n",
    "# plt.figure(figsize=[30, 12])\n",
    "# plt.subplot(1, 2, 1)\n",
    "# quadmesh = plt.pcolormesh(X, Y, Z, cmap=cm.gist_yarg)\n",
    "# quadmesh.set_clim(vmin=4000., vmax=30000.)\n",
    "# plt.colorbar()\n",
    "\n",
    "# CS = plt.contour(X, Y, Z, levels=[5000, 10000, 20000])\n",
    "# quadmesh.cmap.set_under('white')\n",
    "\n",
    "# plt.subplot(1, 2, 2)\n",
    "# plt.imshow(ImagePIL.open('THINGS_HI_disp.png'))"
   ]
  },
  {
   "cell_type": "code",
   "execution_count": null,
   "metadata": {
    "hidden": true
   },
   "outputs": [],
   "source": [
    "c_g = Z/1000.\n",
    "np.save('c_g.npy', c_g)"
   ]
  },
  {
   "cell_type": "markdown",
   "metadata": {
    "collapsed": true,
    "hidden": true
   },
   "source": [
    "Нужная нам область:"
   ]
  },
  {
   "cell_type": "code",
   "execution_count": null,
   "metadata": {
    "hidden": true,
    "scrolled": false
   },
   "outputs": [],
   "source": [
    "%%time\n",
    "cutout = plot_cutout('NGC_628_NA_MOM2_THINGS.FITS', size=size, coordinates=True, figsize=[24, 8], title='hi_disp', cmap='sauron')\n",
    "\n",
    "hi_grid_pixs = []\n",
    "sigma_HI_cut = []\n",
    "for scoord in sgrid.ravel():\n",
    "    spix = skycoord_to_pixel(scoord, cutout.wcs)\n",
    "    hi_grid_pixs.append(spix)\n",
    "    sigma_HI_cut.append(cutout.data[int(spix[1])][int(spix[0])]/1000.)\n",
    "plt.plot(zip(*hi_grid_pixs)[0],  zip(*hi_grid_pixs)[1], '.', ms=3, color='r')\n",
    "plt.show()"
   ]
  },
  {
   "cell_type": "code",
   "execution_count": null,
   "metadata": {
    "hidden": true
   },
   "outputs": [],
   "source": [
    "len(hi_grid_pixs)"
   ]
  },
  {
   "cell_type": "markdown",
   "metadata": {
    "hidden": true
   },
   "source": [
    "Площадка еще раз"
   ]
  },
  {
   "cell_type": "code",
   "execution_count": null,
   "metadata": {
    "hidden": true
   },
   "outputs": [],
   "source": [
    "# cutout = plot_cutout('NGC_628_NA_MOM2_THINGS.FITS', size=size, coordinates=True, figsize=[24, 8], title='hi_disp', cmap='sauron')\n",
    "# plot_rectange_from_grid(plt.gca(), hi_grid_pixs)\n",
    "# plt.show()"
   ]
  },
  {
   "cell_type": "code",
   "execution_count": null,
   "metadata": {
    "hidden": true
   },
   "outputs": [],
   "source": [
    "sigma_HI_cut = np.array(sigma_HI_cut).reshape((55, 155))"
   ]
  },
  {
   "cell_type": "code",
   "execution_count": null,
   "metadata": {
    "hidden": true
   },
   "outputs": [],
   "source": [
    "plt.figure(figsize=[18, 7])\n",
    "X,Y = np.meshgrid(np.arange(0.,155,1), np.arange(0.,55,1))\n",
    "Z = sigma_HI_cut\n",
    "quadmesh = plt.pcolormesh(X, Y, Z, cmap=cm.gist_yarg)\n",
    "plt.colorbar()\n",
    "quadmesh.cmap.set_under('white')"
   ]
  },
  {
   "cell_type": "code",
   "execution_count": null,
   "metadata": {
    "hidden": true
   },
   "outputs": [],
   "source": [
    "np.save('c_g_cut.npy', sigma_HI_cut)"
   ]
  },
  {
   "cell_type": "markdown",
   "metadata": {
    "collapsed": true,
    "heading_collapsed": true
   },
   "source": [
    "## Кривая вращения и эпициклическая частота"
   ]
  },
  {
   "cell_type": "markdown",
   "metadata": {
    "collapsed": true,
    "hidden": true
   },
   "source": [
    "Я разрежу сам руками вдоль большой оси карту скоростей THINGS и сравню ее с литературными."
   ]
  },
  {
   "cell_type": "code",
   "execution_count": null,
   "metadata": {
    "hidden": true
   },
   "outputs": [],
   "source": [
    "fig = plt.figure(figsize=[12,12])\n",
    "data = fits.getdata('NGC_628_NA_MOM1_THINGS.FITS')\n",
    "# plt.imshow(np.squeeze(data), origin='lower', cmap='gist_yarg')\n",
    "# plt.show()"
   ]
  },
  {
   "cell_type": "code",
   "execution_count": null,
   "metadata": {
    "hidden": true
   },
   "outputs": [],
   "source": [
    "data = np.squeeze(data)\n",
    "data = np.nan_to_num(data)"
   ]
  },
  {
   "cell_type": "code",
   "execution_count": null,
   "metadata": {
    "hidden": true
   },
   "outputs": [],
   "source": [
    "veloc_norm = lambda l: (l/1000. - 659.1)/sin_i\n",
    "Z = veloc_norm(data)"
   ]
  },
  {
   "cell_type": "code",
   "execution_count": null,
   "metadata": {
    "hidden": true
   },
   "outputs": [],
   "source": [
    "v_HI = Z"
   ]
  },
  {
   "cell_type": "code",
   "execution_count": null,
   "metadata": {
    "hidden": true
   },
   "outputs": [],
   "source": [
    "np.save('v_HI.npy', v_HI)"
   ]
  },
  {
   "cell_type": "code",
   "execution_count": null,
   "metadata": {
    "hidden": true
   },
   "outputs": [],
   "source": [
    "# https://stackoverflow.com/questions/7878398/how-to-extract-an-arbitrary-line-of-values-from-a-numpy-array\n",
    "import scipy.ndimage\n",
    "\n",
    "#-- Extract the line...\n",
    "# Make a line with \"num\" points...\n",
    "x0, y0 = 647, 200 # These are in _pixel_ coordinates!!\n",
    "x1, y1 = 387, 800\n",
    "num = 1000\n",
    "x, y = np.linspace(x0, x1, num), np.linspace(y0, y1, num)\n",
    "\n",
    "# Extract the values along the line, using cubic interpolation\n",
    "zi = scipy.ndimage.map_coordinates(v_HI, np.vstack((y,x)))\n",
    "zi_cub = v_HI[y.astype(np.int), x.astype(np.int)]\n",
    "\n",
    "\n",
    "x0_, y0_ = 100, 325 # These are in _pixel_ coordinates!!\n",
    "x1_, y1_ = 923, 695\n",
    "num = 1000\n",
    "x_, y_ = np.linspace(x0_, x1_, num), np.linspace(y0_, y1_, num)\n",
    "zi_ = scipy.ndimage.map_coordinates(v_HI, np.vstack((y_,x_)))\n",
    "\n",
    "#-- Plot...\n",
    "fig, axes = plt.subplots(ncols=2, figsize = [30, 12])\n",
    "\n",
    "axes[0].plot(zi)\n",
    "axes[0].plot(zi_cub)\n",
    "axes[0].plot(zi_)\n",
    "axes[0].set_ylim(-300., 300.)\n",
    "# axes[0].imshow(v_HI)\n",
    "# axes[1].axis('image')\n",
    "X,Y = np.meshgrid(np.arange(0.,len(data),1), np.arange(0.,len(data[0]),1))\n",
    "quadmesh = plt.pcolormesh(X, Y, v_HI, cmap=cm.Blues)\n",
    "quadmesh.set_clim(vmin=-300., vmax=300.)\n",
    "plt.colorbar()\n",
    "# axes[1].imshow(v_HI[::-1, ])\n",
    "CS = plt.contour(X, Y, v_HI, levels=[-100., 0., 100.])\n",
    "axes[1].plot([x0, x1], [y0, y1], 'ro-')\n",
    "axes[1].plot([x0_, x1_], [y0_, y1_], 'ro-', alpha=0.5)\n",
    "axes[1].scatter([512.,], [512.,], [30.,], marker='s', color='r')\n",
    "plt.show()"
   ]
  },
  {
   "cell_type": "markdown",
   "metadata": {
    "collapsed": true,
    "hidden": true
   },
   "source": [
    "Сделаем, чтобы расстояния примерно соответствовали нужным (потому как на картинке слева - не верна общая длина):"
   ]
  },
  {
   "cell_type": "code",
   "execution_count": null,
   "metadata": {
    "hidden": true
   },
   "outputs": [],
   "source": [
    "# sqrt((647.-387.)**2 + (200.-800.)**2) * 1520./1024.\n",
    "sqrt((647.-387.)**2 + (200.-800.)**2) * 1.5"
   ]
  },
  {
   "cell_type": "code",
   "execution_count": null,
   "metadata": {
    "hidden": true
   },
   "outputs": [],
   "source": [
    "r_g, vel_g = zip(*sorted(zip(np.abs(np.linspace(0., 970.6, 1000)-970.6/2), np.abs(zi))))"
   ]
  },
  {
   "cell_type": "code",
   "execution_count": null,
   "metadata": {
    "hidden": true
   },
   "outputs": [],
   "source": [
    "np.save('r_g.npy', r_g)\n",
    "np.save('vel_g.npy', vel_g)"
   ]
  },
  {
   "cell_type": "code",
   "execution_count": null,
   "metadata": {
    "hidden": true
   },
   "outputs": [],
   "source": [
    "herrman2009_vc=[0.002107968676327232, 1.8461367775815631,\n",
    "0.9211823115540909, 6.761771803145308,\n",
    "2.389733822727237, 12.903726851637828,\n",
    "4.225071883580966, 20.273481199323243,\n",
    "5.876314013368969, 26.4139569715517,\n",
    "7.162877562152744, 33.17277022216879,\n",
    "8.630023760875005, 38.08396741894032,\n",
    "9.915181997207867, 43.61202281783639,\n",
    "11.930400051774697, 48.51878218581564,\n",
    "12.666081119812134, 52.820517561782935,\n",
    "14.316620593374722, 58.34561440815084,\n",
    "16.150553341777538, 64.48461090411519,\n",
    "18.16577139634434, 69.39137027209442,\n",
    "19.999001488521742, 74.91498784219823,\n",
    "22.197612817928857, 80.4356468597739,\n",
    "23.846746979040518, 84.72998585442076,\n",
    "25.67927441499249, 89.63822449866407,\n",
    "27.87648043194868, 93.92812566451867,\n",
    "29.891698486515494, 98.8348850324979,\n",
    "32.27089246586111, 102.50792799622789,\n",
    "34.83418237627244, 107.41024953541485,\n",
    "36.84729246216288, 110.47087212581249,\n",
    "39.22789175395938, 115.37467294126353,\n",
    "42.522646795055536, 120.88645630125467,\n",
    "45.44991263024566, 124.5550614361924,\n",
    "49.1100489085715, 130.06388624365536,\n",
    "53.49954234890582, 134.3360360943409,\n",
    "56.975582696165915, 138.6155823263469,\n",
    "60.2675271123603, 141.66584998289593,\n",
    "63.3760782537144, 144.10221798984853,\n",
    "67.39948780059358, 147.76194746720174,\n",
    "70.50803894194767, 150.19831547415433,\n",
    "73.7992807019166, 152.63320420484285,\n",
    "75.99297343774562, 153.84621074139486]"
   ]
  },
  {
   "cell_type": "code",
   "execution_count": null,
   "metadata": {
    "hidden": true
   },
   "outputs": [],
   "source": [
    "leroy2011_vc = [5.327946127946127, 1.941747572815558,\n",
    "6.6599326599326645, 14.5631067961165,\n",
    "7.991919191919187, 28.155339805825264,\n",
    "8.65791245791246, 42.718446601941764,\n",
    "10.655892255892255, 52.42718446601944,\n",
    "11.321885521885527, 66.01941747572818,\n",
    "12.653872053872057, 78.64077669902912,\n",
    "15.983838383838382, 94.17475728155341,\n",
    "17.315824915824912, 107.76699029126215,\n",
    "19.313804713804707, 118.44660194174757,\n",
    "22.643771043771046, 131.06796116504856,\n",
    "25.97373737373737, 137.86407766990294,\n",
    "29.96969696969696, 147.5728155339806,\n",
    "35.96363636363636, 159.2233009708738,\n",
    "40.625589225589216, 166.99029126213594,\n",
    "44.62154882154882, 172.81553398058253,\n",
    "51.947474747474736, 179.61165048543688,\n",
    "58.6074074074074, 187.37864077669903,\n",
    "65.93333333333334, 190.29126213592235,\n",
    "73.92525252525252, 192.23300970873788,\n",
    "81.91717171717173, 196.11650485436894,\n",
    "87.9111111111111, 197.0873786407767,\n",
    "96.56902356902356, 198.05825242718447,\n",
    "107.22491582491583, 198.05825242718447,\n",
    "121.2107744107744, 200.97087378640776,\n",
    "129.86868686868686, 200,\n",
    "139.85858585858585, 200,\n",
    "149.1824915824916, 200,\n",
    "162.5023569023569, 200,\n",
    "171.82626262626263, 199.02912621359224,\n",
    "181.81616161616162, 199.02912621359224,\n",
    "191.8060606060606, 200,\n",
    "201.12996632996632, 199.02912621359224,\n",
    "211.7858585858586, 201.94174757281553,\n",
    "223.77373737373733, 199.02912621359224,\n",
    "232.43164983164985, 199.02912621359224,\n",
    "241.08956228956225, 199.02912621359224,\n",
    "252.41144781144783, 199.02912621359224,\n",
    "261.7353535353535, 200,\n",
    "270.39326599326597, 199.02912621359224,\n",
    "281.7151515151515, 198.05825242718447,\n",
    "289.0410774410774, 200]"
   ]
  },
  {
   "cell_type": "code",
   "execution_count": null,
   "metadata": {
    "hidden": true
   },
   "outputs": [],
   "source": [
    "suwannajak2014_vc = [0.18715761885325177, 30.105909901394284,\n",
    "0.23961846656211838, 42.149133171496715,\n",
    "0.2919504178392671, 52.688564738232856,\n",
    "0.32713914369803954, 63.22369975724507,\n",
    "0.3966143203935646, 73.76742787170508,\n",
    "0.4490751681024303, 85.81065114180751,\n",
    "0.5184214483662384, 94.85058755290123,\n",
    "0.5707533996433876, 105.39001911963737,\n",
    "0.6402285763389126, 115.93374723409732,\n",
    "0.6921738383209095, 121.96180369073448,\n",
    "0.7956776729897537, 129.5065414939096,\n",
    "0.8650239532535617, 138.54647790500326,\n",
    "0.9515134589357461, 147.59071086382096,\n",
    "1.0204730499044024, 152.11927216481553,\n",
    "1.124105781004963, 161.16780167135704,\n",
    "1.210208597391997, 165.7006595200756,\n",
    "1.3135835356291237, 171.7416056198844,\n",
    "1.3825431265977786, 176.27016692087903,\n",
    "1.5374766375217526, 183.82779436722592,\n",
    "1.675138026595631, 189.87733356248253,\n",
    "1.7953983973877001, 192.91499280328253,\n",
    "1.898515542761392, 195.94835549635866,\n",
    "2.018775913553461, 198.98601473715865,\n",
    "2.1561795097639056, 202.02797052568263,\n",
    "2.2764398805559747, 205.06562976648263,\n",
    "2.4137145803347018, 206.6037938516402,\n",
    "2.5682614019635226, 209.650046187888,\n",
    "2.6882639798921577, 209.6801220219553,\n",
    "2.842681905089261, 211.2225826548368,\n",
    "2.996970933854648, 211.2612515843519,\n",
    "3.1513888590517523, 212.8037122172334,\n",
    "3.30567788781714, 212.84238114674855,\n",
    "3.4600958130142443, 214.38484177963,\n",
    "3.631656963629723, 215.93159896023548,\n",
    "3.7516595415583582, 215.96167479430278,\n",
    "3.9402350211604977, 216.00893681926573,\n",
    "4.094524049925885, 216.04760574878088,\n",
    "4.265956304109648, 216.0905712260199,\n",
    "4.437646351156847, 219.14112010999162,\n",
    "4.5919353799222336, 219.17978903950677,\n",
    "4.746224408687621, 219.21845796902193,\n",
    "4.831940535779502, 219.23994070764144,\n",
    "5.003372789963266, 219.28290618488046,\n",
    "5.140518593310276, 219.3172785666717,\n",
    "5.311950847494039, 219.3602440439107,\n",
    "5.449096650841049, 219.39461642570194,\n",
    "5.603256783174718, 217.92949365185075,\n",
    "5.706116135684978, 217.95527293819418]"
   ]
  },
  {
   "cell_type": "code",
   "execution_count": null,
   "metadata": {
    "hidden": true
   },
   "outputs": [],
   "source": [
    "import scipy.interpolate as inter\n",
    "fig = plt.figure(figsize=[10, 6])\n",
    "gas_approx = poly1d(polyfit(r_g, vel_g, deg=5))\n",
    "test_points = np.linspace(min(r_g), max(r_g), 100)\n",
    "plt.plot(test_points, gas_approx(test_points), '--', label='approx')\n",
    "\n",
    "plt.plot(herrman2009_vc[0::2], herrman2009_vc[1::2], '-', label='Herrman+2009')\n",
    "plt.plot(leroy2011_vc[0::2], leroy2011_vc[1::2], '-', label='Leroy+2011')\n",
    "plt.plot(map(lambda l: l/calc_scale(9.7), suwannajak2014_vc[0::2]), suwannajak2014_vc[1::2], '-', label='Suwannajak+2014')\n",
    "\n",
    "gas_approx2 = poly1d(polyfit(leroy2011_vc[0::2], leroy2011_vc[1::2], deg=7))\n",
    "plt.plot(test_points[:-50], gas_approx2(test_points[:-50]), '--', label='approx2')\n",
    "\n",
    "plt.plot(r_g, vel_g, 'g.')\n",
    "# plt.ylim(0, 300)\n",
    "plt.legend(loc='lower right');"
   ]
  },
  {
   "cell_type": "markdown",
   "metadata": {
    "collapsed": true,
    "hidden": true
   },
   "source": [
    "Данные хорошо согласуются (похоже, что две работы фитировали только одну сторону кривой) и извлеченный профиль тоже на них похож (отличия есть, но это все не так существенно).\n",
    "\n",
    "Эпициклическая частота:"
   ]
  },
  {
   "cell_type": "markdown",
   "metadata": {
    "hidden": true
   },
   "source": [
    "$$\\kappa=\\sqrt{2}\\frac{\\vartheta_c}{R}\\sqrt{1+\\frac{R}{\\vartheta_c}\\frac{d\\vartheta_c}{dR}}$$"
   ]
  },
  {
   "cell_type": "code",
   "execution_count": null,
   "metadata": {
    "hidden": true
   },
   "outputs": [],
   "source": [
    "def epicyclicFreq_real(poly_gas, R, resolution):\n",
    "    '''Честное вычисление эпициклической частоты на расстоянии R для сплайна или полинома'''\n",
    "    try:\n",
    "        return sqrt(2.0) * poly_gas(R) * sqrt(1 + R * poly_gas.deriv()(R) / poly_gas(R)) / (R * resolution )\n",
    "    except:\n",
    "        return sqrt(2.0) * poly_gas(R) * sqrt(1 + R * poly_gas.derivative()(R) / poly_gas(R)) / (R * resolution )\n",
    "\n",
    "fig = plt.figure(figsize=[18, 8])\n",
    "plt.plot(test_points, [epicyclicFreq_real(gas_approx, x, scale) for x in test_points], '-', label='gas_approx')\n",
    "# plt.plot(test_points, [epicyclicFreq_real(gas_approx3, x, scale) for x in test_points], '-', label='gas_approx3')\n",
    "plt.plot(test_points[2:-50], [epicyclicFreq_real(gas_approx2, x, scale) for x in test_points[2:-50]], '-', label='gas_approx Leroy')\n",
    "\n",
    "# plt.plot(r_g_dens[1:], ef, '--')\n",
    "plt.xlabel('$R, arcsec$')\n",
    "plt.ylabel('$\\kappa,\\, km/s/kpc$', fontsize=15)\n",
    "plt.xlim(0)\n",
    "plt.axvline(x=15.) #bulge\n",
    "plt.ylim(0, 1200.)\n",
    "plt.legend()"
   ]
  },
  {
   "cell_type": "markdown",
   "metadata": {
    "hidden": true
   },
   "source": [
    "Для ошибок используем следующий разброс:"
   ]
  },
  {
   "cell_type": "code",
   "execution_count": null,
   "metadata": {
    "hidden": true
   },
   "outputs": [],
   "source": [
    "import scipy.interpolate as inter\n",
    "fig = plt.figure(figsize=[10, 6])\n",
    "gas_approx = poly1d(polyfit(r_g, vel_g, deg=5))\n",
    "test_points = np.linspace(min(r_g), max(r_g), 100)\n",
    "plt.plot(test_points, gas_approx(test_points), '--', label='approx')\n",
    "\n",
    "gas_approx_u = gas_approx * 1.07\n",
    "gas_approx_b = gas_approx * 0.93\n",
    "plt.fill_between(test_points, gas_approx_u(test_points), gas_approx_b(test_points), color='b', alpha=0.3)\n",
    "\n",
    "# plt.plot(herrman2009_vc[0::2], herrman2009_vc[1::2], '-', label='Herrman+2009')\n",
    "# plt.plot(leroy2011_vc[0::2], leroy2011_vc[1::2], '-', label='Leroy+2011')\n",
    "# plt.plot(map(lambda l: l/calc_scale(9.7), suwannajak2014_vc[0::2]), suwannajak2014_vc[1::2], '-', label='Suwannajak+2014')\n",
    "\n",
    "gas_approx2 = poly1d(polyfit(leroy2011_vc[0::2], leroy2011_vc[1::2], deg=7))\n",
    "plt.plot(test_points[:-50], gas_approx2(test_points[:-50]), '--', label='approx2')\n",
    "\n",
    "plt.plot(r_g, vel_g, 'g.')\n",
    "# plt.ylim(0, 300)\n",
    "plt.legend(loc='lower right');"
   ]
  },
  {
   "cell_type": "markdown",
   "metadata": {
    "hidden": true
   },
   "source": [
    "Картинка для статьи"
   ]
  },
  {
   "cell_type": "code",
   "execution_count": null,
   "metadata": {
    "hidden": true
   },
   "outputs": [],
   "source": [
    "r_g, vel_g = zip(*sorted(zip(np.abs(np.linspace(0., 980.6, 1000)-990.6/2), zi)))\n",
    "plt.plot(r_g, vel_g, 'g.')\n",
    "plt.axvline(x=0.)\n",
    "plt.xlim(-220, 220)\n",
    "plt.axhline(y=200.)\n",
    "plt.axhline(y=0.)\n",
    "plt.axhline(y=-35.)\n",
    "plt.axhline(y=-200.)"
   ]
  },
  {
   "cell_type": "code",
   "execution_count": null,
   "metadata": {
    "hidden": true
   },
   "outputs": [],
   "source": [
    "import matplotlib as mpl\n",
    "mpl.style.use('classic')"
   ]
  },
  {
   "cell_type": "code",
   "execution_count": null,
   "metadata": {
    "hidden": true,
    "scrolled": false
   },
   "outputs": [],
   "source": [
    "fig = plt.figure(figsize=[15, 9])\n",
    "\n",
    "ax = plt.gca()\n",
    "\n",
    "r_g, vel_g = zip(*sorted(zip(np.abs(np.linspace(0., 980.6, 1000)-990.6/2), np.abs(zi+35.))))\n",
    "# plt.plot(r_g, vel_g, 'g.', label='THINGS')\n",
    "\n",
    "r_g, vel_g = np.array(r_g), np.array(vel_g)\n",
    "az_av, az_dev = [], []\n",
    "for dbin in range(0, 210, 10):\n",
    "    mask = (r_g >= dbin) & (r_g <= dbin + 10)\n",
    "    anulli = vel_g[mask]\n",
    "    az_av.append(anulli.mean())\n",
    "    az_dev.append(np.std(anulli))\n",
    "az_av, az_dev = np.array(az_av), np.array(az_dev)\n",
    "\n",
    "# plt.fill_between(np.array(range(0, 210, 10))+5., az_av-az_dev, az_av+az_dev, color='g', alpha=0.3)\n",
    "plt.errorbar(np.array(range(0, 210, 10))+5., az_av, az_dev, \n",
    "             fmt='.', marker='.', mew=2, label = r'$\\mathrm{THINGS}$', ms=20, color='b')\n",
    "\n",
    "# plt.plot(herrman2009_vc[0::2], np.array(herrman2009_vc[1::2]), '-', label='Herrman+2009')\n",
    "plt.plot(leroy2011_vc[0::2], leroy2011_vc[1::2], ':', label=r'$\\mathrm{Vollmer\\, et\\, al. (2011)}$', lw=5)\n",
    "plt.plot(map(lambda l: l/calc_scale(9.7), suwannajak2014_vc[0::2]), suwannajak2014_vc[1::2], '-.', \n",
    "         label=r'$\\mathrm{Suwannajak\\, et\\, al.\\, (2014)}$', lw=5)\n",
    "\n",
    "vflat = 217\n",
    "lflat = 0.8 #kpc\n",
    "\n",
    "vrot = lambda l: vflat*(1 - np.exp(-l/lflat))\n",
    "plt.plot([l/calc_scale(7.3) for l in np.linspace(0, 10, 100)], [vrot(l) for l in np.linspace(0, 10, 100)], \n",
    "         '--', label=r'$\\mathrm{Leroy\\, et\\, al. (2008)}$', lw=4, alpha=0.7)\n",
    "\n",
    "gas_approx3 = poly1d(polyfit(r_g, vel_g, deg=5))\n",
    "test_points = np.linspace(min(r_g), max(r_g), 100)\n",
    "plt.plot(test_points, gas_approx3(test_points), '-', label=r'$v_\\mathrm{c}$', lw=5, color='m')\n",
    "\n",
    "gas_approx_u = gas_approx * 1.07\n",
    "gas_approx_b = gas_approx * 0.93\n",
    "plt.fill_between(test_points, gas_approx_u(test_points), gas_approx_b(test_points), color='m', alpha=0.1)\n",
    "\n",
    "# gas_approx2 = poly1d(polyfit(leroy2011_vc[0::2], leroy2011_vc[1::2], deg=7))\n",
    "# plt.plot(test_points[:-50], gas_approx2(test_points[:-50]), '--', label='approx2')\n",
    "plt.plot(test_points, [epicyclicFreq_real(gas_approx3, x, scale) for x in test_points], \n",
    "         '-', label=r'$\\varkappa$', color='grey', lw=7, alpha=0.3)\n",
    "\n",
    "\n",
    "plt.xlim(0, 200)\n",
    "plt.ylim(0, 260)\n",
    "plt.legend(fontsize=28, bbox_to_anchor=[0.86, 0.32], ncol=2)\n",
    "\n",
    "plt.xlabel(r'$R,\\,\\mathrm{arcsec}$', fontsize=45, rotation=0)\n",
    "plt.ylabel(r'$v,\\,\\mathrm{km/s}$', fontsize=50)\n",
    "\n",
    "ax.xaxis.set_minor_locator(AutoMinorLocator(5))\n",
    "ax.yaxis.set_minor_locator(AutoMinorLocator(2))\n",
    "plt.grid(ls='-', alpha=0.5)\n",
    "\n",
    "# ax.set_yticks([(l*Ny/108.)+28. for l in np.arange(-40., 60, 20)])\n",
    "ax.set_yticklabels(range(0, 350, 50), fontsize=35)\n",
    "ax.set_xticklabels(range(0, 250, 50), fontsize=35)\n",
    "# if ind == 1:\n",
    "#     ax.set_ylabel(r'$\\Delta Y, \\mathrm{arcsec}$', fontsize=45)\n",
    "\n",
    "ax.tick_params(axis='both', length=7, width=2)\n",
    "ax.tick_params(axis='both', length=4, width=1, which='minor')\n",
    "\n",
    "ax2 = ax.twinx()\n",
    "ax2.set_ylabel(r'$\\varkappa,\\, \\mathrm{km/s/kpc}$', fontsize=50)\n",
    "ax2.plot([0.0], [-1.])\n",
    "ax2.set_ylim(0, 260)\n",
    "ax2.set_yticklabels([], fontsize=25)\n",
    "\n",
    "plt.savefig(paper_imgs_dir3 +'rotvel.eps', format='eps', bbox_inches='tight')\n",
    "plt.savefig(paper_imgs_dir3 +'rotvel.png', format='png', bbox_inches='tight')\n",
    "plt.savefig(paper_imgs_dir3 +'rotvel.pdf', format='pdf', dpi=150, bbox_inches='tight')\n",
    "\n",
    "plt.show()"
   ]
  },
  {
   "cell_type": "markdown",
   "metadata": {
    "collapsed": true,
    "heading_collapsed": true
   },
   "source": [
    "## SFR (VENGA, H$\\alpha$)"
   ]
  },
  {
   "cell_type": "markdown",
   "metadata": {
    "hidden": true
   },
   "source": [
    "Есть картинка Лероя где больше в центре и не удается восстановить из colorbar правильную шкалу и есть JCMT $H_{\\alpha}$ изображение, где видно что оно хорошо накладывается на $HI$ картинку "
   ]
  },
  {
   "cell_type": "markdown",
   "metadata": {
    "collapsed": true,
    "hidden": true
   },
   "source": [
    "Это все хорошо, но мы будем использовать $log(\\Sigma_{SFR})$ Dust Corrected H$\\alpha$ [$M_{\\odot} yr^{-1} kpc^{-1}$] из http://iopscience.iop.org/article/10.1088/0004-637X/764/2/117/pdf.\n",
    "\n",
    "А точнее FITS, дюбезно предоставленный Бланком"
   ]
  },
  {
   "cell_type": "markdown",
   "metadata": {
    "hidden": true
   },
   "source": [
    "* http://iopscience.iop.org/article/10.1088/0004-637X/737/2/67/pdf\n",
    "* http://iopscience.iop.org/article/10.1088/0004-637X/741/2/124/pdf\n",
    "\n",
    "Murphy (2011) - первая ссылка: $$\\frac{SFR}{M_{\\odot}yr^{-1}} = 5.37\\times 10^{-42} \\frac{L_{H\\alpha}}{erg \\times s^{-1}}$$\n",
    "\n",
    "(хотя например Kennicutt там может до 7.9 коэффециент давать http://iopscience.iop.org/article/10.1088/0004-637X/703/2/1672/pdf)\n",
    "\n",
    "Проблема пересчитать в том, что я не знаю какие единицы в их фитсе - но похоже erg/s/cm^2."
   ]
  },
  {
   "cell_type": "code",
   "execution_count": null,
   "metadata": {
    "hidden": true,
    "scrolled": false
   },
   "outputs": [],
   "source": [
    "Image('VENGA_Halpha_SFR_wbar.png')"
   ]
  },
  {
   "cell_type": "markdown",
   "metadata": {
    "hidden": true
   },
   "source": [
    "А вот как выглядит исходная картинка из другой статьи:"
   ]
  },
  {
   "cell_type": "code",
   "execution_count": null,
   "metadata": {
    "hidden": true
   },
   "outputs": [],
   "source": [
    "Image('VENGA_Halpha.png')"
   ]
  },
  {
   "cell_type": "code",
   "execution_count": null,
   "metadata": {
    "hidden": true
   },
   "outputs": [],
   "source": [
    "from astropy.io import fits\n",
    "from mpl_toolkits.axes_grid1 import make_axes_locatable\n",
    "\n",
    "fig = plt.figure(figsize=[24,16])\n",
    "ax = plt.gca()\n",
    "fname = '../../data/ngc628/blanc_fits/NGC0628_map_ha_corr.fits'\n",
    "data = fits.getdata(fname)\n",
    "im = plt.imshow(np.squeeze(np.log10(data)), origin='lower', cmap='jet')\n",
    "\n",
    "plt.title(fname, fontsize=19)\n",
    "divider = make_axes_locatable(ax)\n",
    "cax = divider.append_axes(\"right\", size=\"5%\", pad=0.05)\n",
    "\n",
    "plt.colorbar(im, cax=cax)\n",
    "\n",
    "plt.show()"
   ]
  },
  {
   "cell_type": "markdown",
   "metadata": {
    "hidden": true
   },
   "source": [
    "Чтобы перевести в $L$ используем формулу 5 из http://iopscience.iop.org/article/10.1086/305331/fulltext/ и для площадки 86 пк считаем (86 = calc_scale(8.6)*1000*10/4.8)"
   ]
  },
  {
   "cell_type": "code",
   "execution_count": null,
   "metadata": {
    "hidden": true
   },
   "outputs": [],
   "source": [
    "fname = '../../data/ngc628/blanc_fits/NGC0628_map_ha_corr.fits'\n",
    "data = fits.getdata(fname)\n",
    "data = np.squeeze(data) * (((5.37*4*pi*(3.086*8.6)**2)*1e6)/(0.086)**2)"
   ]
  },
  {
   "cell_type": "code",
   "execution_count": null,
   "metadata": {
    "hidden": true
   },
   "outputs": [],
   "source": [
    "# from astropy.io import fits\n",
    "# from mpl_toolkits.axes_grid1 import make_axes_locatable\n",
    "\n",
    "# X,Y = np.meshgrid(np.arange(0.,Nx,1), np.arange(0.,Ny,1))\n",
    "\n",
    "# fig = plt.figure(figsize=[24,8])\n",
    "# ax = plt.gca()\n",
    "# quadmesh2 = ax.pcolormesh(X, Y, np.log10(data)[4:-1, 3:-2], cmap='sauron')\n",
    "# quadmesh2.set_clim(vmin=-3.5, vmax=-1.)\n",
    "# plt.colorbar(quadmesh2)\n",
    "\n",
    "# plt.show()"
   ]
  },
  {
   "cell_type": "markdown",
   "metadata": {
    "hidden": true
   },
   "source": [
    "В принципе похоже."
   ]
  },
  {
   "cell_type": "code",
   "execution_count": null,
   "metadata": {
    "hidden": true
   },
   "outputs": [],
   "source": [
    "np.save('Halpha_SFR_.npy', np.log10(data)[4:-1, 3:-2])\n",
    "np.save('Halpha_SFR_only.npy', data[4:-1, 3:-2] * (0.086)**2)"
   ]
  },
  {
   "cell_type": "code",
   "execution_count": null,
   "metadata": {
    "hidden": true
   },
   "outputs": [],
   "source": [
    "log_Halpha_SFR_ = np.load('Halpha_SFR_.npy')"
   ]
  },
  {
   "cell_type": "markdown",
   "metadata": {
    "hidden": true
   },
   "source": [
    "SFR contours:"
   ]
  },
  {
   "cell_type": "code",
   "execution_count": null,
   "metadata": {
    "hidden": true
   },
   "outputs": [],
   "source": [
    "def add_SFR_contours(levels=[-2.], colors=('red', 'blue'), X=None, Y=None):\n",
    "    if X is None and Y is None:\n",
    "        X,Y = np.meshgrid(np.arange(0.,Nx,1), np.arange(0.,Ny,1))\n",
    "    CS = plt.contour(X, Y, log_Halpha_SFR_, levels=levels, colors=colors)\n",
    "\n",
    "fig = plt.figure(figsize=[24,8])\n",
    "ax = plt.gca()\n",
    "quadmesh2 = ax.pcolormesh(X, Y, np.log10(data)[4:-1, 3:-2], cmap='sauron')\n",
    "quadmesh2.set_clim(vmin=-3.5, vmax=-1.)\n",
    "plt.colorbar(quadmesh2)\n",
    "\n",
    "add_SFR_contours()\n",
    "\n",
    "plt.show()"
   ]
  },
  {
   "cell_type": "markdown",
   "metadata": {
    "hidden": true
   },
   "source": [
    "How to mark stars - two ways, proper and less (есть разница в шкалах, делать для imshow или pcolormesh):"
   ]
  },
  {
   "cell_type": "code",
   "execution_count": null,
   "metadata": {
    "hidden": true
   },
   "outputs": [],
   "source": [
    "# def mark_stars(colors=('white'), levels=[-28.1, -28.]):\n",
    "#     X,Y = np.meshgrid(np.arange(0.5,Nx+0.5,1), np.arange(0.5,Ny+0.5,1))\n",
    "#     mask = sig_los == 0\n",
    "    \n",
    "# #     mask = np.ma.masked_where(sig_los>250, sig_los)\n",
    "# #     CS = plt.contour(X, Y, mask, levels=[0.99, 1.0], colors=colors, interpolation='none', origin='lower')\n",
    "#     CS3 = plt.contourf(X, Y, mask, levels, colors=colors, interpolation='none')\n",
    "\n",
    "# X,Y = np.meshgrid(np.arange(0.,Nx,1), np.arange(0.,Ny,1))\n",
    "\n",
    "# fig = plt.figure(figsize=[24,16])    \n",
    "# ax = fig.add_subplot(211)\n",
    "# # im = ax.imshow(sig_los, interpolation='none', cmap='jet')\n",
    "# quadmesh2 = ax.pcolormesh(X, Y, sig_los, cmap=cm.jet)\n",
    "# mark_stars(colors=('m'), levels=[0.999, 1.001])\n",
    "# ax.set_title('Way using contourf', fontsize=19)\n",
    "# ax.set_xlim(-0.5)\n",
    "\n",
    "# ax = fig.add_subplot(212)\n",
    "# masked_array = np.ma.array(sig_los, mask=sig_los == 0)\n",
    "# cmap = matplotlib.cm.jet\n",
    "# cmap.set_bad('m',1.)\n",
    "# ax.imshow(masked_array[::-1, :], interpolation='nearest', cmap=cmap)\n",
    "# ax.set_title('Prover way using set_bad', fontsize=19)\n",
    "# ax.set_xlim(-0.5)\n",
    "\n",
    "# fig.subplots_adjust(wspace=0.0, hspace=0.0)\n",
    "# plt.tight_layout()\n",
    "# plt.show()"
   ]
  },
  {
   "cell_type": "markdown",
   "metadata": {
    "hidden": true
   },
   "source": [
    "Ошибки:"
   ]
  },
  {
   "cell_type": "code",
   "execution_count": null,
   "metadata": {
    "hidden": true
   },
   "outputs": [],
   "source": [
    "fig = plt.figure(figsize=[24,16])\n",
    "ax = plt.gca()\n",
    "fname = '../../data/ngc628/blanc_fits/NGC0628_map_ha_corr_err.fits'\n",
    "data = fits.getdata(fname)\n",
    "data = np.squeeze(data) * (((5.37*4*pi*(3.086*8.6)**2)*1e6)/(0.086)**2)\n",
    "im = plt.imshow(np.squeeze(np.log10(data)), origin='lower', cmap='jet')\n",
    "\n",
    "plt.title(fname, fontsize=19)\n",
    "divider = make_axes_locatable(ax)\n",
    "cax = divider.append_axes(\"right\", size=\"5%\", pad=0.05)\n",
    "\n",
    "plt.colorbar(im, cax=cax)\n",
    "\n",
    "plt.show()"
   ]
  },
  {
   "cell_type": "code",
   "execution_count": null,
   "metadata": {
    "hidden": true
   },
   "outputs": [],
   "source": [
    "np.save('Halpha_SFR_err.npy', np.log10(data)[4:-1, 3:-2])"
   ]
  },
  {
   "cell_type": "markdown",
   "metadata": {},
   "source": [
    "## Плотность $\\Sigma_{\\rm CO}$ (VENGA, HERACLES)"
   ]
  },
  {
   "cell_type": "markdown",
   "metadata": {},
   "source": [
    "В http://iopscience.iop.org/article/10.1088/0004-637X/764/2/117/pdf выбор из трех возможностей:\n",
    "\n",
    "* HERACLES, CO(2–1) beam size of $13.6$ and rms noise of ∼22 mK per 2.6 km s−1 channel, which translates into a 1σ limit on the molecular gas surface density of $\\Sigma_{H2}\\approx 3 M_{\\odot} pc^{-2}$\n",
    "* BIMA-SONG, robust beam size of $6.2$, and rms noise of 51 mJy beam−1 in a 10 km s−1 channel or $\\Sigma_{H2}\\approx 13 M_{\\odot} pc^{-2}$\n",
    "* CARMA, CO(1–0) has a spatial resolution of $3.6$ and rms noise of ∼20 mJy beam−1 in a 10 km s−1 channel $\\Sigma_{H2}\\approx 5 M_{\\odot} pc^{-2}$\n",
    "\n",
    "Т.о. лучше HERACLES, поскольку в смысле пространственного разрешения они все приведены к одному\n",
    ">We\n",
    "convolve the BIMA-SONG and CARMA maps with a Gaussian\n",
    "kernel to match the 13.6 arcsec PSF of the HERACLES map, which\n",
    "corresponds to ∼570 pc at the assumed distance to NGC 0628.\n",
    "\n",
    "Куб HERACLES и ошибки из https://www.cv.nrao.edu/~aleroy/heracles_data/ (не работает, загрузил из NED)\n",
    "\n",
    "TODO: учеть другой угол и расстояние - у них For NGC 628, we assume an inclination of i = 8.7 and a distance of 8.6 Mpc (Herrmann et al. 2008)."
   ]
  },
  {
   "cell_type": "markdown",
   "metadata": {},
   "source": [
    "Теперь поверхностные плотности. \n",
    "\n",
    "Leroy делал $$\\Sigma_{H_2} = 4.4\\cos i \\times I_{CO(1-0)}$$ $$\\Sigma_{H_2} = 5.5\\cos i \\times I_{CO(2-1)}$$ для $X_{CO}=2\\times10^{20}$\n",
    "\n",
    "В HERACLES $CO(2-1)$ изначально, но карта в статье уже переведена в $CO(1-0)$, так что используем первую формулу.\n",
    "\n",
    "Эти же формулы в HERACLES (3) & (4) - **они уже исправлены за наличие гелия!!**\n",
    "\n",
    "Сравним с 2008м годом:"
   ]
  },
  {
   "cell_type": "code",
   "execution_count": null,
   "metadata": {},
   "outputs": [],
   "source": [
    "H2_raw = ImagePIL.open('Leroy_H2_scaled.png')\n",
    "colorbar = ImagePIL.open('Leroy_HI_colorbar.png')\n",
    "cw, ch = colorbar.width, colorbar.height\n",
    "colorbar = np.array(list(colorbar.getdata())).reshape(ch, cw, 4)[:, 10:11, :].reshape(ch, 4)"
   ]
  },
  {
   "cell_type": "code",
   "execution_count": null,
   "metadata": {},
   "outputs": [],
   "source": [
    "fname = '../../data/ngc628/ngc0628_heracles_mom0.fits'\n",
    "data = np.squeeze(fits.getdata(fname))\n",
    "data = data*5.5*cos_i"
   ]
  },
  {
   "cell_type": "code",
   "execution_count": null,
   "metadata": {},
   "outputs": [],
   "source": [
    "%%time\n",
    "Z = image_map_to_colorbar(H2_raw, colorbar, 33.89, 1.)"
   ]
  },
  {
   "cell_type": "code",
   "execution_count": null,
   "metadata": {},
   "outputs": [],
   "source": [
    "# X,Y = np.meshgrid(np.arange(0.,862,1), np.arange(0.,862,1))\n",
    "\n",
    "# plt.figure(figsize=[20, 8])\n",
    "# plt.subplot(1, 2, 1)\n",
    "# quadmesh = plt.pcolormesh(X, Y, Z*2, cmap=cm.gist_heat_r)\n",
    "# quadmesh.set_clim(vmin=10.0, vmax=40.)\n",
    "# plt.colorbar()\n",
    "\n",
    "# plt.subplot(1, 2, 2)\n",
    "# X,Y = np.meshgrid(np.arange(0.,len(data[0]),1), np.arange(0.,len(data),1))\n",
    "\n",
    "# quadmesh = plt.pcolormesh(X, Y, data, cmap=cm.gist_heat_r)\n",
    "# quadmesh.set_clim(vmin=10.0, vmax=40.)\n",
    "# plt.colorbar()"
   ]
  },
  {
   "cell_type": "markdown",
   "metadata": {},
   "source": [
    "Видно, что разница примерно в два раза по оценкам - что-то Leroy сделал не так в своей работе, поскольку позже в [Leroy 2015](http://iopscience.iop.org/article/10.1088/0004-637X/808/1/99/pdf) плотности уже до 40 $M_{\\odot}pc^{-2}$ (может ли это быть связано с разрешением?).\n",
    "\n",
    "Причем это верно и для снятой картинки со статьи."
   ]
  },
  {
   "cell_type": "markdown",
   "metadata": {},
   "source": [
    "http://iopscience.iop.org/article/10.1088/0004-6256/137/6/4670/pdf\n",
    "\n",
    "- NAME_heracles.hans.fits - the data cube\n",
    "- NAME_heracles_mom0.fits - the integrated intensity map\n",
    "- NAME_heracles_emom0.fits - uncertainty in the integrated intensity map\n",
    "- NAME_heracles_mom1.fits - the velocity field"
   ]
  },
  {
   "cell_type": "code",
   "execution_count": null,
   "metadata": {},
   "outputs": [],
   "source": [
    "# from astropy.io import fits\n",
    "# from mpl_toolkits.axes_grid1 import make_axes_locatable\n",
    "\n",
    "# fig = plt.figure(figsize=[24,16])\n",
    "# plt.subplot(121)\n",
    "# ax = plt.gca()\n",
    "# fname = '../../data/ngc628/ngc0628_heracles_mom0.fits'\n",
    "# data = fits.getdata(fname)\n",
    "# im = plt.imshow(np.squeeze(data), origin='lower', cmap='jet')\n",
    "\n",
    "# plt.title(fname, fontsize=19)\n",
    "# divider = make_axes_locatable(ax)\n",
    "# cax = divider.append_axes(\"right\", size=\"5%\", pad=0.05)\n",
    "# plt.colorbar(im, cax=cax)\n",
    "\n",
    "# # plt.subplot(122)\n",
    "# # ax = plt.gca()\n",
    "# # fname = '../../data/ngc628/ngc0628_heracles_mom1.fits'\n",
    "# # data = fits.getdata(fname)\n",
    "# # im = plt.imshow(np.squeeze(data), origin='lower', cmap='jet')\n",
    "\n",
    "# # plt.title(fname, fontsize=19)\n",
    "# # divider = make_axes_locatable(ax)\n",
    "# # cax = divider.append_axes(\"right\", size=\"5%\", pad=0.05)\n",
    "# # plt.colorbar(im, cax=cax)\n",
    "# # plt.show()"
   ]
  },
  {
   "cell_type": "markdown",
   "metadata": {
    "collapsed": true
   },
   "source": [
    "Нужная нам область (для перевода из BUNIT = 'K KM/S'/Tmb, integrated over line используем формулу выше, она же (4) в статье о HERACLES):"
   ]
  },
  {
   "cell_type": "code",
   "execution_count": null,
   "metadata": {
    "scrolled": false
   },
   "outputs": [],
   "source": [
    "%%time\n",
    "cutout = plot_cutout('../../data/ngc628/ngc0628_heracles_mom0.fits', size=size, coordinates=True, figsize=[24, 8], title='co_density', cmap='sauron')\n",
    "\n",
    "co_grid_pixs = []\n",
    "Sigma_CO_cut = []\n",
    "for scoord in sgrid.ravel():\n",
    "    spix = skycoord_to_pixel(scoord, cutout.wcs)\n",
    "    co_grid_pixs.append(spix)\n",
    "    Sigma_CO_cut.append(cutout.data[int(spix[1])][int(spix[0])]*5.5*cos_i/1.36)\n",
    "plt.plot(zip(*co_grid_pixs)[0],  zip(*co_grid_pixs)[1], '.', ms=3, color='r')\n",
    "plt.show()"
   ]
  },
  {
   "cell_type": "code",
   "execution_count": null,
   "metadata": {},
   "outputs": [],
   "source": [
    "len(co_grid_pixs)"
   ]
  },
  {
   "cell_type": "markdown",
   "metadata": {},
   "source": [
    "Площадка еще раз"
   ]
  },
  {
   "cell_type": "code",
   "execution_count": null,
   "metadata": {},
   "outputs": [],
   "source": [
    "# cutout = plot_cutout('../../data/ngc628/ngc0628_heracles_mom0.fits', size=size, coordinates=True, figsize=[24, 8], title='co_density', cmap='sauron')\n",
    "# plot_rectange_from_grid(plt.gca(), co_grid_pixs)\n",
    "# plt.show()"
   ]
  },
  {
   "cell_type": "code",
   "execution_count": null,
   "metadata": {},
   "outputs": [],
   "source": [
    "Sigma_CO_cut = np.array(Sigma_CO_cut).reshape((55, 155))"
   ]
  },
  {
   "cell_type": "code",
   "execution_count": null,
   "metadata": {},
   "outputs": [],
   "source": [
    "#убираем странную область в левом нижнем углу\n",
    "Sigma_CO_cut[Sigma_CO_cut < 0] = 0"
   ]
  },
  {
   "cell_type": "code",
   "execution_count": null,
   "metadata": {},
   "outputs": [],
   "source": [
    "plt.figure(figsize=[18, 7])\n",
    "X,Y = np.meshgrid(np.arange(0.,155,1), np.arange(0.,55,1))\n",
    "Z = Sigma_CO_cut\n",
    "quadmesh = plt.pcolormesh(X, Y, Z, cmap='jet')\n",
    "plt.colorbar()\n",
    "quadmesh.cmap.set_under('white')"
   ]
  },
  {
   "cell_type": "code",
   "execution_count": null,
   "metadata": {},
   "outputs": [],
   "source": [
    "np.save('Sigma_CO_cut.npy', Sigma_CO_cut)"
   ]
  },
  {
   "cell_type": "markdown",
   "metadata": {},
   "source": [
    "Ошибки:"
   ]
  },
  {
   "cell_type": "code",
   "execution_count": null,
   "metadata": {},
   "outputs": [],
   "source": [
    "# from astropy.io import fits\n",
    "# from mpl_toolkits.axes_grid1 import make_axes_locatable\n",
    "\n",
    "# fig = plt.figure(figsize=[24,16])\n",
    "# plt.subplot(121)\n",
    "# ax = plt.gca()\n",
    "# fname = '../../data/ngc628/ngc0628_heracles_mom0.fits'\n",
    "# data = fits.getdata(fname)\n",
    "# im = plt.imshow(np.squeeze(data), origin='lower', cmap='jet')\n",
    "\n",
    "# plt.title(fname, fontsize=19)\n",
    "# divider = make_axes_locatable(ax)\n",
    "# cax = divider.append_axes(\"right\", size=\"5%\", pad=0.05)\n",
    "# plt.colorbar(im, cax=cax)\n",
    "\n",
    "# plt.subplot(122)\n",
    "# ax = plt.gca()\n",
    "# fname = '../../data/ngc628/ngc0628_heracles_emom0.fits'\n",
    "# data = fits.getdata(fname)\n",
    "# im = plt.imshow(np.squeeze(data), origin='lower', cmap='jet')\n",
    "\n",
    "# plt.title(fname, fontsize=19)\n",
    "# divider = make_axes_locatable(ax)\n",
    "# cax = divider.append_axes(\"right\", size=\"5%\", pad=0.05)\n",
    "# plt.colorbar(im, cax=cax)\n",
    "# plt.show()"
   ]
  },
  {
   "cell_type": "code",
   "execution_count": null,
   "metadata": {},
   "outputs": [],
   "source": [
    "# size = (120, 350)\n",
    "# cutout = plot_cutout('../../data/ngc628/ngc0628_heracles_mom0.fits', size=size, coordinates=True, figsize=[24, 8], title='co_density', cmap='sauron')\n",
    "# cutout_err = plot_cutout('../../data/ngc628/ngc0628_heracles_emom0.fits', size=size, coordinates=True, figsize=[24, 8], title='co_density', cmap='sauron')\n",
    "\n",
    "# Sigma_CO_cut_err = []\n",
    "# for scoord in sgrid.ravel():\n",
    "#     spix = skycoord_to_pixel(scoord, cutout.wcs)\n",
    "#     Sigma_CO_cut_err.append(cutout_err.data[int(spix[1])][int(spix[0])]/cutout.data[int(spix[1])][int(spix[0])])\n",
    "\n",
    "# Sigma_CO_cut_err = np.array(Sigma_CO_cut_err).reshape((55, 155))"
   ]
  },
  {
   "cell_type": "code",
   "execution_count": null,
   "metadata": {},
   "outputs": [],
   "source": [
    "# fig = plt.figure(figsize=[24,16])\n",
    "# ax = plt.gca()\n",
    "# im = plt.imshow(Sigma_CO_cut_err, origin='lower', cmap=cm.Blues)\n",
    "# im.set_clim(0., .5)\n",
    "\n",
    "# plt.title('Relative error', fontsize=19)\n",
    "# divider = make_axes_locatable(ax)\n",
    "# cax = divider.append_axes(\"right\", size=\"5%\", pad=0.05)\n",
    "# cb = plt.colorbar(im, cax=cax)\n",
    "# plt.show()\n",
    "\n",
    "# np.save('Sigma_CO_cut_relerr.npy', Sigma_CO_cut_err)"
   ]
  },
  {
   "cell_type": "code",
   "execution_count": null,
   "metadata": {},
   "outputs": [],
   "source": [
    "Sigma_CO_cut_err = np.zeros((55, 155))"
   ]
  },
  {
   "cell_type": "markdown",
   "metadata": {
    "collapsed": true
   },
   "source": [
    "## Плотность $\\Sigma_{\\rm s}$ (S4G)"
   ]
  },
  {
   "cell_type": "markdown",
   "metadata": {},
   "source": [
    "другая возможность - использовать cleaned stellar fits из http://irsa.ipac.caltech.edu/data/SPITZER/S4G/docs/P5_README.html чтобы восстановить с помощью работы [Querejeta et al. (2014)](https://ui.adsabs.harvard.edu/#abs/2014ASPC..486..143Q/abstract)\n",
    "\n",
    "Используем ровно ту методику, что Leroy применил в своей работе к S4G данным: $$\\Sigma_s = 280\\cos i\\times I_{3.6}$$\n",
    "\n",
    "TODO: проверить, что именно к ним, добавить разрешение кубов, размеры бима\n",
    "\n",
    "Кубы из https://irsa.ipac.caltech.edu/cgi-bin/Atlas/nph-atlas?mission=S4G&hdr_location=\\S4GDataPath\\&locstr=MESSIER+074&regSize=0.00555556&radius=0.166667&radunits=arcmin&searchregion=off&covers=none&band=A\n",
    "\n",
    "S4G Pipeline Link: http://www.oulu.fi/astronomy/S4G_PIPELINE4/MAIN/decomp0053.html#entry0003\n",
    "\n",
    "Ошибок похоже нет\n",
    "\n",
    "По поводу разрешения - Саша Мосенков пишет:\n",
    "\n",
    "> Берется средняя 1.66\" для всех галактик, отдельно для каждой ты не найдешь. "
   ]
  },
  {
   "cell_type": "code",
   "execution_count": null,
   "metadata": {},
   "outputs": [],
   "source": [
    "data = fits.getdata('NGC0628.phot.1_nonan.fits')\n",
    "data = squeeze(data)\n",
    "X,Y = np.meshgrid(np.arange(0.,len(data[0]),1), np.arange(0.,len(data),1))\n",
    "Z = data\n",
    "\n",
    "plt.figure(figsize=[12, 12])\n",
    "quadmesh = plt.pcolormesh(X, Y, Z, cmap=cm.gist_yarg)\n",
    "quadmesh.set_clim(vmin=0., vmax=1.)\n",
    "\n",
    "plt.colorbar()"
   ]
  },
  {
   "cell_type": "markdown",
   "metadata": {},
   "source": [
    "Слудеум Leroy (2008) c его постоянной M/L в $K$: $$\\Sigma = 280\\times\\cos i\\times I_{36}$$\n",
    "\n",
    "Уже проверяли в другом документе по приближенной площадке, что похоже очень на его данные (надеюсь SIP distortion ничего не ломает, его отключили)."
   ]
  },
  {
   "cell_type": "code",
   "execution_count": null,
   "metadata": {
    "scrolled": false
   },
   "outputs": [],
   "source": [
    "%%time\n",
    "cutout = plot_cutout('NGC0628.phot.1_nonan.fits', size=size, coordinates=True, figsize=[24, 8], title='star_density', cmap='sauron', vmax=10.)\n",
    "\n",
    "star_grid_pixs = []\n",
    "Sigma_s_cut = []\n",
    "for scoord in sgrid.ravel():\n",
    "    spix = skycoord_to_pixel(scoord, cutout.wcs)\n",
    "    star_grid_pixs.append(spix)\n",
    "    Sigma_s_cut.append(cutout.data[int(spix[1])][int(spix[0])]*280.*cos_i)\n",
    "plt.plot(zip(*star_grid_pixs)[0],  zip(*star_grid_pixs)[1], '.', ms=1, color='r')\n",
    "plt.show()"
   ]
  },
  {
   "cell_type": "code",
   "execution_count": null,
   "metadata": {},
   "outputs": [],
   "source": [
    "len(star_grid_pixs)"
   ]
  },
  {
   "cell_type": "markdown",
   "metadata": {},
   "source": [
    "Площадка еще раз"
   ]
  },
  {
   "cell_type": "code",
   "execution_count": null,
   "metadata": {},
   "outputs": [],
   "source": [
    "# cutout = plot_cutout('NGC0628.phot.1_nonan.fits', size=size, coordinates=True, figsize=[24, 8], title='star_density', cmap='sauron', vmax=10.)\n",
    "# plot_rectange_from_grid(plt.gca(), star_grid_pixs)\n",
    "# plt.show()"
   ]
  },
  {
   "cell_type": "code",
   "execution_count": null,
   "metadata": {},
   "outputs": [],
   "source": [
    "X,Y = np.meshgrid(np.arange(0.,len(data[0]),1), np.arange(0.,len(data),1))\n",
    "\n",
    "fig = plt.figure(figsize=[12,12])\n",
    "\n",
    "w = WCS('NGC0628.phot.1_nonan.fits', naxis=2)\n",
    "ax = fig.add_subplot(111, projection=w)\n",
    "im = ax.imshow(data, origin='lower', vmax=5.)\n",
    "\n",
    "lon = ax.coords[0]\n",
    "lat = ax.coords[1]\n",
    "\n",
    "lon.set_major_formatter('dd:mm:ss')\n",
    "lat.set_major_formatter('dd:mm:ss')\n",
    "\n",
    "lon.set_ticks(spacing=60. * u.arcsec)\n",
    "lat.set_ticks(spacing=60. * u.arcsec)\n",
    "\n",
    "lon.display_minor_ticks(True)\n",
    "lat.display_minor_ticks(True)\n",
    "lat.set_minor_frequency(3)\n",
    "lon.set_minor_frequency(3)\n",
    "\n",
    "star_grid_pixs_ = []\n",
    "for scoord in sgrid.ravel():\n",
    "    spix = skycoord_to_pixel(scoord, w)\n",
    "    star_grid_pixs_.append(spix)\n",
    "\n",
    "plot_rectange_from_grid(plt.gca(), star_grid_pixs_)\n",
    "plt.show()"
   ]
  },
  {
   "cell_type": "code",
   "execution_count": null,
   "metadata": {},
   "outputs": [],
   "source": [
    "X,Y = np.meshgrid(np.arange(0.,len(data[0]),1), np.arange(0.,len(data),1))\n",
    "\n",
    "fig = plt.figure(figsize=[24,24])\n",
    "\n",
    "w = WCS('NGC0628.phot.1_nonan.fits', naxis=2)\n",
    "ax = fig.add_subplot(111, projection=w)\n",
    "im = ax.imshow(data, origin='lower', vmax=3., vmin=0.)\n",
    "\n",
    "plt.xlim(350, 930)\n",
    "plt.ylim(450, 950)\n",
    "\n",
    "# lon = ax.coords[0]\n",
    "# lat = ax.coords[1]\n",
    "\n",
    "# lon.set_major_formatter('dd:mm:ss')\n",
    "# lat.set_major_formatter('dd:mm:ss')\n",
    "\n",
    "ax.set_xticklabels([])\n",
    "ax.set_yticklabels([])\n",
    "\n",
    "# lon.display_minor_ticks(False)\n",
    "# lat.display_minor_ticks(False)\n",
    "# lat.set_minor_frequency(3)\n",
    "# lon.set_minor_frequency(3)\n",
    "\n",
    "plot_rectange_from_grid(plt.gca(), star_grid_pixs_)\n",
    "plt.show()"
   ]
  },
  {
   "cell_type": "code",
   "execution_count": null,
   "metadata": {},
   "outputs": [],
   "source": [
    "Sigma_s_cut = np.array(Sigma_s_cut).reshape((55, 155))"
   ]
  },
  {
   "cell_type": "code",
   "execution_count": null,
   "metadata": {},
   "outputs": [],
   "source": [
    "plt.figure(figsize=[18, 7])\n",
    "X,Y = np.meshgrid(np.arange(0.,155,1), np.arange(0.,55,1))\n",
    "Z = Sigma_s_cut\n",
    "quadmesh = plt.pcolormesh(X, Y, Z, cmap='magma')\n",
    "quadmesh.set_clim(vmin=1., vmax=1000.)\n",
    "plt.colorbar()\n",
    "quadmesh.cmap.set_under('white')"
   ]
  },
  {
   "cell_type": "code",
   "execution_count": null,
   "metadata": {},
   "outputs": [],
   "source": [
    "np.save('Sigma_s_cut.npy', Sigma_s_cut)"
   ]
  },
  {
   "cell_type": "markdown",
   "metadata": {
    "heading_collapsed": true
   },
   "source": [
    "# Все в одном"
   ]
  },
  {
   "cell_type": "code",
   "execution_count": null,
   "metadata": {
    "hidden": true
   },
   "outputs": [],
   "source": [
    "Sigma_HI_ = np.load('Sigma_HI_cut.npy')\n",
    "sig_los = np.load('sig_los.npy')\n",
    "c_g_ = np.load('c_g_cut.npy')\n",
    "c_CO_ = np.load('c_CO_.npy')\n",
    "dist_ = np.load('dist.npy')\n",
    "Sigma_HERACLES_CO_ = np.load('Sigma_CO_cut.npy')\n",
    "# Sigma_HERACLES_CO_ = np.nan_to_num(Sigma_HERACLES_CO_)\n",
    "log_Halpha_SFR_ = np.load('Halpha_SFR_.npy')\n",
    "# Sigma_s = np.load('Sigma_s.npy')\n",
    "sig_R_max = np.load('sig_R_max.npy')\n",
    "sig_R_min = np.load('sig_R_min.npy')\n",
    "Sigma_s_Leroy_ = np.load('Sigma_s_cut.npy')\n",
    "\n",
    "X,Y = np.meshgrid(np.arange(0.,Nx,1), np.arange(0.,Ny,1))\n",
    "\n",
    "r_g = np.load('r_g.npy')\n",
    "vel_g = np.load('vel_g.npy')\n",
    "gas_approx = poly1d(polyfit(r_g, vel_g, deg=5))\n",
    "def epicyclicFreq_real(poly_gas, R, resolution):\n",
    "    return sqrt(2.0) * poly_gas(R) * sqrt(1 + R * poly_gas.deriv()(R) / poly_gas(R)) / (R * resolution )\n",
    "\n",
    "def add_SFR_contours(levels=[-2.], colors=('red', 'blue'), X=None, Y=None, ax=None, **kwargs):\n",
    "    if X is None and Y is None:\n",
    "        X,Y = np.meshgrid(np.arange(0.,Nx,1), np.arange(0.,Ny,1))\n",
    "    if ax is not None:\n",
    "        CS = ax.contour(X, Y, log_Halpha_SFR_, levels=levels, colors=colors, **kwargs)\n",
    "    else:\n",
    "        CS = plt.contour(X, Y, log_Halpha_SFR_, levels=levels, colors=colors, **kwargs)\n",
    "\n",
    "def mark_stars(colors=('white'), levels=[0.999, 1.001], ax=None):\n",
    "    Xm,Ym = np.meshgrid(np.arange(0.5,Nx+0.5,1), np.arange(0.5,Ny+0.5,1))\n",
    "    mask = sig_los == 0\n",
    "    if ax is not None:\n",
    "        CS3 = ax.contourf(Xm, Ym, mask, levels, colors=colors, interpolation='none')\n",
    "    else:\n",
    "        CS3 = plt.contourf(Xm, Ym, mask, levels, colors=colors, interpolation='none')\n",
    "        \n",
    "def add_spirals(ax, colors=['m', 'm'], **kwargs):\n",
    "    \n",
    "    tt = np.arange(0.5, 15.5, 0.001)\n",
    "    delta = -40.*pi/180.\n",
    "    theta = (tt-delta)\n",
    "    r0 = 14.95 * (Nx/350.)\n",
    "    b = 0.33\n",
    "\n",
    "    yy = r0 * np.exp(tt*b) * np.sin(theta) + 55./2\n",
    "    xx = r0 * np.exp(tt*b) * np.cos(theta) + 155./2\n",
    "\n",
    "    delta2 = 140.*pi/180.\n",
    "    theta2 = (tt-delta2)\n",
    "    r02 = 20.95 * (Nx/350.)\n",
    "    b2 = 0.27\n",
    "\n",
    "    yy2 = r02 * np.exp(tt*b2) * np.sin(theta2) + 55./2\n",
    "    xx2 = r02 * np.exp(tt*b2) * np.cos(theta2) + 168./2\n",
    "\n",
    "    spiralA = zip(xx,yy)\n",
    "    spiralB = zip(xx2,yy2)\n",
    "\n",
    "    collection1 = LineCollection([spiralA, spiralB], **kwargs)\n",
    "    ax.add_collection(collection1)"
   ]
  },
  {
   "cell_type": "markdown",
   "metadata": {
    "collapsed": true,
    "hidden": true
   },
   "source": [
    "Общая картинка:"
   ]
  },
  {
   "cell_type": "code",
   "execution_count": null,
   "metadata": {
    "hidden": true,
    "scrolled": false
   },
   "outputs": [],
   "source": [
    "import matplotlib.patches as patches\n",
    "\n",
    "fig = plt.figure(figsize=[30, 96])\n",
    "plt.subplot(8, 1, 1)\n",
    "# X,Y = np.meshgrid(np.linspace(512. - 175.92/1.5, 512.+157.3/1.5, 1553), np.linspace(512. - 53.82/1.5, 512. + 55.42/1.5, 513))\n",
    "quadmesh = plt.pcolormesh(X, Y, Sigma_HI_, cmap=cm.gist_yarg)\n",
    "# CS = plt.contour(X, Y, Sigma_HI, levels=[5., 10.], aspect='auto', alpha=0.5)\n",
    "quadmesh.set_clim(vmin=0., vmax=10.5)\n",
    "plt.colorbar()\n",
    "CS = plt.contour(X, Y, dist_, [50., 80., 100.], colors=('g'))\n",
    "plt.title(r'$\\Sigma_{HI}$', fontsize=30)\n",
    "\n",
    "\n",
    "plt.subplot(8, 1, 2)\n",
    "# X,Y = np.meshgrid(np.linspace(512. - 175.92/1.5, 512.+157.3/1.5, 1553), np.linspace(512. - 53.82/1.5, 512. + 55.42/1.5, 513))\n",
    "# CS = plt.contour(X, Y, sig_los, levels=[40., 70.], aspect='auto', alpha=0.5, colors='r')\n",
    "# plt.clabel(CS, inline=1, fontsize=10)\n",
    "plt.title(r'$\\sigma_{s}$', fontsize=30)\n",
    "quadmesh2 = plt.pcolormesh(X, Y, sig_los, cmap=cm.jet)\n",
    "quadmesh2.set_clim(vmin=6., vmax=80.5)\n",
    "plt.colorbar()\n",
    "CS = plt.contour(X, Y, dist_, [50., 80., 100.], colors=('g'))\n",
    "mark_stars(colors=('y'), levels=[0.999, 1.001])\n",
    "\n",
    "\n",
    "#bulge\n",
    "circle = plt.Circle((512, 512), 10., color='b', fill=False)\n",
    "plt.gca().add_artist(circle)\n",
    "\n",
    "\n",
    "plt.subplot(8, 1, 3)\n",
    "# X,Y = np.meshgrid(xvalues, yvalues)\n",
    "quadmesh = plt.pcolormesh(X, Y, c_g_, cmap=cm.plasma)\n",
    "# CS = plt.contour(X, Y, Sigma_HI, levels=[5., 10.], aspect='auto', alpha=0.5)\n",
    "quadmesh.set_clim(vmin=5., vmax=25.5)\n",
    "plt.colorbar()\n",
    "CS = plt.contour(X, Y, dist_, [50., 80., 100.], colors=('g'))\n",
    "plt.title(r'$\\sigma_{HI}$', fontsize=30)\n",
    "\n",
    "plt.subplot(8, 1, 4)\n",
    "X_,Y_ = np.meshgrid(np.linspace(512. - 175.92/1.5, 512.+157.3/1.5, 1553), np.linspace(512. - 53.82/1.5, 512. + 55.42/1.5, 513))\n",
    "quadmesh = plt.pcolormesh(X_, Y_, c_CO_, cmap=cm.copper)\n",
    "# CS = plt.contour(X, Y, Sigma_HI, levels=[5., 10.], aspect='auto', alpha=0.5)\n",
    "quadmesh.set_clim(vmin=.1, vmax=15.1)\n",
    "plt.colorbar()\n",
    "plt.title(r'$\\sigma_{CO}$', fontsize=30)\n",
    "\n",
    "plt.subplot(8, 1, 5)\n",
    "# X,Y = np.meshgrid(xvalues, yvalues)\n",
    "quadmesh = plt.pcolormesh(X, Y, dist_, cmap=cm.ocean)\n",
    "# CS = plt.contour(X, Y, Sigma_HI, levels=[5., 10.], aspect='auto', alpha=0.5)\n",
    "# quadmesh.set_clim(vmin=.1, vmax=15.1)\n",
    "plt.colorbar()\n",
    "CS = plt.contour(X, Y, dist_, [50., 80., 100.], colors=('g'))\n",
    "plt.title(r'$R$', fontsize=30)\n",
    "\n",
    "plt.subplot(8, 1, 6)\n",
    "# X,Y = np.meshgrid(xvalues, yvalues)\n",
    "quadmesh = plt.pcolormesh(X, Y, Sigma_HERACLES_CO_, cmap=cm.jet)\n",
    "# CS = plt.contour(X, Y, Sigma_HI, levels=[5., 10.], aspect='auto', alpha=0.5)\n",
    "quadmesh.set_clim(vmin=0., vmax=45.19)\n",
    "plt.colorbar()\n",
    "CS = plt.contour(X, Y, dist_, [50., 80., 100.], colors=('g'))\n",
    "plt.title(r'$\\Sigma_{CO}$', fontsize=30)\n",
    "\n",
    "plt.subplot(8, 1, 7)\n",
    "# X,Y = np.meshgrid(xvalues, yvalues)\n",
    "quadmesh = plt.pcolormesh(X, Y, log_Halpha_SFR_, cmap=cm.jet)\n",
    "# CS = plt.contour(X, Y, Sigma_HI, levels=[5., 10.], aspect='auto', alpha=0.5)\n",
    "quadmesh.set_clim(vmin=-3.5, vmax=-1.)\n",
    "plt.colorbar()\n",
    "CS = plt.contour(X, Y, dist_, [50., 80., 100.], colors=('g'))\n",
    "plt.title(r'$\\log H_{\\alpha}$', fontsize=30)\n",
    "add_SFR_contours()\n",
    "\n",
    "plt.subplot(8, 1, 8)\n",
    "# X,Y = np.meshgrid(xvalues, yvalues)\n",
    "quadmesh = plt.pcolormesh(X, Y, Sigma_s_Leroy_, cmap=cm.jet)\n",
    "# CS = plt.contour(X, Y, Sigma_HI, levels=[5., 10.], aspect='auto', alpha=0.5)\n",
    "quadmesh.set_clim(vmin=1, vmax=1000.)\n",
    "plt.colorbar()\n",
    "CS = plt.contour(X, Y, dist_, [50., 80., 100.], colors=('g'))\n",
    "plt.title(r'$\\Sigma_{s}$', fontsize=30)\n",
    "\n",
    "# X,Y = np.meshgrid(np.arange(0.,len(c_g),1), np.arange(0.,len(c_g[0]),1))\n",
    "# CS = plt.contour(X[470:560, 380:650], Y[470:560, 380:650], c_g[470:560, 380:650], levels=[5., 10., 20.], aspect='auto', alpha=0.5)\n",
    "\n",
    "fig.subplots_adjust(wspace=0.1, hspace=0.05)\n",
    "\n",
    "plt.savefig('scaled_maps_column.png', format='png', bbox_inches='tight')\n",
    "plt.show()"
   ]
  },
  {
   "cell_type": "code",
   "execution_count": null,
   "metadata": {
    "hidden": true
   },
   "outputs": [],
   "source": [
    "print Sigma_HI_.shape\n",
    "print sig_los.shape\n",
    "print c_g_.shape\n",
    "print c_CO_.shape\n",
    "print dist_.shape\n",
    "print Sigma_HERACLES_CO_.shape\n",
    "print log_Halpha_SFR_.shape\n",
    "print sig_R_max.shape\n",
    "print sig_R_min.shape\n",
    "print Sigma_s_Leroy_.shape"
   ]
  },
  {
   "cell_type": "markdown",
   "metadata": {},
   "source": [
    "# Результаты"
   ]
  },
  {
   "cell_type": "markdown",
   "metadata": {
    "collapsed": true
   },
   "source": [
    "## $Q$"
   ]
  },
  {
   "cell_type": "markdown",
   "metadata": {},
   "source": [
    "Было 1553x513≈800000 pix, стало 155x55=8525 т.е. в тысячу раз быстрее.\n",
    "\n",
    "TODO: можно ли оценить эффект толщины?\n",
    "\n",
    "TODO: cold phase\n",
    "\n",
    "[A UNIVERSAL, LOCAL STAR FORMATION LAW IN GALACTIC CLOUDS, NEARBY GALAXIES, HIGH-REDSHIFT DISKS, AND STARBURSTS](http://iopscience.iop.org/article/10.1088/0004-637X/745/1/69/pdf) Krumholz 2012 - что две фазы и $Q$ важно в первой."
   ]
  },
  {
   "cell_type": "code",
   "execution_count": null,
   "metadata": {
    "scrolled": true
   },
   "outputs": [],
   "source": [
    "%%time\n",
    "\n",
    "G = 4.32\n",
    "Qeff_max = np.zeros(dist_.shape)\n",
    "Qeff_min = np.zeros(dist_.shape)\n",
    "bark = np.zeros(dist_.shape)\n",
    "bark_max = np.zeros(dist_.shape)\n",
    "Qgs = np.zeros(dist_.shape)\n",
    "Qss_min = np.zeros(dist_.shape)\n",
    "Qss_max = np.zeros(dist_.shape)\n",
    "\n",
    "step = 0\n",
    "errors = 0\n",
    "for i, row in enumerate(dist_):\n",
    "    for j, col in enumerate(dist_[0]):\n",
    "        step+=1\n",
    "        if step % 1000 == 0:\n",
    "            print step\n",
    "        c = c_g_[i][j]\n",
    "        Sigma = 1.36*(Sigma_HI_[i][j] + Sigma_HERACLES_CO_[i][j])\n",
    "        kappa = epicyclicFreq_real(gas_approx, dist_[i][j], scale)\n",
    "        Sigma_s_ = Sigma_s_Leroy_[i][j]\n",
    "        s_R_max = sig_R_max[i][j]\n",
    "        s_R_min = sig_R_min[i][j]\n",
    "        Qg = kappa * c / (math.pi * G * Sigma)\n",
    "        Qs_max = kappa * s_R_max / (3.36 * G * Sigma_s_)\n",
    "        Qs_min = kappa * s_R_min / (3.36 * G * Sigma_s_)\n",
    "        \n",
    "#         print c, Sigma, kappa, Sigma_s_, s_R_max, s_R_min, Qs_min, Qg, c/s_R_min\n",
    "        \n",
    "        try:\n",
    "            root_for_max, qeff = findInvKinemQeffBrentq(Qs_min, Qg, c/s_R_min, np.arange(0.01, 50., 1.))\n",
    "        except ValueError:\n",
    "            errors+=1\n",
    "            qeff = 0.01\n",
    "            root_for_max = -1.\n",
    "        Qeff_min[i][j] = 1./qeff\n",
    "        bark[i][j] = root_for_max\n",
    "        \n",
    "        try:\n",
    "            root_for_max, qeff = findInvKinemQeffBrentq(Qs_max, Qg, c/s_R_min, np.arange(0.01, 50., 1.))\n",
    "        except ValueError:\n",
    "            errors+=1\n",
    "            qeff = 0.01\n",
    "            root_for_max = -1.\n",
    "        Qeff_max[i][j] = 1./qeff\n",
    "        bark_max[i][j] = root_for_max\n",
    "        \n",
    "        Qgs[i][j] = Qg\n",
    "        Qss_min[i][j] = Qs_min\n",
    "        Qss_max[i][j] = Qs_max\n",
    "        \n",
    "print 'Errors:{}'.format(errors)"
   ]
  },
  {
   "cell_type": "code",
   "execution_count": null,
   "metadata": {},
   "outputs": [],
   "source": [
    "np.save('Qeff_min.npy', Qeff_min)\n",
    "np.save('bark.npy', bark)\n",
    "np.save('Qeff_max.npy', Qeff_max)\n",
    "np.save('bark_max.npy', bark)\n",
    "np.save('Qgs.npy', Qgs)\n",
    "np.save('Qss_min.npy', Qss_min)\n",
    "np.save('Qss_max.npy', Qss_max)"
   ]
  },
  {
   "cell_type": "code",
   "execution_count": null,
   "metadata": {},
   "outputs": [],
   "source": [
    "Qeff_min = np.load('Qeff_min.npy')\n",
    "bark = np.load('bark.npy')\n",
    "Qeff_max = np.load('Qeff_max.npy')\n",
    "bark = np.load('bark_max.npy')\n",
    "Qgs = np.load('Qgs.npy')\n",
    "Qss_min = np.load('Qss_min.npy')\n",
    "Qss_max = np.load('Qss_max.npy')\n",
    "\n",
    "X,Y = np.meshgrid(np.arange(0.,Nx,1), np.arange(0.,Ny,1))"
   ]
  },
  {
   "cell_type": "code",
   "execution_count": null,
   "metadata": {
    "scrolled": false
   },
   "outputs": [],
   "source": [
    "# TODO: понять, откуда берутся контуры внутри звезд и как их убрать\n",
    "\n",
    "plt.figure(figsize=[30, 54])\n",
    "\n",
    "plt.subplot(6,1,1)\n",
    "# X,Y = np.meshgrid(np.linspace(512. - 175.92/1.5, 512.+157.3/1.5, 1553), np.linspace(512. - 53.82/1.5, 512. + 55.42/1.5, 513))\n",
    "quadmesh = plt.pcolormesh(X, Y, Qeff_min, cmap=cm.gist_yarg)\n",
    "# CS = plt.contour(X, Y, Sigma_HI, levels=[5., 10.], aspect='auto', alpha=0.5)\n",
    "quadmesh.set_clim(vmin=2.0, vmax=4.)\n",
    "plt.colorbar()\n",
    "# CS = plt.contour(X, Y, Qeff_min, levels=[2.5], colors=('g'))\n",
    "plt.title(r'$Q_{eff,min}$', fontsize=30)\n",
    "# add_SFR_contours(levels=[-2.25], colors=('red'), X=None, Y=None)\n",
    "mark_stars(colors=('y'), levels=[0.999, 1.001])\n",
    "#bulge\n",
    "# circle = plt.Circle((512, 512), 10., color='b', fill=False, lw=10)\n",
    "# plt.gca().add_artist(circle)\n",
    "# circle = plt.Circle((Nx/2, Ny/2), 7., color='b', fill=False, lw=10) #7px approx 15arcsec\n",
    "# plt.gca().add_artist(circle)\n",
    "add_SFR_contours(colors=('red'))\n",
    "\n",
    "circle2 = plt.Circle((4+Nx/2, 1+Ny/2), 7., color='m', fill=False, lw=6, ls='--')\n",
    "plt.gca().add_artist(circle2)\n",
    "\n",
    "add_spirals(plt.gca(), colors=['m', 'm'])\n",
    "\n",
    "plt.subplot(6,1,2)\n",
    "quadmesh = plt.pcolormesh(X, Y, Qeff_max, cmap=cm.gist_yarg)\n",
    "quadmesh.set_clim(vmin=2.0, vmax=4.)\n",
    "plt.colorbar()\n",
    "CS = plt.contour(X, Y, Qeff_max, levels=[2.5], colors=('g'))\n",
    "plt.title(r'$Q_{eff,max}$', fontsize=30)\n",
    "# add_SFR_contours(levels=[-2.25], colors=('red'), X=None, Y=None)\n",
    "mark_stars(colors=('y'), levels=[0.999, 1.001])\n",
    "#bulge\n",
    "circle = plt.Circle((Nx/2, Ny/2), 7., color='b', fill=False, lw=10)\n",
    "plt.gca().add_artist(circle)\n",
    "add_SFR_contours(colors=('red'))\n",
    "\n",
    "plt.subplot(6,1,3)\n",
    "quadmesh = plt.pcolormesh(X, Y, Qgs, cmap=cm.gist_yarg)\n",
    "quadmesh.set_clim(vmin=2.0, vmax=4.)\n",
    "plt.colorbar()\n",
    "CS = plt.contour(X, Y, Qgs, levels=[2.5], colors=('g'))\n",
    "plt.title(r'$Q_{g}$', fontsize=30)\n",
    "# add_SFR_contours(levels=[-2.25], colors=('red'), X=None, Y=None)\n",
    "mark_stars(colors=('y'), levels=[0.999, 1.001])\n",
    "add_SFR_contours(colors=('red'))\n",
    "\n",
    "plt.subplot(6,1,4)\n",
    "quadmesh = plt.pcolormesh(X, Y, bark, cmap=cm.gray)\n",
    "quadmesh.set_clim(vmin=0., vmax=2.)\n",
    "plt.colorbar()\n",
    "plt.title(r'$\\bar{k}$', fontsize=30)\n",
    "mark_stars(colors=('y'), levels=[0.999, 1.001])\n",
    "\n",
    "plt.subplot(6,1,5)\n",
    "quadmesh = plt.pcolormesh(X, Y, Qss_min, cmap=cm.hot)\n",
    "quadmesh.set_clim(vmin=1.5, vmax=5.)\n",
    "plt.colorbar()\n",
    "plt.title(r'$Q_{s}^{min}$', fontsize=30)\n",
    "mark_stars(colors=('y'), levels=[0.999, 1.001])\n",
    "\n",
    "plt.subplot(6,1,6)\n",
    "quadmesh = plt.pcolormesh(X, Y, Qss_max, cmap=cm.hot)\n",
    "quadmesh.set_clim(vmin=2.5, vmax=8.)\n",
    "plt.colorbar()\n",
    "plt.title(r'$Q_{s}^{max}$', fontsize=30)\n",
    "mark_stars(colors=('y'), levels=[0.999, 1.001])\n",
    "\n",
    "# plt.savefig('result_maps_column2.png', format='png', bbox_inches='tight')\n",
    "# plt.show()"
   ]
  },
  {
   "cell_type": "markdown",
   "metadata": {},
   "source": [
    "### k в кпк"
   ]
  },
  {
   "cell_type": "markdown",
   "metadata": {},
   "source": [
    "$\\bar{k}$ в масштабах кпк \n",
    "${\\displaystyle \\bar{k}\\equiv\\frac{k\\,\\sigma_{\\mathrm{s}}}{\\kappa}}$:"
   ]
  },
  {
   "cell_type": "code",
   "execution_count": null,
   "metadata": {},
   "outputs": [],
   "source": [
    "%%time\n",
    "G = 4.32\n",
    "lambda_kpc = np.zeros(dist_.shape)\n",
    "\n",
    "for i, row in enumerate(dist_):\n",
    "    if i%100 == 0:\n",
    "        print i\n",
    "    for j, col in enumerate(dist_[0]):\n",
    "        kappa = epicyclicFreq_real(gas_approx, dist_[i][j], scale)\n",
    "        s_R_min = sig_R_min[i][j]\n",
    "        lambda_kpc[i][j] = 2*math.pi*s_R_min/(bark[i][j]*kappa)"
   ]
  },
  {
   "cell_type": "code",
   "execution_count": null,
   "metadata": {},
   "outputs": [],
   "source": [
    "np.save('lambda_kpc.npy', lambda_kpc)"
   ]
  },
  {
   "cell_type": "code",
   "execution_count": null,
   "metadata": {},
   "outputs": [],
   "source": [
    "lambda_kpc = np.load('lambda_kpc.npy')"
   ]
  },
  {
   "cell_type": "code",
   "execution_count": null,
   "metadata": {},
   "outputs": [],
   "source": [
    "plt.figure(figsize=[30, 9])\n",
    "X,Y = np.meshgrid(np.arange(0.,Nx,1), np.arange(0.,Ny,1))\n",
    "quadmesh = plt.pcolormesh(X, Y, lambda_kpc, cmap=cm.gray)\n",
    "quadmesh.set_clim(vmin=0., vmax=3.)\n",
    "plt.colorbar()\n",
    "CS = plt.contour(X, Y, lambda_kpc, levels=[0.75, 1.4], colors=('g', 'b'))\n",
    "plt.title(r'$\\lambda\\:[kpc]$', fontsize=30)\n",
    "mark_stars(colors=('y'), levels=[0.999, 1.001])\n",
    "# add_SFR_contours(levels=[-2.25], colors=('red'), X=None, Y=None)\n",
    "\n",
    "plt.plot([10, 10+1./calc_scale(8.6) * (Nx/350.)], [45, 45], '-', lw=3, color='r')\n",
    "plt.text(12, 46, '1 kpc', color='r', fontsize=20)\n",
    "\n",
    "plt.plot([12, 12 + 1.66 * (Nx/350.)], [40, 40], '-', lw=3, color='r')\n",
    "plt.text(12, 41, '1.66 arcsec S4G', color='r', fontsize=20)\n",
    "\n",
    "plt.plot([12, 12 + 13.6 * (Nx/350.)], [35, 35], '-', lw=3, color='r')\n",
    "plt.text(12, 36, '13.6 arcsec HERA', color='r', fontsize=20)\n",
    "\n",
    "plt.plot([12, 12 + 6 * (Nx/350.)], [30, 30], '-', lw=3, color='r')\n",
    "plt.text(12, 31, '6.0 arcsec THINGS', color='r', fontsize=20)\n",
    "\n",
    "plt.plot([12, 12 + 5.6 * (Nx/350.)], [25, 25], '-', lw=3, color='r')\n",
    "plt.text(12, 26, '5.6 arcsec VENGA', color='r', fontsize=20)"
   ]
  },
  {
   "cell_type": "code",
   "execution_count": null,
   "metadata": {},
   "outputs": [],
   "source": [
    "# fig= plt.figure(figsize=[30,10])\n",
    "\n",
    "# ax = plt.gca()\n",
    "# q_level = 3.\n",
    "# h_level = -2.15\n",
    "# ax.set_title('q={:3.2f}, h={:3.2f}'.format(q_level, h_level), fontsize=19)\n",
    "# CS = ax.contourf(X, Y, Qeff_min, levels=[0., q_level], colors=('g'), alpha=0.3)\n",
    "# # CS1 = ax.contourf(X, Y, Qeff_max, levels=[0., q_level], colors=('g'), alpha=0.3)\n",
    "# #         plt.title(r'$Qeff,min={}$'.format(q_level), fontsize=30)\n",
    "# add_SFR_contours(levels=[h_level], colors=('red'), ax=ax)\n",
    "# CS2 = ax.contour(X, Y, lambda_kpc, levels=[1.2], colors=('grey'), alpha=0.3)\n",
    "# CS3 = ax.contourf(X, Y, lambda_kpc, levels=[0., 1.2], colors=('none'), hatches=['o'], alpha=0.)\n",
    "# mark_stars(ax=ax, colors=('b'), levels=[0.999, 1.001])\n",
    "\n",
    "# plt.show()"
   ]
  },
  {
   "cell_type": "code",
   "execution_count": null,
   "metadata": {},
   "outputs": [],
   "source": [
    "# plt.figure(figsize=[30, 9])\n",
    "# X,Y = np.meshgrid(np.arange(0.,Nx,1), np.arange(0.,Ny,1))\n",
    "# # quadmesh = plt.pcolormesh(X, Y, lambda_kpc, cmap=cm.gray)\n",
    "# # quadmesh.set_clim(vmin=0., vmax=3.)\n",
    "# # plt.colorbar()\n",
    "# CS = plt.contourf(X, Y, lambda_kpc, levels=[0., 0.5, 0.75, 1., 1.5, 2.0, 2.5, 3.0], colors=(cm.rainbow(np.linspace(0,1,8))), alpha=0.4)\n",
    "# plt.colorbar()\n",
    "# plt.title(r'$\\lambda\\:[kpc]$', fontsize=30)\n",
    "# mark_stars(colors=('y'), levels=[0.999, 1.001])\n",
    "# add_SFR_contours(levels=[-2.15], colors=('red'), X=None, Y=None)\n",
    "# plt.plot([10, 10+1./calc_scale(8.6) * (Nx/350.)], [45, 45], '-', lw=3, color='r')\n",
    "# plt.text(12, 46, '1 kpc', color='r', fontsize=20)"
   ]
  },
  {
   "cell_type": "code",
   "execution_count": null,
   "metadata": {},
   "outputs": [],
   "source": [
    "plt.figure(figsize=[30, 9])\n",
    "X,Y = np.meshgrid(np.arange(0.,Nx,1), np.arange(0.,Ny,1))\n",
    "# quadmesh = plt.pcolormesh(X, Y, lambda_kpc, cmap=cm.gray)\n",
    "# quadmesh.set_clim(vmin=0., vmax=3.)\n",
    "# plt.colorbar()\n",
    "CS = plt.contourf(X, Y, lambda_kpc, levels=[0., 1., 2.0, 3.0], colors=(cm.rainbow(np.linspace(0,1,8))), alpha=0.4)\n",
    "plt.colorbar()\n",
    "plt.title(r'$\\lambda\\:[kpc]$', fontsize=30)\n",
    "mark_stars(colors=('y'), levels=[0.999, 1.001])\n",
    "add_SFR_contours(levels=[-2.15], colors=('red'), X=None, Y=None, linewidths=(2.))\n",
    "plt.plot([10, 10+1./calc_scale(8.6) * (Nx/350.)], [45, 45], '-', lw=3, color='r')\n",
    "plt.text(12, 46, '1 kpc', color='r', fontsize=20)"
   ]
  },
  {
   "cell_type": "markdown",
   "metadata": {},
   "source": [
    "Картинка для статьи"
   ]
  },
  {
   "cell_type": "code",
   "execution_count": null,
   "metadata": {},
   "outputs": [],
   "source": [
    "import matplotlib as mpl\n",
    "mpl.style.use('classic')"
   ]
  },
  {
   "cell_type": "code",
   "execution_count": null,
   "metadata": {
    "scrolled": false
   },
   "outputs": [],
   "source": [
    "fig = plt.figure(figsize=[30, 9])\n",
    "\n",
    "ax = plt.gca()\n",
    "\n",
    "h_level = -2.23\n",
    "q_level = 3.0\n",
    "mask = dist_ < 140.\n",
    "\n",
    "X,Y = np.meshgrid(np.arange(0.,Nx,1), np.arange(0.,Ny,1))\n",
    "\n",
    "# CS = plt.contourf(X, Y, lambda_kpc, levels=[0., 1., 2.0, 3.0], \n",
    "#             colors=(cm.rainbow(np.linspace(0,1,8))), alpha=0.4)\n",
    "# plt.colorbar()\n",
    "# plt.title(r'$\\lambda\\:[kpc]$', fontsize=30)\n",
    "# mark_stars(colors=('y'), levels=[0.999, 1.001])\n",
    "   \n",
    "masked_array = np.ma.array(lambda_kpc, mask=sig_los == 0)\n",
    "# imcmap = matplotlib.cm.gray_r\n",
    "# imcmap.set_bad('y')\n",
    "# quadmesh = ax.imshow(masked_array[::-1, :], cmap=imcmap, vmin=0., vmax=3., interpolation='none')\n",
    "# quadmesh = ax.pcolormesh(X, Y, masked_array, cmap=cm.gist_yarg)\n",
    "# quadmesh.set_clim(vmin=0.0, vmax=3.)\n",
    "CS = plt.contourf(X, Y, masked_array, levels=[0., 1., 2.0, 3.0], \n",
    "                  colors=(cm.rainbow(np.linspace(0,1,8))), alpha=0.4)\n",
    "# plt.colorbar()\n",
    "\n",
    "cbar = plt.colorbar(CS, pad=0.01)\n",
    "cbar.ax.tick_params(labelsize=20) \n",
    "\n",
    "add_SFR_contours(levels=[h_level], colors=('black'), X=None, Y=None, linewidths=(2.7))\n",
    "ax.set_facecolor(\"white\")\n",
    "    \n",
    "ax.set_xlim(0, Nx-1)\n",
    "ax.set_ylim(0, Ny-1)\n",
    "#     ax.set_yticklabels(ax.get_yticks(), fontsize=20)\n",
    "ax.set_yticks([(l*Ny/108.)+28. for l in np.arange(-40., 60, 20)])\n",
    "ax.set_yticklabels(['{:2.0f}'.format(l) for l in np.arange(-40., 60, 20)], fontsize=30)\n",
    "ax.set_ylabel(r'$\\Delta Y, \\mathrm{arcsec}$', fontsize=45)\n",
    "ax.tick_params(axis='both', length=8, width=3)\n",
    "ax.tick_params(axis='both', length=4, width=2, which='minor')\n",
    "ax.xaxis.set_minor_locator(AutoMinorLocator(3))\n",
    "ax.yaxis.set_minor_locator(AutoMinorLocator(2))\n",
    "\n",
    "ax.text(4, 46.5, r'$\\lambda,\\,\\mathrm{kpc}$', fontsize=60, color='black')\n",
    "plt.plot([6, 6+1./calc_scale(8.6) * (Nx/350.)], [6, 6], '-', lw=4, color='black')\n",
    "\n",
    "# cbar = fig.colorbar(quadmesh, ticks=[2, 3, 4], orientation='horizontal')\n",
    "# cbar.ax.set_yticklabels(['< -1', '0', '> 1'])  # vertically oriented colorbar\n",
    "\n",
    "plt.xticks([(l*Nx/328.1)+81. for l in np.arange(-150., 180, 30)], \n",
    "           ['{:2.0f}'.format(l) for l in np.arange(-150., 180, 30)], fontsize=30)\n",
    "plt.xlabel(r'$\\Delta X, \\mathrm{arcsec}$', fontsize=45)\n",
    "\n",
    "plt.savefig(paper_imgs_dir3 +'lambda.eps', format='eps', bbox_inches='tight')\n",
    "plt.savefig(paper_imgs_dir3 +'lambda.png', format='png', bbox_inches='tight')\n",
    "plt.savefig(paper_imgs_dir3 +'lambda.pdf', format='pdf', dpi=150, bbox_inches='tight')\n",
    "plt.show()"
   ]
  },
  {
   "cell_type": "code",
   "execution_count": null,
   "metadata": {},
   "outputs": [],
   "source": [
    "fig = plt.figure(figsize=[30, 9])\n",
    "\n",
    "ax = plt.gca()\n",
    "\n",
    "h_level = -2.23\n",
    "q_level = 3.0\n",
    "mask = dist_ < 140.\n",
    "\n",
    "X,Y = np.meshgrid(np.arange(0.,Nx,1), np.arange(0.,Ny,1))\n",
    "  \n",
    "masked_array = np.ma.array(lambda_kpc, mask=sig_los == 0)\n",
    "CS = plt.contourf(X, Y, masked_array, levels=[0., 1., 2.0, 3.0], \n",
    "                  colors=(cm.rainbow(np.linspace(0,1,5))), alpha=0.4)\n",
    "cbar = plt.colorbar(CS, pad=0.01)\n",
    "cbar.ax.tick_params(labelsize=20) \n",
    "\n",
    "add_SFR_contours(levels=[h_level], colors=('black'), X=None, Y=None, linewidths=(3.7))\n",
    "ax.set_facecolor(\"white\")\n",
    "    \n",
    "ax.set_xlim(0, Nx-1)\n",
    "ax.set_ylim(0, Ny-1)\n",
    "#     ax.set_yticklabels(ax.get_yticks(), fontsize=20)\n",
    "ax.set_yticks([(l*Ny/108.)+28. for l in np.arange(-40., 60, 20)])\n",
    "ax.set_yticklabels(['{:2.0f}'.format(l) for l in np.arange(-40., 60, 20)], fontsize=30)\n",
    "ax.set_ylabel(r'$\\Delta Y, \\mathrm{arcsec}$', fontsize=45)\n",
    "ax.tick_params(axis='both', length=8, width=3)\n",
    "ax.tick_params(axis='both', length=4, width=2, which='minor')\n",
    "ax.xaxis.set_minor_locator(AutoMinorLocator(3))\n",
    "ax.yaxis.set_minor_locator(AutoMinorLocator(2))\n",
    "\n",
    "ax.text(4, 46.5, r'$\\lambda,\\,\\mathrm{kpc}$', fontsize=60, color='black')\n",
    "plt.plot([6, 6+1./calc_scale(8.6) * (Nx/350.)], [6, 6], '-', lw=4, color='black')\n",
    "\n",
    "# cbar = fig.colorbar(quadmesh, ticks=[2, 3, 4], orientation='horizontal')\n",
    "# cbar.ax.set_yticklabels(['< -1', '0', '> 1'])  # vertically oriented colorbar\n",
    "\n",
    "plt.xticks([(l*Nx/328.1)+81. for l in np.arange(-150., 180, 30)], \n",
    "           ['{:2.0f}'.format(l) for l in np.arange(-150., 180, 30)], fontsize=30)\n",
    "plt.xlabel(r'$\\Delta X, \\mathrm{arcsec}$', fontsize=45)\n",
    "\n",
    "plt.savefig(paper_imgs_dir3 +'lambda2.eps', format='eps', bbox_inches='tight')\n",
    "plt.savefig(paper_imgs_dir3 +'lambda2.png', format='png', bbox_inches='tight')\n",
    "plt.savefig(paper_imgs_dir3 +'lambda2.pdf', format='pdf', dpi=150, bbox_inches='tight')\n",
    "plt.show()"
   ]
  },
  {
   "cell_type": "markdown",
   "metadata": {},
   "source": [
    "### Ошибки"
   ]
  },
  {
   "cell_type": "markdown",
   "metadata": {},
   "source": [
    "Для $\\mathrm{HI}$ ошибку буду считать равной 1 $M_{\\odot}/kpc^2$, ибо это предел THINGS."
   ]
  },
  {
   "cell_type": "code",
   "execution_count": null,
   "metadata": {},
   "outputs": [],
   "source": [
    "rel_sl_err = np.load('rel_sl_err.npy')\n",
    "gas_approx_u = gas_approx * 1.07\n",
    "gas_approx_b = gas_approx * 0.93\n",
    "Halpha_SFR_log_err = np.load('Halpha_SFR_err.npy')\n",
    "Sigma_CO_cut_relerr = np.load('Sigma_CO_cut_relerr.npy')\n",
    "\n",
    "log_Halpha_SFR_u = np.log10(np.power(10., log_Halpha_SFR_) + np.power(10., Halpha_SFR_log_err))\n",
    "log_Halpha_SFR_b = np.log10(np.power(10., log_Halpha_SFR_) - np.power(10., Halpha_SFR_log_err))"
   ]
  },
  {
   "cell_type": "code",
   "execution_count": null,
   "metadata": {},
   "outputs": [],
   "source": [
    "%%time\n",
    "\n",
    "G = 4.32\n",
    "Qeff_max_u = np.zeros(dist_.shape)\n",
    "Qeff_min_u = np.zeros(dist_.shape)\n",
    "Qgs_u = np.zeros(dist_.shape)\n",
    "\n",
    "Qeff_max_b = np.zeros(dist_.shape)\n",
    "Qeff_min_b = np.zeros(dist_.shape)\n",
    "Qgs_b = np.zeros(dist_.shape)\n",
    "\n",
    "step = 0\n",
    "errors = 0\n",
    "for i, row in enumerate(dist_):\n",
    "    for j, col in enumerate(dist_[0]):\n",
    "        step+=1\n",
    "        if step % 1000 == 0:\n",
    "            print step\n",
    "        c = c_g_[i][j]\n",
    "        Sigma = 1.36*(Sigma_HI_[i][j] + Sigma_HERACLES_CO_[i][j])\n",
    "        kappa = epicyclicFreq_real(gas_approx, dist_[i][j], scale)\n",
    "        Sigma_s_ = Sigma_s_Leroy_[i][j]\n",
    "        s_R_max = sig_R_max[i][j]\n",
    "        s_R_min = sig_R_min[i][j]\n",
    "        \n",
    "        kappa_u = epicyclicFreq_real(gas_approx_u, dist_[i][j], scale)\n",
    "        Sigma_u = 1.36*(Sigma_HI_[i][j] + 1. + Sigma_HERACLES_CO_[i][j] * (Sigma_CO_cut_relerr[i][j] + 1.))\n",
    "        Qg_u = kappa_u * c / (math.pi * G * Sigma_u)\n",
    "        Qs_max_u = kappa_u * s_R_max * (rel_sl_err[i][j] + 1.) / (3.36 * G * Sigma_s_)\n",
    "        Qs_min_u = kappa_u * s_R_min * (rel_sl_err[i][j] + 1.) / (3.36 * G * Sigma_s_)\n",
    "        \n",
    "        kappa_b = epicyclicFreq_real(gas_approx_b, dist_[i][j], scale)\n",
    "        Sigma_b = 1.36*(max(Sigma_HI_[i][j] - 1., 0.) + Sigma_HERACLES_CO_[i][j] * (-Sigma_CO_cut_relerr[i][j] + 1.))\n",
    "        Qg_b = kappa_b * c / (math.pi * G * Sigma_b)\n",
    "        Qs_max_b = kappa_b * s_R_max * (-rel_sl_err[i][j] + 1.) / (3.36 * G * Sigma_s_)\n",
    "        Qs_min_b = kappa_b * s_R_min * (-rel_sl_err[i][j] + 1.) / (3.36 * G * Sigma_s_)\n",
    "                \n",
    "        try:\n",
    "            root_for_max, qeff = findInvKinemQeffBrentq(Qs_min_u, Qg_u, c/(s_R_min*(rel_sl_err[i][j] + 1.)), np.arange(0.01, 50., 1.))\n",
    "            root_for_max, qeff2 = findInvKinemQeffBrentq(Qs_min_b, Qg_b, c/(s_R_min*(-rel_sl_err[i][j] + 1.)), np.arange(0.01, 50., 1.))\n",
    "            Qeff_min_u[i][j] = 1./qeff\n",
    "            Qeff_min_b[i][j] = 1./qeff2\n",
    "        except ValueError:\n",
    "            errors+=1\n",
    "            qeff = 0.01\n",
    "            root_for_max = -1.\n",
    "        \n",
    "        \n",
    "        try:\n",
    "            root_for_max, qeff = findInvKinemQeffBrentq(Qs_max_u, Qg_u, c/(s_R_min*(rel_sl_err[i][j] + 1.)), np.arange(0.01, 50., 1.))\n",
    "            root_for_max, qeff2 = findInvKinemQeffBrentq(Qs_max_b, Qg_b, c/(s_R_min*(-rel_sl_err[i][j] + 1.)), np.arange(0.01, 50., 1.))\n",
    "            Qeff_max_u[i][j] = 1./qeff        \n",
    "            Qeff_max_b[i][j] = 1./qeff2\n",
    "        except ValueError:\n",
    "            errors+=1\n",
    "            qeff = 0.01\n",
    "            root_for_max = -1.\n",
    "        \n",
    "        Qgs_u[i][j] = Qg_u\n",
    "        Qgs_b[i][j] = Qg_b\n",
    "\n",
    "        \n",
    "print 'Errors:{}'.format(errors)"
   ]
  },
  {
   "cell_type": "code",
   "execution_count": null,
   "metadata": {},
   "outputs": [],
   "source": [
    "X,Y = np.meshgrid(np.arange(0.,Nx,1), np.arange(0.,Ny,1))\n",
    "fig = plt.figure(figsize=[50, 27])\n",
    "\n",
    "plt.subplot(3,2,1)\n",
    "# X,Y = np.meshgrid(np.linspace(512. - 175.92/1.5, 512.+157.3/1.5, 1553), np.linspace(512. - 53.82/1.5, 512. + 55.42/1.5, 513))\n",
    "quadmesh = plt.pcolormesh(X, Y, Qeff_min_u, cmap=cm.gist_yarg)\n",
    "# CS = plt.contour(X, Y, Sigma_HI, levels=[5., 10.], aspect='auto', alpha=0.5)\n",
    "quadmesh.set_clim(vmin=2.0, vmax=4.)\n",
    "plt.colorbar()\n",
    "CS = plt.contour(X, Y, Qeff_min_u, levels=[2.5], colors=('g'))\n",
    "plt.title(r'$Q_{eff,min}$', fontsize=30)\n",
    "# add_SFR_contours(levels=[-2.25], colors=('red'), X=None, Y=None)\n",
    "mark_stars(colors=('y'), levels=[0.999, 1.001])\n",
    "#bulge\n",
    "# circle = plt.Circle((512, 512), 10., color='b', fill=False, lw=10)\n",
    "# plt.gca().add_artist(circle)\n",
    "# circle = plt.Circle((Nx/2, Ny/2), 7., color='b', fill=False, lw=10) #7px approx 15arcsec\n",
    "# plt.gca().add_artist(circle)\n",
    "plt.contour(X, Y, log_Halpha_SFR_b, levels=[-2], colors=['r'])\n",
    "\n",
    "plt.subplot(3,2,3)\n",
    "quadmesh = plt.pcolormesh(X, Y, Qeff_max_u, cmap=cm.gist_yarg)\n",
    "quadmesh.set_clim(vmin=2.0, vmax=4.)\n",
    "plt.colorbar()\n",
    "CS = plt.contour(X, Y, Qeff_max_u, levels=[2.5], colors=('g'))\n",
    "plt.title(r'$Q_{eff,max}$', fontsize=30)\n",
    "# add_SFR_contours(levels=[-2.25], colors=('red'), X=None, Y=None)\n",
    "mark_stars(colors=('y'), levels=[0.999, 1.001])\n",
    "#bulge\n",
    "plt.contour(X, Y, log_Halpha_SFR_b, levels=[-2], colors=['r'])\n",
    "\n",
    "plt.subplot(3,2,5)\n",
    "quadmesh = plt.pcolormesh(X, Y, Qgs_u, cmap=cm.gist_yarg)\n",
    "quadmesh.set_clim(vmin=2.0, vmax=4.)\n",
    "plt.colorbar()\n",
    "CS = plt.contour(X, Y, Qgs_u, levels=[2.5], colors=('g'))\n",
    "plt.title(r'$Q_{g}$', fontsize=30)\n",
    "# add_SFR_contours(levels=[-2.25], colors=('red'), X=None, Y=None)\n",
    "mark_stars(colors=('y'), levels=[0.999, 1.001])\n",
    "plt.contour(X, Y, log_Halpha_SFR_b, levels=[-2], colors=['r'])\n",
    "\n",
    "plt.subplot(3,2,2)\n",
    "# X,Y = np.meshgrid(np.linspace(512. - 175.92/1.5, 512.+157.3/1.5, 1553), np.linspace(512. - 53.82/1.5, 512. + 55.42/1.5, 513))\n",
    "quadmesh = plt.pcolormesh(X, Y, Qeff_min_b, cmap=cm.gist_yarg)\n",
    "# CS = plt.contour(X, Y, Sigma_HI, levels=[5., 10.], aspect='auto', alpha=0.5)\n",
    "quadmesh.set_clim(vmin=2.0, vmax=4.)\n",
    "plt.colorbar()\n",
    "CS = plt.contour(X, Y, Qeff_min_b, levels=[2.5], colors=('g'))\n",
    "plt.title(r'$Q_{eff,min}$', fontsize=30)\n",
    "# add_SFR_contours(levels=[-2.25], colors=('red'), X=None, Y=None)\n",
    "mark_stars(colors=('y'), levels=[0.999, 1.001])\n",
    "#bulge\n",
    "# circle = plt.Circle((512, 512), 10., color='b', fill=False, lw=10)\n",
    "# plt.gca().add_artist(circle)\n",
    "# circle = plt.Circle((Nx/2, Ny/2), 7., color='b', fill=False, lw=10) #7px approx 15arcsec\n",
    "# plt.gca().add_artist(circle)\n",
    "plt.contour(X, Y, log_Halpha_SFR_u, levels=[-2], colors=['r'])\n",
    "\n",
    "plt.subplot(3,2,4)\n",
    "quadmesh = plt.pcolormesh(X, Y, Qeff_max_b, cmap=cm.gist_yarg)\n",
    "quadmesh.set_clim(vmin=2.0, vmax=4.)\n",
    "plt.colorbar()\n",
    "CS = plt.contour(X, Y, Qeff_max_b, levels=[2.5], colors=('g'))\n",
    "plt.title(r'$Q_{eff,max}$', fontsize=30)\n",
    "# add_SFR_contours(levels=[-2.25], colors=('red'), X=None, Y=None)\n",
    "mark_stars(colors=('y'), levels=[0.999, 1.001])\n",
    "#bulge\n",
    "plt.contour(X, Y, log_Halpha_SFR_u, levels=[-2], colors=['r'])\n",
    "\n",
    "plt.subplot(3,2,6)\n",
    "quadmesh = plt.pcolormesh(X, Y, Qgs_b, cmap=cm.gist_yarg)\n",
    "quadmesh.set_clim(vmin=2.0, vmax=4.)\n",
    "plt.colorbar()\n",
    "CS = plt.contour(X, Y, Qgs_b, levels=[2.5], colors=('g'))\n",
    "plt.title(r'$Q_{g}$', fontsize=30)\n",
    "# add_SFR_contours(levels=[-2.25], colors=('red'), X=None, Y=None)\n",
    "mark_stars(colors=('y'), levels=[0.999, 1.001])\n",
    "plt.contour(X, Y, log_Halpha_SFR_u, levels=[-2], colors=['r'])\n",
    "\n",
    "fig.subplots_adjust(wspace=0.0, hspace=0.0);"
   ]
  },
  {
   "cell_type": "markdown",
   "metadata": {},
   "source": [
    "Не сильно меняется."
   ]
  },
  {
   "cell_type": "markdown",
   "metadata": {},
   "source": [
    "### SFR vs Q"
   ]
  },
  {
   "cell_type": "code",
   "execution_count": null,
   "metadata": {},
   "outputs": [],
   "source": [
    "mask = (sig_los != 0.) & (dist_ > 15.)\n",
    "\n",
    "# create data\n",
    "x = log_Halpha_SFR_[mask].ravel()\n",
    "y = np.log10(Qeff_min[mask].ravel())\n",
    "cmm = (cm.rainbow(np.linspace(0,1,len(x))))\n",
    "\n",
    "# Make the plot\n",
    "plt.figure(figsize=[14, 12])\n",
    "# plt.hexbin(x, y, gridsize=100, bins='log', cmap='plasma', vmin=0.2, vmax=1.5)\n",
    "sc = plt.scatter(x, y, c=[l for l in dist_[mask].ravel()], cmap='plasma', vmin=15, vmax=120)\n",
    "plt.ylim(-0.5, 1.)\n",
    "plt.xlim(-3.5, -1.0)\n",
    "plt.colorbar(sc)\n",
    "plt.axhline(y=np.log10(3.), ls='--', color='g')\n",
    "plt.axvline(x=-2.3, ls='--', color='g')\n",
    "# kslaw = 1.48\n",
    "# kslaw_bias = 5.\n",
    "# plt.plot([-4., -2.], [-4.*kslaw+kslaw_bias, -2.*kslaw+kslaw_bias], '--', lw=20, color='g')\n",
    "plt.xlabel('log(Sigma_SFR)')\n",
    "plt.ylabel('log(Q_eff)')\n",
    "plt.show()"
   ]
  },
  {
   "cell_type": "markdown",
   "metadata": {},
   "source": [
    "### проверка параметров"
   ]
  },
  {
   "cell_type": "code",
   "execution_count": null,
   "metadata": {},
   "outputs": [],
   "source": [
    "def examine_pixel(row, col):\n",
    "    print 'pixels x={}, y={}'.format(col, row)\n",
    "    print '''\n",
    "    Sigma_HI_ = {:3.2f}\n",
    "    sig_los = {:3.2f}\n",
    "    c_g_ = {:3.2f}\n",
    "    dist_ = {:3.2f}\n",
    "    Sigma_HERACLES_CO_ = {:3.2f}\n",
    "    log_Halpha_SFR_ = {:3.2f}\n",
    "    sig_R_max = {:3.2f}\n",
    "    sig_R_min = {:3.2f}\n",
    "    Sigma_s_Leroy_ = {:3.2f}\n",
    "    Qeff_min = {:3.2f}\n",
    "    bark = {:3.2f}\n",
    "    Qeff_max = {:3.2f}\n",
    "    bark = {:3.2f}\n",
    "    Qgs = {:3.2f}\n",
    "    Qss_min = {:3.2f}\n",
    "    Qss_max = {:3.2f}'''.format(\n",
    "        Sigma_HI_[row][col],\n",
    "        sig_los[row][col],\n",
    "        c_g_[row][col],\n",
    "        dist_[row][col],\n",
    "        Sigma_HERACLES_CO_[row][col],\n",
    "        log_Halpha_SFR_[row][col],\n",
    "        sig_R_max[row][col],\n",
    "        sig_R_min[row][col],\n",
    "        Sigma_s_Leroy_[row][col],\n",
    "        Qeff_min[row][col],\n",
    "        bark[row][col],\n",
    "        Qeff_max[row][col],\n",
    "        bark[row][col],\n",
    "        Qgs[row][col],\n",
    "        Qss_min[row][col],\n",
    "        Qss_max[row][col])"
   ]
  },
  {
   "cell_type": "code",
   "execution_count": null,
   "metadata": {},
   "outputs": [],
   "source": [
    "examine_pixel(10, 16)"
   ]
  },
  {
   "cell_type": "markdown",
   "metadata": {},
   "source": [
    "### азимутальное усреднение"
   ]
  },
  {
   "cell_type": "code",
   "execution_count": null,
   "metadata": {},
   "outputs": [],
   "source": [
    "def azimuthal_average(Q, step=5, vmax=120, Qmax=100, vmin=0):\n",
    "    az_av = []\n",
    "    az_dev = []\n",
    "    az_max = []\n",
    "    az_min = []\n",
    "    for dbin in range(vmin, vmax, step):\n",
    "        mask = (dist_ >= dbin) & (dist_ <= dbin + step)\n",
    "        anulli = Q[mask]\n",
    "        mask = (anulli < Qmax) & (anulli > 0) #not count nans\n",
    "        anulli = anulli[mask]\n",
    "        az_av.append(anulli.sum()/mask.sum())\n",
    "        az_dev.append(np.std(anulli))\n",
    "        az_max.append(np.max(anulli) if len(anulli) != 0 else np.nan)\n",
    "        az_min.append(np.min(anulli) if len(anulli) != 0 else np.nan)\n",
    "    return az_av, az_dev, az_max, az_min"
   ]
  },
  {
   "cell_type": "code",
   "execution_count": null,
   "metadata": {},
   "outputs": [],
   "source": [
    "for ind, Q in enumerate([Qeff_min, Qeff_max, Qgs]):\n",
    "    label = ['Qeff_min', 'Qeff_max', 'Qgs'][ind]\n",
    "    color = ['r', 'g', 'm'][ind]\n",
    "    az_av, az_dev, az_max, az_min = azimuthal_average(Q, step=5, vmax=120)\n",
    "    plt.plot(np.array(range(5, 120, 5))+2.5, az_av, ':', label=label, color=color)\n",
    "    plt.fill_between(np.array(range(5, 120, 5))+2.5, \n",
    "                     np.array(az_av)-np.array(az_dev), \n",
    "                     np.array(az_av)+np.array(az_dev), alpha=0.1, color=color)\n",
    "#     plt.fill_between(np.array(range(5, 120, 5))+2.5, \n",
    "#                      np.array(az_min), \n",
    "#                      np.array(az_max), alpha=0.1, color=color)\n",
    "\n",
    "plt.grid()\n",
    "plt.legend()\n",
    "plt.axvline(x=55., alpha=0.3)\n",
    "plt.ylim(0, 12.5);"
   ]
  },
  {
   "cell_type": "code",
   "execution_count": null,
   "metadata": {},
   "outputs": [],
   "source": [
    "Image('Leroy2008_results.png')"
   ]
  },
  {
   "cell_type": "code",
   "execution_count": null,
   "metadata": {},
   "outputs": [],
   "source": [
    "# plt.figure(figsize=[30, 54])\n",
    "\n",
    "# plt.subplot(6,1,1)\n",
    "# # X,Y = np.meshgrid(np.linspace(512. - 175.92/1.5, 512.+157.3/1.5, 1553), np.linspace(512. - 53.82/1.5, 512. + 55.42/1.5, 513))\n",
    "# quadmesh = plt.pcolormesh(X, Y, Qeff_min, cmap=cm.gist_yarg)\n",
    "# # CS = plt.contour(X, Y, Sigma_HI, levels=[5., 10.], aspect='auto', alpha=0.5)\n",
    "# quadmesh.set_clim(vmin=2.0, vmax=5.)\n",
    "# plt.colorbar()\n",
    "# CS = plt.contour(X, Y, dist_, [40., 45., 55, 60, 65, 90], colors=('g'))\n",
    "# plt.title(r'$Q_{eff,min}$', fontsize=30)\n",
    "# # add_SFR_contours(levels=[-2.25], colors=('red'), X=None, Y=None)\n",
    "# mark_stars(colors=('y'), levels=[0.999, 1.001])\n",
    "# #bulge\n",
    "# # circle = plt.Circle((512, 512), 10., color='b', fill=False, lw=10)\n",
    "# # plt.gca().add_artist(circle)\n",
    "# # circle = plt.Circle((Nx/2, Ny/2), 7., color='b', fill=False, lw=10) #7px approx 15arcsec\n",
    "# # plt.gca().add_artist(circle)\n",
    "# # add_SFR_contours(colors=('red'))\n",
    "\n",
    "# # circle2 = plt.Circle((4+Nx/2, 1+Ny/2), 7., color='m', fill=False, lw=6, ls='--')\n",
    "# # plt.gca().add_artist(circle2)\n",
    "\n",
    "# # add_spirals(plt.gca(), colors=['m', 'm'])\n",
    "\n",
    "# # plt.savefig('result_maps_column2.png', format='png', bbox_inches='tight')\n",
    "# # plt.show()"
   ]
  },
  {
   "cell_type": "markdown",
   "metadata": {},
   "source": [
    "усредненные данные"
   ]
  },
  {
   "cell_type": "code",
   "execution_count": null,
   "metadata": {},
   "outputs": [],
   "source": [
    "fig = plt.figure(figsize=[16, 7])\n",
    "\n",
    "ax = plt.subplot(121)\n",
    "\n",
    "for ind, Q in enumerate([Sigma_HI_, Sigma_HERACLES_CO_, Sigma_s_Leroy_]):\n",
    "    label = ['Sigma_HI_', 'Sigma_HERACLES_CO_', 'Sigma_s_Leroy_'][ind]\n",
    "    color = ['r', 'g', 'm'][ind]\n",
    "    az_av, az_dev, az_max, az_min = azimuthal_average(Q, step=5, vmax=120, Qmax=1000)\n",
    "    plt.plot(np.array(range(0, 120, 5))+2.5, az_av, ':', label=label, color=color)\n",
    "    plt.fill_between(np.array(range(0, 120, 5))+2.5, \n",
    "                     np.array(az_av)-np.array(az_dev), \n",
    "                     np.array(az_av)+np.array(az_dev), alpha=0.1, color=color)\n",
    "#     plt.fill_between(np.array(range(5, 120, 5))+2.5, \n",
    "#                      np.array(az_min), \n",
    "#                      np.array(az_max), alpha=0.1, color=color)\n",
    "\n",
    "plt.grid()\n",
    "plt.legend()\n",
    "plt.axvline(x=55., alpha=0.3)\n",
    "ax.set_yscale(\"log\", nonposy='clip')\n",
    "plt.ylim(1, 1000)\n",
    "\n",
    "ax = plt.subplot(122)\n",
    "\n",
    "for ind, Q in enumerate([c_g_, sig_R_max, sig_R_min]):\n",
    "    label = ['c_g_', 'sig_R_max', 'sig_R_min'][ind]\n",
    "    color = ['r', 'g', 'm'][ind]\n",
    "    az_av, az_dev, az_max, az_min = azimuthal_average(Q, step=5, vmax=120, Qmax=100000)\n",
    "    plt.plot(np.array(range(0, 120, 5))+2.5, az_av, ':', label=label, color=color)\n",
    "    plt.fill_between(np.array(range(0, 120, 5))+2.5, \n",
    "                     np.array(az_av)-np.array(az_dev), \n",
    "                     np.array(az_av)+np.array(az_dev), alpha=0.1, color=color)\n",
    "\n",
    "plt.grid()\n",
    "plt.legend()\n",
    "plt.axvline(x=55., alpha=0.3)\n",
    "ax.set_yscale(\"log\", nonposy='clip')\n",
    "plt.ylim(0)"
   ]
  },
  {
   "cell_type": "code",
   "execution_count": null,
   "metadata": {},
   "outputs": [],
   "source": [
    "import matplotlib as mpl\n",
    "mpl.style.use('classic')"
   ]
  },
  {
   "cell_type": "code",
   "execution_count": null,
   "metadata": {},
   "outputs": [],
   "source": [
    "fig = plt.figure(figsize=[20, 7])\n",
    "\n",
    "ax = plt.subplot(121)\n",
    "ax1 = ax\n",
    "\n",
    "for ind, Q in enumerate([Sigma_HI_, Sigma_HERACLES_CO_, Sigma_s_Leroy_]):\n",
    "    label = [r'$\\mathrm{HI}$', r'$\\mathrm{H_2}$', r'$\\mathrm{star}$'][ind]\n",
    "    color = ['r', 'g', 'm'][ind]\n",
    "    az_av, az_dev, az_max, az_min = azimuthal_average(Q, step=5, vmax=145, Qmax=1000)\n",
    "    plt.plot(np.array(range(0, 145, 5))+2.5, az_av, '--', label=label, color=color,lw=4)\n",
    "    if label != r'$\\mathrm{star}$':\n",
    "        plt.fill_between(np.array(range(0, 145, 5))+2.5, \n",
    "                         np.array(az_av)-np.array(az_dev), \n",
    "                         np.array(az_av)+np.array(az_dev), alpha=0.1, color=color)\n",
    "\n",
    "az_av, az_dev, az_max, az_min = azimuthal_average(Sigma_s_Leroy_, step=5, vmax=55, Qmax=2000, vmin=0)\n",
    "plt.fill_between(np.array(range(0, 55, 5))+2.5, \n",
    "                         np.array(az_av)-np.array(az_dev), \n",
    "                         np.array(az_av)+np.array(az_dev), alpha=0.1, color=color)\n",
    "az_av, az_dev, az_max, az_min = azimuthal_average(Sigma_s_Leroy_, step=5, vmax=145, Qmax=500, vmin=50)\n",
    "plt.fill_between(np.array(range(50, 145, 5))+2.5, \n",
    "                         np.array(az_av)-np.array(az_dev), \n",
    "                         np.array(az_av)+np.array(az_dev), alpha=0.1, color=color)\n",
    "\n",
    "plt.grid()\n",
    "plt.legend(fontsize=25, loc=(0.14, 0.87), ncol=3)\n",
    "plt.axvline(x=55., alpha=0.3, color='grey', lw=4)\n",
    "ax.set_yscale(\"log\", nonposy='clip')\n",
    "plt.ylim(1, 1000)\n",
    "plt.xlim(0, 140)\n",
    "\n",
    "az_av, az_dev, az_max, az_min = azimuthal_average(Sigma_HERACLES_CO_grad, step=5, vmax=145, Qmax=1000)\n",
    "plt.plot(np.array(range(0, 145, 5))+2.5, az_av, '-', label=label, color='g',lw=2)\n",
    "\n",
    "\n",
    "ax = plt.subplot(122)\n",
    "ax2 = ax\n",
    "\n",
    "for ind, Q in enumerate([c_g_, sig_R_max, sig_R_min]):\n",
    "    label = [r'$c_\\mathrm{g}$', r'$\\sigma_R^\\mathrm{max}$', r'$\\sigma_R^\\mathrm{min}$'][ind]\n",
    "    color = ['r', 'g', 'm'][ind]\n",
    "    az_av, az_dev, az_max, az_min = azimuthal_average(Q, step=5, vmax=145, Qmax=100000)\n",
    "    plt.plot(np.array(range(0, 145, 5))+2.5, az_av, '--', label=label, color=color, lw=4)\n",
    "    plt.fill_between(np.array(range(0, 145, 5))+2.5, \n",
    "                     np.array(az_av)-np.array(az_dev), \n",
    "                     np.array(az_av)+np.array(az_dev), alpha=0.1, color=color)\n",
    "\n",
    "plt.grid()\n",
    "plt.legend(fontsize=27, loc=\"upper left\", bbox_to_anchor=[0, 1], ncol=3)\n",
    "plt.axvline(x=55., alpha=0.3, color='grey', lw=4)\n",
    "ax.set_yscale(\"log\", nonposy='clip')\n",
    "plt.ylim(8)\n",
    "plt.xlim(0, 140)\n",
    "\n",
    "plt.axhline(y=11.)\n",
    "sigmaR_leroy = lambda l: sqrt(2*pi*4.32*2.3*l/7.3)/0.6\n",
    "plt.plot(np.array(range(0, 140, 5))+2.5,\n",
    "         [sigmaR_leroy(_) for _ in azimuthal_average(Sigma_s_Leroy_, step=5, vmax=140, Qmax=1000)[0]], 'o-', ms=9)\n",
    "\n",
    "ax1.set_xlabel(r'$R,\\,{\\mathrm{arcsec}}$', fontsize=30, rotation=0)\n",
    "ax2.set_xlabel(r'$R,\\,{\\mathrm{arcsec}}$', fontsize=30, rotation=0)\n",
    "\n",
    "ax1.set_ylabel(r'$\\Sigma, \\mathrm{M_{\\odot}/{pc}^2}$', fontsize=35)\n",
    "ax2.set_ylabel(r'$\\sigma,\\,\\mathrm{km/s}$', fontsize=35)\n",
    "\n",
    "# ax1.set_yticklabels(ax1.yaxis.get_major_ticks(), fontsize=20)\n",
    "zed = [tick.label.set_fontsize(25) for tick in ax1.yaxis.get_major_ticks()]\n",
    "ax1.tick_params(direction='in', pad=7)\n",
    "zed = [tick.label.set_fontsize(25) for tick in ax2.yaxis.get_major_ticks()]\n",
    "ax2.tick_params(direction='in', pad=7)\n",
    "\n",
    "ax1.set_xticklabels(np.arange(0, 160, 20), fontsize=25)\n",
    "ax2.set_xticklabels(np.arange(0, 160, 20), fontsize=25)\n",
    "\n",
    "# ax1.set_title(r'$\\mathrm{accuracy\\,\\,and\\,\\,recall}$', fontsize=25)\n",
    "# ax2.set_title(r'$F_1(\\mathrm{Q_{eff}^{min}}, \\log \\Sigma_{\\mathrm{SFR}})$', fontsize=25)\n",
    "# ax3.set_title(r'$F_1$', fontsize=25)\n",
    "\n",
    "# plt.savefig(paper_imgs_dir3 +'data.eps', format='eps', bbox_inches='tight')\n",
    "# plt.savefig(paper_imgs_dir3 +'data.png', format='png', bbox_inches='tight')\n",
    "# plt.savefig(paper_imgs_dir3 +'data.pdf', format='pdf', dpi=150, bbox_inches='tight')\n",
    "plt.show()"
   ]
  },
  {
   "cell_type": "code",
   "execution_count": null,
   "metadata": {},
   "outputs": [],
   "source": [
    "# plt.figure(figsize=[30, 54])\n",
    "\n",
    "# plt.subplot(6,1,1)\n",
    "# # X,Y = np.meshgrid(np.linspace(512. - 175.92/1.5, 512.+157.3/1.5, 1553), np.linspace(512. - 53.82/1.5, 512. + 55.42/1.5, 513))\n",
    "# quadmesh = plt.pcolormesh(X, Y, Sigma_s_Leroy_, cmap=cm.gist_yarg)\n",
    "# # CS = plt.contour(X, Y, Sigma_HI, levels=[5., 10.], aspect='auto', alpha=0.5)\n",
    "# quadmesh.set_clim(vmin=2.0, vmax=300.)\n",
    "# plt.colorbar()\n",
    "# CS = plt.contour(X, Y, dist_, [80., 100.], colors=('g'))\n",
    "# # plt.title(r'$Q_{eff,min}$', fontsize=30)\n",
    "# # add_SFR_contours(levels=[-2.25], colors=('red'), X=None, Y=None)\n",
    "# mark_stars(colors=('y'), levels=[0.999, 1.001])\n",
    "# #bulge\n",
    "# # circle = plt.Circle((512, 512), 10., color='b', fill=False, lw=10)\n",
    "# # plt.gca().add_artist(circle)\n",
    "# # circle = plt.Circle((Nx/2, Ny/2), 7., color='b', fill=False, lw=10) #7px approx 15arcsec\n",
    "# # plt.gca().add_artist(circle)\n",
    "# # add_SFR_contours(colors=('red'))\n",
    "\n",
    "# # circle2 = plt.Circle((4+Nx/2, 1+Ny/2), 7., color='m', fill=False, lw=6, ls='--')\n",
    "# # plt.gca().add_artist(circle2)\n",
    "\n",
    "# # add_spirals(plt.gca(), colors=['m', 'm'])\n",
    "\n",
    "# # plt.savefig('result_maps_column2.png', format='png', bbox_inches='tight')\n",
    "# # plt.show()"
   ]
  },
  {
   "cell_type": "code",
   "execution_count": null,
   "metadata": {},
   "outputs": [],
   "source": [
    "%%time\n",
    "\n",
    "G = 4.32\n",
    "Qeff_maxp = np.zeros(23)\n",
    "Qeff_minp = np.zeros(23)\n",
    "Qgsp = np.zeros(23)\n",
    "\n",
    "Sigma_HI_p = azimuthal_average(Sigma_HI_, step=5, vmax=120, Qmax=100000)[0]\n",
    "Sigma_HERACLES_CO_p = azimuthal_average(Sigma_HERACLES_CO_, step=5, vmax=120, Qmax=100000)[0]\n",
    "Sigma_s_Leroy_p = azimuthal_average(Sigma_s_Leroy_, step=5, vmax=120, Qmax=100000)[0]\n",
    "\n",
    "c_g_p = azimuthal_average(c_g_, step=5, vmax=120, Qmax=100000)[0]\n",
    "sig_R_maxp = azimuthal_average(sig_R_max, step=5, vmax=120, Qmax=100000)[0]\n",
    "sig_R_minp = azimuthal_average(sig_R_min, step=5, vmax=120, Qmax=100000)[0]\n",
    "\n",
    "errors = 0\n",
    "for i, ddd in enumerate(range(5, 120, 5)):\n",
    "    c = c_g_p[i]\n",
    "    Sigma = 1.36*(Sigma_HI_p[i] + Sigma_HERACLES_CO_p[i])\n",
    "    kappa = epicyclicFreq_real(gas_approx, ddd, scale)\n",
    "    Sigma_s_ = Sigma_s_Leroy_p[i]\n",
    "    s_R_max = sig_R_maxp[i]\n",
    "    s_R_min = sig_R_minp[i]\n",
    "    Qg = kappa * c / (math.pi * G * Sigma)\n",
    "    Qs_max = kappa * s_R_max / (3.36 * G * Sigma_s_)\n",
    "    Qs_min = kappa * s_R_min / (3.36 * G * Sigma_s_)\n",
    "\n",
    "    try:\n",
    "        root_for_max, qeff = findInvKinemQeffBrentq(Qs_min, Qg, c/s_R_min, np.arange(0.01, 50., 1.))\n",
    "    except ValueError:\n",
    "        errors+=1\n",
    "        qeff = 0.01\n",
    "        root_for_max = -1.\n",
    "    Qeff_minp[i] = 1./qeff\n",
    "\n",
    "    try:\n",
    "        root_for_max, qeff = findInvKinemQeffBrentq(Qs_max, Qg, c/s_R_min, np.arange(0.01, 50., 1.))\n",
    "    except ValueError:\n",
    "        errors+=1\n",
    "        qeff = 0.01\n",
    "        root_for_max = -1.\n",
    "    Qeff_maxp[i] = 1./qeff\n",
    "    \n",
    "    Qgsp[i] = Qg\n",
    "        \n",
    "print 'Errors:{}'.format(errors)"
   ]
  },
  {
   "cell_type": "code",
   "execution_count": null,
   "metadata": {},
   "outputs": [],
   "source": [
    "leroy2008_Qg = [5.09433962264151, 15.576454802025873,\n",
    "15.283018867924527, 13.611036963126917,\n",
    "24.339622641509433, 12.846552938231323,\n",
    "35.09433962264151, 12.12500728944212,\n",
    "44.15094339622642, 11.011361082737285,\n",
    "53.77358490566037, 8.738212344285598,\n",
    "65.66037735849056, 7.34697879896336,\n",
    "74.71698113207547, 6.672180435969322,\n",
    "86.60377358490565, 6.419946083430621,\n",
    "95.09433962264151, 6.297427552090032,\n",
    "105.84905660377358, 6.059360315074425,\n",
    "115.47169811320755, 5.609885211588141,\n",
    "125.09433962264153, 5.397809747241713,\n",
    "134.7169811320755, 5.830292944888797,\n",
    "145.47169811320757, 5.943723218279731,\n",
    "154.52830188679246, 5.830292944888797,\n",
    "165.28301886792454, 5.397809747241713]\n",
    "\n",
    "leroy2008_Q2f = [4.528301886792454, 4.902036820592469,\n",
    "15.283018867924527, 4.997407564736587,\n",
    "24.905660377358487, 4.997407564736587,\n",
    "35.09433962264151, 4.451799177013175,\n",
    "44.716981132075475, 3.9657593773822617,\n",
    "54.33962264150943, 3.601516059263063,\n",
    "65.66037735849056, 3.14708120871953,\n",
    "74.71698113207547, 2.8580310690685367,\n",
    "85.47169811320755, 2.803488279369447,\n",
    "94.52830188679245, 2.5955293333801652,\n",
    "105.28301886792454, 2.4497475889846094,\n",
    "114.9056603773585, 2.3121538919078386,\n",
    "124.52830188679245, 2.224745488389373,\n",
    "135.28301886792454, 2.224745488389373,\n",
    "144.9056603773585, 2.224745488389373,\n",
    "155.0943396226415, 2.224745488389373,\n",
    "164.7169811320755, 2.1822883483601814]"
   ]
  },
  {
   "cell_type": "code",
   "execution_count": null,
   "metadata": {},
   "outputs": [],
   "source": [
    "fig = plt.figure(figsize=[12, 6])\n",
    "\n",
    "for ind, Q in enumerate([Qeff_min, Qeff_max, Qgs]):\n",
    "    label = ['Qeff_min', 'Qeff_max', 'Qgs'][ind]\n",
    "    color = ['r', 'b', 'm'][ind]\n",
    "    az_av, az_dev, az_max, az_min = azimuthal_average(Q, step=5, vmax=120)\n",
    "    plt.plot(np.array(range(5, 120, 5))+2.5, az_av, ':', label=label, color=color)\n",
    "    \n",
    "    Qp = [Qeff_minp, Qeff_maxp, Qgsp][ind]\n",
    "    plt.plot(np.array(range(5, 120, 5))+2.5, Qp, '-', color=color)\n",
    "#     plt.fill_between(np.array(range(5, 120, 5))+2.5, \n",
    "#                      np.array(az_av)-np.array(az_dev), \n",
    "#                      np.array(az_av)+np.array(az_dev), alpha=0.1, color=color)\n",
    "\n",
    "plt.plot(leroy2008_Qg[::2], leroy2008_Qg[1::2], 'o-', label='Qg_leroy', color='black')\n",
    "plt.plot(leroy2008_Q2f[::2], leroy2008_Q2f[1::2], 'o-', label='Q2f_leroy', color='g')\n",
    "\n",
    "# plt.plot(rrrr, Qgsl, '--', color='black', label='Qg_leroy(recr)')\n",
    "# plt.plot(rrrr, Qeff_minl, '--', color='g', label='Q2f_leroy(recr)')\n",
    "\n",
    "plt.grid()\n",
    "plt.legend(fontsize=18)\n",
    "plt.axvline(x=55., alpha=0.3)\n",
    "plt.ylim(0, 12.5)\n",
    "plt.xlim(0, 150)\n",
    "\n",
    "# plt.plot(np.array(range(5, 120, 5))+2.5, Qgsp, '-', label='Qgsp', color='m')\n",
    "# plt.plot(np.array(range(5, 120, 5))+2.5, Qeff_minp, '-', label='Qeff_minp', color='r')\n",
    "# plt.plot(np.array(range(5, 120, 5))+2.5, Qeff_maxp, '-', label='Qeff_maxp', color='g')\n",
    "\n",
    "plt.xlabel(r'$R,arcsec$', fontsize=18);"
   ]
  },
  {
   "cell_type": "code",
   "execution_count": null,
   "metadata": {},
   "outputs": [],
   "source": [
    "fig = plt.figure(figsize=[12, 8])\n",
    "\n",
    "for ind, Q in enumerate([Qeff_min, Qeff_max, Qgs]):\n",
    "    label = [r'$\\mathrm{Q_{eff}^{min}}$', r'$\\mathrm{Q_{eff}^{max}}$', r'$\\mathrm{Q_{g}}$'][ind]\n",
    "    color = ['r', 'g', 'b'][ind]\n",
    "    ls = ['--',':','-.'][ind]\n",
    "    az_av, az_dev, az_max, az_min = azimuthal_average(Q, step=10, vmax=145)\n",
    "    plt.plot(np.array(range(0, 145, 10))+5., az_av, label=label, color=color, lw=5,ls=ls)\n",
    "    plt.fill_between(np.array(range(0, 145, 10))+5., \n",
    "                     np.array(az_av)-np.array(az_dev), \n",
    "                     np.array(az_av)+np.array(az_dev), alpha=0.1, color=color)\n",
    "#     plt.fill_between(np.array(range(5, 120, 5))+2.5, \n",
    "#                      np.array(az_min), \n",
    "#                      np.array(az_max), alpha=0.1, color=color)\n",
    "\n",
    "plt.grid()\n",
    "plt.legend(fontsize=30)\n",
    "# plt.axvline(x=55., alpha=0.3)\n",
    "plt.ylim(0, 12.5)\n",
    "plt.xlim(10, 140.)\n",
    "\n",
    "plt.plot(leroy2008_Qg[::2], leroy2008_Qg[1::2], 'o-', label='Qg_leroy', color='black', lw=4, ms=10)\n",
    "plt.plot(leroy2008_Q2f[::2], leroy2008_Q2f[1::2], 's-', label='Q2f_leroy', color='black', lw=4, ms=10)\n",
    "\n",
    "\n",
    "ax1 = plt.gca()\n",
    "\n",
    "ax1.set_xlabel(r'$R,\\,{\\mathrm{arcsec}}$', fontsize=30, rotation=0)\n",
    "ax1.set_ylabel(r'$Q$', fontsize=40, rotation=0)\n",
    "# ax1.set_yticklabels(ax1.yaxis.get_major_ticks(), fontsize=20)\n",
    "zed = [tick.label.set_fontsize(25) for tick in ax1.yaxis.get_major_ticks()]\n",
    "ax1.tick_params(direction='in', pad=7)\n",
    "ax1.set_xticklabels(np.arange(0, 160, 20), fontsize=25)\n",
    "\n",
    "plt.plot([55., 55.], [0., 1.75], alpha=0.3, color='grey', lw=4)\n",
    "\n",
    "ax1.xaxis.set_minor_locator(AutoMinorLocator(2))\n",
    "ax1.yaxis.set_minor_locator(AutoMinorLocator(2))\n",
    "\n",
    "# plt.savefig(paper_imgs_dir3 +'qaz.eps', format='eps', bbox_inches='tight')\n",
    "# plt.savefig(paper_imgs_dir3 +'qaz.png', format='png', bbox_inches='tight')\n",
    "# plt.savefig(paper_imgs_dir3 +'qaz.pdf', format='pdf', dpi=150, bbox_inches='tight')\n",
    "plt.show()"
   ]
  },
  {
   "cell_type": "code",
   "execution_count": null,
   "metadata": {},
   "outputs": [],
   "source": [
    "# -------- ---- ----- ----- ------ -------\n",
    "#                     Sig                 \n",
    "#                     maHI  SigmaH Sig    \n",
    "#          r (        (Msun 2 (Msu ma* (Ms\n",
    "# Name     kpc) r.n   /pc2) n/pc2) un/pc2)\n",
    "# -------- ---- ----- ----- ------ -------\n",
    "leroy_dens_table_raw  = '''NGC  628  0.2  0.02  1.60  22.70  1209.4\n",
    "NGC  628  0.5  0.05  2.10  20.20   557.8\n",
    "NGC  628  0.9  0.08  2.60  16.10   313.6\n",
    "NGC  628  1.2  0.12  3.10  12.70   231.9\n",
    "NGC  628  1.6  0.15  3.70  11.40   194.3\n",
    "NGC  628  1.9  0.19  4.60  11.10   163.5\n",
    "NGC  628  2.3  0.22  5.30  11.10   143.9\n",
    "NGC  628  2.7  0.25  5.80  10.60   123.5\n",
    "NGC  628  3.0  0.29  6.10   8.90   107.5\n",
    "NGC  628  3.4  0.32  6.50   7.20   151.0\n",
    "NGC  628  3.7  0.36  7.30   6.20    81.6\n",
    "NGC  628  4.1  0.39  7.90   5.90    68.0\n",
    "NGC  628  4.4  0.42  8.10   5.40    61.6\n",
    "NGC  628  4.8  0.46  7.90   4.30    48.3\n",
    "NGC  628  5.1  0.49  8.20   3.10    41.8\n",
    "NGC  628  5.5  0.53  8.50   2.10    37.0\n",
    "NGC  628  5.8  0.56  8.60   1.20    33.2\n",
    "NGC  628  6.2  0.59  8.60   0.00    37.0\n",
    "NGC  628  6.5  0.63  8.80   0.00    52.9\n",
    "NGC  628  6.9  0.66  8.80   0.00    19.5\n",
    "NGC  628  7.3  0.69  8.60   0.00    18.9\n",
    "NGC  628  7.6  0.73  8.20   0.00    18.7\n",
    "NGC  628  8.0  0.76  7.60   0.00    12.9\n",
    "NGC  628  8.3  0.80  7.10   0.00    17.6\n",
    "NGC  628  8.7  0.83  6.70   0.00    17.0\n",
    "NGC  628  9.0  0.86  6.50   0.00    10.8\n",
    "NGC  628  9.4  0.90  6.00   0.00    8.0\n",
    "NGC  628  9.7  0.93  5.20   0.00    7.5\n",
    "NGC  628 10.1  0.97  4.50   0.00    5.0\n",
    "NGC  628 10.4  1.00  4.10   0.00    4.1\n",
    "NGC  628 10.8  1.03  3.90   0.00    3.6\n",
    "NGC  628 11.1  1.07  3.90   0.00    3.9\n",
    "NGC  628 11.5  1.10  4.00   0.00    4.4\n",
    "NGC  628 11.9  1.13  4.30   0.00    9.5\n",
    "NGC  628 12.2  1.17  4.60   0.00    5.8'''"
   ]
  },
  {
   "cell_type": "code",
   "execution_count": null,
   "metadata": {},
   "outputs": [],
   "source": [
    "lspl = [' '.join(l.split()).split(' ') for l in leroy_dens_table_raw.split('\\n')]\n",
    "lspl[0]"
   ]
  },
  {
   "cell_type": "code",
   "execution_count": null,
   "metadata": {},
   "outputs": [],
   "source": [
    "plt.plot([float(l[2])/calc_scale(7.3) for l in lspl], [float(l[5]) for l in lspl], 'o-', color='m',  label='H2')\n",
    "plt.plot([float(l[2])/calc_scale(7.3) for l in lspl], [float(l[6]) for l in lspl], 'o-', color='r',  label='*')\n",
    "plt.plot([float(l[2])/calc_scale(7.3) for l in lspl], [float(l[4]) for l in lspl], 'o-', color='b',  label='HI')\n",
    "plt.legend()\n",
    "ax = plt.gca()\n",
    "ax.set_yscale(\"log\", nonposy='clip')\n",
    "plt.grid()"
   ]
  },
  {
   "cell_type": "code",
   "execution_count": null,
   "metadata": {},
   "outputs": [],
   "source": [
    "fig = plt.figure(figsize=[16, 7])\n",
    "\n",
    "ax = plt.subplot(111)\n",
    "\n",
    "for ind, Q in enumerate([Sigma_HI_, Sigma_HERACLES_CO_, Sigma_s_Leroy_]):\n",
    "    label = ['Sigma_HI_', 'Sigma_HERACLES_CO_', 'Sigma_s_Leroy_'][ind]\n",
    "    color = ['r', 'g', 'm'][ind]\n",
    "    az_av, az_dev, az_max, az_min = azimuthal_average(Q, step=5, vmax=140, Qmax=100000)\n",
    "    plt.plot(np.array(range(0, 140, 5))+2.5, az_av, ':', label=label, color=color)\n",
    "    plt.fill_between(np.array(range(0, 140, 5))+2.5, \n",
    "                     np.array(az_av)-np.array(az_dev), \n",
    "                     np.array(az_av)+np.array(az_dev), alpha=0.1, color=color)\n",
    "#     plt.fill_between(np.array(range(5, 120, 5))+2.5, \n",
    "#                      np.array(az_min), \n",
    "#                      np.array(az_max), alpha=0.1, color=color)\n",
    "\n",
    "plt.plot([float(l[2])/calc_scale(7.3) for l in lspl], [float(l[5]) for l in lspl], 'o-', color='g',  label='H2')\n",
    "plt.plot([float(l[2])/calc_scale(7.3) for l in lspl], [float(l[6]) for l in lspl], 'o-', color='m',  label='*')\n",
    "plt.plot([float(l[2])/calc_scale(7.3) for l in lspl], [float(l[4]) for l in lspl], 'o-', color='r',  label='HI')\n",
    "\n",
    "# plt.plot([float(l[2])/calc_scale(7.3) for l in lspl], [float(l[4])/1.34 for l in lspl], 's-', color='r',  label='HI')\n",
    "\n",
    "\n",
    "plt.grid()\n",
    "plt.legend()\n",
    "plt.axvline(x=55., alpha=0.3)\n",
    "ax.set_yscale(\"log\", nonposy='clip')\n",
    "plt.ylim(1, 1000)\n",
    "plt.xlim(0, 140)\n",
    "\n",
    "ax1 = plt.gca()\n",
    "\n",
    "ax1.set_xlabel(r'$R,\\,{\\mathrm{arcsec}}$', fontsize=30, rotation=0)\n",
    "\n",
    "ax1.set_ylabel(r'$\\Sigma, \\mathrm{M_{\\odot}/{pc}^2}$', fontsize=35)\n",
    "\n",
    "# ax1.set_yticklabels(ax1.yaxis.get_major_ticks(), fontsize=20)\n",
    "zed = [tick.label.set_fontsize(25) for tick in ax1.yaxis.get_major_ticks()]\n",
    "ax1.tick_params(direction='in', pad=7)\n",
    "\n",
    "ax1.set_xticklabels(np.arange(0, 140, 20), fontsize=25)"
   ]
  },
  {
   "cell_type": "code",
   "execution_count": null,
   "metadata": {},
   "outputs": [],
   "source": [
    "vflat = 217\n",
    "lflat = 0.8 #kpc\n",
    "ls = 2.3 #kpc\n",
    "\n",
    "vrot = lambda l: vflat*(1 - np.exp(-l/lflat))\n",
    "vrotder = lambda l: vflat*(np.exp(-l/lflat)/lflat)\n",
    "\n",
    "test_points  = np.linspace(0, 150., 100)\n",
    "\n",
    "def epic(poly_gas, R, resolution):\n",
    "    '''Честное вычисление эпициклической частоты на расстоянии R для сплайна или полинома'''\n",
    "    return sqrt(2.0) * vrot(R) * sqrt(1 + R * vrotder(R) / poly_gas(R)) / (R * resolution )\n",
    "\n",
    "\n",
    "fig = plt.figure(figsize=[18, 8])\n",
    "plt.plot(test_points, [epic(vrot, x, scale) for x in test_points], '-', label='gas_approx_Leroy')\n",
    "plt.plot(test_points, [epicyclicFreq_real(gas_approx, x, scale) for x in test_points], '-', label='gas_approx_our')\n",
    "\n",
    "# plt.plot(r_g_dens[1:], ef, '--')\n",
    "plt.xlabel('$R, arcsec$')\n",
    "plt.ylabel('$\\kappa,\\, km/s/kpc$', fontsize=15)\n",
    "plt.xlim(0)\n",
    "plt.axvline(x=15.) #bulge\n",
    "plt.ylim(0, 1200.)\n",
    "plt.legend()"
   ]
  },
  {
   "cell_type": "code",
   "execution_count": null,
   "metadata": {},
   "outputs": [],
   "source": [
    "sigmaR_leroy = lambda l: sqrt(2*pi*4.32*2.3*l/7.3)/0.6"
   ]
  },
  {
   "cell_type": "code",
   "execution_count": null,
   "metadata": {},
   "outputs": [],
   "source": [
    "%%time\n",
    "\n",
    "rrrr = [float(l[2])/calc_scale(7.3) for l in lspl]\n",
    "\n",
    "G = 4.32\n",
    "Qeff_maxl = np.zeros(len(rrrr))\n",
    "Qeff_minl = np.zeros(len(rrrr))\n",
    "Qgsl = np.zeros(len(rrrr))\n",
    "\n",
    "Sigma_HI_l = [float(l[4]) for l in lspl]\n",
    "Sigma_HERACLES_CO_l = [float(l[5]) for l in lspl]\n",
    "Sigma_s_Leroy_l = [float(l[6]) for l in lspl]\n",
    "\n",
    "c_g_l = [11.]*len(rrrr)\n",
    "sig_R_maxl = [sigmaR_leroy(l) for l in Sigma_s_Leroy_l]\n",
    "sig_R_minl = [sigmaR_leroy(l) for l in Sigma_s_Leroy_l]\n",
    "\n",
    "errors = 0\n",
    "for i, ddd in enumerate(rrrr):\n",
    "    c = c_g_l[i]\n",
    "    Sigma = (Sigma_HI_l[i] + Sigma_HERACLES_CO_l[i])\n",
    "    kappa = epic(vrot, ddd, scale)\n",
    "    Sigma_s_ = Sigma_s_Leroy_l[i]\n",
    "    s_R_max = sig_R_maxl[i]\n",
    "    s_R_min = sig_R_minl[i]\n",
    "    Qg = kappa * c / (math.pi * G * Sigma)\n",
    "    Qs_max = kappa * s_R_max / (3.36 * G * Sigma_s_)\n",
    "    Qs_min = kappa * s_R_min / (3.36 * G * Sigma_s_)\n",
    "\n",
    "    try:\n",
    "        root_for_max, qeff = findInvKinemQeffBrentq(Qs_min, Qg, c/s_R_min, np.arange(0.01, 50., 1.))\n",
    "    except ValueError:\n",
    "        errors+=1\n",
    "        qeff = 0.01\n",
    "        root_for_max = -1.\n",
    "    Qeff_minl[i] = 1./qeff\n",
    "\n",
    "    try:\n",
    "        root_for_max, qeff = findInvKinemQeffBrentq(Qs_max, Qg, c/s_R_min, np.arange(0.01, 50., 1.))\n",
    "    except ValueError:\n",
    "        errors+=1\n",
    "        qeff = 0.01\n",
    "        root_for_max = -1.\n",
    "    Qeff_maxl[i] = 1./qeff\n",
    "    \n",
    "    Qgsl[i] = Qg\n",
    "        \n",
    "print 'Errors:{}'.format(errors)"
   ]
  },
  {
   "cell_type": "code",
   "execution_count": null,
   "metadata": {},
   "outputs": [],
   "source": [
    "fig = plt.figure(figsize=[12, 6])\n",
    "\n",
    "for ind, Q in enumerate([Qeff_min, Qeff_max, Qgs]):\n",
    "    label = ['Qeff_min', 'Qeff_max', 'Qgs'][ind]\n",
    "    color = ['r', 'b', 'm'][ind]\n",
    "    az_av, az_dev, az_max, az_min = azimuthal_average(Q, step=5, vmax=120)\n",
    "#     plt.plot(np.array(range(5, 120, 5))+2.5, az_av, ':', label=label, color=color)\n",
    "    \n",
    "    Qp = [Qeff_minl, Qeff_maxl, Qgsl][ind]\n",
    "#     plt.plot(rrrr, Qp, '--', color=color)\n",
    "#     plt.fill_between(np.array(range(5, 120, 5))+2.5, \n",
    "#                      np.array(az_av)-np.array(az_dev), \n",
    "#                      np.array(az_av)+np.array(az_dev), alpha=0.1, color=color)\n",
    "\n",
    "plt.plot(leroy2008_Qg[::2], leroy2008_Qg[1::2], 'o-', label='Qg_leroy', color='black')\n",
    "plt.plot(leroy2008_Q2f[::2], leroy2008_Q2f[1::2], 'o-', label='Q2f_leroy', color='g')\n",
    "\n",
    "plt.plot(rrrr, Qgsl, '--', color='black', label='Qg_leroy(recr)')\n",
    "plt.plot(rrrr, Qeff_minl, '--', color='g', label='Q2f_leroy(recr)')\n",
    "\n",
    "plt.grid()\n",
    "plt.legend(fontsize=18)\n",
    "plt.axvline(x=55., alpha=0.3)\n",
    "plt.ylim(0.1, 100.)\n",
    "plt.xlim(0)\n",
    "\n",
    "ax = plt.gca()\n",
    "ax.set_yscale(\"log\", nonposy='clip')\n",
    "\n",
    "plt.axhline(y=2., color='grey', alpha=0.15, lw=5)\n",
    "plt.axhline(y=3., color='grey', alpha=0.15, lw=5)\n",
    "\n",
    "# plt.plot(np.array(range(5, 120, 5))+2.5, Qgsp, '-', label='Qgsp', color='m')\n",
    "# plt.plot(np.array(range(5, 120, 5))+2.5, Qeff_minp, '-', label='Qeff_minp', color='r')\n",
    "# plt.plot(np.array(range(5, 120, 5))+2.5, Qeff_maxp, '-', label='Qeff_maxp', color='g')\n",
    "\n",
    "plt.xlabel(r'$R,arcsec$', fontsize=18);"
   ]
  },
  {
   "cell_type": "markdown",
   "metadata": {},
   "source": [
    "А теперь как у Лероя (E1):\n",
    "\n",
    "$$\\sigma = \\frac{\\sigma_{rms}}{\\sqrt{N_{pix,ring}/N_{pix, beam}}}$$,\n",
    "\n",
    "при этом если брать beam = 13.6 то np.sqrt(np.pi*(13.6/2.11)^2)= 11.5, а если beam = 5.6, то 4.7"
   ]
  },
  {
   "cell_type": "code",
   "execution_count": null,
   "metadata": {},
   "outputs": [],
   "source": [
    "def azimuthal_average(Q, step=5, vmax=120, Qmax=100, vmin=0, beam_radius=13.6/2):\n",
    "    az_av = []\n",
    "    az_dev = []\n",
    "    az_max = []\n",
    "    az_min = []\n",
    "    for dbin in range(vmin, vmax, step):\n",
    "        mask = (dist_ >= dbin) & (dist_ <= dbin + step)\n",
    "        anulli = Q[mask]\n",
    "        mask = (anulli < Qmax) & (anulli > 0) #not count nans\n",
    "        anulli = anulli[mask]\n",
    "        az_av.append(np.mean(anulli))\n",
    "        beam_pix = np.pi*(beam_radius/2.11)**2\n",
    "        az_dev.append(np.std(anulli)/np.sqrt(mask.sum()/beam_pix)) #see (E1) in Leroy et al. (2008)\n",
    "#         az_max.append(np.max(anulli) if len(anulli) != 0 else np.nan)\n",
    "        az_max.append(mask.sum())\n",
    "        az_min.append(np.min(anulli) if len(anulli) != 0 else np.nan)\n",
    "    return az_av, az_dev, az_max, az_min"
   ]
  },
  {
   "cell_type": "code",
   "execution_count": null,
   "metadata": {
    "scrolled": false
   },
   "outputs": [],
   "source": [
    "fig = plt.figure(figsize=[12, 8])\n",
    "\n",
    "for ind, Q in enumerate([Qeff_min, Qeff_max, Qgs]):\n",
    "    label = [r'$\\mathrm{Q_{eff}^{min}}$', r'$\\mathrm{Q_{eff}^{max}}$', r'$\\mathrm{Q_{g}}$'][ind]\n",
    "    color = ['r', 'g', 'b'][ind]\n",
    "    ls = ['--',':','-.'][ind]\n",
    "    az_av, az_dev, az_max, az_min = azimuthal_average(Q, step=10, vmax=145, beam_radius=13.6/2)\n",
    "    plt.plot(np.array(range(0, 145, 10))+5., az_av, label=label, color=color, lw=5,ls=ls)\n",
    "    plt.fill_between(np.array(range(0, 145, 10))+5., \n",
    "                     np.array(az_av)-np.array(az_dev), \n",
    "                     np.array(az_av)+np.array(az_dev), alpha=0.1, color=color)\n",
    "#     plt.fill_between(np.array(range(5, 120, 5))+2.5, \n",
    "#                      np.array(az_min), \n",
    "#                      np.array(az_max), alpha=0.1, color=color)\n",
    "\n",
    "plt.grid()\n",
    "plt.legend(fontsize=30)\n",
    "# plt.axvline(x=55., alpha=0.3)\n",
    "plt.ylim(0, 12.5)\n",
    "plt.xlim(10, 140.)\n",
    "\n",
    "plt.plot(leroy2008_Qg[::2], leroy2008_Qg[1::2], 'o-', label='Qg_leroy', color='black', lw=4, ms=10)\n",
    "plt.plot(leroy2008_Q2f[::2], leroy2008_Q2f[1::2], 's-', label='Q2f_leroy', color='black', lw=4, ms=10)\n",
    "\n",
    "\n",
    "ax1 = plt.gca()\n",
    "\n",
    "ax1.set_xlabel(r'$R,\\,{\\mathrm{arcsec}}$', fontsize=30, rotation=0)\n",
    "ax1.set_ylabel(r'$Q$', fontsize=40, rotation=0)\n",
    "# ax1.set_yticklabels(ax1.yaxis.get_major_ticks(), fontsize=20)\n",
    "zed = [tick.label.set_fontsize(25) for tick in ax1.yaxis.get_major_ticks()]\n",
    "ax1.tick_params(direction='in', pad=7)\n",
    "ax1.set_xticklabels(np.arange(0, 160, 20), fontsize=25)\n",
    "\n",
    "plt.plot([55., 55.], [0., 1.75], alpha=0.3, color='grey', lw=4)\n",
    "\n",
    "ax1.xaxis.set_minor_locator(AutoMinorLocator(2))\n",
    "ax1.yaxis.set_minor_locator(AutoMinorLocator(2))\n",
    "\n",
    "plt.savefig(paper_imgs_dir3 +'qaz2.eps', format='eps', bbox_inches='tight')\n",
    "plt.savefig(paper_imgs_dir3 +'qaz2.png', format='png', bbox_inches='tight')\n",
    "plt.savefig(paper_imgs_dir3 +'qaz2.pdf', format='pdf', dpi=150, bbox_inches='tight')\n",
    "plt.show()"
   ]
  },
  {
   "cell_type": "code",
   "execution_count": null,
   "metadata": {},
   "outputs": [],
   "source": [
    "fig = plt.figure(figsize=[12, 8])\n",
    "\n",
    "for ind, Q in enumerate([Qeff_min, Qeff_max, Qgs]):\n",
    "    label = [r'$\\mathrm{Q_{eff}^{min}}$', r'$\\mathrm{Q_{eff}^{max}}$', r'$\\mathrm{Q_{g}}$'][ind]\n",
    "    color = ['r', 'g', 'b'][ind]\n",
    "    ls = ['--',':','-.'][ind]\n",
    "    az_av, az_dev, az_max, az_min = azimuthal_average(Q, step=10, vmax=145, beam_radius=5.6/2)\n",
    "    plt.plot(np.array(range(0, 145, 10))+5., az_av, label=label, color=color, lw=5,ls=ls)\n",
    "    plt.fill_between(np.array(range(0, 145, 10))+5., \n",
    "                     np.array(az_av)-np.array(az_dev), \n",
    "                     np.array(az_av)+np.array(az_dev), alpha=0.1, color=color)\n",
    "#     plt.fill_between(np.array(range(5, 120, 5))+2.5, \n",
    "#                      np.array(az_min), \n",
    "#                      np.array(az_max), alpha=0.1, color=color)\n",
    "\n",
    "plt.grid()\n",
    "plt.legend(fontsize=30)\n",
    "# plt.axvline(x=55., alpha=0.3)\n",
    "plt.ylim(0, 12.5)\n",
    "plt.xlim(10, 140.)\n",
    "\n",
    "plt.plot(leroy2008_Qg[::2], leroy2008_Qg[1::2], 'o-', label='Qg_leroy', color='black', lw=4, ms=10)\n",
    "plt.plot(leroy2008_Q2f[::2], leroy2008_Q2f[1::2], 's-', label='Q2f_leroy', color='black', lw=4, ms=10)\n",
    "\n",
    "\n",
    "ax1 = plt.gca()\n",
    "\n",
    "ax1.set_xlabel(r'$R,\\,{\\mathrm{arcsec}}$', fontsize=30, rotation=0)\n",
    "ax1.set_ylabel(r'$Q$', fontsize=40, rotation=0)\n",
    "# ax1.set_yticklabels(ax1.yaxis.get_major_ticks(), fontsize=20)\n",
    "zed = [tick.label.set_fontsize(25) for tick in ax1.yaxis.get_major_ticks()]\n",
    "ax1.tick_params(direction='in', pad=7)\n",
    "ax1.set_xticklabels(np.arange(0, 160, 20), fontsize=25)\n",
    "\n",
    "plt.plot([55., 55.], [0., 1.75], alpha=0.3, color='grey', lw=4)\n",
    "\n",
    "ax1.xaxis.set_minor_locator(AutoMinorLocator(2))\n",
    "ax1.yaxis.set_minor_locator(AutoMinorLocator(2))\n",
    "\n",
    "plt.savefig(paper_imgs_dir3 +'qaz3.eps', format='eps', bbox_inches='tight')\n",
    "plt.savefig(paper_imgs_dir3 +'qaz3.png', format='png', bbox_inches='tight')\n",
    "plt.savefig(paper_imgs_dir3 +'qaz3.pdf', format='pdf', dpi=150, bbox_inches='tight')\n",
    "plt.show()"
   ]
  },
  {
   "cell_type": "code",
   "execution_count": null,
   "metadata": {},
   "outputs": [],
   "source": [
    "fig = plt.figure(figsize=[12, 8])\n",
    "\n",
    "for ind, Q in enumerate([Qeff_min, Qeff_max, Qgs]):\n",
    "    label = [r'$\\mathrm{Q_{eff}^{min}}$', r'$\\mathrm{Q_{eff}^{max}}$', r'$\\mathrm{Q_{g}}$'][ind]\n",
    "    color = ['r', 'g', 'b'][ind]\n",
    "    ls = ['--',':','-.'][ind]\n",
    "    az_av, az_dev, az_max, az_min = azimuthal_average(Q, step=10, vmax=145, beam_radius=13.6/2)\n",
    "    plt.plot(np.array(range(0, 145, 10))+5., az_max, label=label, color=color, lw=5,ls=ls)\n",
    "#     plt.fill_between(np.array(range(0, 145, 10))+5., \n",
    "#                      np.array(az_av)-np.array(az_dev), \n",
    "#                      np.array(az_av)+np.array(az_dev), alpha=0.1, color=color)\n",
    "#     plt.fill_between(np.array(range(5, 120, 5))+2.5, \n",
    "#                      np.array(az_min), \n",
    "#                      np.array(az_max), alpha=0.1, color=color)\n",
    "\n",
    "plt.grid()\n",
    "plt.legend(fontsize=30)\n",
    "# plt.axvline(x=55., alpha=0.3)\n",
    "plt.ylim(0, 1000.5)\n",
    "plt.xlim(10, 140.)\n",
    "\n",
    "# plt.plot(leroy2008_Qg[::2], leroy2008_Qg[1::2], 'o-', label='Qg_leroy', color='black', lw=4, ms=10)\n",
    "# plt.plot(leroy2008_Q2f[::2], leroy2008_Q2f[1::2], 's-', label='Q2f_leroy', color='black', lw=4, ms=10)\n",
    "\n",
    "plt.plot(np.array(range(0, 145, 10))+5., \n",
    "         [np.pi*(_/2.11)**2 - np.pi*((_-10.)/2.11)**2 for _ in np.array(range(10, 155, 10))], '.-')\n",
    "\n",
    "# ax1 = plt.gca()\n",
    "\n",
    "# ax1.set_xlabel(r'$R,\\,{\\mathrm{arcsec}}$', fontsize=30, rotation=0)\n",
    "# ax1.set_ylabel(r'$Q$', fontsize=40, rotation=0)\n",
    "# # ax1.set_yticklabels(ax1.yaxis.get_major_ticks(), fontsize=20)\n",
    "# zed = [tick.label.set_fontsize(25) for tick in ax1.yaxis.get_major_ticks()]\n",
    "# ax1.tick_params(direction='in', pad=7)\n",
    "# ax1.set_xticklabels(np.arange(0, 160, 20), fontsize=25)\n",
    "\n",
    "# plt.plot([55., 55.], [0., 1.75], alpha=0.3, color='grey', lw=4)\n",
    "\n",
    "# ax1.xaxis.set_minor_locator(AutoMinorLocator(2))\n",
    "# ax1.yaxis.set_minor_locator(AutoMinorLocator(2))\n",
    "\n",
    "# plt.savefig(paper_imgs_dir3 +'qaz.eps', format='eps', bbox_inches='tight')\n",
    "# plt.savefig(paper_imgs_dir3 +'qaz.png', format='png', bbox_inches='tight')\n",
    "# plt.savefig(paper_imgs_dir3 +'qaz.pdf', format='pdf', dpi=150, bbox_inches='tight')\n",
    "plt.show()"
   ]
  },
  {
   "cell_type": "code",
   "execution_count": null,
   "metadata": {},
   "outputs": [],
   "source": [
    "# TODO: понять, откуда берутся контуры внутри звезд и как их убрать\n",
    "\n",
    "plt.figure(figsize=[30, 27])\n",
    "\n",
    "plt.subplot(3,1,1)\n",
    "quadmesh = plt.pcolormesh(X, Y, Qeff_min, cmap=cm.gist_yarg)\n",
    "# CS = plt.contour(X, Y, Sigma_HI, levels=[5., 10.], aspect='auto', alpha=0.5)\n",
    "quadmesh.set_clim(vmin=2.0, vmax=4.)\n",
    "plt.colorbar()\n",
    "# CS = plt.contour(X, Y, Qeff_min, levels=[2.5], colors=('g'))\n",
    "plt.title(r'$Q_{eff,min}$', fontsize=30)\n",
    "# add_SFR_contours(levels=[-2.25], colors=('red'), X=None, Y=None)\n",
    "mark_stars(colors=('y'), levels=[0.999, 1.001])\n",
    "#bulge\n",
    "# circle = plt.Circle((512, 512), 10., color='b', fill=False, lw=10)\n",
    "# plt.gca().add_artist(circle)\n",
    "# circle = plt.Circle((Nx/2, Ny/2), 7., color='b', fill=False, lw=10) #7px approx 15arcsec\n",
    "# plt.gca().add_artist(circle)\n",
    "# add_SFR_contours(colors=('red'))\n",
    "CS = plt.contour(X, Y, dist_, [50., 80., 100.], colors=('g'))\n",
    "\n",
    "# circle2 = plt.Circle((4+Nx/2, 1+Ny/2), 7., color='m', fill=False, lw=6, ls='--')\n",
    "# plt.gca().add_artist(circle2)\n",
    "\n",
    "# add_spirals(plt.gca(), colors=['m', 'm'])\n",
    "\n",
    "plt.subplot(3,1,2)\n",
    "quadmesh = plt.pcolormesh(X, Y, Qeff_max, cmap=cm.gist_yarg)\n",
    "quadmesh.set_clim(vmin=2.0, vmax=4.)\n",
    "plt.colorbar()\n",
    "# CS = plt.contour(X, Y, Qeff_max, levels=[2.5], colors=('g'))\n",
    "plt.title(r'$Q_{eff,max}$', fontsize=30)\n",
    "# add_SFR_contours(levels=[-2.25], colors=('red'), X=None, Y=None)\n",
    "mark_stars(colors=('y'), levels=[0.999, 1.001])\n",
    "#bulge\n",
    "# circle = plt.Circle((Nx/2, Ny/2), 7., color='b', fill=False, lw=10)\n",
    "# plt.gca().add_artist(circle)\n",
    "# add_SFR_contours(colors=('red'))\n",
    "CS = plt.contour(X, Y, dist_, [50., 80., 100.], colors=('g'))\n",
    "\n",
    "plt.subplot(3,1,3)\n",
    "quadmesh = plt.pcolormesh(X, Y, Qgs, cmap=cm.gist_yarg)\n",
    "quadmesh.set_clim(vmin=2.0, vmax=4.)\n",
    "plt.colorbar()\n",
    "# CS = plt.contour(X, Y, Qgs, levels=[2.5], colors=('g'))\n",
    "plt.title(r'$Q_{g}$', fontsize=30)\n",
    "# add_SFR_contours(levels=[-2.25], colors=('red'), X=None, Y=None)\n",
    "mark_stars(colors=('y'), levels=[0.999, 1.001])\n",
    "# add_SFR_contours(colors=('red'))\n",
    "CS = plt.contour(X, Y, dist_, [50., 80., 100.], colors=('g'))"
   ]
  },
  {
   "cell_type": "markdown",
   "metadata": {},
   "source": [
    "усореднение $\\Sigma$ и $\\sigma$ - как у Лероя и для них уже Q"
   ]
  },
  {
   "cell_type": "code",
   "execution_count": null,
   "metadata": {},
   "outputs": [],
   "source": [
    "def azimuthal_average(Q, step=5, vmax=120, Qmax=100, vmin=0, beam_radius=5.6/2):\n",
    "    az_av = []\n",
    "    az_dev = []\n",
    "    az_max = []\n",
    "    az_min = []\n",
    "    for dbin in range(vmin, vmax, step):\n",
    "        mask = (dist_ >= dbin) & (dist_ <= dbin + step)\n",
    "        anulli = Q[mask]\n",
    "        mask = (anulli < Qmax) & (anulli > 0) #not count nans\n",
    "        anulli = anulli[mask]\n",
    "        az_av.append(np.mean(anulli))\n",
    "        beam_pix = np.pi*(beam_radius/2.11)**2\n",
    "        az_dev.append(np.std(anulli)/np.sqrt(mask.sum()/beam_pix)) #see (E1) in Leroy et al. (2008)\n",
    "#         az_max.append(np.max(anulli) if len(anulli) != 0 else np.nan)\n",
    "        az_max.append(mask.sum())\n",
    "        az_min.append(np.min(anulli) if len(anulli) != 0 else np.nan)\n",
    "    return az_av, az_dev, az_max, az_min"
   ]
  },
  {
   "cell_type": "code",
   "execution_count": null,
   "metadata": {},
   "outputs": [],
   "source": [
    "fig = plt.figure(figsize=[20, 7])\n",
    "\n",
    "ax = plt.subplot(121)\n",
    "ax1 = ax\n",
    "\n",
    "for ind, Q in enumerate([Sigma_HI_, Sigma_HERACLES_CO_, Sigma_s_Leroy_]):\n",
    "    label = [r'$\\mathrm{HI}$', r'$\\mathrm{H_2}$', r'$\\mathrm{star}$'][ind]\n",
    "    color = ['r', 'g', 'm'][ind]\n",
    "    az_av, az_dev, az_max, az_min = azimuthal_average(Q, step=5, vmax=145, Qmax=1000)\n",
    "    plt.plot(np.array(range(0, 145, 5))+2.5, az_av, '--', label=label, color=color,lw=4)\n",
    "    if label != r'$\\mathrm{star}$':\n",
    "        plt.fill_between(np.array(range(0, 145, 5))+2.5, \n",
    "                         np.array(az_av)-3*np.array(az_dev), \n",
    "                         np.array(az_av)+3*np.array(az_dev), alpha=0.1, color=color)\n",
    "\n",
    "az_av, az_dev, az_max, az_min = azimuthal_average(Sigma_s_Leroy_, step=5, vmax=55, Qmax=2000, vmin=0)\n",
    "plt.fill_between(np.array(range(0, 55, 5))+2.5, \n",
    "                         np.array(az_av)-3*np.array(az_dev), \n",
    "                         np.array(az_av)+3*np.array(az_dev), alpha=0.1, color=color)\n",
    "az_av, az_dev, az_max, az_min = azimuthal_average(Sigma_s_Leroy_, step=5, vmax=145, Qmax=500, vmin=50)\n",
    "plt.fill_between(np.array(range(50, 145, 5))+2.5, \n",
    "                         np.array(az_av)-3*np.array(az_dev), \n",
    "                         np.array(az_av)+3*np.array(az_dev), alpha=0.1, color=color)\n",
    "\n",
    "plt.grid()\n",
    "plt.legend(fontsize=25, loc=(0.14, 0.87), ncol=3)\n",
    "plt.axvline(x=55., alpha=0.3, color='grey', lw=4)\n",
    "ax.set_yscale(\"log\", nonposy='clip')\n",
    "plt.ylim(1, 1000)\n",
    "plt.xlim(0, 140)\n",
    "\n",
    "az_av, az_dev, az_max, az_min = azimuthal_average(Sigma_HERACLES_CO_grad, step=5, vmax=145, Qmax=1000)\n",
    "plt.plot(np.array(range(0, 145, 5))+2.5, az_av, '-', label=label, color='g',lw=2)\n",
    "\n",
    "\n",
    "ax = plt.subplot(122)\n",
    "ax2 = ax\n",
    "\n",
    "for ind, Q in enumerate([c_g_, sig_R_max, sig_R_min]):\n",
    "    label = [r'$c_\\mathrm{g}$', r'$\\sigma_R^\\mathrm{max}$', r'$\\sigma_R^\\mathrm{min}$'][ind]\n",
    "    color = ['r', 'g', 'm'][ind]\n",
    "    az_av, az_dev, az_max, az_min = azimuthal_average(Q, step=5, vmax=145, Qmax=100000)\n",
    "    plt.plot(np.array(range(0, 145, 5))+2.5, az_av, '--', label=label, color=color, lw=4)\n",
    "    plt.fill_between(np.array(range(0, 145, 5))+2.5, \n",
    "                     np.array(az_av)-3*np.array(az_dev), \n",
    "                     np.array(az_av)+3*np.array(az_dev), alpha=0.1, color=color)\n",
    "\n",
    "plt.grid()\n",
    "plt.legend(fontsize=27, loc=\"upper left\", bbox_to_anchor=[0, 1], ncol=3)\n",
    "plt.axvline(x=55., alpha=0.3, color='grey', lw=4)\n",
    "ax.set_yscale(\"log\", nonposy='clip')\n",
    "plt.ylim(8)\n",
    "plt.xlim(0, 140)\n",
    "\n",
    "plt.axhline(y=11.)\n",
    "sigmaR_leroy = lambda l: sqrt(2*pi*4.32*2.3*l/7.3)/0.6\n",
    "plt.plot(np.array(range(0, 140, 5))+2.5,\n",
    "         [sigmaR_leroy(_) for _ in azimuthal_average(Sigma_s_Leroy_, step=5, vmax=140, Qmax=1000)[0]], 'o-', ms=9)\n",
    "\n",
    "ax1.set_xlabel(r'$R,\\,{\\mathrm{arcsec}}$', fontsize=30, rotation=0)\n",
    "ax2.set_xlabel(r'$R,\\,{\\mathrm{arcsec}}$', fontsize=30, rotation=0)\n",
    "\n",
    "ax1.set_ylabel(r'$\\Sigma, \\mathrm{M_{\\odot}/{pc}^2}$', fontsize=35)\n",
    "ax2.set_ylabel(r'$\\sigma,\\,\\mathrm{km/s}$', fontsize=35)\n",
    "\n",
    "# ax1.set_yticklabels(ax1.yaxis.get_major_ticks(), fontsize=20)\n",
    "zed = [tick.label.set_fontsize(25) for tick in ax1.yaxis.get_major_ticks()]\n",
    "ax1.tick_params(direction='in', pad=7)\n",
    "zed = [tick.label.set_fontsize(25) for tick in ax2.yaxis.get_major_ticks()]\n",
    "ax2.tick_params(direction='in', pad=7)\n",
    "\n",
    "ax1.set_xticklabels(np.arange(0, 160, 20), fontsize=25)\n",
    "ax2.set_xticklabels(np.arange(0, 160, 20), fontsize=25)\n",
    "\n",
    "ax2.set_ylim(9., 500)\n",
    "\n",
    "ax1.tick_params(axis='both', color='black', length=7, width=1)\n",
    "ax1.tick_params(axis='both', color='black', length=4, width=1, which='minor')\n",
    "\n",
    "ax2.tick_params(axis='both', color='black', length=7, width=1)\n",
    "ax2.tick_params(axis='both', color='black', length=4, width=1, which='minor')\n",
    "\n",
    "# ax1.set_title(r'$\\mathrm{accuracy\\,\\,and\\,\\,recall}$', fontsize=25)\n",
    "# ax2.set_title(r'$F_1(\\mathrm{Q_{eff}^{min}}, \\log \\Sigma_{\\mathrm{SFR}})$', fontsize=25)\n",
    "# ax3.set_title(r'$F_1$', fontsize=25)\n",
    "\n",
    "plt.savefig(paper_imgs_dir3 +'data_3sig.eps', format='eps', bbox_inches='tight')\n",
    "plt.savefig(paper_imgs_dir3 +'data_3sig.png', format='png', bbox_inches='tight')\n",
    "plt.savefig(paper_imgs_dir3 +'data_3sig.pdf', format='pdf', dpi=150, bbox_inches='tight')\n",
    "plt.show()"
   ]
  },
  {
   "cell_type": "code",
   "execution_count": null,
   "metadata": {},
   "outputs": [],
   "source": [
    "G = 4.32\n",
    "nnn = len(range(0, 145, 5))\n",
    "Qeff_maxp = np.zeros(nnn)\n",
    "Qeff_minp = np.zeros(nnn)\n",
    "Qgsp = np.zeros(nnn)\n",
    "\n",
    "Qeff_maxpu = np.zeros(nnn)\n",
    "Qeff_minpu = np.zeros(nnn)\n",
    "Qgspu = np.zeros(nnn)\n",
    "\n",
    "Qeff_maxpd = np.zeros(nnn)\n",
    "Qeff_minpd = np.zeros(nnn)\n",
    "Qgspd = np.zeros(nnn)\n",
    "\n",
    "Sigma_HI_p, Sigma_HI_e = azimuthal_average(Sigma_HI_, step=5, vmax=145, Qmax=100000)[:2]\n",
    "Sigma_HERACLES_CO_p, Sigma_HERACLES_CO_e = azimuthal_average(Sigma_HERACLES_CO_, step=5, vmax=145, Qmax=100000)[:2]\n",
    "Sigma_s_Leroy_p, Sigma_s_Leroy_e = azimuthal_average(Sigma_s_Leroy_, step=5, vmax=145, Qmax=100000)[:2]\n",
    "\n",
    "c_g_p, c_g_e = azimuthal_average(c_g_, step=5, vmax=145, Qmax=100000)[:2]\n",
    "sig_R_maxp, sig_R_maxe = azimuthal_average(sig_R_max, step=5, vmax=145, Qmax=100000)[:2]\n",
    "sig_R_minp, sig_R_mine = azimuthal_average(sig_R_min, step=5, vmax=145, Qmax=100000)[:2]\n",
    "\n",
    "errors = 0\n",
    "for i, ddd in enumerate(range(0, 145, 5)):\n",
    "    c = c_g_p[i]\n",
    "    Sigma = 1.36*(Sigma_HI_p[i] + Sigma_HERACLES_CO_p[i])\n",
    "    Sigma_e = 1.36*(Sigma_HI_e[i] + Sigma_HERACLES_CO_e[i])\n",
    "    kappa = epicyclicFreq_real(gas_approx, ddd, scale)\n",
    "    Sigma_s_ = Sigma_s_Leroy_p[i]\n",
    "    Sigma_s_e = Sigma_s_Leroy_e[i]\n",
    "    s_R_max = sig_R_maxp[i]\n",
    "    s_R_min = sig_R_minp[i]\n",
    "    Qg = kappa * c / (math.pi * G * Sigma)\n",
    "    Qs_max = kappa * s_R_max / (3.36 * G * Sigma_s_)\n",
    "    Qs_min = kappa * s_R_min / (3.36 * G * Sigma_s_)\n",
    "    \n",
    "    Qgu = kappa * (c + c_g_e[i]) / (math.pi * G * (Sigma-Sigma_e))\n",
    "    Qs_maxu = kappa * (s_R_max + sig_R_maxe[i]) / (3.36 * G * (Sigma_s_ - Sigma_s_e))\n",
    "    Qs_minu = kappa * (s_R_min + sig_R_mine[i]) / (3.36 * G * (Sigma_s_ - Sigma_s_e))\n",
    "    \n",
    "    Qgd = kappa * (c - c_g_e[i]) / (math.pi * G * (Sigma+Sigma_e))\n",
    "    Qs_maxd = kappa * (s_R_max - sig_R_maxe[i]) / (3.36 * G * (Sigma_s_ + Sigma_s_e))\n",
    "    Qs_mind = kappa * (s_R_min - sig_R_mine[i]) / (3.36 * G * (Sigma_s_ + Sigma_s_e))\n",
    "\n",
    "    try:\n",
    "        root_for_max, qeff = findInvKinemQeffBrentq(Qs_min, Qg, c/s_R_min, np.arange(0.01, 50., 1.))\n",
    "    except ValueError:\n",
    "        errors+=1\n",
    "        qeff = 0.01\n",
    "        root_for_max = -1.\n",
    "    Qeff_minp[i] = 1./qeff\n",
    "\n",
    "    try:\n",
    "        root_for_max, qeff = findInvKinemQeffBrentq(Qs_max, Qg, c/s_R_max, np.arange(0.01, 50., 1.))\n",
    "    except ValueError:\n",
    "        errors+=1\n",
    "        qeff = 0.01\n",
    "        root_for_max = -1.\n",
    "    Qeff_maxp[i] = 1./qeff\n",
    "    \n",
    "    Qgsp[i] = Qg\n",
    "    \n",
    "    #########################################\n",
    "    try:\n",
    "        root_for_max, qeff = findInvKinemQeffBrentq(Qs_minu, Qgu, \n",
    "                                                    (c + c_g_e[i])/(s_R_min+ sig_R_mine[i]), \n",
    "                                                    np.arange(0.01, 50., 1.))\n",
    "    except ValueError:\n",
    "        errors+=1\n",
    "        qeff = 0.01\n",
    "        root_for_max = -1.\n",
    "    Qeff_minpu[i] = 1./qeff\n",
    "\n",
    "    try:\n",
    "        root_for_max, qeff = findInvKinemQeffBrentq(Qs_maxu, Qgu, \n",
    "                                                    (c+ c_g_e[i])/(s_R_max+ sig_R_maxe[i]), \n",
    "                                                    np.arange(0.01, 50., 1.))\n",
    "    except ValueError:\n",
    "        errors+=1\n",
    "        qeff = 0.01\n",
    "        root_for_max = -1.\n",
    "    Qeff_maxpu[i] = 1./qeff\n",
    "    \n",
    "    Qgspu[i] = Qgu\n",
    "    \n",
    "    #########################################\n",
    "    try:\n",
    "        root_for_max, qeff = findInvKinemQeffBrentq(Qs_mind, Qgd, \n",
    "                                                    (c - c_g_e[i])/(s_R_min - sig_R_mine[i]), \n",
    "                                                    np.arange(0.01, 50., 1.))\n",
    "    except ValueError:\n",
    "        errors+=1\n",
    "        qeff = 0.01\n",
    "        root_for_max = -1.\n",
    "    Qeff_minpd[i] = 1./qeff\n",
    "\n",
    "    try:\n",
    "        root_for_max, qeff = findInvKinemQeffBrentq(Qs_maxd, Qgd, \n",
    "                                                    (c - c_g_e[i])/(s_R_max - sig_R_maxe[i]), \n",
    "                                                    np.arange(0.01, 50., 1.))\n",
    "    except ValueError:\n",
    "        errors+=1\n",
    "        qeff = 0.01\n",
    "        root_for_max = -1.\n",
    "    Qeff_maxpd[i] = 1./qeff\n",
    "    \n",
    "    Qgspd[i] = Qgd\n",
    "        \n",
    "print 'Errors:{}'.format(errors)"
   ]
  },
  {
   "cell_type": "code",
   "execution_count": null,
   "metadata": {},
   "outputs": [],
   "source": [
    "fig = plt.figure(figsize=[12, 8])\n",
    "\n",
    "for ind, Q in enumerate([Qeff_min, Qeff_max, Qgs]):\n",
    "    label = [r'$\\mathrm{Q_{eff}^{min}}$', r'$\\mathrm{Q_{eff}^{max}}$', r'$\\mathrm{Q_{g}}$'][ind]\n",
    "    color = ['r', 'g', 'b'][ind]\n",
    "    ls = ['--',':','-.'][ind]\n",
    "    az_av = [Qeff_minp, Qeff_maxp, Qgsp][ind]\n",
    "    az_dev = [Qeff_minpu, Qeff_maxpu, Qgspu][ind]\n",
    "    az_dev2 = [Qeff_minpd, Qeff_maxpd, Qgspd][ind]\n",
    "    plt.plot(np.array(range(0, 145, 5))+2.5, az_av, label=label, color=color, lw=5,ls=ls)\n",
    "#     plt.fill_between(np.array(range(0, 145, 10))+5., \n",
    "#                      np.array(az_av)-np.array(az_dev), \n",
    "#                      np.array(az_av)+np.array(az_dev), alpha=0.1, color=color)\n",
    "    plt.fill_between(np.array(range(0, 145, 5))+2.5, \n",
    "                     np.array(az_dev), \n",
    "                     np.array(az_dev2), alpha=0.1, color=color)\n",
    "\n",
    "plt.grid()\n",
    "plt.legend(fontsize=30)\n",
    "# plt.axvline(x=55., alpha=0.3)\n",
    "plt.ylim(0, 12.5)\n",
    "plt.xlim(10, 140.)\n",
    "\n",
    "plt.plot(leroy2008_Qg[::2], leroy2008_Qg[1::2], 'o-', label='Qg_leroy', color='black', lw=4, ms=10)\n",
    "plt.plot(leroy2008_Q2f[::2], leroy2008_Q2f[1::2], 's-', label='Q2f_leroy', color='black', lw=4, ms=10)\n",
    "\n",
    "\n",
    "ax1 = plt.gca()\n",
    "\n",
    "ax1.set_xlabel(r'$R,\\,{\\mathrm{arcsec}}$', fontsize=30, rotation=0)\n",
    "ax1.set_ylabel(r'$Q$', fontsize=40, rotation=0)\n",
    "# ax1.set_yticklabels(ax1.yaxis.get_major_ticks(), fontsize=20)\n",
    "zed = [tick.label.set_fontsize(25) for tick in ax1.yaxis.get_major_ticks()]\n",
    "ax1.tick_params(direction='in', pad=7)\n",
    "ax1.set_xticklabels(np.arange(0, 160, 20), fontsize=25)\n",
    "\n",
    "plt.plot([55., 55.], [0., 1.75], alpha=0.3, color='grey', lw=4)\n",
    "\n",
    "ax1.xaxis.set_minor_locator(AutoMinorLocator(2))\n",
    "ax1.yaxis.set_minor_locator(AutoMinorLocator(2))\n",
    "\n",
    "plt.savefig(paper_imgs_dir3 +'qaz_1sig.eps', format='eps', bbox_inches='tight')\n",
    "plt.savefig(paper_imgs_dir3 +'qaz_1sig.png', format='png', bbox_inches='tight')\n",
    "plt.savefig(paper_imgs_dir3 +'qaz_1sig.pdf', format='pdf', dpi=150, bbox_inches='tight')\n",
    "plt.show()"
   ]
  },
  {
   "cell_type": "code",
   "execution_count": null,
   "metadata": {},
   "outputs": [],
   "source": []
  },
  {
   "cell_type": "markdown",
   "metadata": {},
   "source": [
    "## как повлияет на результат использование изменяющегося $X_{\\rm CO}$"
   ]
  },
  {
   "cell_type": "markdown",
   "metadata": {},
   "source": [
    "Используя модель из Leroy (2008) предполагалось $X_{\\rm CO} = 2.0\\times10^{20} \\mathrm{cm^{-2}K^{-1}km^{-1}s}$.\n",
    "\n",
    "В работе http://iopscience.iop.org/article/10.1088/0004-637X/764/2/117/pdf был найден градиент этой величины для двух случаев степенного закона $N=1$ и $N=1.5$: \n",
    "\n",
    " $$log(X_{CO}) = 20.09(0.05)\\, +\\, 0.06(0.02)R\\:[kpc]\\: N=1$$\n",
    " $$log(X_{CO}) = 20.00(0.06)\\, +\\, 0.08(0.02)R\\:[kpc]\\: N=1.5$$\n",
    "\n",
    "Была еще также работа Aniano (2012), где нет никакого градиента. Они объясняют плохость этой работы тем, что \n",
    "\n",
    "> Inspecting their Figure 4, it is evident that the results of their measurements of XCO in NGC 628 are subject to strong systematic uncertainties, and show large changes (from an increasing to a flat, or even decreasing, radial trend) depending on which subset of the Spitzer+Herschel data is used and the spatial resolution at which the modeling is conducted. Given the large systematic uncertainties in their measurement of XCO for NGC 628, we refrain from conducting a detailed comparison to their results."
   ]
  },
  {
   "cell_type": "code",
   "execution_count": null,
   "metadata": {},
   "outputs": [],
   "source": [
    "Image('alpha_CO_variations_VENGA.png', width=600)"
   ]
  },
  {
   "cell_type": "markdown",
   "metadata": {},
   "source": [
    "Посмотрим на разброс:"
   ]
  },
  {
   "cell_type": "code",
   "execution_count": null,
   "metadata": {},
   "outputs": [],
   "source": [
    "# log(X_CO) = 20.09(0.05) + 0.06(0.02)R[kpc] N=1\n",
    "# log(X_CO) = 20.00(0.06) + 0.08(0.02)R[kpc] N=1.5\n",
    "\n",
    "X_CO_10 = []\n",
    "X_CO_15 = []\n",
    "for r in range(8):\n",
    "    X_CO_10.append((np.power(10., 0.09 + 0.06*r), np.power(10., 0.04 + 0.04*r), np.power(10., 0.14 + 0.08*r)))\n",
    "    X_CO_15.append((np.power(10., 0.0 + 0.08*r), np.power(10., -0.06 + 0.06*r), np.power(10., 0.06 + 0.1*r)))\n",
    "    \n",
    "plt.plot(range(8), zip(*X_CO_10)[0], '-', color='b')\n",
    "plt.fill_between(range(8), zip(*X_CO_10)[1], zip(*X_CO_10)[2], color='b', alpha=0.3)\n",
    "plt.plot(range(8), zip(*X_CO_15)[0], '-', color='r')\n",
    "plt.fill_between(range(8), zip(*X_CO_15)[1], zip(*X_CO_15)[2], color='r', alpha=0.3)\n",
    "plt.ylabel(r'$X_{CO}$')\n",
    "plt.xlabel(r'$R[kpc]$')"
   ]
  },
  {
   "cell_type": "markdown",
   "metadata": {},
   "source": [
    "Видно, что хотя ошибки довольно заметны, средние похожи друг на друга. Используем для $N=1$ (поскольку они именно ее обсуждают в выводах). Надо также не забыть, что у них использованы расстояния 8.6 Мпк."
   ]
  },
  {
   "cell_type": "code",
   "execution_count": null,
   "metadata": {},
   "outputs": [],
   "source": [
    "%%time\n",
    "\n",
    "G = 4.32\n",
    "Qeff_max = np.zeros(dist_.shape)\n",
    "Qeff_min = np.zeros(dist_.shape)\n",
    "bark = np.zeros(dist_.shape)\n",
    "bark_max = np.zeros(dist_.shape)\n",
    "Qgs = np.zeros(dist_.shape)\n",
    "Qss_min = np.zeros(dist_.shape)\n",
    "Qss_max = np.zeros(dist_.shape)\n",
    "Sigma_HERACLES_CO_grad = np.zeros(dist_.shape)\n",
    "\n",
    "step = 0\n",
    "for i, row in enumerate(dist_):\n",
    "    for j, col in enumerate(dist_[0]):\n",
    "        if step%1000 == 0:\n",
    "            print step\n",
    "        step+=1\n",
    "        c = c_g_[i][j]\n",
    "        r = dist_[i][j]\n",
    "        rkpc = r*calc_scale(8.6)\n",
    "        X_CO_10 = np.power(10., 0.09 + 0.06*rkpc)\n",
    "        Sigma_HERACLES_CO_grad[i][j] = X_CO_10*Sigma_HERACLES_CO_[i][j]/2.0\n",
    "        Sigma = 1.36*(Sigma_HI_[i][j] + X_CO_10*Sigma_HERACLES_CO_[i][j]/2.0)\n",
    "        kappa = epicyclicFreq_real(gas_approx, dist_[i][j], scale)\n",
    "        Sigma_s_ = Sigma_s_Leroy_[i][j]\n",
    "        s_R_max = sig_R_max[i][j]\n",
    "        s_R_min = sig_R_min[i][j]\n",
    "        Qg = kappa * c / (math.pi * G * Sigma)\n",
    "        Qs_max = kappa * s_R_max / (3.36 * G * Sigma_s_)\n",
    "        Qs_min = kappa * s_R_min / (3.36 * G * Sigma_s_)\n",
    "        try:\n",
    "            root_for_max, qeff = findInvKinemQeffBrentq(Qs_min, Qg, c/s_R_min, np.arange(0.01, 50., 1.))\n",
    "        except ValueError:\n",
    "            qeff = 0.01\n",
    "            root_for_max = -1.\n",
    "        Qeff_min[i][j] = 1./qeff\n",
    "        bark[i][j] = root_for_max\n",
    "        \n",
    "        try:\n",
    "            root_for_max, qeff = findInvKinemQeffBrentq(Qs_max, Qg, c/s_R_min, np.arange(0.01, 50., 1.))\n",
    "        except ValueError:\n",
    "            qeff = 0.01\n",
    "            root_for_max = -1.\n",
    "        Qeff_max[i][j] = 1./qeff\n",
    "        bark_max[i][j] = root_for_max\n",
    "        \n",
    "        Qgs[i][j] = Qg\n",
    "        Qss_min[i][j] = Qs_min\n",
    "        Qss_max[i][j] = Qs_max"
   ]
  },
  {
   "cell_type": "code",
   "execution_count": null,
   "metadata": {
    "scrolled": false
   },
   "outputs": [],
   "source": [
    "plt.figure(figsize=[30, 54])\n",
    "\n",
    "plt.subplot(6,1,1)\n",
    "# X,Y = np.meshgrid(np.linspace(512. - 175.92/1.5, 512.+157.3/1.5, 1553), np.linspace(512. - 53.82/1.5, 512. + 55.42/1.5, 513))\n",
    "quadmesh = plt.pcolormesh(X, Y, Qeff_min, cmap=cm.gist_yarg)\n",
    "# CS = plt.contour(X, Y, Sigma_HI, levels=[5., 10.], aspect='auto', alpha=0.5)\n",
    "quadmesh.set_clim(vmin=2.0, vmax=4.)\n",
    "plt.colorbar()\n",
    "CS = plt.contour(X, Y, Qeff_min, levels=[2.5], colors=('g'))\n",
    "plt.title(r'$Q_{eff,min}$', fontsize=30)\n",
    "mark_stars(colors=('y'), levels=[0.999, 1.001])\n",
    "#bulge\n",
    "circle = plt.Circle((Nx/2, Ny/2), 7., color='b', fill=False, lw=10)\n",
    "plt.gca().add_artist(circle)\n",
    "add_SFR_contours(levels=[-34.5], colors=('red'))\n",
    "\n",
    "\n",
    "plt.subplot(6,1,2)\n",
    "quadmesh = plt.pcolormesh(X, Y, Qeff_max, cmap=cm.gist_yarg)\n",
    "quadmesh.set_clim(vmin=2.0, vmax=4.)\n",
    "plt.colorbar()\n",
    "CS = plt.contour(X, Y, Qeff_max, levels=[2.5], colors=('g'))\n",
    "plt.title(r'$Q_{eff,max}$', fontsize=30)\n",
    "mark_stars(colors=('y'), levels=[0.999, 1.001])\n",
    "#bulge\n",
    "circle = plt.Circle((Nx/2, Ny/2), 7., color='b', fill=False, lw=10)\n",
    "plt.gca().add_artist(circle)\n",
    "add_SFR_contours(levels=[-34.5], colors=('red'))\n",
    "\n",
    "\n",
    "plt.subplot(6,1,4)\n",
    "quadmesh = plt.pcolormesh(X, Y, bark, cmap=cm.gray)\n",
    "quadmesh.set_clim(vmin=0., vmax=2.)\n",
    "plt.colorbar()\n",
    "plt.title(r'$\\bar{k}$', fontsize=30)\n",
    "mark_stars(colors=('y'), levels=[0.999, 1.001])\n",
    "\n",
    "plt.subplot(6,1,3)\n",
    "quadmesh = plt.pcolormesh(X, Y, Qgs, cmap=cm.gist_yarg)\n",
    "quadmesh.set_clim(vmin=2.0, vmax=4.)\n",
    "plt.colorbar()\n",
    "CS = plt.contour(X, Y, Qgs, levels=[2.5], colors=('g'))\n",
    "plt.title(r'$Q_{g}$', fontsize=30)\n",
    "mark_stars(colors=('y'), levels=[0.999, 1.001])\n",
    "#bulge\n",
    "circle = plt.Circle((Nx/2, Ny/2), 7., color='b', fill=False, lw=10)\n",
    "plt.gca().add_artist(circle)\n",
    "add_SFR_contours(levels=[-34.5], colors=('red'))\n",
    "\n",
    "\n",
    "plt.subplot(6,1,5)\n",
    "quadmesh = plt.pcolormesh(X, Y, Sigma_HERACLES_CO_, cmap=cm.hot)\n",
    "quadmesh.set_clim(vmin=10., vmax=45.)\n",
    "plt.colorbar()\n",
    "CS = plt.contour(X, Y, Sigma_HERACLES_CO_, levels=[15., 25.], colors=('b', 'g'))\n",
    "plt.title(r'$\\Sigma_{\\rm CO}}$', fontsize=30)\n",
    "mark_stars(colors=('b'), levels=[0.999, 1.001])\n",
    "\n",
    "\n",
    "plt.subplot(6,1,6)\n",
    "quadmesh = plt.pcolormesh(X, Y, Sigma_HERACLES_CO_grad, cmap=cm.hot)\n",
    "quadmesh.set_clim(vmin=10., vmax=45.)\n",
    "plt.colorbar()\n",
    "CS = plt.contour(X, Y, Sigma_HERACLES_CO_grad, levels=[15., 25.], colors=('b', 'g'))\n",
    "plt.title(r'$\\Sigma_{\\rm CO}^{X_{CO}}$', fontsize=30)\n",
    "mark_stars(colors=('b'), levels=[0.999, 1.001])\n",
    "\n",
    "# plt.savefig('result_maps_column3.png', format='png', bbox_inches='tight')\n",
    "plt.show()"
   ]
  },
  {
   "cell_type": "code",
   "execution_count": null,
   "metadata": {},
   "outputs": [],
   "source": [
    "plt.figure(figsize=[30, 54])\n",
    "\n",
    "plt.subplot(6,1,5)\n",
    "quadmesh = plt.pcolormesh(X, Y, Sigma_HERACLES_CO_, cmap=cm.hot)\n",
    "quadmesh.set_clim(vmin=10., vmax=45.)\n",
    "plt.colorbar()\n",
    "CS = plt.contour(X, Y, Sigma_HERACLES_CO_, levels=[15., 25.], colors=('b', 'g'))\n",
    "plt.title(r'$\\Sigma_{\\rm CO}}$', fontsize=30)\n",
    "mark_stars(colors=('b'), levels=[0.999, 1.001])\n",
    "\n",
    "\n",
    "plt.subplot(6,1,6)\n",
    "quadmesh = plt.pcolormesh(X, Y, Sigma_HERACLES_CO_grad, cmap=cm.hot)\n",
    "quadmesh.set_clim(vmin=10., vmax=45.)\n",
    "plt.colorbar()\n",
    "CS = plt.contour(X, Y, Sigma_HERACLES_CO_grad, levels=[15., 25.], colors=('b', 'g'))\n",
    "plt.title(r'$\\Sigma_{\\rm CO}^{\\delta X_{CO}}$', fontsize=30)\n",
    "mark_stars(colors=('b'), levels=[0.999, 1.001])\n",
    "\n",
    "# plt.savefig('result_maps_column3.png', format='png', bbox_inches='tight')\n",
    "plt.show()"
   ]
  },
  {
   "cell_type": "markdown",
   "metadata": {},
   "source": [
    "В целом ничего особо не поменялось, поскольку отличия не такие большие, как видно из двух последних карт. Периферия и центр изменились на картах $Q$, но там мы ничего особо и не могли померять."
   ]
  },
  {
   "cell_type": "markdown",
   "metadata": {
    "heading_collapsed": true
   },
   "source": [
    "## сравнение с уровнями $\\Sigma_{H2}$"
   ]
  },
  {
   "cell_type": "code",
   "execution_count": null,
   "metadata": {
    "hidden": true
   },
   "outputs": [],
   "source": [
    "SFR = np.nan_to_num(log_Halpha_SFR_.ravel())\n",
    "SFR[SFR > -0.5] = -1000.\n",
    "SFR = np.power(10., SFR)\n",
    "print SFR.sum(), len(SFR), mean(SFR), max(SFR)"
   ]
  },
  {
   "cell_type": "code",
   "execution_count": null,
   "metadata": {
    "hidden": true
   },
   "outputs": [],
   "source": [
    "(175.92+157.3)*(53.82+ 55.42)*scale*scale #площадь"
   ]
  },
  {
   "cell_type": "markdown",
   "metadata": {
    "hidden": true
   },
   "source": [
    "С этим что-то не сходится у меня"
   ]
  },
  {
   "cell_type": "code",
   "execution_count": null,
   "metadata": {
    "hidden": true
   },
   "outputs": [],
   "source": [
    "plt.figure(figsize=[30, 18])\n",
    "plt.subplot(2,1,1)\n",
    "X,Y = np.meshgrid(np.arange(0.,Nx,1), np.arange(0.,Ny,1))\n",
    "quadmesh = plt.pcolormesh(X, Y, Sigma_HERACLES_CO_, cmap=cm.jet)\n",
    "quadmesh.set_clim(vmin=0., vmax=45.)\n",
    "plt.colorbar()\n",
    "CS = plt.contour(X, Y, Sigma_HERACLES_CO_, levels=[15., 30.], colors=('g', 'm'), linestyles='dashed')\n",
    "plt.title(r'$\\Sigma_{CO}$', fontsize=30)\n",
    "#bulge\n",
    "circle = plt.Circle((Nx/2, Ny/2), 7., color='b', fill=False, lw=10)\n",
    "plt.gca().add_artist(circle)\n",
    "add_SFR_contours()\n",
    "\n",
    "plt.subplot(2,1,2)\n",
    "X,Y = np.meshgrid(np.arange(0.,Nx,1), np.arange(0.,Ny,1))\n",
    "quadmesh = plt.pcolormesh(X, Y, Sigma_HERACLES_CO_grad, cmap=cm.jet)\n",
    "quadmesh.set_clim(vmin=0., vmax=45.)\n",
    "plt.colorbar()\n",
    "CS = plt.contour(X, Y, Sigma_HERACLES_CO_grad, levels=[15., 30.], colors=('g', 'm'), linestyles='dashed')\n",
    "plt.title(r'$\\Sigma_{CO}$', fontsize=30)\n",
    "#bulge\n",
    "circle = plt.Circle((Nx/2, Ny/2), 7., color='b', fill=False, lw=10)\n",
    "plt.gca().add_artist(circle)\n",
    "add_SFR_contours()"
   ]
  },
  {
   "cell_type": "markdown",
   "metadata": {
    "hidden": true
   },
   "source": [
    "В целом очень похоже, но как будто сдвинуто, что странно. "
   ]
  },
  {
   "cell_type": "markdown",
   "metadata": {
    "heading_collapsed": true
   },
   "source": [
    "## shear (Hunter 1998)"
   ]
  },
  {
   "cell_type": "markdown",
   "metadata": {
    "hidden": true
   },
   "source": [
    "Hunter et al. (1998), 'competition with shear' unstable according to Leroy: $$\\frac{\\alpha_A\\sigma_g A}{G\\pi\\Sigma_g} < 1,$$ где $A = 0.5(\\frac{v}{r}-\\frac{dv}{dr})$ постоянная Оорта. Hunter et al. (1998) предложили $\\alpha_A \\approx 2.5$."
   ]
  },
  {
   "cell_type": "code",
   "execution_count": null,
   "metadata": {
    "hidden": true
   },
   "outputs": [],
   "source": [
    "def oort_a(r, gas_vel, scale):\n",
    "    try:\n",
    "        return 0.5 * (gas_vel(r)/r - gas_vel.deriv()(r))/(scale)\n",
    "    except:\n",
    "        return 0.5 * (gas_vel(r)/r - gas_vel.derivative()(r))/(scale)\n",
    "    \n",
    "def Sigma_crit_A(r, gas_vel, alpha, sound_vel, Sigma_g, scale):\n",
    "    G = 4.32\n",
    "    return (alpha * sound_vel * oort_a(r, gas_vel, scale)) / (np.pi * G * Sigma_g)"
   ]
  },
  {
   "cell_type": "code",
   "execution_count": null,
   "metadata": {
    "hidden": true
   },
   "outputs": [],
   "source": [
    "test_points = np.linspace(0, 300., 100)\n",
    "plt.plot(test_points, [oort_a(x, gas_approx, scale) for x in test_points], '-', label='poly')\n",
    "plt.ylim(0, 50)\n",
    "plt.xlabel('$R, arcsec$')\n",
    "plt.ylabel('$d\\Omega/dr$', fontsize=15);"
   ]
  },
  {
   "cell_type": "code",
   "execution_count": null,
   "metadata": {
    "hidden": true
   },
   "outputs": [],
   "source": [
    "%%time\n",
    "\n",
    "shear = np.zeros(dist_.shape)\n",
    "\n",
    "for i, row in enumerate(dist_):\n",
    "    if i%100 == 0:\n",
    "        print i\n",
    "    for j, col in enumerate(dist_[0]):\n",
    "        c = c_g_[i][j]\n",
    "        Sigma_g = 1.36*(Sigma_HI_[i][j] + Sigma_HERACLES_CO_[i][j])\n",
    "        shear[i][j] = Sigma_crit_A(dist_[i][j], gas_approx, 2.5, c, Sigma_g, scale)"
   ]
  },
  {
   "cell_type": "code",
   "execution_count": null,
   "metadata": {
    "hidden": true
   },
   "outputs": [],
   "source": [
    "plt.figure(figsize=[30, 9])\n",
    "# X,Y = np.meshgrid(np.linspace(512. - 175.92/1.5, 512.+157.3/1.5, 1553), np.linspace(512. - 53.82/1.5, 512. + 55.42/1.5, 513))\n",
    "X,Y = np.meshgrid(np.arange(0.,Nx,1), np.arange(0.,Ny,1))\n",
    "quadmesh = plt.pcolormesh(X, Y, shear, cmap=cm.jet)\n",
    "quadmesh.set_clim(vmin=0., vmax=3.)\n",
    "plt.colorbar()\n",
    "CS = plt.contour(X, Y, shear, levels=[1.], colors=('g', 'm'), linestyles='dashed')\n",
    "\n",
    "plt.title('Shear', fontsize=30)\n",
    "\n",
    "#bulge\n",
    "circle = plt.Circle((Nx/2, Ny/2), 7., color='b', fill=False, lw=10)\n",
    "plt.gca().add_artist(circle)\n",
    "add_SFR_contours()"
   ]
  },
  {
   "cell_type": "markdown",
   "metadata": {
    "hidden": true
   },
   "source": [
    "Т.о. shear ничего не может объяснить или требуется другая величина $\\alpha_A$"
   ]
  },
  {
   "cell_type": "markdown",
   "metadata": {
    "heading_collapsed": true
   },
   "source": [
    "## SFR через $\\lambda$"
   ]
  },
  {
   "cell_type": "markdown",
   "metadata": {
    "hidden": true
   },
   "source": [
    "https://arxiv.org/pdf/1702.02609.pdf (и http://iopscience.iop.org/article/10.1086/431734/pdf), но там плохо тем, что формула не подходит ибо турбулентность (я посмотрел первоисточники [Krumholz 2005](http://iopscience.iop.org/article/10.1086/431734/pdf) - вроде можно использовать формулу) $$SFR=\\epsilon_{eff}(\\frac{\\pi^3}{2})^{0.5}G\\lambda^2\\frac{\\Sigma_g^2}{\\sigma_g}(1+\\frac{\\Sigma_*}{\\Sigma_g}\\frac{\\sigma_g}{\\sigma_*})^{0.5}$$ и затем $\\Sigma_{SFR} = SFR/Area$ и еще проследить, чтобы $\\lambda$ была в правильных единицах."
   ]
  },
  {
   "cell_type": "code",
   "execution_count": null,
   "metadata": {
    "hidden": true
   },
   "outputs": [],
   "source": [
    "bark = np.load('bark.npy')\n",
    "lambda_kpc = np.load('lambda_kpc.npy')"
   ]
  },
  {
   "cell_type": "code",
   "execution_count": null,
   "metadata": {
    "hidden": true
   },
   "outputs": [],
   "source": [
    "0.008*sqrt(pi**3)/sqrt(2)"
   ]
  },
  {
   "cell_type": "code",
   "execution_count": null,
   "metadata": {
    "hidden": true
   },
   "outputs": [],
   "source": [
    "3.24/3.17"
   ]
  },
  {
   "cell_type": "code",
   "execution_count": null,
   "metadata": {
    "hidden": true
   },
   "outputs": [],
   "source": [
    "((175.92+157.3)/1553)*scale, ((53.82+55.42)/513)*scale"
   ]
  },
  {
   "cell_type": "code",
   "execution_count": null,
   "metadata": {
    "hidden": true
   },
   "outputs": [],
   "source": [
    "#  X,Y = np.meshgrid(np.linspace(512. - 175.92/1.5, 512.+157.3/1.5, 1553), np.linspace(512. - 53.82/1.5, 512. + 55.42/1.5, 513))\n",
    "((175.92+157.3)/1553)*((53.82+55.42)/513)*(scale**2)"
   ]
  },
  {
   "cell_type": "markdown",
   "metadata": {
    "hidden": true
   },
   "source": [
    "Проверим точку из Dib грубо:"
   ]
  },
  {
   "cell_type": "code",
   "execution_count": null,
   "metadata": {
    "hidden": true
   },
   "outputs": [],
   "source": [
    "G = 4.32\n",
    "e_ff = 0.008\n",
    "multipl = e_ff*sqrt(pi**3)/sqrt(2)*1.0221*G/1000.\n",
    "area = 0.5\n",
    "\n",
    "(multipl*(0.8**2)*(42.**2)*np.sqrt(2)/10.)/area, np.power(10., -1.3)"
   ]
  },
  {
   "cell_type": "markdown",
   "metadata": {
    "hidden": true
   },
   "source": [
    "Да, очень похоже. Значит и у нас должно быть верно."
   ]
  },
  {
   "cell_type": "code",
   "execution_count": null,
   "metadata": {
    "hidden": true
   },
   "outputs": [],
   "source": [
    "%%time\n",
    "\n",
    "G = 4.32\n",
    "Sigma_lambda = np.zeros(dist_.shape)\n",
    "e_ff = 0.008\n",
    "\n",
    "for i, row in enumerate(dist_):\n",
    "    if i%100 == 0:\n",
    "        print i\n",
    "    for j, col in enumerate(dist_[0]):\n",
    "        c = c_g_[i][j]\n",
    "        Sigma = 1.36*(Sigma_HI_[i][j] + Sigma_HERACLES_CO_[i][j])\n",
    "        kappa = epicyclicFreq_real(gas_approx, dist_[i][j], scale)\n",
    "        Sigma_s_ = Sigma_s_Leroy_[i][j]\n",
    "        s_R_max = sig_R_max[i][j]\n",
    "        s_R_min = sig_R_min[i][j]\n",
    "        lambd = lambda_kpc[i][j]\n",
    "        multipl = e_ff*sqrt(pi**3)/sqrt(2.)*1.0221*G/1000.\n",
    "#         area = 5.723/100000.\n",
    "        #TODO: какое значение тут?\n",
    "#         area = 5.723\n",
    "        area = 0.086**2\n",
    "        Sigma_lambda[i][j] = (multipl*(lambd**2)*(Sigma**2)*np.sqrt(1 + (Sigma_s_/s_R_min)*(c/Sigma))/c)/area"
   ]
  },
  {
   "cell_type": "code",
   "execution_count": null,
   "metadata": {
    "hidden": true
   },
   "outputs": [],
   "source": [
    "fig = plt.figure(figsize=[30, 18])\n",
    "\n",
    "plt.subplot(2,1,1)\n",
    "# X,Y = np.meshgrid(np.linspace(512. - 175.92/1.5, 512.+157.3/1.5, 1553), np.linspace(512. - 53.82/1.5, 512. + 55.42/1.5, 513))\n",
    "quadmesh = plt.pcolormesh(X, Y, log_Halpha_SFR_, cmap=cm.gist_yarg)\n",
    "# CS = plt.contour(X, Y, Sigma_HI, levels=[5., 10.], aspect='auto', alpha=0.5)\n",
    "quadmesh.set_clim(vmin=-3.5, vmax=-1.)\n",
    "plt.colorbar()\n",
    "# CS = plt.contour(X, Y, Qeff_min, levels=[2.5], colors=('g'))\n",
    "plt.title(r'$SFR_{obs}$', fontsize=30)\n",
    "mark_stars(colors=('y'), levels=[0.999, 1.001])\n",
    "\n",
    "\n",
    "plt.subplot(2,1,2)\n",
    "quadmesh = plt.pcolormesh(X, Y, np.log10(Sigma_lambda), cmap=cm.gist_yarg)\n",
    "quadmesh.set_clim(vmin=-2., vmax=2.)\n",
    "# quadmesh.set_clim(vmin=10.0, vmax=2000.)\n",
    "plt.colorbar()\n",
    "mark_stars(colors=('y'), levels=[0.999, 1.001])\n",
    "add_SFR_contours(levels=[-2.1])\n",
    "\n",
    "fig.subplots_adjust(wspace=0.01, hspace=0.01)\n",
    "plt.show()"
   ]
  },
  {
   "cell_type": "code",
   "execution_count": null,
   "metadata": {
    "hidden": true
   },
   "outputs": [],
   "source": [
    "mask = sig_los != 0"
   ]
  },
  {
   "cell_type": "code",
   "execution_count": null,
   "metadata": {
    "hidden": true
   },
   "outputs": [],
   "source": [
    "plt.figure(figsize=[16, 11])\n",
    "plt.scatter(np.power(10., log_Halpha_SFR_[mask]).ravel(), Sigma_lambda[mask].ravel(), s=1., c=np.nan_to_num(dist_[mask].ravel()), cmap='plasma')\n",
    "plt.xlim(0., 0.02)\n",
    "plt.ylim(0., 0.40)\n",
    "plt.colorbar()\n",
    "plt.show()"
   ]
  },
  {
   "cell_type": "code",
   "execution_count": null,
   "metadata": {
    "hidden": true
   },
   "outputs": [],
   "source": [
    "# create data\n",
    "# x = np.nan_to_num(log_Halpha_SFR_[mask].ravel())\n",
    "# y = np.nan_to_num(np.log10(Sigma_lambda[mask].ravel()))\n",
    "\n",
    "x = log_Halpha_SFR_[mask].ravel()\n",
    "y = np.log10(Sigma_lambda[mask].ravel())\n",
    " \n",
    "# Make the plot\n",
    "plt.figure(figsize=[14, 12])\n",
    "plt.hexbin(x, y, gridsize=100, bins='log', cmap='inferno')\n",
    "plt.ylim(-4, 0.)\n",
    "plt.xlim(-4, 0)\n",
    "plt.colorbar()\n",
    "law = 1.\n",
    "law_bias = 0.\n",
    "plt.plot([-4., -1.], [-4.*law+law_bias, -1.*law+law_bias], '--', lw=10, color='g')\n",
    "plt.xlabel('log(Sigma_SFR)')\n",
    "plt.ylabel('log(Sigma_lambda)')\n",
    "plt.show()"
   ]
  },
  {
   "cell_type": "markdown",
   "metadata": {
    "hidden": true
   },
   "source": [
    "**Kennicutt–Schmidt law**\n",
    "\n",
    "Со звездами формирует странные непонятные кластеры. Интересно. Возможно это же причина \"нитей\" на картинке после этой."
   ]
  },
  {
   "cell_type": "code",
   "execution_count": null,
   "metadata": {
    "hidden": true
   },
   "outputs": [],
   "source": [
    "Sigma_g = 1.36*(Sigma_HI_ + Sigma_HERACLES_CO_)"
   ]
  },
  {
   "cell_type": "code",
   "execution_count": null,
   "metadata": {
    "hidden": true
   },
   "outputs": [],
   "source": [
    "plt.figure(figsize=[16, 11])\n",
    "plt.scatter(np.power(10., log_Halpha_SFR_)[mask].ravel(), np.power(Sigma_g, 1.4)[mask].ravel(), s=1., c=np.nan_to_num(dist_[mask].ravel()), cmap='plasma')\n",
    "plt.xlim(0., 0.02)\n",
    "plt.colorbar()\n",
    "plt.show()"
   ]
  },
  {
   "cell_type": "code",
   "execution_count": null,
   "metadata": {
    "hidden": true
   },
   "outputs": [],
   "source": [
    "Sigma_g = 1.36*(Sigma_HI_ + Sigma_HERACLES_CO_)\n",
    "fs=20\n",
    "\n",
    "fig = plt.figure(figsize=[20, 16])\n",
    "\n",
    "plt.subplot(2,2,1)\n",
    "# create data\n",
    "x = np.nan_to_num(log_Halpha_SFR_[mask].ravel())\n",
    "y = np.nan_to_num(np.log10(Sigma_g[mask].ravel()))\n",
    " \n",
    "# Make the plot\n",
    "plt.hexbin(x, y, gridsize=100, bins='log', cmap='inferno', vmin=0.2, vmax=1.5)\n",
    "plt.ylim(0.2/1.4, 2.5/1.4)\n",
    "plt.xlim(-3.5, -1.0)\n",
    "plt.colorbar()\n",
    "kslaw = 1.48\n",
    "kslaw_bias = 5.\n",
    "plt.plot([-4., -2.], [-4.*kslaw+kslaw_bias, -2.*kslaw+kslaw_bias], '--', lw=20, color='g')\n",
    "plt.xlabel('log(Sigma_SFR)', fontsize=fs)\n",
    "plt.ylabel('log(Sigma_g)', fontsize=fs)\n",
    "\n",
    "plt.subplot(2,2,2)\n",
    "# create data\n",
    "x = np.nan_to_num(log_Halpha_SFR_[mask].ravel())\n",
    "y = np.nan_to_num(np.log10(Sigma_HI_[mask].ravel()))\n",
    " \n",
    "# Make the plot\n",
    "plt.hexbin(x, y, gridsize=100, bins='log', cmap='inferno', vmin=0.2, vmax=1.5)\n",
    "plt.ylim(-0.5, 1.)\n",
    "plt.xlim(-3.5, -1.0)\n",
    "plt.colorbar()\n",
    "# kslaw = 1.48\n",
    "# kslaw_bias = 5.\n",
    "# plt.plot([-4., -2.], [-4.*kslaw+kslaw_bias, -2.*kslaw+kslaw_bias], '--', lw=20, color='g')\n",
    "plt.xlabel('log(Sigma_SFR)', fontsize=fs)\n",
    "plt.ylabel('log(Sigma_HI)', fontsize=fs)\n",
    "\n",
    "plt.subplot(2,2,3)\n",
    "# create data\n",
    "x = np.nan_to_num(log_Halpha_SFR_[mask].ravel())\n",
    "y = np.nan_to_num(np.log10(Sigma_HERACLES_CO_[mask].ravel()))\n",
    " \n",
    "# Make the plot\n",
    "plt.hexbin(x, y, gridsize=100, bins='log', cmap='inferno', vmin=0.2, vmax=1.5)\n",
    "plt.ylim(0.2/1.4, 1.6)\n",
    "plt.xlim(-3.5, -1.0)\n",
    "plt.colorbar()\n",
    "# kslaw = 1.48\n",
    "# kslaw_bias = 5.\n",
    "# plt.plot([-4., -2.], [-4.*kslaw+kslaw_bias, -2.*kslaw+kslaw_bias], '--', lw=20, color='g')\n",
    "plt.xlabel('log(Sigma_SFR)', fontsize=fs)\n",
    "plt.ylabel('log(Sigma_CO)', fontsize=fs)\n",
    "\n",
    "plt.subplot(2,2,4)\n",
    "# create data\n",
    "x = np.nan_to_num(log_Halpha_SFR_[mask].ravel())\n",
    "y = np.nan_to_num(np.log10(Sigma_s_Leroy_[mask].ravel()))\n",
    " \n",
    "# Make the plot\n",
    "plt.hexbin(x, y, gridsize=100, bins='log', cmap='inferno', vmin=0.2, vmax=1.5)\n",
    "plt.ylim(1.1, 3.5)\n",
    "plt.xlim(-3.5, -1.0)\n",
    "plt.colorbar()\n",
    "# kslaw = 1.48\n",
    "# kslaw_bias = 5.\n",
    "# plt.plot([-4., -2.], [-4.*kslaw+kslaw_bias, -2.*kslaw+kslaw_bias], '--', lw=20, color='g')\n",
    "plt.xlabel('log(Sigma_SFR)', fontsize=fs)\n",
    "plt.ylabel('log(Sigma_s)', fontsize=fs)\n",
    "\n",
    "fig.subplots_adjust(wspace=0.1, hspace=0.1)\n",
    "plt.show()"
   ]
  },
  {
   "cell_type": "markdown",
   "metadata": {
    "hidden": true
   },
   "source": [
    "Все как и должно быть - видно подобие K-S, видно что с атомарным не коррелирует и что он молекуляризируется при 10ке, видно что со звездами коррелирует."
   ]
  },
  {
   "cell_type": "code",
   "execution_count": null,
   "metadata": {
    "hidden": true
   },
   "outputs": [],
   "source": [
    "Sigma_g = 1.36*(Sigma_HI_ + Sigma_HERACLES_CO_)\n",
    "fs=20\n",
    "\n",
    "fig = plt.figure(figsize=[20, 16])\n",
    "\n",
    "plt.subplot(2,2,1)\n",
    "# create data\n",
    "x = np.nan_to_num(np.log10(Sigma_s_Leroy_[mask].ravel()))\n",
    "y = np.nan_to_num(np.log10(Sigma_HI_[mask].ravel()))\n",
    " \n",
    "# Make the plot\n",
    "plt.hexbin(x, y, gridsize=100, bins='log', cmap='inferno', vmin=0.2, vmax=1.5)\n",
    "plt.ylim(0.2/1.4, 1.)\n",
    "plt.xlim(1, 3.5)\n",
    "plt.colorbar()\n",
    "# kslaw = 1.48\n",
    "# kslaw_bias = 5.\n",
    "# plt.plot([-4., -2.], [-4.*kslaw+kslaw_bias, -2.*kslaw+kslaw_bias], '--', lw=20, color='g')\n",
    "plt.xlabel('log(Sigma_s)', fontsize=fs)\n",
    "plt.ylabel('log(Sigma_HI)', fontsize=fs)\n",
    "\n",
    "plt.subplot(2,2,2)\n",
    "# create data\n",
    "x = np.nan_to_num(np.log10(Sigma_s_Leroy_[mask].ravel()))\n",
    "y = np.nan_to_num(np.log10(Sigma_HERACLES_CO_[mask].ravel()))\n",
    " \n",
    "# Make the plot\n",
    "plt.hexbin(x, y, gridsize=100, bins='log', cmap='inferno', vmin=0.2, vmax=1.5)\n",
    "plt.ylim(0.2/1.4, 2.5/1.4)\n",
    "plt.xlim(1, 3.5)\n",
    "plt.colorbar()\n",
    "# kslaw = 1.48\n",
    "# kslaw_bias = 5.\n",
    "# plt.plot([-4., -2.], [-4.*kslaw+kslaw_bias, -2.*kslaw+kslaw_bias], '--', lw=20, color='g')\n",
    "plt.xlabel('log(Sigma_s)', fontsize=fs)\n",
    "plt.ylabel('log(Sigma_CO)', fontsize=fs)\n",
    "\n",
    "plt.subplot(2,2,3)\n",
    "x = np.nan_to_num(np.power(10., log_Halpha_SFR_[mask]).ravel())\n",
    "y = np.nan_to_num(Sigma_g[mask].ravel())\n",
    "z = np.divide(x, y)\n",
    "z_ = np.power(Sigma_s_Leroy_[mask].ravel(), 0.5)\n",
    " \n",
    "# Make the plot\n",
    "plt.hexbin(np.log10(z), np.log10(z_), gridsize=100, bins='log', cmap='inferno', vmin=0.2, vmax=1.5)\n",
    "# plt.ylim(0.2/1.4, 1.)\n",
    "# plt.xlim(0.2, 1.5)\n",
    "plt.colorbar()\n",
    "plt.xlabel('log(Sigma_SFR/Sigma_g)', fontsize=fs)\n",
    "plt.ylabel('log(Sigma_s^{0.5})', fontsize=fs)\n",
    "plt.title('Ostriker 2010')\n",
    "\n",
    "plt.subplot(2,2,4)\n",
    " \n",
    "# Make the plot\n",
    "plt.hexbin(np.log10(z), np.log10(Sigma_s_Leroy_[mask].ravel()), gridsize=100, bins='log', cmap='inferno', vmin=0.2, vmax=1.5)\n",
    "# plt.ylim(0.2/1.4, 1.)\n",
    "# plt.xlim(0.2, 1.5)\n",
    "plt.colorbar()\n",
    "plt.xlabel('log(Sigma_SFR/Sigma_g)', fontsize=fs)\n",
    "plt.ylabel('log(Sigma_s)', fontsize=fs)\n",
    "\n",
    "fig.subplots_adjust(wspace=0.1, hspace=0.2)\n",
    "plt.show()"
   ]
  },
  {
   "cell_type": "code",
   "execution_count": null,
   "metadata": {
    "hidden": true
   },
   "outputs": [],
   "source": [
    "x = np.nan_to_num(np.power(10., log_Halpha_SFR_[mask]).ravel())\n",
    "y = np.nan_to_num(Sigma_g[mask].ravel())\n",
    "z = np.divide(x, y)\n",
    "z_ = np.power(Sigma_s_Leroy_[mask].ravel(), 0.5)\n",
    " \n",
    "# Make the plot\n",
    "plt.hexbin(np.log10(z), np.log10(z_), gridsize=50, cmap='inferno')\n",
    "# plt.ylim(0.2/1.4, 1.)\n",
    "# plt.xlim(0.2, 1.5)\n",
    "plt.colorbar()\n",
    "plt.xlabel('log(Sigma_SFR/Sigma_g)', fontsize=fs)\n",
    "plt.ylabel('log(Sigma_s^{0.5})', fontsize=fs)\n",
    "plt.title('Ostriker 2010')"
   ]
  },
  {
   "cell_type": "markdown",
   "metadata": {
    "hidden": true
   },
   "source": [
    "картинка для статьи"
   ]
  },
  {
   "cell_type": "code",
   "execution_count": null,
   "metadata": {
    "hidden": true
   },
   "outputs": [],
   "source": [
    "from scipy.optimize import curve_fit\n",
    "\n",
    "fig, axes = plt.subplots(figsize=[21, 7], ncols=3, sharey=True)\n",
    "\n",
    "ax1 = plt.subplot(131)\n",
    "\n",
    "mask = (sig_los != 0.) & (dist_ > 15.) & (dist_ < 140.)\n",
    "\n",
    "Sigma_g = 1.36*(Sigma_HI_ + Sigma_HERACLES_CO_)\n",
    "fs=45\n",
    "\n",
    "x = np.nan_to_num(log_Halpha_SFR_[mask].ravel())\n",
    "y = np.nan_to_num(np.log10(Sigma_g[mask].ravel()))\n",
    "\n",
    "# hb = plt.hexbin(x, y, gridsize=50, bins='log', cmap='inferno')\n",
    "hb = plt.hexbin(y[(y>0.2)&(y<1.7)], x[(y>0.2)&(y<1.7)], gridsize=50, cmap=cm.inferno_r, vmin=1, vmax=45)\n",
    "hb.cmap.set_under('white')\n",
    "\n",
    "def func(x, beta):\n",
    "    return 1.48*x + beta\n",
    "\n",
    "guesses = [-4.]\n",
    "popt,pcov = curve_fit(func,y,x,p0=guesses)\n",
    "\n",
    "print popt,pcov\n",
    "\n",
    "def func(x, beta, alpha):\n",
    "    return alpha*x + beta\n",
    "\n",
    "guesses = [-4., 1.48]\n",
    "popt,pcov = curve_fit(func,y,x,p0=guesses)\n",
    "\n",
    "print popt,pcov\n",
    "\n",
    "\n",
    "plt.xlim(0.2/1.4, 1.7)\n",
    "plt.ylim(-3.5, -1.0)\n",
    "# plt.colorbar()\n",
    "kslaw = 1.48\n",
    "kslaw_bias = -4.13\n",
    "plt.plot([0.5, 1.5], [0.5*kslaw+kslaw_bias, 1.5*kslaw+kslaw_bias], '-', lw=7, color='g')\n",
    "plt.ylabel(r'$\\log \\Sigma_\\mathrm{SFR}$', fontsize=fs)\n",
    "plt.xlabel(r'$\\log \\Sigma_\\mathrm{g}$', fontsize=fs)\n",
    "\n",
    "ax2 = plt.subplot(132)\n",
    "\n",
    "x = np.nan_to_num(log_Halpha_SFR_[mask & (Sigma_HERACLES_CO_ > 0.01)].ravel())\n",
    "y = np.nan_to_num(np.log10(1.36*Sigma_HERACLES_CO_[mask & (Sigma_HERACLES_CO_ > 0.01)].ravel()))\n",
    "# y[y < -3] = -3.\n",
    " \n",
    "# Make the plot\n",
    "hb = ax2.hexbin(y[(y>0.2)&(y<1.7)], x[(y>0.2)&(y<1.7)], gridsize=50, cmap=cm.inferno_r, vmin=1, vmax=45)\n",
    "hb.cmap.set_under('white')\n",
    "print corrcoef(x,y)[0][1]\n",
    "plt.xlim(0.2/1.4, 1.7)\n",
    "plt.ylim(-3.5, -1.0)\n",
    "# plt.colorbar()\n",
    "# plt.xlabel(r'$\\log \\Sigma_\\mathrm{SFR}$', fontsize=fs)\n",
    "plt.xlabel(r'$\\log \\Sigma_\\mathrm{H_2}$', fontsize=fs)\n",
    "plt.yticks([])\n",
    "\n",
    "kslaw = 1.\n",
    "kslaw_bias = -3.3\n",
    "plt.plot([0.3, 1.5], [0.3*kslaw+kslaw_bias, 1.5*kslaw+kslaw_bias], '--', lw=7, color='b')\n",
    "\n",
    "ax3 = plt.subplot(133)\n",
    "\n",
    "\n",
    "# x = np.nan_to_num(np.power(10., log_Halpha_SFR_[mask]).ravel())\n",
    "x = np.nan_to_num(log_Halpha_SFR_[mask].ravel())\n",
    "y = np.nan_to_num(Sigma_g[mask].ravel())\n",
    "# z = np.divide(x, y)\n",
    "z_ = np.power(Sigma_s_Leroy_[mask].ravel(), 0.5)\n",
    "z = np.multiply(z_, y)\n",
    " \n",
    "# Make the plot\n",
    "hb = plt.hexbin(np.log10(z), x, gridsize=50, cmap=cm.inferno_r, vmin=1, vmax=45)\n",
    "\n",
    "hb.cmap.set_under('white')\n",
    "\n",
    "def func(x, beta):\n",
    "    return 1*x + beta\n",
    "\n",
    "guesses = [-4.5]\n",
    "popt,pcov = curve_fit(func,np.log10(z), x,p0=guesses)\n",
    "\n",
    "print popt,pcov\n",
    "\n",
    "# print np.polyfit(np.log10(z), x, 1)\n",
    "# print corrcoef(np.log10(z), np.log10(z_))[0][1]\n",
    "# plt.ylim(0.2/1.4, 1.6)\n",
    "# plt.xlim(1.2)\n",
    "# plt.ylim(-3.5, -1.0)\n",
    "# plt.colorbar()\n",
    "# plt.xlabel(r'$\\log \\Sigma_\\mathrm{SFR}$', fontsize=fs)\n",
    "plt.xlabel(r'$\\log (\\Sigma_\\mathrm{g}\\Sigma_\\mathrm{s}^{0.5})$', fontsize=fs)\n",
    "# plt.title('Ostriker 2010')\n",
    "plt.yticks([])\n",
    "\n",
    "kslaw = 1.\n",
    "kslaw_bias = -4.59\n",
    "plt.plot([1.5, 2.5], [1.5*kslaw+kslaw_bias, 2.5*kslaw+kslaw_bias], '-', lw=7, color='g')\n",
    "\n",
    "\n",
    "cbar_ax = fig.add_axes([0.90, 0.10, 0.02, 0.8])\n",
    "fig.colorbar(hb, cax=cbar_ax)\n",
    "cbar_ax.set_yticklabels(range(5, 50, 5), fontsize=25)\n",
    "plt.ylabel(r'$\\mathrm{counts}$', fontsize=50)\n",
    "# plt.gca().yaxis.set_label_coords(1.75, 0.5)\n",
    "\n",
    "zed = [tick.label.set_fontsize(25) for tick in ax1.yaxis.get_major_ticks()]\n",
    "zed = [tick.label.set_fontsize(25) for tick in ax2.yaxis.get_major_ticks()]\n",
    "zed = [tick.label.set_fontsize(25) for tick in ax3.yaxis.get_major_ticks()]\n",
    "\n",
    "zed = [tick.label.set_fontsize(25) for tick in ax1.xaxis.get_major_ticks()]\n",
    "zed = [tick.label.set_fontsize(25) for tick in ax2.xaxis.get_major_ticks()]\n",
    "zed = [tick.label.set_fontsize(25) for tick in ax3.xaxis.get_major_ticks()]\n",
    "\n",
    "# ax1.set_xlabel(r'$\\log \\Sigma_{\\mathrm{SFR}}$', fontsize=25, rotation=0)\n",
    "# ax2.set_xlabel(r'$\\log \\Sigma_{\\mathrm{SFR}}$', fontsize=25, rotation=0)\n",
    "# ax3.set_xlabel(r'$\\log \\Sigma_{\\mathrm{SFR}}$', fontsize=25, rotation=0)\n",
    "\n",
    "# ax2.set_ylabel(r'$\\mathrm{Q_{eff}^{min}}$', fontsize=30, rotation=0)\n",
    "# ax2.yaxis.labelpad = -75\n",
    "\n",
    "# ax1.set_xticklabels(np.arange(-3.5, -0.5, 0.5), fontsize=20)\n",
    "# ax1.tick_params(direction='in', pad=7)\n",
    "# ax2.set_xticklabels(np.arange(-3.5, -0.5, 0.5), fontsize=20)\n",
    "# ax2.tick_params(direction='in', pad=7)\n",
    "# ax3.set_xticklabels(np.arange(-3.5, -0.5, 0.5), fontsize=20)\n",
    "# ax3.tick_params(direction='in', pad=7)\n",
    "\n",
    "# ax1.set_yticklabels(np.arange(0., 1.2, 0.2), fontsize=20)\n",
    "# ax2.set_yticklabels(np.arange(1., 4.5, 0.5), fontsize=20)\n",
    "# ax3.set_yticklabels(np.arange(0., 1.2, 0.2), fontsize=20)\n",
    "\n",
    "# ax1.set_title(r'$\\mathrm{accuracy\\,\\,and\\,\\,recall}$', fontsize=25)\n",
    "# ax2.set_title(r'$F_1(\\mathrm{Q_{eff}^{min}}, \\log \\Sigma_{\\mathrm{SFR}})$', fontsize=25)\n",
    "# ax3.set_title(r'$F_1$', fontsize=25)\n",
    "\n",
    "fig.subplots_adjust(wspace=0.01, hspace=0.0)\n",
    "\n",
    "plt.savefig(paper_imgs_dir3 +'ks.eps', format='eps', bbox_inches='tight')\n",
    "plt.savefig(paper_imgs_dir3 +'ks.png', format='png', bbox_inches='tight')\n",
    "plt.savefig(paper_imgs_dir3 +'ks.pdf', format='pdf', dpi=150, bbox_inches='tight')\n",
    "\n",
    "plt.show()"
   ]
  },
  {
   "cell_type": "code",
   "execution_count": null,
   "metadata": {
    "hidden": true
   },
   "outputs": [],
   "source": [
    "mask = (sig_los != 0.) & (dist_ > 15.) & (dist_ < 140.) & (Qeff_min < 5)\n",
    "\n",
    "x = np.nan_to_num(log_Halpha_SFR_[mask].ravel())\n",
    "y = np.nan_to_num(Qeff_min[mask].ravel())\n",
    "\n",
    " \n",
    "# Make the plot\n",
    "plt.hexbin(x, y, gridsize=50, cmap='inferno')\n",
    "plt.ylim(0., 5.)\n",
    "# plt.xlim(0.2, 1.5)\n",
    "plt.colorbar()\n",
    "plt.xlabel('log(Sigma_SFR)', fontsize=fs)\n",
    "plt.ylabel('Qeff_min', fontsize=fs)"
   ]
  },
  {
   "cell_type": "markdown",
   "metadata": {
    "heading_collapsed": true
   },
   "source": [
    "## $\\sigma_R$ через толщину (e.g. Leroy 2008)"
   ]
  },
  {
   "cell_type": "markdown",
   "metadata": {
    "hidden": true
   },
   "source": [
    "$\\sigma_R = \\sigma_Z/0.6 = \\frac{1}{0.6}\\sqrt{\\frac{2\\pi G l_s\\Sigma_s}{7.3}}$, где $l_s=2.3\\:kpc$ у Leroy. "
   ]
  },
  {
   "cell_type": "code",
   "execution_count": null,
   "metadata": {
    "hidden": true
   },
   "outputs": [],
   "source": [
    "sigmaR_leroy = lambda l: sqrt(2*pi*4.32*2.3*l/7.3)/0.6"
   ]
  },
  {
   "cell_type": "code",
   "execution_count": null,
   "metadata": {
    "hidden": true
   },
   "outputs": [],
   "source": [
    "plt.plot(np.linspace(10, 1000., 10),[sigmaR_leroy(_) for _ in np.linspace(10, 1000., 10)], '.-')\n",
    "plt.xlim(0., 1000.);"
   ]
  },
  {
   "cell_type": "code",
   "execution_count": null,
   "metadata": {
    "hidden": true
   },
   "outputs": [],
   "source": [
    "%%time\n",
    "\n",
    "G = 4.32\n",
    "Qeff_max = np.zeros(dist_.shape)\n",
    "Qeff_min = np.zeros(dist_.shape)\n",
    "bark = np.zeros(dist_.shape)\n",
    "bark_max = np.zeros(dist_.shape)\n",
    "Qgs = np.zeros(dist_.shape)\n",
    "Qss_min = np.zeros(dist_.shape)\n",
    "Qss_max = np.zeros(dist_.shape)\n",
    "\n",
    "for i, row in enumerate(dist_):\n",
    "    if i%100 == 0:\n",
    "        print i\n",
    "    for j, col in enumerate(dist_[0]):\n",
    "        c = c_g_[i][j]\n",
    "        Sigma = 1.36*(Sigma_HI_[i][j] + Sigma_HERACLES_CO_[i][j])\n",
    "        kappa = epicyclicFreq_real(gas_approx, dist_[i][j], scale)\n",
    "        Sigma_s_ = Sigma_s_Leroy_[i][j]\n",
    "        s_R_max = sigmaR_leroy(Sigma_s_)\n",
    "        Qg = kappa * c / (math.pi * G * Sigma)\n",
    "        Qs_max = kappa * s_R_max / (3.36 * G * Sigma_s_)       \n",
    "        try:\n",
    "            root_for_max, qeff = findInvKinemQeffBrentq(Qs_max, Qg, c/s_R_max, np.arange(0.01, 50., 1.))\n",
    "        except ValueError:\n",
    "            qeff = 0.01\n",
    "            root_for_max = -1.\n",
    "        Qeff_max[i][j] = 1./qeff\n",
    "        bark_max[i][j] = root_for_max\n",
    "        \n",
    "        Qgs[i][j] = Qg\n",
    "        Qss_max[i][j] = Qs_max"
   ]
  },
  {
   "cell_type": "code",
   "execution_count": null,
   "metadata": {
    "hidden": true
   },
   "outputs": [],
   "source": [
    "np.save('Qeff_min_Leroy.npy', Qeff_max)"
   ]
  },
  {
   "cell_type": "code",
   "execution_count": null,
   "metadata": {
    "hidden": true,
    "scrolled": false
   },
   "outputs": [],
   "source": [
    "plt.figure(figsize=[30, 36])\n",
    "\n",
    "plt.subplot(4,1,1)\n",
    "quadmesh = plt.pcolormesh(X, Y, Qeff_max, cmap=cm.gist_yarg)\n",
    "quadmesh.set_clim(vmin=2.0, vmax=4.)\n",
    "plt.colorbar()\n",
    "CS = plt.contour(X, Y, Qeff_max, levels=[2.5], colors=('g'))\n",
    "plt.title(r'$Q_{eff,max}$', fontsize=30)\n",
    "mark_stars(colors=('y'), levels=[0.999, 1.001])\n",
    "#bulge\n",
    "circle = plt.Circle((Nx/2, Ny/2), 7., color='b', fill=False, lw=10)\n",
    "plt.gca().add_artist(circle)\n",
    "add_SFR_contours(levels=[-34.5], colors=('red'))\n",
    "\n",
    "\n",
    "plt.subplot(4,1,2)\n",
    "quadmesh = plt.pcolormesh(X, Y, bark_max, cmap=cm.gray)\n",
    "quadmesh.set_clim(vmin=0., vmax=2.)\n",
    "plt.colorbar()\n",
    "plt.title(r'$\\bar{k}_{max}$', fontsize=30)\n",
    "mark_stars(colors=('y'), levels=[0.999, 1.001])\n",
    "\n",
    "plt.subplot(4,1,3)\n",
    "quadmesh = plt.pcolormesh(X, Y, Qgs, cmap=cm.gist_yarg)\n",
    "quadmesh.set_clim(vmin=2.0, vmax=4.)\n",
    "plt.colorbar()\n",
    "CS = plt.contour(X, Y, Qgs, levels=[2.5], colors=('g'))\n",
    "plt.title(r'$Q_{g}$', fontsize=30)\n",
    "mark_stars(colors=('y'), levels=[0.999, 1.001])\n",
    "add_SFR_contours(levels=[-34.5], colors=('red'))\n",
    "\n",
    "plt.subplot(4,1,4)\n",
    "quadmesh = plt.pcolormesh(X, Y, Qss_max, cmap=cm.hot)\n",
    "quadmesh.set_clim(vmin=2.5, vmax=8.)\n",
    "plt.colorbar()\n",
    "plt.title(r'$Q_{s}^{max}$', fontsize=30)\n",
    "mark_stars(colors=('y'), levels=[0.999, 1.001])\n",
    "\n",
    "# plt.savefig('result_maps_column5.png', format='png', bbox_inches='tight')\n",
    "plt.show()"
   ]
  },
  {
   "cell_type": "markdown",
   "metadata": {
    "heading_collapsed": true
   },
   "source": [
    "## $\\sigma_R$ через производную"
   ]
  },
  {
   "cell_type": "markdown",
   "metadata": {
    "hidden": true
   },
   "source": [
    "$${\\displaystyle \\sigma_{\\varphi}^{2}/\\sigma_{R}^{2}=0.5\\left(1+\\frac{R}{\\bar{v}_{\\varphi}}\\frac{d\\bar{v}_{\\varphi}}{dR}\\right)}$$"
   ]
  },
  {
   "cell_type": "code",
   "execution_count": null,
   "metadata": {
    "hidden": true
   },
   "outputs": [],
   "source": [
    "def sigPhi_to_sigR_real(R):\n",
    "        return 0.5 * (1 + R*gas_approx.deriv()(R) / gas_approx(R))\n",
    "\n",
    "test_points = np.linspace(0.1, 300., 100)\n",
    "plt.plot(test_points, [sigPhi_to_sigR_real(R) for R in test_points], 'd-', color='green')\n",
    "plt.axhline(y=0.3)\n",
    "plt.axhline(y=0.7)\n",
    "plt.xlabel('$R$')\n",
    "plt.ylabel(r\"$\\sigma_{\\varphi}^2/\\sigma_{R}^2$\")\n",
    "plt.ylim(0)\n",
    "plt.show()"
   ]
  },
  {
   "cell_type": "code",
   "execution_count": null,
   "metadata": {
    "hidden": true
   },
   "outputs": [],
   "source": [
    "def dotproduct(v1, v2):\n",
    "    return sum((a*b) for a, b in zip(v1, v2))\n",
    "\n",
    "def length(v):\n",
    "    return math.sqrt(dotproduct(v, v))\n",
    "\n",
    "def angle(v1, v2):\n",
    "    return math.acos(dotproduct(v1, v2) / (length(v1) * length(v2)))\n",
    "\n",
    "phi = np.zeros(sig_los.shape)\n",
    "\n",
    "for i in range(len(sig_los[0])):\n",
    "    for j in range(len(sig_los)):\n",
    "        x, y  = 813.5-i, 253.5-j\n",
    "        phi[j][i] = angle(np.array([x,y]), np.array([1553., 1553*np.sin(22.5*np.pi/180.)-60.]))*180./np.pi"
   ]
  },
  {
   "cell_type": "markdown",
   "metadata": {
    "hidden": true
   },
   "source": [
    "$$\\sigma^2_{los, \\phi} = [\\sigma_R^2\\sin^2\\phi + \\sigma^2_{\\varphi}\\cos^2\\phi]\\sin^2 i + \\sigma_z^2\\cos^2 i,$$"
   ]
  },
  {
   "cell_type": "code",
   "execution_count": null,
   "metadata": {
    "hidden": true
   },
   "outputs": [],
   "source": [
    "sig_r_max = lambda sig, phi_, R: sig/np.sqrt(sin_i**2 * np.sin(phi_*np.pi/180.)**2 + sigPhi_to_sigR_real(R)*sin_i**2*np.cos(phi_*np.pi/180.)**2 + 0.09*cos_i**2) \n",
    "sig_r_min = lambda sig, phi_, R: sig/np.sqrt(sin_i**2 * np.sin(phi_*np.pi/180.)**2 + sigPhi_to_sigR_real(R)*sin_i**2*np.cos(phi_*np.pi/180.)**2 + 0.49*cos_i**2) "
   ]
  },
  {
   "cell_type": "code",
   "execution_count": null,
   "metadata": {
    "hidden": true
   },
   "outputs": [],
   "source": [
    "%%time\n",
    "sig_R_max = np.zeros(sig_los.shape)\n",
    "\n",
    "for i in range(len(sig_los)):\n",
    "    for j in range(len(sig_los[0])):\n",
    "        sig_R_max[i][j] = sig_r_max(sig_los[i][j], phi[i][j], dist_[i][j])\n",
    "        \n",
    "sig_R_min = np.zeros(sig_los.shape)\n",
    "\n",
    "for i in range(len(sig_los)):\n",
    "    for j in range(len(sig_los[0])):\n",
    "        sig_R_min[i][j] = sig_r_min(sig_los[i][j], phi[i][j], dist_[i][j])"
   ]
  },
  {
   "cell_type": "code",
   "execution_count": null,
   "metadata": {
    "hidden": true
   },
   "outputs": [],
   "source": [
    "%%time\n",
    "\n",
    "G = 4.32\n",
    "Qeff_max = np.zeros(dist_.shape)\n",
    "Qeff_min = np.zeros(dist_.shape)\n",
    "bark = np.zeros(dist_.shape)\n",
    "bark_max = np.zeros(dist_.shape)\n",
    "Qgs = np.zeros(dist_.shape)\n",
    "Qss_min = np.zeros(dist_.shape)\n",
    "Qss_max = np.zeros(dist_.shape)\n",
    "\n",
    "for i, row in enumerate(dist_):\n",
    "    if i%100 == 0:\n",
    "        print i\n",
    "    for j, col in enumerate(dist_[0]):\n",
    "        c = c_g_[i][j]\n",
    "        Sigma = 1.36*(Sigma_HI_[i][j] + Sigma_HERACLES_CO_[i][j])\n",
    "        kappa = epicyclicFreq_real(gas_approx, dist_[i][j], scale)\n",
    "        Sigma_s_ = Sigma_s_Leroy_[i][j]\n",
    "        s_R_max = sig_R_max[i][j]\n",
    "        s_R_min = sig_R_min[i][j]\n",
    "        Qg = kappa * c / (math.pi * G * Sigma)\n",
    "        Qs_max = kappa * s_R_max / (3.36 * G * Sigma_s_)\n",
    "        Qs_min = kappa * s_R_min / (3.36 * G * Sigma_s_)\n",
    "        try:\n",
    "            root_for_max, qeff = findInvKinemQeffBrentq(Qs_min, Qg, c/s_R_min, np.arange(0.01, 50., 1.))\n",
    "        except ValueError:\n",
    "            qeff = 0.01\n",
    "            root_for_max = -1.\n",
    "        Qeff_min[i][j] = 1./qeff\n",
    "        bark[i][j] = root_for_max\n",
    "        \n",
    "        try:\n",
    "            root_for_max, qeff = findInvKinemQeffBrentq(Qs_max, Qg, c/s_R_min, np.arange(0.01, 50., 1.))\n",
    "        except ValueError:\n",
    "            qeff = 0.01\n",
    "            root_for_max = -1.\n",
    "        Qeff_max[i][j] = 1./qeff\n",
    "        bark_max[i][j] = root_for_max\n",
    "        \n",
    "        Qgs[i][j] = Qg\n",
    "        Qss_min[i][j] = Qs_min\n",
    "        Qss_max[i][j] = Qs_max"
   ]
  },
  {
   "cell_type": "code",
   "execution_count": null,
   "metadata": {
    "hidden": true
   },
   "outputs": [],
   "source": [
    "np.save('Qeff_min_deriv.npy', Qeff_min)"
   ]
  },
  {
   "cell_type": "code",
   "execution_count": null,
   "metadata": {
    "hidden": true,
    "scrolled": false
   },
   "outputs": [],
   "source": [
    "plt.figure(figsize=[30, 54])\n",
    "\n",
    "plt.subplot(6,1,1)\n",
    "# X,Y = np.meshgrid(np.linspace(512. - 175.92/1.5, 512.+157.3/1.5, 1553), np.linspace(512. - 53.82/1.5, 512. + 55.42/1.5, 513))\n",
    "quadmesh = plt.pcolormesh(X, Y, Qeff_min, cmap=cm.gist_yarg)\n",
    "# CS = plt.contour(X, Y, Sigma_HI, levels=[5., 10.], aspect='auto', alpha=0.5)\n",
    "quadmesh.set_clim(vmin=2.0, vmax=4.)\n",
    "plt.colorbar()\n",
    "CS = plt.contour(X, Y, Qeff_min, levels=[2.5], colors=('g'))\n",
    "plt.title(r'$Q_{eff,min}$', fontsize=30)\n",
    "mark_stars(colors=('y'), levels=[0.999, 1.001])\n",
    "#bulge\n",
    "circle = plt.Circle((Nx/2, Ny/2), 7., color='b', fill=False, lw=10)\n",
    "plt.gca().add_artist(circle)\n",
    "add_SFR_contours(levels=[-34.5], colors=('red'))\n",
    "\n",
    "\n",
    "plt.subplot(6,1,2)\n",
    "quadmesh = plt.pcolormesh(X, Y, Qeff_max, cmap=cm.gist_yarg)\n",
    "quadmesh.set_clim(vmin=2.0, vmax=4.)\n",
    "plt.colorbar()\n",
    "CS = plt.contour(X, Y, Qeff_max, levels=[2.5], colors=('g'))\n",
    "plt.title(r'$Q_{eff,max}$', fontsize=30)\n",
    "mark_stars(colors=('y'), levels=[0.999, 1.001])\n",
    "#bulge\n",
    "circle = plt.Circle((Nx/2, Ny/2), 7., color='b', fill=False, lw=10)\n",
    "plt.gca().add_artist(circle)\n",
    "add_SFR_contours(levels=[-34.5], colors=('red'))\n",
    "\n",
    "\n",
    "plt.subplot(6,1,4)\n",
    "quadmesh = plt.pcolormesh(X, Y, bark, cmap=cm.gray)\n",
    "quadmesh.set_clim(vmin=0., vmax=2.)\n",
    "plt.colorbar()\n",
    "plt.title(r'$\\bar{k}$', fontsize=30)\n",
    "mark_stars(colors=('y'), levels=[0.999, 1.001])\n",
    "\n",
    "\n",
    "plt.subplot(6,1,3)\n",
    "quadmesh = plt.pcolormesh(X, Y, Qgs, cmap=cm.gist_yarg)\n",
    "quadmesh.set_clim(vmin=2.0, vmax=4.)\n",
    "plt.colorbar()\n",
    "CS = plt.contour(X, Y, Qgs, levels=[2.5], colors=('g'))\n",
    "plt.title(r'$Q_{g}$', fontsize=30)\n",
    "mark_stars(colors=('y'), levels=[0.999, 1.001])\n",
    "add_SFR_contours(levels=[-34.5], colors=('red'))\n",
    "\n",
    "\n",
    "plt.subplot(6,1,5)\n",
    "quadmesh = plt.pcolormesh(X, Y, Qss_min, cmap=cm.hot)\n",
    "quadmesh.set_clim(vmin=1.5, vmax=5.)\n",
    "plt.colorbar()\n",
    "plt.title(r'$Q_{s}^{min}$', fontsize=30)\n",
    "mark_stars(colors=('b'), levels=[0.999, 1.001])\n",
    "\n",
    "plt.subplot(6,1,6)\n",
    "quadmesh = plt.pcolormesh(X, Y, Qss_max, cmap=cm.hot)\n",
    "quadmesh.set_clim(vmin=2.5, vmax=8.)\n",
    "plt.colorbar()\n",
    "plt.title(r'$Q_{s}^{max}$', fontsize=30)\n",
    "mark_stars(colors=('b'), levels=[0.999, 1.001])\n",
    "\n",
    "\n",
    "# plt.savefig('result_maps_column5.png', format='png', bbox_inches='tight')\n",
    "plt.show()"
   ]
  },
  {
   "cell_type": "code",
   "execution_count": null,
   "metadata": {
    "hidden": true
   },
   "outputs": [],
   "source": [
    "sig_R_max_ = np.load('sig_R_max.npy')\n",
    "sig_R_min_ = np.load('sig_R_min.npy')"
   ]
  },
  {
   "cell_type": "markdown",
   "metadata": {
    "hidden": true
   },
   "source": [
    "Отличия минимальны, да и сами оценки $\\sigma_R$ отличаются слабо:"
   ]
  },
  {
   "cell_type": "code",
   "execution_count": null,
   "metadata": {
    "hidden": true
   },
   "outputs": [],
   "source": [
    "plt.figure(figsize=[30, 9])\n",
    "# X,Y = np.meshgrid(np.linspace(512. - 175.92/1.5, 512.+157.3/1.5, 1553), np.linspace(512. - 53.82/1.5, 512. + 55.42/1.5, 513))\n",
    "X,Y = np.meshgrid(np.arange(0.,Nx,1), np.arange(0.,Ny,1))\n",
    "quadmesh = plt.pcolormesh(X, Y, sig_R_max_-sig_R_max, cmap=cm.jet)\n",
    "quadmesh.set_clim(vmin=0., vmax=8.)\n",
    "plt.colorbar()\n",
    "# CS = plt.contour(X, Y, shear, levels=[1., 2.], colors=('g', 'm'), linestyles='dashed')\n",
    "\n",
    "plt.title('delta sig_R_max', fontsize=30)\n",
    "\n",
    "# add_SFR_contours(colors=('b', 'g'))\n",
    "mark_stars()"
   ]
  },
  {
   "cell_type": "code",
   "execution_count": null,
   "metadata": {
    "hidden": true
   },
   "outputs": [],
   "source": [
    "l1 = lambda sig, phi_, R: sig/np.sqrt(sin_i**2 * np.sin(phi_*np.pi/180.)**2 + 0.25*sin_i**2*np.cos(phi_*np.pi/180.)**2 + 0.09*cos_i**2) \n",
    "l2 = lambda sig, phi_, R: sig/np.sqrt(sin_i**2 * np.sin(phi_*np.pi/180.)**2 + sigPhi_to_sigR_real(R)*sin_i**2*np.cos(phi_*np.pi/180.)**2 + 0.09*cos_i**2) \n",
    "\n",
    "test_points = np.linspace(0.1, 300., 100)\n",
    "plt.plot(test_points, [l1(_, 0., R) for _, R in zip(sig_los[35, :], test_points)], 'd-', color='green')\n",
    "plt.plot(test_points, [l2(_, 0., R) for _, R in zip(sig_los[35, :], test_points)], 'd-', color='r')\n",
    "# plt.axhline(y=0.3)\n",
    "# plt.axhline(y=0.7)\n",
    "# plt.xlabel('$R$')\n",
    "# plt.ylabel(r\"$\\sigma_{\\varphi}^2/\\sigma_{R}^2$\")\n",
    "plt.ylim(0)\n",
    "plt.show()"
   ]
  },
  {
   "cell_type": "markdown",
   "metadata": {
    "hidden": true
   },
   "source": [
    "Да, разница минимальна."
   ]
  },
  {
   "cell_type": "markdown",
   "metadata": {
    "heading_collapsed": true
   },
   "source": [
    "## $\\sigma_R$ в случае равновесного SVE"
   ]
  },
  {
   "cell_type": "markdown",
   "metadata": {
    "hidden": true
   },
   "source": [
    "Как в случае Dib 2016."
   ]
  },
  {
   "cell_type": "code",
   "execution_count": null,
   "metadata": {
    "hidden": true
   },
   "outputs": [],
   "source": [
    "%%time\n",
    "\n",
    "G = 4.32\n",
    "Qeff_max = np.zeros(dist_.shape)\n",
    "Qeff_min = np.zeros(dist_.shape)\n",
    "bark = np.zeros(dist_.shape)\n",
    "bark_max = np.zeros(dist_.shape)\n",
    "Qgs = np.zeros(dist_.shape)\n",
    "Qss_min = np.zeros(dist_.shape)\n",
    "Qss_max = np.zeros(dist_.shape)\n",
    "\n",
    "for i, row in enumerate(dist_):\n",
    "    if i%100 == 0:\n",
    "        print i\n",
    "    for j, col in enumerate(dist_[0]):\n",
    "        c = c_g_[i][j]\n",
    "        Sigma = 1.36*(Sigma_HI_[i][j] + Sigma_HERACLES_CO_[i][j])\n",
    "        kappa = epicyclicFreq_real(gas_approx, dist_[i][j], scale)\n",
    "        Sigma_s_ = Sigma_s_Leroy_[i][j]\n",
    "        s_R_max = sig_los[i][j]\n",
    "        s_R_min = sig_los[i][j]\n",
    "        Qg = kappa * c / (math.pi * G * Sigma)\n",
    "        Qs_max = kappa * s_R_max / (3.36 * G * Sigma_s_)\n",
    "        Qs_min = kappa * s_R_min / (3.36 * G * Sigma_s_)\n",
    "        try:\n",
    "            root_for_max, qeff = findInvKinemQeffBrentq(Qs_min, Qg, c/s_R_min, np.arange(0.01, 50., 1.))\n",
    "        except ValueError:\n",
    "            qeff = 0.01\n",
    "            root_for_max = -1.\n",
    "        Qeff_min[i][j] = 1./qeff\n",
    "        bark[i][j] = root_for_max\n",
    "        \n",
    "        try:\n",
    "            root_for_max, qeff = findInvKinemQeffBrentq(Qs_max, Qg, c/s_R_min, np.arange(0.01, 50., 1.))\n",
    "        except ValueError:\n",
    "            qeff = 0.01\n",
    "            root_for_max = -1.\n",
    "        Qeff_max[i][j] = 1./qeff\n",
    "        bark_max[i][j] = root_for_max\n",
    "        \n",
    "        Qgs[i][j] = Qg\n",
    "        Qss_min[i][j] = Qs_min\n",
    "        Qss_max[i][j] = Qs_max"
   ]
  },
  {
   "cell_type": "code",
   "execution_count": null,
   "metadata": {
    "hidden": true
   },
   "outputs": [],
   "source": [
    "np.save('Qeff_min_isotherm.npy', Qeff_min)"
   ]
  },
  {
   "cell_type": "code",
   "execution_count": null,
   "metadata": {
    "hidden": true,
    "scrolled": false
   },
   "outputs": [],
   "source": [
    "plt.figure(figsize=[30, 27])\n",
    "\n",
    "plt.subplot(3,1,1)\n",
    "# X,Y = np.meshgrid(np.linspace(512. - 175.92/1.5, 512.+157.3/1.5, 1553), np.linspace(512. - 53.82/1.5, 512. + 55.42/1.5, 513))\n",
    "quadmesh = plt.pcolormesh(X, Y, Qeff_min, cmap=cm.gist_yarg)\n",
    "# CS = plt.contour(X, Y, Sigma_HI, levels=[5., 10.], aspect='auto', alpha=0.5)\n",
    "quadmesh.set_clim(vmin=2.0, vmax=4.)\n",
    "plt.colorbar()\n",
    "CS = plt.contour(X, Y, Qeff_min, levels=[1., 2.5], colors=('m','g'))\n",
    "plt.title(r'$Q_{eff,min}$', fontsize=30)\n",
    "mark_stars(colors=('y'), levels=[0.999, 1.001])\n",
    "#bulge\n",
    "circle = plt.Circle((Nx/2, Ny/2), 7., color='b', fill=False, lw=10)\n",
    "plt.gca().add_artist(circle)\n",
    "add_SFR_contours()\n",
    "\n",
    "plt.subplot(3,1,3)\n",
    "quadmesh = plt.pcolormesh(X, Y, bark, cmap=cm.gray)\n",
    "quadmesh.set_clim(vmin=0., vmax=2.)\n",
    "plt.colorbar()\n",
    "plt.title(r'$\\bar{k}$', fontsize=30)\n",
    "mark_stars(colors=('y'), levels=[0.999, 1.001])\n",
    "\n",
    "plt.subplot(3,1,2)\n",
    "quadmesh = plt.pcolormesh(X, Y, Qgs, cmap=cm.gist_yarg)\n",
    "quadmesh.set_clim(vmin=2.0, vmax=4.)\n",
    "plt.colorbar()\n",
    "CS = plt.contour(X, Y, Qgs, levels=[2.5], colors=('g'))\n",
    "plt.title(r'$Q_{g}$', fontsize=30)\n",
    "mark_stars(colors=('y'), levels=[0.999, 1.001])\n",
    "add_SFR_contours()\n",
    "\n",
    "# plt.savefig('result_maps_column4.png', format='png', bbox_inches='tight')\n",
    "plt.show()"
   ]
  },
  {
   "cell_type": "markdown",
   "metadata": {
    "hidden": true
   },
   "source": [
    "Видно, что сильно перегрето выходит."
   ]
  },
  {
   "cell_type": "markdown",
   "metadata": {
    "heading_collapsed": true
   },
   "source": [
    "## cравнение $\\sigma_R$"
   ]
  },
  {
   "cell_type": "code",
   "execution_count": null,
   "metadata": {
    "hidden": true
   },
   "outputs": [],
   "source": [
    "Qeff_min = np.load('Qeff_min.npy')\n",
    "Qeff_min_Leroy = np.load('Qeff_min_Leroy.npy')\n",
    "Qeff_min_deriv = np.load('Qeff_min_deriv.npy')\n",
    "Qeff_min_isotherm = np.load('Qeff_min_isotherm.npy')\n",
    "Qeff_min_romeo = np.load('Qeff_min_romeo.npy')"
   ]
  },
  {
   "cell_type": "code",
   "execution_count": null,
   "metadata": {
    "hidden": true,
    "scrolled": false
   },
   "outputs": [],
   "source": [
    "fig = plt.figure(figsize=[30, 45])\n",
    "\n",
    "for ind, Qdat in enumerate([Qeff_min, Qeff_min_Leroy, Qeff_min_deriv, Qeff_min_isotherm, Qeff_min_romeo]):\n",
    "    plt.subplot(5,1,ind+1)\n",
    "    # X,Y = np.meshgrid(np.linspace(512. - 175.92/1.5, 512.+157.3/1.5, 1553), np.linspace(512. - 53.82/1.5, 512. + 55.42/1.5, 513))\n",
    "    quadmesh = plt.pcolormesh(X, Y, Qdat, cmap=cm.gist_yarg)\n",
    "    # CS = plt.contour(X, Y, Sigma_HI, levels=[5., 10.], aspect='auto', alpha=0.5)\n",
    "    quadmesh.set_clim(vmin=2.0, vmax=4.)\n",
    "    plt.colorbar()\n",
    "    # CS = plt.contour(X, Y, Qeff_min, levels=[2.5], colors=('g'))\n",
    "    plt.title('{}'.format(['Qeff_min', 'Qeff_min_Leroy', 'Qeff_min_deriv', 'Qeff_min_isotherm', 'Qeff_min_romeo'][ind]), fontsize=30)\n",
    "    # add_SFR_contours(levels=[-2.25], colors=('red'), X=None, Y=None)\n",
    "    mark_stars(colors=('y'), levels=[0.999, 1.001])\n",
    "    #bulge\n",
    "    # circle = plt.Circle((512, 512), 10., color='b', fill=False, lw=10)\n",
    "    # plt.gca().add_artist(circle)\n",
    "    # circle = plt.Circle((Nx/2, Ny/2), 7., color='b', fill=False, lw=10) #7px approx 15arcsec\n",
    "    # plt.gca().add_artist(circle)\n",
    "    add_SFR_contours(colors=('red'))\n",
    "\n",
    "    circle2 = plt.Circle((4+Nx/2, 1+Ny/2), 7., color='m', fill=False, lw=6, ls='--')\n",
    "    plt.gca().add_artist(circle2)\n",
    "\n",
    "    add_spirals(plt.gca(), colors=['m', 'm'])\n",
    "    \n",
    "fig.subplots_adjust(wspace=0.1, hspace=0.1)"
   ]
  },
  {
   "cell_type": "code",
   "execution_count": null,
   "metadata": {
    "hidden": true
   },
   "outputs": [],
   "source": []
  },
  {
   "cell_type": "markdown",
   "metadata": {},
   "source": [
    "## статистика"
   ]
  },
  {
   "cell_type": "markdown",
   "metadata": {},
   "source": [
    "По корреляции [THE DISKMASS SURVEY. VIII. ON THE RELATIONSHIP BETWEEN DISK STABILITY AND STAR FORMATION](http://iopscience.iop.org/article/10.1088/0004-637X/785/1/43/pdf)  и там коэффициент порядка $0.53 \\pm 0.19$ (что похоже на наше)."
   ]
  },
  {
   "cell_type": "markdown",
   "metadata": {},
   "source": [
    "Без звезд"
   ]
  },
  {
   "cell_type": "code",
   "execution_count": null,
   "metadata": {},
   "outputs": [],
   "source": [
    "mask = sig_los != 0. \n",
    "\n",
    "Qeff_min = np.load('Qeff_min.npy')\n",
    "bark = np.load('bark.npy')\n",
    "Qeff_max = np.load('Qeff_max.npy')\n",
    "bark = np.load('bark_max.npy')\n",
    "Qgs = np.load('Qgs.npy')\n",
    "Qss_min = np.load('Qss_min.npy')\n",
    "Qss_max = np.load('Qss_max.npy')\n",
    "\n",
    "X,Y = np.meshgrid(np.arange(0.,Nx,1), np.arange(0.,Ny,1))"
   ]
  },
  {
   "cell_type": "markdown",
   "metadata": {},
   "source": [
    "https://stats.stackexchange.com/questions/73646/how-do-i-test-that-two-continuous-variables-are-independent"
   ]
  },
  {
   "cell_type": "code",
   "execution_count": null,
   "metadata": {},
   "outputs": [],
   "source": [
    "np.count_nonzero(np.isnan(log_Halpha_SFR_.ravel())), log_Halpha_SFR_.ravel().shape"
   ]
  },
  {
   "cell_type": "code",
   "execution_count": null,
   "metadata": {},
   "outputs": [],
   "source": [
    "np.count_nonzero(np.isnan(Qeff_min.ravel())), Qeff_min.ravel().shape"
   ]
  },
  {
   "cell_type": "code",
   "execution_count": null,
   "metadata": {},
   "outputs": [],
   "source": [
    "print np.corrcoef(Qeff_min[mask].ravel(), np.nan_to_num(log_Halpha_SFR_[mask].ravel()))[0][1]\n",
    "# print np.corrcoef(Qss_min[mask].ravel(), np.nan_to_num(log_Halpha_SFR_[mask].ravel()))[0][1]\n",
    "print np.corrcoef(Qeff_max[mask].ravel(), np.nan_to_num(log_Halpha_SFR_[mask].ravel()))[0][1]\n",
    "# print np.corrcoef(Qss_max[mask].ravel(), np.nan_to_num(log_Halpha_SFR_[mask].ravel()))[0][1]\n",
    "print np.corrcoef(np.nan_to_num(Qgs[mask].ravel()), np.nan_to_num(log_Halpha_SFR_[mask].ravel()))[0][1]\n",
    "# TODO: не учитывать звезды"
   ]
  },
  {
   "cell_type": "markdown",
   "metadata": {},
   "source": [
    "Посмотрим, как меняется радиально:"
   ]
  },
  {
   "cell_type": "code",
   "execution_count": null,
   "metadata": {},
   "outputs": [],
   "source": [
    "corr_coeffs = []\n",
    "for radius in range(15, 150, 10):\n",
    "    tmp = []\n",
    "    mask = (sig_los != 0.) & (dist_ < radius)\n",
    "    tmp.append(np.corrcoef(Qeff_min[mask].ravel(), np.nan_to_num(log_Halpha_SFR_[mask].ravel()))[0][1])\n",
    "    tmp.append(np.corrcoef(Qeff_max[mask].ravel(), np.nan_to_num(log_Halpha_SFR_[mask].ravel()))[0][1])\n",
    "    tmp.append(np.corrcoef(Qgs[mask].ravel(), np.nan_to_num(log_Halpha_SFR_[mask].ravel()))[0][1])\n",
    "    corr_coeffs.append(tmp)\n",
    "    \n",
    "plt.plot(range(15, 150, 10), zip(*corr_coeffs)[0], 'o-', label='Qmin')\n",
    "plt.plot(range(15, 150, 10), zip(*corr_coeffs)[1], 'o-', label='Qmax')\n",
    "plt.plot(range(15, 150, 10), zip(*corr_coeffs)[2], 'o-', label='Qg')\n",
    "plt.legend();"
   ]
  },
  {
   "cell_type": "markdown",
   "metadata": {},
   "source": [
    "Без балджа:"
   ]
  },
  {
   "cell_type": "code",
   "execution_count": null,
   "metadata": {},
   "outputs": [],
   "source": [
    "corr_coeffs = []\n",
    "for radius in range(15, 150, 10):\n",
    "    tmp = []\n",
    "    mask = (sig_los != 0.) & (dist_ < radius) & (dist_ > 15.)\n",
    "    tmp.append(np.corrcoef(Qeff_min[mask].ravel(), np.nan_to_num(log_Halpha_SFR_[mask].ravel()))[0][1])\n",
    "    tmp.append(np.corrcoef(Qeff_max[mask].ravel(), np.nan_to_num(log_Halpha_SFR_[mask].ravel()))[0][1])\n",
    "    tmp.append(np.corrcoef(Qgs[mask].ravel(), np.nan_to_num(log_Halpha_SFR_[mask].ravel()))[0][1])\n",
    "    corr_coeffs.append(tmp)\n",
    "    \n",
    "plt.plot(range(15, 150, 10), zip(*corr_coeffs)[0], 'o-', label='Qmin')\n",
    "plt.plot(range(15, 150, 10), zip(*corr_coeffs)[1], 'o-', label='Qmax')\n",
    "plt.plot(range(15, 150, 10), zip(*corr_coeffs)[2], 'o-', label='Qg')\n",
    "plt.legend();"
   ]
  },
  {
   "cell_type": "markdown",
   "metadata": {},
   "source": [
    "Теперь сделаем нечто экзотическое - будем брать разные границы $Q$ и разные силы $H\\alpha$ сигнала и смотреть между ними корреляцию. Пожалуй еще все ограничим $R<130$, ибо там все начинает портиться."
   ]
  },
  {
   "cell_type": "code",
   "execution_count": null,
   "metadata": {},
   "outputs": [],
   "source": [
    "fig = plt.figure(figsize=[30, 5])\n",
    "\n",
    "plt.subplot(1,3,1)\n",
    "corr_coeffs = np.zeros((50,50))\n",
    "for i, qlim in enumerate(np.linspace(0.5, 5., 50)):\n",
    "    for j, hlim in enumerate(np.linspace(-3.5, -1., 50)):\n",
    "        mask = (sig_los != 0.) & (dist_ > 15.) & (Qeff_min < qlim) & (log_Halpha_SFR_ > hlim)\n",
    "        if len(Qeff_min[mask].ravel()) > 10:\n",
    "            corr_coeffs[j][i] = np.corrcoef(Qeff_min[mask].ravel(), np.nan_to_num(log_Halpha_SFR_[mask].ravel()))[0][1]\n",
    "#         print i, j, corr_coeffs[i][j]\n",
    "\n",
    "xx, yy = np.meshgrid(np.linspace(0.5, 5., 50), np.linspace(-3.5, -1., 50))\n",
    "quadmesh = plt.pcolormesh(xx, yy, corr_coeffs, cmap='sauron')\n",
    "quadmesh.set_clim(vmin=-0.5, vmax=0.5)\n",
    "plt.colorbar()\n",
    "plt.title(r'$Q_{min}$', fontsize=30)\n",
    "\n",
    "plt.subplot(1,3,2)\n",
    "corr_coeffs = np.zeros((50,50))\n",
    "for i, qlim in enumerate(np.linspace(0.5, 5., 50)):\n",
    "    for j, hlim in enumerate(np.linspace(-3.5, -1., 50)):\n",
    "        mask = (sig_los != 0.) & (dist_ > 15.) & (Qeff_max < qlim) & (log_Halpha_SFR_ > hlim)\n",
    "        if len(Qeff_max[mask].ravel()) > 10:\n",
    "            corr_coeffs[j][i] = np.corrcoef(Qeff_max[mask].ravel(), np.nan_to_num(log_Halpha_SFR_[mask].ravel()))[0][1]\n",
    "#         print i, j, corr_coeffs[i][j]\n",
    "\n",
    "xx, yy = np.meshgrid(np.linspace(0.5, 5., 50), np.linspace(-3.5, -1., 50))\n",
    "quadmesh = plt.pcolormesh(xx, yy, corr_coeffs, cmap='sauron')\n",
    "quadmesh.set_clim(vmin=-0.5, vmax=0.5)\n",
    "plt.colorbar()\n",
    "plt.title(r'$Q_{max}$', fontsize=30)\n",
    "\n",
    "plt.subplot(1,3,3)\n",
    "corr_coeffs = np.zeros((50,50))\n",
    "for i, qlim in enumerate(np.linspace(0.5, 5., 50)):\n",
    "    for j, hlim in enumerate(np.linspace(-3.5, -1., 50)):\n",
    "        mask = (sig_los != 0.) & (dist_ > 15.) & (Qgs < qlim) & (log_Halpha_SFR_ > hlim)\n",
    "        if len(Qgs[mask].ravel()) > 10:\n",
    "            corr_coeffs[j][i] = np.corrcoef(Qgs[mask].ravel(), np.nan_to_num(log_Halpha_SFR_[mask].ravel()))[0][1]\n",
    "#         print i, j, corr_coeffs[i][j]\n",
    "\n",
    "xx, yy = np.meshgrid(np.linspace(0.5, 5., 50), np.linspace(-3.5, -1., 50))\n",
    "quadmesh = plt.pcolormesh(xx, yy, corr_coeffs, cmap='sauron')\n",
    "quadmesh.set_clim(vmin=-0.5, vmax=0.5)\n",
    "plt.colorbar()\n",
    "plt.title(r'$Q_{g}$', fontsize=30);"
   ]
  },
  {
   "cell_type": "markdown",
   "metadata": {},
   "source": [
    "$\\chi^2$ https://astropython.blogspot.ru/2012/02/computing-chi-squared-and-reduced-chi.html & http://www.astroml.org/book_figures/chapter4/fig_chi2_eval.html"
   ]
  },
  {
   "cell_type": "code",
   "execution_count": null,
   "metadata": {
    "code_folding": [
     0
    ]
   },
   "outputs": [],
   "source": [
    "def chisqg(ydata,ymod,sd=None):  \n",
    "    \"\"\"  \n",
    "    Returns the chi-square error statistic as the sum of squared errors between  \n",
    "    Ydata(i) and Ymodel(i). If individual standard deviations (array sd) are supplied,   \n",
    "    then the chi-square error statistic is computed as the sum of squared errors  \n",
    "    divided by the standard deviations.     Inspired on the IDL procedure linfit.pro.  \n",
    "    See http://en.wikipedia.org/wiki/Goodness_of_fit for reference.  \n",
    "\n",
    "    x,y,sd assumed to be Numpy arrays. a,b scalars.  \n",
    "    Returns the float chisq with the chi-square statistic.  \n",
    "\n",
    "    Rodrigo Nemmen  \n",
    "    http://goo.gl/8S1Oo  \n",
    "    \"\"\"  \n",
    "    # Chi-square statistic (Bevington, eq. 6.9)  \n",
    "    if sd==None:  \n",
    "        chisq=numpy.sum((ydata-ymod)**2)  \n",
    "    else:  \n",
    "        chisq=numpy.sum( ((ydata-ymod)/sd)**2 )  \n",
    "    return chisq  \n",
    "\n",
    "fig = plt.figure(figsize=[30, 5])\n",
    "\n",
    "plt.subplot(1,3,1)\n",
    "corr_coeffs = np.zeros((50,50))\n",
    "for i, qlim in enumerate(np.linspace(0.5, 5., 50)):\n",
    "    for j, hlim in enumerate(np.linspace(-3.5, -1., 50)):\n",
    "        mask = (sig_los != 0.) & (dist_ > 15.)\n",
    "        corr_coeffs[j][i] = chisqg(np.array([1 if l < qlim else 0 for l in Qeff_min[mask].ravel()]), \n",
    "                                   np.array([1 if l > hlim else 0 for l in log_Halpha_SFR_[mask].ravel()]))\n",
    "        \n",
    "xx, yy = np.meshgrid(np.linspace(0.5, 5., 50), np.linspace(-3.5, -1., 50))\n",
    "quadmesh = plt.pcolormesh(xx, yy, corr_coeffs, cmap='sauron')\n",
    "# quadmesh.set_clim(vmin=-0.5, vmax=0.5)\n",
    "plt.colorbar()\n",
    "plt.title(r'$Q_{min}$', fontsize=30)\n",
    "\n",
    "plt.subplot(1,3,2)\n",
    "corr_coeffs = np.zeros((50,50))\n",
    "for i, qlim in enumerate(np.linspace(0.5, 5., 50)):\n",
    "    for j, hlim in enumerate(np.linspace(-3.5, -1., 50)):\n",
    "        mask = (sig_los != 0.) & (dist_ > 15.)\n",
    "        corr_coeffs[j][i] = chisqg(np.array([1 if l < qlim else 0 for l in Qeff_max[mask].ravel()]), \n",
    "                                   np.array([1 if l > hlim else 0 for l in log_Halpha_SFR_[mask].ravel()]))\n",
    "        \n",
    "xx, yy = np.meshgrid(np.linspace(0.5, 5., 50), np.linspace(-3.5, -1., 50))\n",
    "quadmesh = plt.pcolormesh(xx, yy, corr_coeffs, cmap='sauron')\n",
    "# quadmesh.set_clim(vmin=-0.5, vmax=0.5)\n",
    "plt.colorbar()\n",
    "plt.title(r'$Q_{max}$', fontsize=30)\n",
    "\n",
    "plt.subplot(1,3,3)\n",
    "corr_coeffs = np.zeros((50,50))\n",
    "for i, qlim in enumerate(np.linspace(0.5, 5., 50)):\n",
    "    for j, hlim in enumerate(np.linspace(-3.5, -1., 50)):\n",
    "        mask = (sig_los != 0.) & (dist_ > 15.)\n",
    "        corr_coeffs[j][i] = chisqg(np.array([1 if l < qlim else 0 for l in Qgs[mask].ravel()]), \n",
    "                                   np.array([1 if l > hlim else 0 for l in log_Halpha_SFR_[mask].ravel()]))\n",
    "\n",
    "xx, yy = np.meshgrid(np.linspace(0.5, 5., 50), np.linspace(-3.5, -1., 50))\n",
    "quadmesh = plt.pcolormesh(xx, yy, corr_coeffs, cmap='sauron')\n",
    "# quadmesh.set_clim(vmin=-0.5, vmax=0.5)\n",
    "plt.colorbar()\n",
    "plt.title(r'$Q_{g}$', fontsize=30);"
   ]
  },
  {
   "cell_type": "markdown",
   "metadata": {},
   "source": [
    "ML metrics:"
   ]
  },
  {
   "cell_type": "code",
   "execution_count": null,
   "metadata": {},
   "outputs": [],
   "source": [
    "%%time\n",
    "fig, axes = plt.subplots(figsize=[30, 20], ncols=4, nrows=3)\n",
    "\n",
    "mask = (sig_los != 0.) & (dist_ > 15.) & (dist_ < 140.)\n",
    "xx, yy = np.meshgrid(np.linspace(1.0, 4., 50), np.linspace(-3.5, -1., 50))\n",
    "\n",
    "for ind, Q in enumerate([Qeff_min, Qeff_max, Qgs]):\n",
    "    coeffs = np.zeros((50,50,4))\n",
    "    for i, qlim in enumerate(np.linspace(1.0, 4., 50)):\n",
    "        for j, hlim in enumerate(np.linspace(-3.5, -1., 50)):\n",
    "            true_signal = np.array([1 if l > hlim else 0 for l in log_Halpha_SFR_[mask].ravel()])\n",
    "            pred_signal = np.array([1 if l < qlim else 0 for l in Q[mask].ravel()])\n",
    "            coeffs[j][i][0] = accuracy_score(true_signal, pred_signal)\n",
    "            coeffs[j][i][1] = recall_score(true_signal, pred_signal, pos_label=1)\n",
    "            coeffs[j][i][2] = precision_score(true_signal, pred_signal, pos_label=1)\n",
    "            coeffs[j][i][3] = f1_score(true_signal, pred_signal, pos_label=1)\n",
    "\n",
    "    for col in range(4):\n",
    "        ax = axes[ind, col]\n",
    "        quadmesh = ax.pcolormesh(xx, yy, coeffs[:, :, col], cmap='sauron')\n",
    "        quadmesh.set_clim(vmin=0., vmax=1.)\n",
    "        plt.colorbar(quadmesh, ax=ax)\n",
    "        ax.set_title('{}:{}'.format(['Qeff_min', 'Qeff_max', 'Qg'][ind], ['accuracy', 'recall', 'precision', 'f1'][col]), fontsize=15)\n",
    "        CS = ax.contour(xx, yy, coeffs[:, :, col], levels=np.linspace(0.1, 1., 10), colors=('black'), alpha=0.5)\n",
    "        plt.clabel(CS, CS.levels, inline=True, fontsize=10)\n",
    "        ax.axvline(x=3., ls='-', color='r', alpha=0.5)\n",
    "        ax.grid()\n",
    "\n",
    "fig.subplots_adjust(wspace=0.08, hspace=0.11)"
   ]
  },
  {
   "cell_type": "code",
   "execution_count": null,
   "metadata": {},
   "outputs": [],
   "source": [
    "fig, axes = plt.subplots(figsize=[30, 8], ncols=4, nrows=1)\n",
    "\n",
    "mask = (sig_los != 0.) & (dist_ > 15.) & (dist_ < 140.)\n",
    "# xx, yy = np.meshgrid(np.linspace(1.0, 4., 50), np.linspace(-3.5, -1., 50))\n",
    "\n",
    "for ind, Q in enumerate([Qeff_min, Qeff_max, Qgs]):\n",
    "    coeffs = np.zeros((150,4))\n",
    "    qlim = 3.0\n",
    "    for j, hlim in enumerate(np.linspace(-3.5, -1., 150)):\n",
    "        true_signal = np.array([1 if l > hlim else 0 for l in log_Halpha_SFR_[mask].ravel()])\n",
    "        pred_signal = np.array([1 if l < qlim else 0 for l in Q[mask].ravel()])\n",
    "        coeffs[j][0] = accuracy_score(true_signal, pred_signal)\n",
    "        coeffs[j][1] = recall_score(true_signal, pred_signal, pos_label=1)\n",
    "        coeffs[j][2] = precision_score(true_signal, pred_signal, pos_label=1)\n",
    "        coeffs[j][3] = f1_score(true_signal, pred_signal, pos_label=1)\n",
    "\n",
    "    for col in range(4):\n",
    "        ax = axes[col]\n",
    "        ax.plot(np.linspace(-3.5, -1., 150), coeffs[:, col], label=['Qeff_min', 'Qeff_max', 'Qg'][ind])\n",
    "#         ax.set_title('{}:{}'.format(['Qeff_min', 'Qeff_max', 'Qg'][ind], ['accuracy', 'recall', 'precision', 'f1'][col]), fontsize=15)\n",
    "#         CS = ax.contour(xx, yy, coeffs[:, :, col], levels=np.linspace(0.1, 1., 10), colors=('black'), alpha=0.5)\n",
    "#         plt.clabel(CS, CS.levels, inline=True, fontsize=10)\n",
    "#         ax.axvline(x=3., ls='-', color='r', alpha=0.5)\n",
    "        ax.grid()\n",
    "        ax.set_title('{}'.format(['accuracy', 'recall', 'precision', 'f1'][col]))\n",
    "        ax.axvline(x=-2.35, ls='--', alpha=0.3, color='grey')\n",
    "        ax.set_ylim(0, 1.)\n",
    "    plt.legend()\n",
    "\n",
    "fig.subplots_adjust(wspace=0.08, hspace=0.11)"
   ]
  },
  {
   "cell_type": "code",
   "execution_count": null,
   "metadata": {},
   "outputs": [],
   "source": [
    "# fig, axes = plt.subplots(figsize=[30, 8], ncols=4, nrows=1)\n",
    "\n",
    "# mask = (sig_los != 0.) & (dist_ > 15.) & (dist_ < 140.)\n",
    "# # xx, yy = np.meshgrid(np.linspace(1.0, 4., 50), np.linspace(-3.5, -1., 50))\n",
    "\n",
    "# for ind, Q in enumerate([Qeff_min, Qeff_max, Qgs]):\n",
    "#     coeffs = np.zeros((150,4))\n",
    "#     qlim = 3.0\n",
    "#     for j, hlim in enumerate(np.linspace(-3.5, -1., 150)):\n",
    "#         true_signal = np.array([1 if l > hlim else 0 for l in log_Halpha_SFR_[mask].ravel()])\n",
    "#         pred_signal = np.array([1 if l < qlim else 0 for l in Q[mask].ravel()])\n",
    "#         coeffs[j][0] = accuracy_score(true_signal, pred_signal)\n",
    "#         coeffs[j][1] = recall_score(true_signal, pred_signal, pos_label=1)\n",
    "#         coeffs[j][2] = precision_score(true_signal, pred_signal, pos_label=1)\n",
    "#         coeffs[j][3] = f1_score(true_signal, pred_signal, pos_label=1)\n",
    "\n",
    "#     for col in range(4):\n",
    "#         ax = axes[col]\n",
    "#         ax.plot(np.linspace(-3.5, -1., 150), coeffs[:, col], label=['Qeff_min', 'Qeff_max', 'Qg'][ind])\n",
    "# #         ax.set_title('{}:{}'.format(['Qeff_min', 'Qeff_max', 'Qg'][ind], ['accuracy', 'recall', 'precision', 'f1'][col]), fontsize=15)\n",
    "# #         CS = ax.contour(xx, yy, coeffs[:, :, col], levels=np.linspace(0.1, 1., 10), colors=('black'), alpha=0.5)\n",
    "# #         plt.clabel(CS, CS.levels, inline=True, fontsize=10)\n",
    "# #         ax.axvline(x=3., ls='-', color='r', alpha=0.5)\n",
    "#         ax.grid()\n",
    "#         ax.set_title('{}'.format(['accuracy', 'recall', 'precision', 'f1'][col]))\n",
    "#         ax.axvline(x=-2.42, ls='--', alpha=0.3, color='grey')\n",
    "#         ax.set_ylim(0, 1.)\n",
    "#     plt.legend()\n",
    "\n",
    "# fig.subplots_adjust(wspace=0.08, hspace=0.11)"
   ]
  },
  {
   "cell_type": "markdown",
   "metadata": {},
   "source": [
    "картинка для статьи"
   ]
  },
  {
   "cell_type": "code",
   "execution_count": null,
   "metadata": {},
   "outputs": [],
   "source": [
    "import matplotlib as mpl\n",
    "mpl.style.use('classic')"
   ]
  },
  {
   "cell_type": "code",
   "execution_count": null,
   "metadata": {},
   "outputs": [],
   "source": [
    "for ind, Q in enumerate([Qeff_min]):\n",
    "    coeffsl = np.zeros((50,50))\n",
    "    for i, qlim in enumerate(np.linspace(1.0, 4., 50)):\n",
    "        for j, hlim in enumerate(np.linspace(-3.5, -1., 50)):\n",
    "            true_signal = np.array([1 if l > hlim else 0 for l in log_Halpha_SFR_[mask].ravel()])\n",
    "            pred_signal = np.array([1 if l < qlim else 0 for l in Q[mask].ravel()])\n",
    "#             coeffs[j][i][0] = accuracy_score(true_signal, pred_signal)\n",
    "#             coeffs[j][i][1] = recall_score(true_signal, pred_signal, pos_label=1)\n",
    "#             coeffs[j][i][2] = precision_score(true_signal, pred_signal, pos_label=1)\n",
    "            coeffsl[j][i] = f1_score(true_signal, pred_signal, pos_label=1)"
   ]
  },
  {
   "cell_type": "markdown",
   "metadata": {},
   "source": [
    "Удивительно, но точка похоже все время остается! Дергая Q или dist < R - все равно!"
   ]
  },
  {
   "cell_type": "code",
   "execution_count": null,
   "metadata": {
    "scrolled": false
   },
   "outputs": [],
   "source": [
    "fig = plt.figure(figsize=[21, 7])\n",
    "\n",
    "ax2 = plt.subplot(131)\n",
    "\n",
    "ax1 = plt.subplot(132)\n",
    "\n",
    "ax3 = plt.subplot(133)\n",
    "\n",
    "mask = (sig_los != 0.) & (dist_ > 15.) & (dist_ < 140.)\n",
    "\n",
    "for ind, Q in enumerate([Qeff_min, Qeff_max, Qgs]):\n",
    "    coeffs = np.zeros((150,4))\n",
    "    qlim = 3.0\n",
    "    for j, hlim in enumerate(np.linspace(-3.5, -1., 150)):\n",
    "        true_signal = np.array([1 if l > hlim else 0 for l in log_Halpha_SFR_[mask].ravel()])\n",
    "        pred_signal = np.array([1 if l < qlim else 0 for l in Q[mask].ravel()])\n",
    "        coeffs[j][0] = accuracy_score(true_signal, pred_signal)\n",
    "        coeffs[j][1] = recall_score(true_signal, pred_signal, pos_label=1)\n",
    "        coeffs[j][2] = precision_score(true_signal, pred_signal, pos_label=1)\n",
    "        coeffs[j][3] = f1_score(true_signal, pred_signal, pos_label=1)\n",
    "    \n",
    "    color = ['r', 'g', 'b'][ind]\n",
    "    ax3.plot(np.linspace(-3.5, -1., 150), coeffs[:, 3], \n",
    "             label=[r'$\\mathrm{Q_{eff}^{min}}$', r'$\\mathrm{Q_{eff}^{max}}$', \n",
    "                    r'$\\mathrm{Q_{g}}$'][ind], color=color, lw=4)\n",
    "\n",
    "    ax1.plot(np.linspace(-3.5, -1., 150), coeffs[:, 0], \n",
    "             label=['Qeff_min', 'Qeff_max', 'Qg'][ind], color=color, lw=4)\n",
    "    ax1.plot(np.linspace(-3.5, -1., 150), coeffs[:, 1], '--', \n",
    "             label=['Qeff_min', 'Qeff_max', 'Qg'][ind], color=color, lw=4)\n",
    "\n",
    "ax3.grid()\n",
    "ax1.grid()\n",
    "# ax3.axvline(x=-2.25, alpha=0.3, color='grey', lw=60)\n",
    "# ax1.axvline(x=-2.25, alpha=0.3, color='grey', lw=60)\n",
    "# ax2.axvline(x=-2.25, alpha=0.3, color='grey', lw=60)\n",
    "ax3.set_ylim(0, 1.)\n",
    "plt.legend(fontsize=30)\n",
    "\n",
    "xx, yy = np.meshgrid(np.linspace(1.0, 4., 50), np.linspace(-3.5, -1., 50))\n",
    " \n",
    "# quadmesh = ax2.pcolormesh(yy, xx, coeffsl[:, :], cmap='sauron')\n",
    "# quadmesh.set_clim(vmin=0., vmax=1.)\n",
    "# plt.colorbar(quadmesh, ax=ax)\n",
    "CS = ax2.contour(yy, xx, coeffsl[:, :], levels=np.linspace(0.1, 1., 10), colors=('black'), alpha=0.8)\n",
    "plt.clabel(CS, CS.levels, inline=True, fontsize=20, fmt='%.1f')\n",
    "\n",
    "\n",
    "ax1.set_xlabel(r'$\\log \\Sigma_{\\mathrm{SFR}}^{\\mathrm{lim}}$', fontsize=30, rotation=0)\n",
    "ax2.set_xlabel(r'$\\log \\Sigma_{\\mathrm{SFR}}^{\\mathrm{lim}}$', fontsize=30, rotation=0)\n",
    "ax3.set_xlabel(r'$\\log \\Sigma_{\\mathrm{SFR}}^{\\mathrm{lim}}$', fontsize=30, rotation=0)\n",
    "\n",
    "ax2.set_ylabel(r'$\\mathrm{Q_{eff}^{min}}$', fontsize=35)\n",
    "# ax2.yaxis.labelpad = -75\n",
    "\n",
    "ax1.set_xticklabels(np.arange(-3.5, -0.5, 0.5), fontsize=20)\n",
    "ax1.tick_params(direction='in', pad=7)\n",
    "ax2.set_xticklabels(np.arange(-3.5, -0.5, 0.5), fontsize=20)\n",
    "ax2.tick_params(direction='in', pad=7)\n",
    "ax3.set_xticklabels(np.arange(-3.5, -0.5, 0.5), fontsize=20)\n",
    "ax3.tick_params(direction='in', pad=7)\n",
    "\n",
    "ax1.set_yticklabels(np.arange(0., 1.2, 0.2), fontsize=20)\n",
    "ax2.set_yticklabels(np.arange(1., 4.5, 0.5), fontsize=20)\n",
    "ax3.set_yticklabels(np.arange(0., 1.2, 0.2), fontsize=20)\n",
    "\n",
    "ax1.set_title(r'$\\mathrm{accuracy\\,\\,and\\,\\,recall}$', fontsize=25, y=1.01)\n",
    "ax2.set_title(r'$F_1$', fontsize=25, y=1.01)\n",
    "ax3.set_title(r'$F_1\\, (\\mathrm{Q_{lim}=3})$', fontsize=25, y=1.01)\n",
    "\n",
    "# fig.subplots_adjust(wspace=0.08, hspace=0.11)\n",
    "\n",
    "# plt.xlim(0, 200)\n",
    "# plt.ylim(0, 300)\n",
    "# plt.legend(loc=(0.1, 0.01), fontsize=24)\n",
    "\n",
    "# plt.xlabel(r'$R,\\,\\mathrm{arcsec}$', fontsize=45, rotation=0)\n",
    "# plt.ylabel(r'$v,\\,\\mathrm{km/s}$', fontsize=45)\n",
    "\n",
    "# ax.xaxis.set_minor_locator(AutoMinorLocator(5))\n",
    "# ax.yaxis.set_minor_locator(AutoMinorLocator(2))\n",
    "# plt.grid(ls='-', alpha=0.5)\n",
    "\n",
    "# # ax.set_yticks([(l*Ny/108.)+28. for l in np.arange(-40., 60, 20)])\n",
    "# ax.set_yticklabels(range(0, 350, 50), fontsize=25)\n",
    "# ax.set_xticklabels(range(0, 250, 50), fontsize=25)\n",
    "# # if ind == 1:\n",
    "# #     ax.set_ylabel(r'$\\Delta Y, \\mathrm{arcsec}$', fontsize=45)\n",
    "\n",
    "# ax.tick_params(axis='both', length=7, width=2)\n",
    "# ax.tick_params(axis='both', length=4, width=1, which='minor')\n",
    "\n",
    "\n",
    "plt.savefig(paper_imgs_dir3 +'match.eps', format='eps', bbox_inches='tight')\n",
    "plt.savefig(paper_imgs_dir3 +'match.png', format='png', bbox_inches='tight')\n",
    "plt.savefig(paper_imgs_dir3 +'match.pdf', format='pdf', dpi=150, bbox_inches='tight')\n",
    "\n",
    "plt.show()"
   ]
  },
  {
   "cell_type": "code",
   "execution_count": null,
   "metadata": {},
   "outputs": [],
   "source": [
    "fig = plt.figure(figsize=[21, 7])\n",
    "\n",
    "ax2 = plt.subplot(131)\n",
    "\n",
    "ax1 = plt.subplot(132)\n",
    "\n",
    "ax3 = plt.subplot(133)\n",
    "\n",
    "mask = (sig_los != 0.) & (dist_ > 15.) & (dist_ < 140.)\n",
    "\n",
    "for ind, Q in enumerate([Qeff_min, Qeff_max, Qgs]):\n",
    "    coeffs = np.zeros((150,4))\n",
    "    qlim = 3.0\n",
    "    for j, hlim in enumerate(np.linspace(-3.5, -1., 150)):\n",
    "        true_signal = np.array([1 if l > hlim else 0 for l in log_Halpha_SFR_[mask].ravel()])\n",
    "        pred_signal = np.array([1 if l < qlim else 0 for l in Q[mask].ravel()])\n",
    "        coeffs[j][0] = accuracy_score(true_signal, pred_signal)\n",
    "        coeffs[j][1] = recall_score(true_signal, pred_signal, pos_label=1)\n",
    "        coeffs[j][2] = precision_score(true_signal, pred_signal, pos_label=1)\n",
    "        coeffs[j][3] = f1_score(true_signal, pred_signal, pos_label=1)\n",
    "    \n",
    "    color = ['r', 'g', 'b'][ind]\n",
    "    ax3.plot(np.linspace(-3.5, -1., 150), coeffs[:, 3], color=color, lw=4)\n",
    "    \n",
    "    ax3.plot([-5., np.linspace(-3.5, -1., 150)[0]], [coeffs[:, 3][0], coeffs[:, 3][0]], ['d-', 's-', 'o-'][ind],\n",
    "             label=[r'$\\mathrm{Q_{eff}^{min}}$', r'$\\mathrm{Q_{eff}^{max}}$', \n",
    "                    r'$\\mathrm{Q_{g}}$'][ind], color=color, ms=20, lw=4)\n",
    "\n",
    "    ax1.plot(np.linspace(-3.5, -1., 150), coeffs[:, 0], color=color, lw=4)\n",
    "    \n",
    "    ax1.plot(np.linspace(-3.5, -1., 150)[0], coeffs[:, 0][0], ['d-', 's-', 'o-'][ind], color=color, ms=20)\n",
    "    ax1.plot(np.linspace(-3.5, -1., 150)[-1], coeffs[:, 0][-1], ['d-', 's-', 'o-'][ind], color=color, ms=20)\n",
    "    \n",
    "    ax1.plot(np.linspace(-3.5, -1., 150), coeffs[:, 1], '--', \n",
    "             label=['Qeff_min', 'Qeff_max', 'Qg'][ind], color=color, lw=4)\n",
    "\n",
    "ax3.grid()\n",
    "ax1.grid()\n",
    "# ax3.axvline(x=-2.25, alpha=0.3, color='grey', lw=60)\n",
    "# ax1.axvline(x=-2.25, alpha=0.3, color='grey', lw=60)\n",
    "# ax2.axvline(x=-2.25, alpha=0.3, color='grey', lw=60)\n",
    "ax3.set_ylim(0, 1.)\n",
    "plt.legend(fontsize=30, numpoints=1)\n",
    "\n",
    "xx, yy = np.meshgrid(np.linspace(1.0, 4., 50), np.linspace(-3.5, -1., 50))\n",
    " \n",
    "# quadmesh = ax2.pcolormesh(yy, xx, coeffsl[:, :], cmap='sauron')\n",
    "# quadmesh.set_clim(vmin=0., vmax=1.)\n",
    "# plt.colorbar(quadmesh, ax=ax)\n",
    "CS = ax2.contour(yy, xx, coeffsl[:, :], levels=np.linspace(0.1, 1., 10), colors=('black'), alpha=0.8)\n",
    "plt.clabel(CS, CS.levels, inline=True, fontsize=20, fmt='%.1f')\n",
    "\n",
    "\n",
    "ax1.set_xlabel(r'$\\log \\Sigma_{\\mathrm{SFR}}^{\\mathrm{lim}}$', fontsize=30, rotation=0)\n",
    "ax2.set_xlabel(r'$\\log \\Sigma_{\\mathrm{SFR}}^{\\mathrm{lim}}$', fontsize=30, rotation=0)\n",
    "ax3.set_xlabel(r'$\\log \\Sigma_{\\mathrm{SFR}}^{\\mathrm{lim}}$', fontsize=30, rotation=0)\n",
    "\n",
    "ax2.set_ylabel(r'$\\mathrm{Q_{eff}^{min}}$', fontsize=35)\n",
    "# ax2.yaxis.labelpad = -75\n",
    "\n",
    "ax3.set_xlim(-3.5, -1.)\n",
    "ax1.set_xlim(-3.5, -1.)\n",
    "\n",
    "ax1.set_xticklabels(np.arange(-3.5, -0.5, 0.5), fontsize=20)\n",
    "ax1.tick_params(direction='in', pad=7)\n",
    "ax2.set_xticklabels(np.arange(-3.5, -0.5, 0.5), fontsize=20)\n",
    "ax2.tick_params(direction='in', pad=7)\n",
    "ax3.set_xticklabels(np.arange(-3.5, -0.5, 0.5), fontsize=20)\n",
    "ax3.tick_params(direction='in', pad=7)\n",
    "\n",
    "ax1.set_yticklabels(np.arange(0., 1.2, 0.2), fontsize=20)\n",
    "ax2.set_yticklabels(np.arange(1., 4.5, 0.5), fontsize=20)\n",
    "ax3.set_yticklabels(np.arange(0., 1.2, 0.2), fontsize=20)\n",
    "\n",
    "ax1.set_title(r'$\\mathrm{accuracy\\,\\,and\\,\\,recall}$', fontsize=25, y=1.01)\n",
    "ax2.set_title(r'$F_1$', fontsize=25, y=1.01)\n",
    "ax3.set_title(r'$F_1\\, (\\mathrm{Q_{lim}=3})$', fontsize=25, y=1.01)\n",
    "\n",
    "# fig.subplots_adjust(wspace=0.08, hspace=0.11)\n",
    "\n",
    "# plt.xlim(0, 200)\n",
    "# plt.ylim(0, 300)\n",
    "# plt.legend(loc=(0.1, 0.01), fontsize=24)\n",
    "\n",
    "# plt.xlabel(r'$R,\\,\\mathrm{arcsec}$', fontsize=45, rotation=0)\n",
    "# plt.ylabel(r'$v,\\,\\mathrm{km/s}$', fontsize=45)\n",
    "\n",
    "# ax.xaxis.set_minor_locator(AutoMinorLocator(5))\n",
    "# ax.yaxis.set_minor_locator(AutoMinorLocator(2))\n",
    "# plt.grid(ls='-', alpha=0.5)\n",
    "\n",
    "# # ax.set_yticks([(l*Ny/108.)+28. for l in np.arange(-40., 60, 20)])\n",
    "# ax.set_yticklabels(range(0, 350, 50), fontsize=25)\n",
    "# ax.set_xticklabels(range(0, 250, 50), fontsize=25)\n",
    "# # if ind == 1:\n",
    "# #     ax.set_ylabel(r'$\\Delta Y, \\mathrm{arcsec}$', fontsize=45)\n",
    "\n",
    "# ax.tick_params(axis='both', length=7, width=2)\n",
    "# ax.tick_params(axis='both', length=4, width=1, which='minor')\n",
    "\n",
    "\n",
    "plt.savefig(paper_imgs_dir3 +'match_colorless.eps', format='eps', bbox_inches='tight')\n",
    "plt.savefig(paper_imgs_dir3 +'match_colorless.png', format='png', bbox_inches='tight')\n",
    "plt.savefig(paper_imgs_dir3 +'match_colorless.pdf', format='pdf', dpi=150, bbox_inches='tight')\n",
    "\n",
    "plt.show()"
   ]
  },
  {
   "cell_type": "code",
   "execution_count": null,
   "metadata": {},
   "outputs": [],
   "source": [
    "fig= plt.figure(figsize=[30,10])\n",
    "\n",
    "ax = plt.gca()\n",
    "q_level = 3.0\n",
    "h_level = -2.25\n",
    "ax.set_title('q={:3.2f}, h={:3.2f}'.format(q_level, h_level), fontsize=19)\n",
    "CS = ax.contourf(X, Y, Qeff_min, levels=[0., q_level], colors=('g'), alpha=0.3)\n",
    "CS1 = ax.contour(X, Y, dist_, levels=[90., 110., 120.], colors=('r'), alpha=0.3)\n",
    "#         plt.title(r'$Qeff,min={}$'.format(q_level), fontsize=30)\n",
    "#         add_SFR_contours(levels=[h_level], colors=('red'), ax=ax)\n",
    "CS2 = ax.contour(X, Y, log_Halpha_SFR_, levels=[h_level], colors=('grey'), alpha=0.3)\n",
    "CS3 = ax.contourf(X, Y, log_Halpha_SFR_, levels=[h_level, -0.99], colors=('none'), hatches=['.'], alpha=0.)\n",
    "mark_stars(ax=ax, colors=('b'), levels=[0.999, 1.001])\n",
    "\n",
    "plt.show()"
   ]
  },
  {
   "cell_type": "code",
   "execution_count": null,
   "metadata": {},
   "outputs": [],
   "source": [
    "fig, axes = plt.subplots(figsize=[60,30], ncols=5, nrows=5)\n",
    "\n",
    "for i in range(0, 5):\n",
    "    for j in range(0, 5):\n",
    "        ax = axes[j][i]\n",
    "        q_level = range(1, 6)[i]\n",
    "        h_level = np.linspace(-3.5, -1., 5)[::-1][j]\n",
    "        ax.set_title('q={:3.2f}, h={:3.2f}'.format(q_level, h_level), fontsize=19)\n",
    "        CS = ax.contourf(X, Y, Qeff_min, levels=[0., q_level], colors=('g'), alpha=0.1)\n",
    "#         plt.title(r'$Qeff,min={}$'.format(q_level), fontsize=30)\n",
    "#         add_SFR_contours(levels=[h_level], colors=('red'), ax=ax)\n",
    "        CS2 = ax.contour(X, Y, log_Halpha_SFR_, levels=[h_level], colors=('grey'), alpha=0.3)\n",
    "        CS3 = ax.contourf(X, Y, log_Halpha_SFR_, levels=[h_level, -0.99], colors=('none'), hatches=['.'], alpha=0.)\n",
    "        mark_stars(ax=ax, colors=('b'), levels=[0.999, 1.001])\n",
    "\n",
    "fig.subplots_adjust(wspace=0.01, hspace=0.06)\n",
    "plt.show()"
   ]
  },
  {
   "cell_type": "code",
   "execution_count": null,
   "metadata": {},
   "outputs": [],
   "source": [
    "fig, axes = plt.subplots(figsize=[60,30], ncols=5, nrows=5)\n",
    "\n",
    "for i in range(0, 5):\n",
    "    for j in range(0, 5):\n",
    "        ax = axes[j][i]\n",
    "        q_level = range(1, 6)[i]\n",
    "        h_level = np.linspace(-3.5, -1., 5)[::-1][j]\n",
    "        ax.set_title('q={:3.2f}, h={:3.2f}'.format(q_level, h_level), fontsize=19)\n",
    "        CS = ax.contourf(X, Y, Qgs, levels=[0., q_level], colors=('m'), alpha=0.1)\n",
    "#         plt.title(r'$Qeff,min={}$'.format(q_level), fontsize=30)\n",
    "#         add_SFR_contours(levels=[h_level], colors=('red'), ax=ax)\n",
    "        CS2 = ax.contour(X, Y, log_Halpha_SFR_, levels=[h_level], colors=('grey'), alpha=0.3)\n",
    "        CS3 = ax.contourf(X, Y, log_Halpha_SFR_, levels=[h_level, -0.99], colors=('none'), hatches=['.'], alpha=0.)\n",
    "        \n",
    "        mark_stars(ax=ax, colors=('b'), levels=[0.999, 1.001])\n",
    "\n",
    "fig.subplots_adjust(wspace=0.01, hspace=0.06)\n",
    "plt.show()"
   ]
  },
  {
   "cell_type": "code",
   "execution_count": null,
   "metadata": {},
   "outputs": [],
   "source": [
    "def chisqg(ydata,ymod,sd=None):  \n",
    "    \"\"\"  \n",
    "    Returns the chi-square error statistic as the sum of squared errors between  \n",
    "    Ydata(i) and Ymodel(i). If individual standard deviations (array sd) are supplied,   \n",
    "    then the chi-square error statistic is computed as the sum of squared errors  \n",
    "    divided by the standard deviations.     Inspired on the IDL procedure linfit.pro.  \n",
    "    See http://en.wikipedia.org/wiki/Goodness_of_fit for reference.  \n",
    "\n",
    "    x,y,sd assumed to be Numpy arrays. a,b scalars.  \n",
    "    Returns the float chisq with the chi-square statistic.  \n",
    "\n",
    "    Rodrigo Nemmen  \n",
    "    http://goo.gl/8S1Oo  \n",
    "    \"\"\"  \n",
    "    # Chi-square statistic (Bevington, eq. 6.9)  \n",
    "    if sd==None:  \n",
    "        chisq=numpy.sum((ydata-ymod)**2)  \n",
    "    else:  \n",
    "        chisq=numpy.sum( ((ydata-ymod)/sd)**2 )  \n",
    "    return chisq  "
   ]
  },
  {
   "cell_type": "code",
   "execution_count": null,
   "metadata": {},
   "outputs": [],
   "source": [
    "fig, axes = plt.subplots(figsize=[50,25], ncols=5, nrows=5)\n",
    "\n",
    "for i in range(0, 5):\n",
    "    for j in range(0, 5):\n",
    "        mask = (sig_los != 0.) & (dist_ > 15.)\n",
    "        ax = axes[j][i]\n",
    "        q_level = range(1, 6)[i]\n",
    "        h_level = np.linspace(-3.5, -1., 5)[::-1][j]\n",
    "        chi = chisqg(np.array([1 if l < q_level else 0 for l in Qeff_min[mask].ravel()]), \n",
    "                                   np.array([1 if l > h_level else 0 for l in log_Halpha_SFR_[mask].ravel()]))\n",
    "        ax.set_title('q={:3.2f}, h={:3.2f}, chi={:3.2f}'.format(q_level, h_level, chi), fontsize=19)\n",
    "        signal_match = np.array([0 if ((l[0] < q_level) & (l[1] > h_level)) | (l[0] > q_level) & (l[1] < h_level) else 1 for l in \n",
    "                                 zip(Qeff_min.ravel(), log_Halpha_SFR_.ravel())]).reshape((Ny, Nx))\n",
    "        quadmesh = ax.pcolormesh(X, Y, signal_match, cmap=cm.hot)\n",
    "        quadmesh.set_clim(vmin=0, vmax=1.)\n",
    "#         CS = ax.contourf(X, Y, Qeff_min, levels=[0., q_level], colors=('g'), alpha=0.1)\n",
    "#         CS1 = ax.contourf(X, Y, Qeff_max, levels=[0., q_level], colors=('g'), alpha=0.1)\n",
    "# #         plt.title(r'$Qeff,min={}$'.format(q_level), fontsize=30)\n",
    "# #         add_SFR_contours(levels=[h_level], colors=('red'), ax=ax)\n",
    "#         CS2 = ax.contour(X, Y, log_Halpha_SFR_, levels=[h_level], colors=('grey'), alpha=0.3)\n",
    "#         CS3 = ax.contourf(X, Y, log_Halpha_SFR_, levels=[h_level, -0.99], colors=('none'), hatches=['.'], alpha=0.)\n",
    "        mark_stars(ax=ax, colors=('b'), levels=[0.999, 1.001])\n",
    "        add_SFR_contours(ax=ax, colors=('red'))\n",
    "\n",
    "        circle2 = plt.Circle((4+Nx/2, 1+Ny/2), 7., color='m', fill=False, lw=6, ls='--')\n",
    "        ax.add_artist(circle2)\n",
    "\n",
    "        add_spirals(ax, colors=['m', 'm'])\n",
    "\n",
    "fig.subplots_adjust(wspace=0.01, hspace=0.15)\n",
    "plt.show()"
   ]
  },
  {
   "cell_type": "markdown",
   "metadata": {},
   "source": [
    "Выясним где точно минимум лучший самый:"
   ]
  },
  {
   "cell_type": "code",
   "execution_count": null,
   "metadata": {
    "code_folding": [
     0
    ]
   },
   "outputs": [],
   "source": [
    "def chisqg(ydata,ymod,sd=None):  \n",
    "    \"\"\"  \n",
    "    Returns the chi-square error statistic as the sum of squared errors between  \n",
    "    Ydata(i) and Ymodel(i). If individual standard deviations (array sd) are supplied,   \n",
    "    then the chi-square error statistic is computed as the sum of squared errors  \n",
    "    divided by the standard deviations.     Inspired on the IDL procedure linfit.pro.  \n",
    "    See http://en.wikipedia.org/wiki/Goodness_of_fit for reference.  \n",
    "\n",
    "    x,y,sd assumed to be Numpy arrays. a,b scalars.  \n",
    "    Returns the float chisq with the chi-square statistic.  \n",
    "\n",
    "    Rodrigo Nemmen  \n",
    "    http://goo.gl/8S1Oo  \n",
    "    \"\"\"  \n",
    "    # Chi-square statistic (Bevington, eq. 6.9)  \n",
    "    if sd==None:  \n",
    "        chisq=numpy.sum((ydata-ymod)**2)  \n",
    "    else:  \n",
    "        chisq=numpy.sum( ((ydata-ymod)/sd)**2 )  \n",
    "    return chisq  \n",
    "\n",
    "fig = plt.figure(figsize=[30, 5])\n",
    "\n",
    "mask = (sig_los != 0.) & (dist_ > 15.) & (dist_ < 140.)\n",
    "\n",
    "plt.subplot(1,3,1)\n",
    "corr_coeffs = np.zeros((100,100))\n",
    "for i, qlim in enumerate(np.linspace(2.2, 3.2, 100)):\n",
    "    for j, hlim in enumerate(np.linspace(-2.5, -1.7, 100)):\n",
    "        corr_coeffs[j][i] = chisqg(np.array([1 if l < qlim else 0 for l in Qeff_min[mask].ravel()]), \n",
    "                                   np.array([1 if l > hlim else 0 for l in log_Halpha_SFR_[mask].ravel()]))\n",
    "        \n",
    "quadmesh = plt.pcolormesh(xx, yy, corr_coeffs, cmap='sauron')\n",
    "quadmesh.set_clim(vmin=500, vmax=3700)\n",
    "plt.colorbar()\n",
    "CS = plt.contour(xx, yy, corr_coeffs, levels=np.linspace(1000., 3000., 10), colors=('black'), alpha=0.5)\n",
    "plt.clabel(CS, CS.levels, inline=True, fontsize=10)\n",
    "plt.title(r'$Q_{min}$', fontsize=30)\n",
    "\n",
    "plt.subplot(1,3,2)\n",
    "corr_coeffs = np.zeros((100,100))\n",
    "for i, qlim in enumerate(np.linspace(2.2, 3.2, 100)):\n",
    "    for j, hlim in enumerate(np.linspace(-2.5, -1.7, 100)):\n",
    "        corr_coeffs[j][i] = chisqg(np.array([1 if l < qlim else 0 for l in Qeff_max[mask].ravel()]), \n",
    "                                   np.array([1 if l > hlim else 0 for l in log_Halpha_SFR_[mask].ravel()]))\n",
    "        \n",
    "quadmesh = plt.pcolormesh(xx, yy, corr_coeffs, cmap='sauron')\n",
    "quadmesh.set_clim(vmin=500, vmax=3700)\n",
    "plt.colorbar()\n",
    "CS = plt.contour(xx, yy, corr_coeffs, levels=np.linspace(1000., 3000., 10), colors=('black'), alpha=0.5)\n",
    "plt.clabel(CS, CS.levels, inline=True, fontsize=10)\n",
    "plt.title(r'$Q_{max}$', fontsize=30)\n",
    "\n",
    "plt.subplot(1,3,3)\n",
    "corr_coeffs = np.zeros((100,100))\n",
    "for i, qlim in enumerate(np.linspace(2.2, 3.2, 100)):\n",
    "    for j, hlim in enumerate(np.linspace(-2.5, -1.7, 100)):\n",
    "        corr_coeffs[j][i] = chisqg(np.array([1 if l < qlim else 0 for l in Qgs[mask].ravel()]), \n",
    "                                   np.array([1 if l > hlim else 0 for l in log_Halpha_SFR_[mask].ravel()]))\n",
    "\n",
    "quadmesh = plt.pcolormesh(xx, yy, corr_coeffs, cmap='sauron')\n",
    "quadmesh.set_clim(vmin=500, vmax=3700)\n",
    "plt.colorbar()\n",
    "CS = plt.contour(xx, yy, corr_coeffs, levels=np.linspace(1000., 3000., 10), colors=('black'), alpha=0.5)\n",
    "plt.clabel(CS, CS.levels, inline=True, fontsize=10)\n",
    "plt.title(r'$Q_{g}$', fontsize=30);"
   ]
  },
  {
   "cell_type": "code",
   "execution_count": null,
   "metadata": {},
   "outputs": [],
   "source": [
    "fig = plt.figure(figsize=[10, 5])\n",
    "\n",
    "mask = (sig_los != 0.) & (dist_ > 15.) & (dist_ < 130.)\n",
    "\n",
    "corr_coeffs = np.zeros((100,100))\n",
    "for i, qlim in enumerate(np.linspace(2.2, 3.2, 100)):\n",
    "    for j, hlim in enumerate(np.linspace(-2.5, -1.7, 100)):\n",
    "        corr_coeffs[j][i] = chisqg(np.array([1 if l < qlim else 0 for l in Qeff_min[mask].ravel()]), \n",
    "                                   np.array([1 if l > hlim else 0 for l in log_Halpha_SFR_[mask].ravel()]))\n",
    "        \n",
    "quadmesh = plt.pcolormesh(xx, yy, corr_coeffs, cmap='sauron')\n",
    "quadmesh.set_clim(vmin=500, vmax=3700)\n",
    "plt.colorbar()\n",
    "CS = plt.contour(xx, yy, corr_coeffs, levels=np.linspace(1000., 3000., 30), colors=('black'), alpha=0.5)\n",
    "plt.clabel(CS, CS.levels, inline=True, fontsize=10)\n",
    "plt.title(r'$Q_{min}$', fontsize=30)\n",
    "plt.grid()"
   ]
  },
  {
   "cell_type": "code",
   "execution_count": null,
   "metadata": {},
   "outputs": [],
   "source": [
    "fig= plt.figure(figsize=[30,10])\n",
    "\n",
    "ax = plt.gca()\n",
    "q_level = 2.8\n",
    "h_level = -2.07\n",
    "ax.set_title('q={:3.2f}, h={:3.2f}'.format(q_level, h_level), fontsize=19)\n",
    "CS = ax.contourf(X, Y, Qeff_min, levels=[0., q_level], colors=('g'), alpha=0.3)\n",
    "# CS1 = ax.contourf(X, Y, Qeff_max, levels=[0., q_level], colors=('g'), alpha=0.3)\n",
    "#         plt.title(r'$Qeff,min={}$'.format(q_level), fontsize=30)\n",
    "#         add_SFR_contours(levels=[h_level], colors=('red'), ax=ax)\n",
    "CS2 = ax.contour(X, Y, log_Halpha_SFR_, levels=[h_level], colors=('grey'), alpha=0.3)\n",
    "CS3 = ax.contourf(X, Y, log_Halpha_SFR_, levels=[h_level, -0.99], colors=('none'), hatches=['.'], alpha=0.)\n",
    "mark_stars(ax=ax, colors=('b'), levels=[0.999, 1.001])\n",
    "\n",
    "plt.show()"
   ]
  },
  {
   "cell_type": "code",
   "execution_count": null,
   "metadata": {
    "scrolled": false
   },
   "outputs": [],
   "source": [
    "fig, axes = plt.subplots(figsize=[50,25], ncols=5, nrows=5)\n",
    "\n",
    "for i in range(0, 5):\n",
    "    for j in range(0, 5):\n",
    "        ax = axes[j][i]\n",
    "        q_level = np.linspace(2.2, 3.2, 5)[i]\n",
    "        h_level = np.linspace(-2.5, -1.9, 5)[::-1][j]\n",
    "        chi = chisqg(np.array([1 if l < q_level else 0 for l in Qeff_min[mask].ravel()]), \n",
    "                                   np.array([1 if l > h_level else 0 for l in log_Halpha_SFR_[mask].ravel()]))\n",
    "        ax.set_title('q={:3.2f}, h={:3.2f}, chi={:3.2f}'.format(q_level, h_level, chi), fontsize=19)\n",
    "        CS = ax.contourf(X, Y, Qeff_min, levels=[0., q_level], colors=('g'), alpha=0.1)\n",
    "        CS1 = ax.contourf(X, Y, Qeff_max, levels=[0., q_level], colors=('g'), alpha=0.1)\n",
    "#         plt.title(r'$Qeff,min={}$'.format(q_level), fontsize=30)\n",
    "#         add_SFR_contours(levels=[h_level], colors=('red'), ax=ax)\n",
    "        CS2 = ax.contour(X, Y, log_Halpha_SFR_, levels=[h_level], colors=('grey'), alpha=0.3)\n",
    "        CS3 = ax.contourf(X, Y, log_Halpha_SFR_, levels=[h_level, -0.99], colors=('none'), hatches=['.'], alpha=0.)\n",
    "        mark_stars(ax=ax, colors=('b'), levels=[0.999, 1.001])\n",
    "\n",
    "fig.subplots_adjust(wspace=0.01, hspace=0.15)\n",
    "plt.show()"
   ]
  },
  {
   "cell_type": "code",
   "execution_count": null,
   "metadata": {},
   "outputs": [],
   "source": [
    "fig= plt.figure(figsize=[30,10])\n",
    "\n",
    "ax = plt.gca()\n",
    "q_level = 2.5\n",
    "h_level = -2.15\n",
    "ax.set_title('Qg-Qeff_min', fontsize=19)\n",
    "# signal_match = np.array([0 if ((l[0] < q_level) & (l[1] > h_level)) | (l[0] > q_level) & (l[1] < h_level) else 1 for l in zip(Qeff_min.ravel(), log_Halpha_SFR_.ravel())]).reshape((Ny, Nx))\n",
    "quadmesh = plt.pcolormesh(X, Y, Qgs-Qeff_min, cmap=cm.hot)\n",
    "quadmesh.set_clim(vmin=-0.5, vmax=2.)\n",
    "plt.colorbar()\n",
    "mark_stars(ax=ax, colors=('b'), levels=[0.999, 1.001])\n",
    "add_SFR_contours(ax=ax, colors=('b'))\n",
    "\n",
    "plt.show()"
   ]
  },
  {
   "cell_type": "code",
   "execution_count": null,
   "metadata": {},
   "outputs": [],
   "source": [
    "fig= plt.figure(figsize=[30,10])\n",
    "\n",
    "ax = plt.gca()\n",
    "q_level = 2.5\n",
    "h_level = -2.15\n",
    "ax.set_title('q={:3.2f}, h={:3.2f}'.format(q_level, h_level), fontsize=19)\n",
    "CS = ax.contourf(X, Y, Qeff_min, levels=[0., q_level], colors=('g'), alpha=0.3)\n",
    "CS1 = ax.contourf(X, Y, Qeff_max, levels=[0., q_level], colors=('g'), alpha=0.3)\n",
    "#         plt.title(r'$Qeff,min={}$'.format(q_level), fontsize=30)\n",
    "#         add_SFR_contours(levels=[h_level], colors=('red'), ax=ax)\n",
    "CS2 = ax.contour(X, Y, log_Halpha_SFR_, levels=[h_level], colors=('grey'), alpha=0.3)\n",
    "CS3 = ax.contourf(X, Y, log_Halpha_SFR_, levels=[h_level, -0.99], colors=('none'), hatches=['.'], alpha=0.)\n",
    "mark_stars(ax=ax, colors=('b'), levels=[0.999, 1.001])\n",
    "\n",
    "plt.show()"
   ]
  },
  {
   "cell_type": "code",
   "execution_count": null,
   "metadata": {},
   "outputs": [],
   "source": [
    "fig= plt.figure(figsize=[30,10])\n",
    "\n",
    "ax = plt.gca()\n",
    "q_level = 2.5\n",
    "h_level = -2.15\n",
    "signal_match = np.array([0 if ((l[0] < q_level) & (l[1] > h_level)) | (l[0] > q_level) & (l[1] < h_level) else 1 for l in zip(Qeff_min.ravel(), log_Halpha_SFR_.ravel())]).reshape((Ny, Nx))\n",
    "quadmesh = plt.pcolormesh(X, Y, signal_match, cmap=cm.hot)\n",
    "quadmesh.set_clim(vmin=0, vmax=1.)\n",
    "plt.colorbar()\n",
    "ax.set_title('q={:3.2f}, h={:3.2f} error={:3.2f}'.format(q_level, h_level, np.sum(signal_match.ravel())), fontsize=19)\n",
    "mark_stars(ax=ax, colors=('b'), levels=[0.999, 1.001])\n",
    "\n",
    "plt.show()"
   ]
  },
  {
   "cell_type": "code",
   "execution_count": null,
   "metadata": {},
   "outputs": [],
   "source": [
    "fig= plt.figure(figsize=[30,10])\n",
    "\n",
    "ax = plt.gca()\n",
    "q_level = 3.\n",
    "h_level = -2.3\n",
    "ax.set_title('q={:3.2f}, h={:3.2f}'.format(q_level, h_level), fontsize=19)\n",
    "CS = ax.contourf(X, Y, Qeff_min, levels=[0., q_level], colors=('g'), alpha=0.3)\n",
    "CS1 = ax.contourf(X, Y, Qeff_max, levels=[0., q_level], colors=('g'), alpha=0.3)\n",
    "#         plt.title(r'$Qeff,min={}$'.format(q_level), fontsize=30)\n",
    "#         add_SFR_contours(levels=[h_level], colors=('red'), ax=ax)\n",
    "CS2 = ax.contour(X, Y, log_Halpha_SFR_, levels=[h_level], colors=('grey'), alpha=0.3)\n",
    "CS3 = ax.contourf(X, Y, log_Halpha_SFR_, levels=[h_level, -0.99], colors=('none'), hatches=['.'], alpha=0.)\n",
    "mark_stars(ax=ax, colors=('b'), levels=[0.999, 1.001])\n",
    "\n",
    "plt.show()"
   ]
  },
  {
   "cell_type": "markdown",
   "metadata": {},
   "source": [
    "match/not match map"
   ]
  },
  {
   "cell_type": "code",
   "execution_count": null,
   "metadata": {},
   "outputs": [],
   "source": [
    "fig= plt.figure(figsize=[30,10])\n",
    "\n",
    "ax = plt.gca()\n",
    "q_level = 3.\n",
    "h_level = -2.3\n",
    "signal_match = np.array([0 if ((l[0] < q_level) & (l[1] > h_level)) | (l[0] > q_level) & (l[1] < h_level) else 1 for l in zip(Qeff_min.ravel(), log_Halpha_SFR_.ravel())]).reshape((Ny, Nx))\n",
    "quadmesh = plt.pcolormesh(X, Y, signal_match, cmap=cm.hot)\n",
    "quadmesh.set_clim(vmin=0, vmax=1.)\n",
    "ax.set_title('q={:3.2f}, h={:3.2f} error={:3.2f}'.format(q_level, h_level, np.sum(signal_match.ravel())), fontsize=19)\n",
    "mark_stars(ax=ax, colors=('b'), levels=[0.999, 1.001])\n",
    "\n",
    "plt.show()"
   ]
  },
  {
   "cell_type": "code",
   "execution_count": null,
   "metadata": {},
   "outputs": [],
   "source": [
    "np.sum(signal_match[dist_ < 140.].ravel())"
   ]
  },
  {
   "cell_type": "code",
   "execution_count": null,
   "metadata": {},
   "outputs": [],
   "source": [
    "fig= plt.figure(figsize=[30,10])\n",
    "\n",
    "ax = plt.gca()\n",
    "q_level = 3.\n",
    "h_level = -2.3\n",
    "ax.set_title('q={:3.2f}, h={:3.2f}'.format(q_level, h_level), fontsize=19)\n",
    "CS = ax.contourf(X, Y, Qgs, levels=[0., q_level], colors=('m'), alpha=0.3)\n",
    "#         plt.title(r'$Qeff,min={}$'.format(q_level), fontsize=30)\n",
    "#         add_SFR_contours(levels=[h_level], colors=('red'), ax=ax)\n",
    "CS2 = ax.contour(X, Y, log_Halpha_SFR_, levels=[h_level], colors=('grey'), alpha=0.3)\n",
    "CS3 = ax.contourf(X, Y, log_Halpha_SFR_, levels=[h_level, -0.99], colors=('none'), hatches=['.'], alpha=0.)\n",
    "mark_stars(ax=ax, colors=('b'), levels=[0.999, 1.001])\n",
    "\n",
    "plt.show()"
   ]
  },
  {
   "cell_type": "code",
   "execution_count": null,
   "metadata": {},
   "outputs": [],
   "source": [
    "fig= plt.figure(figsize=[30,10])\n",
    "\n",
    "ax = plt.gca()\n",
    "q_level = 3.\n",
    "h_level = -2.3\n",
    "signal_match = np.array([0 if ((l[0] < q_level) & (l[1] > h_level)) | (l[0] > q_level) & (l[1] < h_level) else 1 for l in zip(Qgs.ravel(), log_Halpha_SFR_.ravel())]).reshape((Ny, Nx))\n",
    "quadmesh = plt.pcolormesh(X, Y, signal_match, cmap=cm.hot)\n",
    "quadmesh.set_clim(vmin=0, vmax=1.)\n",
    "ax.set_title('q={:3.2f}, h={:3.2f} error={:3.2f}'.format(q_level, h_level, np.sum(signal_match.ravel())), fontsize=19)\n",
    "mark_stars(ax=ax, colors=('b'), levels=[0.999, 1.001])\n",
    "\n",
    "plt.show()"
   ]
  },
  {
   "cell_type": "code",
   "execution_count": null,
   "metadata": {},
   "outputs": [],
   "source": [
    "np.sum(signal_match[dist_ < 140.].ravel())"
   ]
  },
  {
   "cell_type": "markdown",
   "metadata": {
    "collapsed": true,
    "heading_collapsed": true
   },
   "source": [
    "## Romeo"
   ]
  },
  {
   "cell_type": "markdown",
   "metadata": {
    "hidden": true
   },
   "source": [
    "Посмотрим трехкомпонентную модель c толщиной и сколько там получается:"
   ]
  },
  {
   "cell_type": "code",
   "execution_count": null,
   "metadata": {
    "hidden": true
   },
   "outputs": [],
   "source": [
    "G = 4.32\n",
    "Qeff_max_rom = np.zeros(dist_.shape)\n",
    "Qeff_min_rom = np.zeros(dist_.shape)\n",
    "# rom_comp_min = np.empty(dist_.shape, dtype=\"S10\")\n",
    "# rom_comp_max = np.empty(dist_.shape, dtype=\"S10\")\n",
    "rom_comp_min = np.zeros(dist_.shape)\n",
    "rom_comp_max = np.zeros(dist_.shape)\n",
    "\n",
    "step = 0\n",
    "errors = 0\n",
    "for i, row in enumerate(dist_):\n",
    "    for j, col in enumerate(dist_[0]):\n",
    "        step+=1\n",
    "        if step % 1000 == 0:\n",
    "            print step\n",
    "        c = c_g_[i][j]\n",
    "        Sigma = 1.36*(Sigma_HI_[i][j] + Sigma_HERACLES_CO_[i][j])\n",
    "        kappa = epicyclicFreq_real(gas_approx, dist_[i][j], scale)\n",
    "        Sigma_s_ = Sigma_s_Leroy_[i][j]\n",
    "        s_R_max = sig_R_max[i][j]\n",
    "        s_R_min = sig_R_min[i][j]\n",
    "                \n",
    "        try:\n",
    "            rom_max, comp = romeo_Qinv(r=None, epicycl=kappa, sound_vel_CO=c, sound_vel_HI=c, \n",
    "                            sigma_R=s_R_max, \n",
    "                            star_density=Sigma_s_, HI_density=Sigma_HI_[i][j], CO_density=Sigma_HERACLES_CO_[i][j], \n",
    "                            alpha=0.3, thin=False, verbose=False, He_corr=False)\n",
    "        except ValueError:\n",
    "            errors+=1\n",
    "            rom_max = 0.01\n",
    "            comp = 'error'\n",
    "        Qeff_max_rom[i][j] = 1./rom_max\n",
    "        if comp == 'star':\n",
    "            marker = 1\n",
    "        elif comp == 'HI':\n",
    "            marker = 2\n",
    "        elif comp == 'H2':\n",
    "            marker = 3\n",
    "        elif comp == 'error':\n",
    "            marker = 0\n",
    "        rom_comp_max[i][j] = marker\n",
    "        \n",
    "        try:\n",
    "            rom_min, comp = romeo_Qinv(r=None, epicycl=kappa, sound_vel_CO=c, sound_vel_HI=c, \n",
    "                            sigma_R=s_R_min, \n",
    "                            star_density=Sigma_s_, HI_density=Sigma_HI_[i][j], CO_density=Sigma_HERACLES_CO_[i][j], \n",
    "                            alpha=0.7, thin=False, verbose=False, He_corr=False)\n",
    "        except ValueError:\n",
    "            errors+=1\n",
    "            rom_min = 0.01\n",
    "            comp = 'error'\n",
    "        Qeff_min_rom[i][j] = 1./rom_min\n",
    "        if comp == 'star':\n",
    "            marker = 1\n",
    "        elif comp == 'HI':\n",
    "            marker = 2\n",
    "        elif comp == 'H2':\n",
    "            marker = 3\n",
    "        elif comp == 'error':\n",
    "            marker = 0\n",
    "        rom_comp_min[i][j] = marker\n",
    "\n",
    "        \n",
    "print 'Errors:{}'.format(errors)"
   ]
  },
  {
   "cell_type": "code",
   "execution_count": null,
   "metadata": {
    "hidden": true
   },
   "outputs": [],
   "source": [
    "np.save('Qeff_min_romeo.npy', Qeff_min_rom)"
   ]
  },
  {
   "cell_type": "code",
   "execution_count": null,
   "metadata": {
    "hidden": true
   },
   "outputs": [],
   "source": [
    "numpy.unique(rom_comp_min, return_counts=True)"
   ]
  },
  {
   "cell_type": "code",
   "execution_count": null,
   "metadata": {
    "hidden": true
   },
   "outputs": [],
   "source": [
    "plt.figure(figsize=[30, 32])\n",
    "\n",
    "plt.subplot(4,1,1)\n",
    "# X,Y = np.meshgrid(np.linspace(512. - 175.92/1.5, 512.+157.3/1.5, 1553), np.linspace(512. - 53.82/1.5, 512. + 55.42/1.5, 513))\n",
    "quadmesh = plt.pcolormesh(X, Y, Qeff_min_rom, cmap=cm.gist_yarg)\n",
    "# CS = plt.contour(X, Y, Sigma_HI, levels=[5., 10.], aspect='auto', alpha=0.5)\n",
    "quadmesh.set_clim(vmin=2.0, vmax=4.)\n",
    "plt.colorbar()\n",
    "CS = plt.contour(X, Y, Qeff_min_rom, levels=[2.5], colors=('g'))\n",
    "plt.title(r'$Q_{eff,min,rom}$', fontsize=30)\n",
    "# add_SFR_contours(levels=[-2.25], colors=('red'), X=None, Y=None)\n",
    "mark_stars(colors=('y'), levels=[0.999, 1.001])\n",
    "#bulge\n",
    "# circle = plt.Circle((512, 512), 10., color='b', fill=False, lw=10)\n",
    "# plt.gca().add_artist(circle)\n",
    "# circle = plt.Circle((Nx/2, Ny/2), 15*1553./(157.3+175.92), color='b', fill=False, lw=10)\n",
    "# plt.gca().add_artist(circle)\n",
    "add_SFR_contours()\n",
    "\n",
    "\n",
    "plt.subplot(4,1,2)\n",
    "quadmesh = plt.pcolormesh(X, Y, Qeff_max_rom, cmap=cm.gist_yarg)\n",
    "quadmesh.set_clim(vmin=2.0, vmax=4.)\n",
    "plt.colorbar()\n",
    "CS = plt.contour(X, Y, Qeff_max_rom, levels=[2.5], colors=('g'))\n",
    "plt.title(r'$Q_{eff,max,rom}$', fontsize=30)\n",
    "# add_SFR_contours(levels=[-2.25], colors=('red'), X=None, Y=None)\n",
    "mark_stars(colors=('y'), levels=[0.999, 1.001])\n",
    "#bulge\n",
    "# circle = plt.Circle((Nx/2, Ny/2), 15*1553./(157.3+175.92), color='b', fill=False, lw=10)\n",
    "# plt.gca().add_artist(circle)\n",
    "add_SFR_contours()\n",
    "\n",
    "\n",
    "plt.subplot(4,1,3)\n",
    "quadmesh = plt.pcolormesh(X, Y, rom_comp_min, cmap=cm.Set1)\n",
    "# quadmesh.set_clim(vmin=2.0, vmax=4.)\n",
    "plt.colorbar()\n",
    "# CS = plt.contour(X, Y, Qgs, levels=[2.5], colors=('g'))\n",
    "plt.title(r'rom_comp_min', fontsize=30)\n",
    "# add_SFR_contours(levels=[-2.25], colors=('red'), X=None, Y=None)\n",
    "mark_stars(colors=('y'), levels=[0.999, 1.001])\n",
    "add_SFR_contours(colors=['b'])\n",
    "\n",
    "plt.subplot(4,1,4)\n",
    "quadmesh = plt.pcolormesh(X, Y, rom_comp_max, cmap=cm.Set1)\n",
    "# quadmesh.set_clim(vmin=2.0, vmax=4.)\n",
    "plt.colorbar()\n",
    "# CS = plt.contour(X, Y, Qgs, levels=[2.5], colors=('g'))\n",
    "plt.title(r'rom_comp_max', fontsize=30)\n",
    "# add_SFR_contours(levels=[-2.25], colors=('red'), X=None, Y=None)\n",
    "mark_stars(colors=('y'), levels=[0.999, 1.001])\n",
    "add_SFR_contours(colors=['b'])\n",
    "\n",
    "plt.show()"
   ]
  },
  {
   "cell_type": "markdown",
   "metadata": {
    "hidden": true
   },
   "source": [
    "Т.е. целиком почти определяется звездами и $H_2$, наверху - только звездами.\n",
    "\n",
    "Для тонкого диска:\n"
   ]
  },
  {
   "cell_type": "code",
   "execution_count": null,
   "metadata": {
    "hidden": true
   },
   "outputs": [],
   "source": [
    "G = 4.32\n",
    "Qeff_max_rom = np.zeros(dist_.shape)\n",
    "Qeff_min_rom = np.zeros(dist_.shape)\n",
    "# rom_comp_min = np.empty(dist_.shape, dtype=\"S10\")\n",
    "# rom_comp_max = np.empty(dist_.shape, dtype=\"S10\")\n",
    "rom_comp_min = np.zeros(dist_.shape)\n",
    "rom_comp_max = np.zeros(dist_.shape)\n",
    "\n",
    "step = 0\n",
    "errors = 0\n",
    "for i, row in enumerate(dist_):\n",
    "    for j, col in enumerate(dist_[0]):\n",
    "        step+=1\n",
    "        if step % 1000 == 0:\n",
    "            print step\n",
    "        c = c_g_[i][j]\n",
    "        Sigma = 1.36*(Sigma_HI_[i][j] + Sigma_HERACLES_CO_[i][j])\n",
    "        kappa = epicyclicFreq_real(gas_approx, dist_[i][j], scale)\n",
    "        Sigma_s_ = Sigma_s_Leroy_[i][j]\n",
    "        s_R_max = sig_R_max[i][j]\n",
    "        s_R_min = sig_R_min[i][j]\n",
    "                \n",
    "        try:\n",
    "            rom_max, comp = romeo_Qinv(r=None, epicycl=kappa, sound_vel_CO=c, sound_vel_HI=c, \n",
    "                            sigma_R=s_R_max, \n",
    "                            star_density=Sigma_s_, HI_density=Sigma_HI_[i][j], CO_density=Sigma_HERACLES_CO_[i][j], \n",
    "                            alpha=0.3, thin=True, verbose=False, He_corr=False)\n",
    "        except ValueError:\n",
    "            errors+=1\n",
    "            rom_max = 0.01\n",
    "            comp = 'error'\n",
    "        Qeff_max_rom[i][j] = 1./rom_max\n",
    "        if comp == 'star':\n",
    "            marker = 1\n",
    "        elif comp == 'HI':\n",
    "            marker = 2\n",
    "        elif comp == 'H2':\n",
    "            marker = 3\n",
    "        elif comp == 'error':\n",
    "            marker = 0\n",
    "        rom_comp_max[i][j] = marker\n",
    "        \n",
    "        try:\n",
    "            rom_min, comp = romeo_Qinv(r=None, epicycl=kappa, sound_vel_CO=c, sound_vel_HI=c, \n",
    "                            sigma_R=s_R_min, \n",
    "                            star_density=Sigma_s_, HI_density=Sigma_HI_[i][j], CO_density=Sigma_HERACLES_CO_[i][j], \n",
    "                            alpha=0.7, thin=True, verbose=False, He_corr=False)\n",
    "        except ValueError:\n",
    "            errors+=1\n",
    "            rom_min = 0.01\n",
    "            comp = 'error'\n",
    "        Qeff_min_rom[i][j] = 1./rom_min\n",
    "        if comp == 'star':\n",
    "            marker = 1\n",
    "        elif comp == 'HI':\n",
    "            marker = 2\n",
    "        elif comp == 'H2':\n",
    "            marker = 3\n",
    "        elif comp == 'error':\n",
    "            marker = 0\n",
    "        rom_comp_min[i][j] = marker\n",
    "\n",
    "        \n",
    "print 'Errors:{}'.format(errors)"
   ]
  },
  {
   "cell_type": "code",
   "execution_count": null,
   "metadata": {
    "hidden": true
   },
   "outputs": [],
   "source": [
    "plt.figure(figsize=[30, 32])\n",
    "\n",
    "plt.subplot(4,1,1)\n",
    "# X,Y = np.meshgrid(np.linspace(512. - 175.92/1.5, 512.+157.3/1.5, 1553), np.linspace(512. - 53.82/1.5, 512. + 55.42/1.5, 513))\n",
    "quadmesh = plt.pcolormesh(X, Y, Qeff_min_rom, cmap=cm.gist_yarg)\n",
    "# CS = plt.contour(X, Y, Sigma_HI, levels=[5., 10.], aspect='auto', alpha=0.5)\n",
    "quadmesh.set_clim(vmin=2.0, vmax=4.)\n",
    "plt.colorbar()\n",
    "CS = plt.contour(X, Y, Qeff_min_rom, levels=[2.5], colors=('g'))\n",
    "plt.title(r'$Q_{eff,min,rom}$', fontsize=30)\n",
    "# add_SFR_contours(levels=[-2.25], colors=('red'), X=None, Y=None)\n",
    "mark_stars(colors=('y'), levels=[0.999, 1.001])\n",
    "#bulge\n",
    "# circle = plt.Circle((512, 512), 10., color='b', fill=False, lw=10)\n",
    "# plt.gca().add_artist(circle)\n",
    "# circle = plt.Circle((Nx/2, Ny/2), 15*1553./(157.3+175.92), color='b', fill=False, lw=10)\n",
    "# plt.gca().add_artist(circle)\n",
    "add_SFR_contours()\n",
    "\n",
    "\n",
    "plt.subplot(4,1,2)\n",
    "quadmesh = plt.pcolormesh(X, Y, Qeff_max_rom, cmap=cm.gist_yarg)\n",
    "quadmesh.set_clim(vmin=2.0, vmax=4.)\n",
    "plt.colorbar()\n",
    "CS = plt.contour(X, Y, Qeff_max_rom, levels=[2.5], colors=('g'))\n",
    "plt.title(r'$Q_{eff,max,rom}$', fontsize=30)\n",
    "# add_SFR_contours(levels=[-2.25], colors=('red'), X=None, Y=None)\n",
    "mark_stars(colors=('y'), levels=[0.999, 1.001])\n",
    "#bulge\n",
    "# circle = plt.Circle((Nx/2, Ny/2), 15*1553./(157.3+175.92), color='b', fill=False, lw=10)\n",
    "# plt.gca().add_artist(circle)\n",
    "add_SFR_contours()\n",
    "\n",
    "\n",
    "plt.subplot(4,1,3)\n",
    "quadmesh = plt.pcolormesh(X, Y, rom_comp_min, cmap=cm.Set1)\n",
    "# quadmesh.set_clim(vmin=2.0, vmax=4.)\n",
    "plt.colorbar()\n",
    "# CS = plt.contour(X, Y, Qgs, levels=[2.5], colors=('g'))\n",
    "plt.title(r'rom_comp_min', fontsize=30)\n",
    "# add_SFR_contours(levels=[-2.25], colors=('red'), X=None, Y=None)\n",
    "mark_stars(colors=('y'), levels=[0.999, 1.001])\n",
    "add_SFR_contours(colors=['b'])\n",
    "\n",
    "plt.subplot(4,1,4)\n",
    "quadmesh = plt.pcolormesh(X, Y, rom_comp_max, cmap=cm.Set1)\n",
    "# quadmesh.set_clim(vmin=2.0, vmax=4.)\n",
    "plt.colorbar()\n",
    "# CS = plt.contour(X, Y, Qgs, levels=[2.5], colors=('g'))\n",
    "plt.title(r'rom_comp_max', fontsize=30)\n",
    "# add_SFR_contours(levels=[-2.25], colors=('red'), X=None, Y=None)\n",
    "mark_stars(colors=('y'), levels=[0.999, 1.001])\n",
    "add_SFR_contours(colors=['b'])\n",
    "\n",
    "plt.show()"
   ]
  },
  {
   "cell_type": "markdown",
   "metadata": {
    "hidden": true
   },
   "source": [
    "Дисперсии $\\sigma_{HI} = 1.5\\sigma_{H_2}$"
   ]
  },
  {
   "cell_type": "code",
   "execution_count": null,
   "metadata": {
    "hidden": true
   },
   "outputs": [],
   "source": [
    "G = 4.32\n",
    "Qeff_max_rom = np.zeros(dist_.shape)\n",
    "Qeff_min_rom = np.zeros(dist_.shape)\n",
    "# rom_comp_min = np.empty(dist_.shape, dtype=\"S10\")\n",
    "# rom_comp_max = np.empty(dist_.shape, dtype=\"S10\")\n",
    "rom_comp_min = np.zeros(dist_.shape)\n",
    "rom_comp_max = np.zeros(dist_.shape)\n",
    "\n",
    "step = 0\n",
    "errors = 0\n",
    "for i, row in enumerate(dist_):\n",
    "    for j, col in enumerate(dist_[0]):\n",
    "        step+=1\n",
    "        if step % 1000 == 0:\n",
    "            print step\n",
    "        c = c_g_[i][j]\n",
    "        Sigma = 1.36*(Sigma_HI_[i][j] + Sigma_HERACLES_CO_[i][j])\n",
    "        kappa = epicyclicFreq_real(gas_approx, dist_[i][j], scale)\n",
    "        Sigma_s_ = Sigma_s_Leroy_[i][j]\n",
    "        s_R_max = sig_R_max[i][j]\n",
    "        s_R_min = sig_R_min[i][j]\n",
    "                \n",
    "        try:\n",
    "            rom_max, comp = romeo_Qinv(r=None, epicycl=kappa, sound_vel_CO=c/1.5, sound_vel_HI=c, \n",
    "                            sigma_R=s_R_max, \n",
    "                            star_density=Sigma_s_, HI_density=Sigma_HI_[i][j], CO_density=Sigma_HERACLES_CO_[i][j], \n",
    "                            alpha=0.3, thin=False, verbose=False, He_corr=False)\n",
    "        except ValueError:\n",
    "            errors+=1\n",
    "            rom_max = 0.01\n",
    "            comp = 'error'\n",
    "        Qeff_max_rom[i][j] = 1./rom_max\n",
    "        if comp == 'star':\n",
    "            marker = 1\n",
    "        elif comp == 'HI':\n",
    "            marker = 2\n",
    "        elif comp == 'H2':\n",
    "            marker = 3\n",
    "        elif comp == 'error':\n",
    "            marker = 0\n",
    "        rom_comp_max[i][j] = marker\n",
    "        \n",
    "        try:\n",
    "            rom_min, comp = romeo_Qinv(r=None, epicycl=kappa, sound_vel_CO=c/1.5, sound_vel_HI=c, \n",
    "                            sigma_R=s_R_min, \n",
    "                            star_density=Sigma_s_, HI_density=Sigma_HI_[i][j], CO_density=Sigma_HERACLES_CO_[i][j], \n",
    "                            alpha=0.7, thin=False, verbose=False, He_corr=False)\n",
    "        except ValueError:\n",
    "            errors+=1\n",
    "            rom_min = 0.01\n",
    "            comp = 'error'\n",
    "        Qeff_min_rom[i][j] = 1./rom_min\n",
    "        if comp == 'star':\n",
    "            marker = 1\n",
    "        elif comp == 'HI':\n",
    "            marker = 2\n",
    "        elif comp == 'H2':\n",
    "            marker = 3\n",
    "        elif comp == 'error':\n",
    "            marker = 0\n",
    "        rom_comp_min[i][j] = marker\n",
    "\n",
    "        \n",
    "print 'Errors:{}'.format(errors)"
   ]
  },
  {
   "cell_type": "code",
   "execution_count": null,
   "metadata": {
    "hidden": true
   },
   "outputs": [],
   "source": [
    "plt.figure(figsize=[30, 32])\n",
    "\n",
    "plt.subplot(4,1,1)\n",
    "# X,Y = np.meshgrid(np.linspace(512. - 175.92/1.5, 512.+157.3/1.5, 1553), np.linspace(512. - 53.82/1.5, 512. + 55.42/1.5, 513))\n",
    "quadmesh = plt.pcolormesh(X, Y, Qeff_min_rom, cmap=cm.gist_yarg)\n",
    "# CS = plt.contour(X, Y, Sigma_HI, levels=[5., 10.], aspect='auto', alpha=0.5)\n",
    "quadmesh.set_clim(vmin=2.0, vmax=4.)\n",
    "plt.colorbar()\n",
    "CS = plt.contour(X, Y, Qeff_min_rom, levels=[2.5], colors=('g'))\n",
    "plt.title(r'$Q_{eff,min,rom}$', fontsize=30)\n",
    "# add_SFR_contours(levels=[-2.25], colors=('red'), X=None, Y=None)\n",
    "mark_stars(colors=('y'), levels=[0.999, 1.001])\n",
    "#bulge\n",
    "# circle = plt.Circle((512, 512), 10., color='b', fill=False, lw=10)\n",
    "# plt.gca().add_artist(circle)\n",
    "# circle = plt.Circle((Nx/2, Ny/2), 15*1553./(157.3+175.92), color='b', fill=False, lw=10)\n",
    "# plt.gca().add_artist(circle)\n",
    "add_SFR_contours()\n",
    "\n",
    "\n",
    "plt.subplot(4,1,2)\n",
    "quadmesh = plt.pcolormesh(X, Y, Qeff_max_rom, cmap=cm.gist_yarg)\n",
    "quadmesh.set_clim(vmin=2.0, vmax=4.)\n",
    "plt.colorbar()\n",
    "CS = plt.contour(X, Y, Qeff_max_rom, levels=[2.5], colors=('g'))\n",
    "plt.title(r'$Q_{eff,max,rom}$', fontsize=30)\n",
    "# add_SFR_contours(levels=[-2.25], colors=('red'), X=None, Y=None)\n",
    "mark_stars(colors=('y'), levels=[0.999, 1.001])\n",
    "#bulge\n",
    "# circle = plt.Circle((Nx/2, Ny/2), 15*1553./(157.3+175.92), color='b', fill=False, lw=10)\n",
    "# plt.gca().add_artist(circle)\n",
    "add_SFR_contours()\n",
    "\n",
    "\n",
    "plt.subplot(4,1,3)\n",
    "quadmesh = plt.pcolormesh(X, Y, rom_comp_min, cmap=cm.Set1)\n",
    "# quadmesh.set_clim(vmin=2.0, vmax=4.)\n",
    "plt.colorbar()\n",
    "# CS = plt.contour(X, Y, Qgs, levels=[2.5], colors=('g'))\n",
    "plt.title(r'rom_comp_min', fontsize=30)\n",
    "# add_SFR_contours(levels=[-2.25], colors=('red'), X=None, Y=None)\n",
    "mark_stars(colors=('y'), levels=[0.999, 1.001])\n",
    "add_SFR_contours(colors=['b'])\n",
    "\n",
    "plt.subplot(4,1,4)\n",
    "quadmesh = plt.pcolormesh(X, Y, rom_comp_max, cmap=cm.Set1)\n",
    "# quadmesh.set_clim(vmin=2.0, vmax=4.)\n",
    "plt.colorbar()\n",
    "# CS = plt.contour(X, Y, Qgs, levels=[2.5], colors=('g'))\n",
    "plt.title(r'rom_comp_max', fontsize=30)\n",
    "# add_SFR_contours(levels=[-2.25], colors=('red'), X=None, Y=None)\n",
    "mark_stars(colors=('y'), levels=[0.999, 1.001])\n",
    "add_SFR_contours(colors=['b'])\n",
    "\n",
    "plt.show()"
   ]
  },
  {
   "cell_type": "markdown",
   "metadata": {
    "hidden": true
   },
   "source": [
    "Естественно молекулярный стал посильнее, но результат тот же."
   ]
  },
  {
   "cell_type": "markdown",
   "metadata": {
    "heading_collapsed": true
   },
   "source": [
    "## depletion time"
   ]
  },
  {
   "cell_type": "code",
   "execution_count": null,
   "metadata": {
    "hidden": true
   },
   "outputs": [],
   "source": [
    "# НАДО ЛИ ИСПРАВЛЯТЬ ЗА 1.36?\n",
    "tdep = np.divide(Sigma_HERACLES_CO_, np.power(10., log_Halpha_SFR_))/1000."
   ]
  },
  {
   "cell_type": "code",
   "execution_count": null,
   "metadata": {
    "hidden": true
   },
   "outputs": [],
   "source": [
    "fig = plt.figure(figsize=[30, 10])\n",
    "\n",
    "quadmesh = plt.pcolormesh(X, Y, tdep, cmap=cm.gist_yarg)\n",
    "quadmesh.set_clim(vmin=0.0, vmax=4.)\n",
    "plt.colorbar()\n",
    "CS = plt.contour(X, Y, tdep, levels=[2.], colors=('g'))\n",
    "plt.title(r'$\\tau_{dep}, Gyr$', fontsize=30)\n",
    "# add_SFR_contours(levels=[-2.25], colors=('red'), X=None, Y=None)\n",
    "mark_stars(colors=('y'), levels=[0.999, 1.001])\n",
    "add_SFR_contours(colors=('red'))\n",
    "\n",
    "# circle2 = plt.Circle((4+Nx/2, 1+Ny/2), 7., color='m', fill=False, lw=6, ls='--')\n",
    "# plt.gca().add_artist(circle2)\n",
    "\n",
    "# add_spirals(plt.gca(), colors=['m', 'm'])"
   ]
  },
  {
   "cell_type": "markdown",
   "metadata": {
    "hidden": true
   },
   "source": [
    "Да, два миллиарда лет как и обычно. \n",
    "\n",
    "Картинка для статьи:"
   ]
  },
  {
   "cell_type": "code",
   "execution_count": null,
   "metadata": {
    "hidden": true
   },
   "outputs": [],
   "source": [
    "import matplotlib as mpl\n",
    "mpl.style.use('classic')"
   ]
  },
  {
   "cell_type": "code",
   "execution_count": null,
   "metadata": {
    "hidden": true,
    "scrolled": false
   },
   "outputs": [],
   "source": [
    "fig = plt.figure(figsize=[30, 9])\n",
    "\n",
    "ax = plt.gca()\n",
    "\n",
    "h_level = -2.23\n",
    "q_level = 3.0\n",
    "mask = dist_ < 140.\n",
    "\n",
    "X,Y = np.meshgrid(np.arange(0.,Nx,1), np.arange(0.,Ny,1))\n",
    "\n",
    "CS = plt.contour(X, Y, tdep, levels=[2.], colors=('g'))\n",
    "\n",
    "CS2 = ax.contour(X, Y, tdep, levels=[2.], colors=('grey'), alpha=0.5)\n",
    "CS3 = ax.contourf(X, Y, tdep, levels=[0., 2.], colors=('none'), hatches=['.'], alpha=0.)\n",
    "\n",
    "# CS = plt.contourf(X, Y, lambda_kpc, levels=[0., 1., 2.0, 3.0], \n",
    "#             colors=(cm.rainbow(np.linspace(0,1,8))), alpha=0.4)\n",
    "# plt.colorbar()\n",
    "# plt.title(r'$\\lambda\\:[kpc]$', fontsize=30)\n",
    "# mark_stars(colors=('y'), levels=[0.999, 1.001])\n",
    "   \n",
    "# masked_array = np.ma.array(lambda_kpc, mask=sig_los == 0)\n",
    "# imcmap = matplotlib.cm.gray_r\n",
    "# imcmap.set_bad('y')\n",
    "# quadmesh = ax.imshow(masked_array[::-1, :], cmap=imcmap, vmin=0., vmax=3., interpolation='none')\n",
    "# quadmesh = ax.pcolormesh(X, Y, masked_array, cmap=cm.gist_yarg)\n",
    "# quadmesh.set_clim(vmin=0.0, vmax=3.)\n",
    "# CS = plt.contourf(X, Y, masked_array, levels=[0., 1., 2.0, 3.0], \n",
    "#                   colors=(cm.rainbow(np.linspace(0,1,8))), alpha=0.4)\n",
    "# plt.colorbar()\n",
    "\n",
    "# cbar = plt.colorbar(CS, pad=0.01)\n",
    "# cbar.ax.tick_params(labelsize=20) \n",
    "\n",
    "# def add_SFR_contours(levels=[-2.], colors=('red', 'blue'), X=None, Y=None, ax=None, **kwargs):\n",
    "#     if X is None and Y is None:\n",
    "#         X,Y = np.meshgrid(np.arange(0.,Nx,1), np.arange(0.,Ny,1))\n",
    "#     if ax is not None:\n",
    "#         CS = ax.contour(X, Y, log_Halpha_SFR_, levels=levels, colors=colors, **kwargs)\n",
    "#     else:\n",
    "#         CS = plt.contour(X, Y, log_Halpha_SFR_, levels=levels, colors=colors, **kwargs)\n",
    "\n",
    "# add_SFR_contours(levels=[h_level], colors=('red'), X=None, Y=None, linewidths=(4.5))\n",
    "\n",
    "CS = plt.contourf(X, Y, log_Halpha_SFR_, levels=[h_level, -1.], colors=('red'), linewidths=(4.5), alpha=0.3)\n",
    "# ax.set_facecolor(\"white\")\n",
    "    \n",
    "ax.set_xlim(0, Nx-1)\n",
    "ax.set_ylim(0, Ny-1)\n",
    "#     ax.set_yticklabels(ax.get_yticks(), fontsize=20)\n",
    "ax.set_yticks([(l*Ny/108.)+28. for l in np.arange(-40., 60, 20)])\n",
    "ax.set_yticklabels(['{:2.0f}'.format(l) for l in np.arange(-40., 60, 20)], fontsize=30)\n",
    "ax.set_ylabel(r'$\\Delta Y, \\mathrm{arcsec}$', fontsize=45)\n",
    "ax.tick_params(axis='both', length=8, width=3)\n",
    "ax.tick_params(axis='both', length=4, width=2, which='minor')\n",
    "ax.xaxis.set_minor_locator(AutoMinorLocator(3))\n",
    "ax.yaxis.set_minor_locator(AutoMinorLocator(2))\n",
    "\n",
    "ax.text(6, 46.5, r'$\\tau_{\\mathrm{dep}}$', fontsize=80, color='black')\n",
    "plt.plot([6, 6+1./calc_scale(8.6) * (Nx/350.)], [6, 6], '-', lw=4, color='black')\n",
    "\n",
    "# cbar = fig.colorbar(quadmesh, ticks=[2, 3, 4], orientation='horizontal')\n",
    "# cbar.ax.set_yticklabels(['< -1', '0', '> 1'])  # vertically oriented colorbar\n",
    "\n",
    "plt.xticks([(l*Nx/328.1)+81. for l in np.arange(-150., 180, 30)], \n",
    "           ['{:2.0f}'.format(l) for l in np.arange(-150., 180, 30)], fontsize=30)\n",
    "plt.xlabel(r'$\\Delta X, \\mathrm{arcsec}$', fontsize=45)\n",
    "\n",
    "plt.savefig(paper_imgs_dir3 +'depl.eps', format='eps', bbox_inches='tight')\n",
    "plt.savefig(paper_imgs_dir3 +'depl.png', format='png', bbox_inches='tight')\n",
    "plt.savefig(paper_imgs_dir3 +'depl.pdf', format='pdf', dpi=150, bbox_inches='tight')\n",
    "plt.show()"
   ]
  },
  {
   "cell_type": "markdown",
   "metadata": {
    "heading_collapsed": true
   },
   "source": [
    "# Картинки для статьи"
   ]
  },
  {
   "cell_type": "code",
   "execution_count": null,
   "metadata": {
    "hidden": true
   },
   "outputs": [],
   "source": [
    "import matplotlib as mpl\n",
    "mpl.style.use('classic')"
   ]
  },
  {
   "cell_type": "code",
   "execution_count": null,
   "metadata": {
    "hidden": true
   },
   "outputs": [],
   "source": [
    "Qeff_min = np.load('Qeff_min.npy')\n",
    "bark = np.load('bark.npy')\n",
    "Qeff_max = np.load('Qeff_max.npy')\n",
    "bark = np.load('bark_max.npy')\n",
    "Qgs = np.load('Qgs.npy')\n",
    "Qss_min = np.load('Qss_min.npy')\n",
    "Qss_max = np.load('Qss_max.npy')\n",
    "\n",
    "Qeff_min_rom = np.load('Qeff_min_romeo.npy')\n",
    "\n",
    "X,Y = np.meshgrid(np.arange(0.,Nx,1), np.arange(0.,Ny,1))"
   ]
  },
  {
   "cell_type": "code",
   "execution_count": null,
   "metadata": {
    "hidden": true,
    "scrolled": false
   },
   "outputs": [],
   "source": [
    "fig, axes = plt.subplots(figsize=[30, 27], ncols=1, nrows=3, sharex=True)\n",
    "\n",
    "h_limit = -2.23\n",
    "mask = dist_ < 140.\n",
    "\n",
    "for ind, Q in enumerate([Qeff_min, Qeff_max, Qgs]):\n",
    "    ax = axes[ind]\n",
    "#     quadmesh = ax.pcolormesh(X, Y, Q, cmap=cm.gist_yarg)\n",
    "#     quadmesh.set_clim(vmin=2.0, vmax=4.)\n",
    "    \n",
    "    mask = (sig_los == 0) | (dist_ > 140.)\n",
    "    masked_array = np.ma.array(Q, mask=mask)\n",
    "    imcmap = matplotlib.cm.gist_yarg\n",
    "    imcmap.set_bad('y',alpha=0.5)\n",
    "#     quadmesh = ax.imshow(masked_array[::-1, :], cmap=imcmap, vmin=2., vmax=4., interpolation='none')\n",
    "    quadmesh = ax.pcolormesh(X, Y, masked_array, cmap=cm.gist_yarg)\n",
    "    quadmesh.set_clim(vmin=2.0, vmax=4.)\n",
    "    \n",
    "    # CS = plt.contour(X, Y, Sigma_HI, levels=[5., 10.], aspect='auto', alpha=0.5)\n",
    "    \n",
    "#     ax.add_colorbar()\n",
    "    # CS = plt.contour(X, Y, Qeff_min, levels=[2.5], colors=('g'))\n",
    "#     ax.set_title([r'$\\mathrm{Q_{eff}^{min}}$', r'$\\mathrm{Q_{eff}^{max}}$', r'$\\mathrm{Q_{g}}$'][ind], fontsize=30)\n",
    "    \n",
    "    ax.text(1, 46.5, [r'$\\mathrm{Q_{eff}^{min}}$', r'$\\mathrm{Q_{eff}^{max}}$', r'$\\,\\,\\mathrm{Q_{g}}$'][ind], fontsize=70, color='r')\n",
    "\n",
    "#     CS = ax.contour(X, Y, dist_, levels=[140.])\n",
    "   \n",
    "#     add_SFR_contours(colors=('red'), levels=[h_limit], ax=ax, linewidths=(2.))\n",
    "    log_Halpha_SFR_tmp = log_Halpha_SFR_.copy()\n",
    "    log_Halpha_SFR_tmp[dist_ > 140.] = -3.5\n",
    "    mpl.rcParams['contour.negative_linestyle'] = 'solid'\n",
    "    CS_SFR = ax.contour(X, Y, log_Halpha_SFR_tmp, levels=[h_limit], colors=('red'), linewidths=(3.7))\n",
    "\n",
    "    circle2 = plt.Circle((4+Nx/2, 1+Ny/2), 7., color='m', fill=False, lw=10, ls='--')\n",
    "    ax.add_artist(circle2)\n",
    "\n",
    "    add_spirals(ax, colors=['m', 'm'], lw=10, alpha=0.5)\n",
    "    \n",
    "    ax.set_facecolor(\"y\")\n",
    "    plt.xlim(0, Nx-1)\n",
    "    plt.ylim(0, Ny-1)\n",
    "    \n",
    "#     ax.set_yticklabels(ax.get_yticks(), fontsize=30)\n",
    "#     ax.yaxis.set_ticks([(l*Ny/120.)+28. for l in np.arange(-40., 60, 20)], ['{:2.0f}'.format(l) for l in np.arange(-40., 60, 20)], fontsize=30)\n",
    "    ax.set_yticks([(l*Ny/108.)+28. for l in np.arange(-40., 60, 20)])\n",
    "    ax.set_yticklabels(['{:2.0f}'.format(l) for l in np.arange(-40., 60, 20)], fontsize=30)\n",
    "    if ind == 1:\n",
    "        ax.set_ylabel(r'$\\Delta Y, \\mathrm{arcsec}$', fontsize=45)\n",
    "    \n",
    "    ax.tick_params(axis='both', color='r', length=10, width=5)\n",
    "    ax.tick_params(axis='both', color='r', length=6, width=2, which='minor')\n",
    "    \n",
    "    ax.xaxis.set_minor_locator(AutoMinorLocator(3))\n",
    "    ax.yaxis.set_minor_locator(AutoMinorLocator(2))\n",
    "\n",
    "\n",
    "# cbar = fig.colorbar(quadmesh, ticks=[2, 3, 4], orientation='horizontal')\n",
    "# cbar.ax.set_yticklabels(['< -1', '0', '> 1'])  # vertically oriented colorbar\n",
    "\n",
    "plt.xticks([(l*Nx/328.1)+81. for l in np.arange(-150., 180, 30)], ['{:2.0f}'.format(l) for l in np.arange(-150., 180, 30)], fontsize=30)\n",
    "plt.xlabel(r'$\\Delta X, \\mathrm{arcsec}$', fontsize=45)\n",
    "\n",
    "ax.text(3, 6., r'$1\\,\\mathrm{kpc}$', fontsize=45, color='red')\n",
    "plt.plot([2, 2+1./calc_scale(8.6) * (Nx/350.)], [5, 5], '-|', lw=4, color='red', ms=20, mew=6)\n",
    "\n",
    "cbar_ax = fig.add_axes([0.905, 0.10, 0.02, 0.8])\n",
    "fig.colorbar(quadmesh, cax=cbar_ax, ticks=np.arange(2., 4.5, 0.5))\n",
    "cbar_ax.set_yticklabels(['< 2.0', '2.5', ' ', '3.5', '> 4.0'], fontsize=35)\n",
    "plt.ylabel(r'$\\mathrm{Q}$', fontsize=60, rotation=0)\n",
    "plt.gca().yaxis.set_label_coords(1.75, 0.5)\n",
    "\n",
    "\n",
    "fig.subplots_adjust(wspace=0.2, hspace=0.01)\n",
    "plt.savefig(paper_imgs_dir3 +'Q_results.eps', format='eps', bbox_inches='tight')\n",
    "plt.savefig(paper_imgs_dir3 +'Q_results.png', format='png', bbox_inches='tight')\n",
    "plt.savefig(paper_imgs_dir3 +'Q_results.pdf', format='pdf', dpi=150, bbox_inches='tight')\n",
    "plt.show()"
   ]
  },
  {
   "cell_type": "markdown",
   "metadata": {
    "hidden": true
   },
   "source": [
    "Вторая:"
   ]
  },
  {
   "cell_type": "code",
   "execution_count": null,
   "metadata": {
    "hidden": true
   },
   "outputs": [],
   "source": [
    "# fig= plt.figure(figsize=[30,10])\n",
    "\n",
    "# ax = plt.gca()\n",
    "# q_level = 3.\n",
    "# h_level = -2.3\n",
    "# ax.set_title('q={:3.2f}, h={:3.2f}'.format(q_level, h_level), fontsize=19)\n",
    "# CS = ax.contourf(X, Y, Qeff_min, levels=[0., q_level], colors=('g'), alpha=0.3)\n",
    "# CS1 = ax.contourf(X, Y, Qeff_max, levels=[0., q_level], colors=('g'), alpha=0.3)\n",
    "# #         plt.title(r'$Qeff,min={}$'.format(q_level), fontsize=30)\n",
    "# #         add_SFR_contours(levels=[h_level], colors=('red'), ax=ax)\n",
    "# CS2 = ax.contour(X, Y, log_Halpha_SFR_, levels=[h_level], colors=('grey'), alpha=0.3)\n",
    "# CS3 = ax.contourf(X, Y, log_Halpha_SFR_, levels=[h_level, -0.99], colors=('none'), hatches=['.'], alpha=0.)\n",
    "# mark_stars(ax=ax, colors=('b'), levels=[0.999, 1.001])\n",
    "# plt.show()\n",
    "\n",
    "\n",
    "fig, axes = plt.subplots(figsize=[30, 18], ncols=1, nrows=2, sharex=True)\n",
    "\n",
    "h_level = -2.23\n",
    "q_level = 3.0\n",
    "mask = dist_ < 140.\n",
    "\n",
    "for ind, Q in enumerate([Qeff_min, Qgs]):\n",
    "    ax = axes[ind]\n",
    "#     quadmesh = ax.pcolormesh(X, Y, Q, cmap=cm.gist_yarg)\n",
    "#     quadmesh.set_clim(vmin=2.0, vmax=4.)\n",
    "    \n",
    "    masked_array = np.ma.array(Q, mask=sig_los == 0)\n",
    "    imcmap = matplotlib.cm.gist_yarg\n",
    "    imcmap.set_bad('y',alpha=0.5)\n",
    "#     quadmesh = ax.imshow(masked_array[::-1, :], cmap=imcmap, vmin=2., vmax=4., interpolation='none')\n",
    "#     quadmesh = ax.pcolormesh(X, Y, masked_array, cmap=cm.gist_yarg)\n",
    "#     quadmesh.set_clim(vmin=2.0, vmax=4.)\n",
    "\n",
    "    CS = ax.contourf(X, Y, Q, levels=[0., q_level], colors=(['g', 'm'][ind]), alpha=0.3)\n",
    "    if ind == 0: \n",
    "        CS1 = ax.contourf(X, Y, Qeff_max, levels=[0., q_level], colors=('g'), alpha=0.3)\n",
    "        CS1 = ax.contourf(X, Y, Qeff_min_rom, levels=[0., q_level], colors=('y'), alpha=0.3)\n",
    "    else:   \n",
    "        ax.plot([-1, -2], [-1, -2], '-', color='g', label=r'$\\mathrm{Q_{eff}^{min}}$', lw=20, alpha=0.3)\n",
    "        ax.plot([-1, -2], [-1, -2], '-', color='g', label=r'$\\mathrm{Q_{eff}^{max}}$', lw=20, alpha=0.6)\n",
    "        ax.plot([-1, -2], [-1, -2], '-', color=[181/256., 208/256., 124/256.], \n",
    "                label=r'$\\mathrm{Q_{eff}^{RF}}$', lw=20, alpha=0.9)\n",
    "        ax.plot([-1, -2], [-1, -2], '-', color='m', label=r'$\\mathrm{Q_{g}}$', lw=20, alpha=0.3)\n",
    "    \n",
    "        legend = ax.legend(loc=(0.845, 0.7), shadow=False, fontsize=45)\n",
    "        legend.get_frame().set_facecolor('#FFFFFF')\n",
    "\n",
    "    CS2 = ax.contour(X, Y, log_Halpha_SFR_, levels=[h_level], colors=('grey'), alpha=0.5)\n",
    "    CS3 = ax.contourf(X, Y, log_Halpha_SFR_, levels=[h_level, -0.99], colors=('none'), hatches=['.'], alpha=0.)\n",
    "    \n",
    "    # CS = plt.contour(X, Y, Sigma_HI, levels=[5., 10.], aspect='auto', alpha=0.5)\n",
    "    \n",
    "#     ax.add_colorbar()\n",
    "    # CS = plt.contour(X, Y, Qeff_min, levels=[2.5], colors=('g'))\n",
    "    \n",
    "    ax.text(2, 45, [r'$\\mathrm{Q_{eff}}$', r'$\\mathrm{Q_{g}}$'][ind], fontsize=70, color='r')\n",
    "\n",
    "    CS = ax.contour(X, Y, dist_, levels=[140.])\n",
    "\n",
    "#     mark_stars(colors=('y'), levels=[0.999, 1.001], ax=ax)\n",
    "    \n",
    "#     add_SFR_contours(colors=('red'), levels=[h_limit], ax=ax, linewidths=(2.))\n",
    "\n",
    "    circle2 = plt.Circle((4+Nx/2, 1+Ny/2), 7., color='b', fill=False, lw=6, ls='--')\n",
    "    ax.add_artist(circle2)\n",
    "\n",
    "#     add_spirals(ax, colors=['m', 'm'], lw=10, alpha=0.2)\n",
    "    \n",
    "    ax.set_xlim(0, Nx-1)\n",
    "    ax.set_ylim(0, Ny-1)\n",
    "#     ax.set_yticklabels(ax.get_yticks(), fontsize=20)\n",
    "    ax.set_yticks([(l*Ny/108.)+28. for l in np.arange(-40., 60, 20)])\n",
    "    ax.set_yticklabels(['{:2.0f}'.format(l) for l in np.arange(-40., 60, 20)], fontsize=30)\n",
    "    ax.set_ylabel(r'$\\Delta Y, \\mathrm{arcsec}$', fontsize=45)\n",
    "    ax.tick_params(axis='both', length=8, width=3)\n",
    "    ax.tick_params(axis='both', length=4, width=2, which='minor')\n",
    "    ax.xaxis.set_minor_locator(AutoMinorLocator(3))\n",
    "    ax.yaxis.set_minor_locator(AutoMinorLocator(2))\n",
    "\n",
    "\n",
    "# cbar = fig.colorbar(quadmesh, ticks=[2, 3, 4], orientation='horizontal')\n",
    "# cbar.ax.set_yticklabels(['< -1', '0', '> 1'])  # vertically oriented colorbar\n",
    "\n",
    "plt.xticks([(l*Nx/328.1)+81. for l in np.arange(-150., 180, 30)], \n",
    "           ['{:2.0f}'.format(l) for l in np.arange(-150., 180, 30)], fontsize=30)\n",
    "plt.xlabel(r'$\\Delta X, \\mathrm{arcsec}$', fontsize=45)\n",
    "\n",
    "# cbar_ax = fig.add_axes([0.905, 0.10, 0.02, 0.8])\n",
    "# fig.colorbar(quadmesh, cax=cbar_ax, ticks=np.arange(2., 4.5, 0.5))\n",
    "# cbar_ax.set_yticklabels(['< 2.0', '2.5', '3.0', '3.5', '> 4.0'], fontsize=25)\n",
    "# # plt.ylabel(r'$\\mathrm{Q}$', fontsize=30, rotation=0)\n",
    "\n",
    "\n",
    "fig.subplots_adjust(wspace=0.2, hspace=0.0)\n",
    "plt.savefig(paper_imgs_dir3 +'threshold_results.eps', format='eps', bbox_inches='tight')\n",
    "plt.savefig(paper_imgs_dir3 +'threshold_results.png', format='png', bbox_inches='tight')\n",
    "plt.savefig(paper_imgs_dir3 +'threshold_results.pdf', format='pdf', dpi=150, bbox_inches='tight')\n",
    "plt.show()"
   ]
  },
  {
   "cell_type": "code",
   "execution_count": null,
   "metadata": {
    "hidden": true
   },
   "outputs": [],
   "source": [
    "# fig= plt.figure(figsize=[30,10])\n",
    "\n",
    "# ax = plt.gca()\n",
    "# q_level = 3.\n",
    "# h_level = -2.3\n",
    "# ax.set_title('q={:3.2f}, h={:3.2f}'.format(q_level, h_level), fontsize=19)\n",
    "# CS = ax.contourf(X, Y, Qeff_min, levels=[0., q_level], colors=('g'), alpha=0.3)\n",
    "# CS1 = ax.contourf(X, Y, Qeff_max, levels=[0., q_level], colors=('g'), alpha=0.3)\n",
    "# #         plt.title(r'$Qeff,min={}$'.format(q_level), fontsize=30)\n",
    "# #         add_SFR_contours(levels=[h_level], colors=('red'), ax=ax)\n",
    "# CS2 = ax.contour(X, Y, log_Halpha_SFR_, levels=[h_level], colors=('grey'), alpha=0.3)\n",
    "# CS3 = ax.contourf(X, Y, log_Halpha_SFR_, levels=[h_level, -0.99], colors=('none'), hatches=['.'], alpha=0.)\n",
    "# mark_stars(ax=ax, colors=('b'), levels=[0.999, 1.001])\n",
    "# plt.show()\n",
    "\n",
    "\n",
    "fig, axes = plt.subplots(figsize=[30, 18], ncols=1, nrows=2, sharex=True)\n",
    "\n",
    "h_level = -2.23\n",
    "q_level = 3.0\n",
    "mask = dist_ < 140.\n",
    "\n",
    "for ind, Q in enumerate([Qeff_min, Qgs]):\n",
    "    ax = axes[ind]\n",
    "#     quadmesh = ax.pcolormesh(X, Y, Q, cmap=cm.gist_yarg)\n",
    "#     quadmesh.set_clim(vmin=2.0, vmax=4.)\n",
    "    \n",
    "    masked_array = np.ma.array(Q, mask=sig_los == 0)\n",
    "    imcmap = matplotlib.cm.gist_yarg\n",
    "    imcmap.set_bad('y',alpha=0.5)\n",
    "#     quadmesh = ax.imshow(masked_array[::-1, :], cmap=imcmap, vmin=2., vmax=4., interpolation='none')\n",
    "#     quadmesh = ax.pcolormesh(X, Y, masked_array, cmap=cm.gist_yarg)\n",
    "#     quadmesh.set_clim(vmin=2.0, vmax=4.)\n",
    "\n",
    "    CS = ax.contourf(X, Y, Q, levels=[0., q_level], colors=(['g', 'm'][ind]), alpha=0.3)\n",
    "    if ind == 0: \n",
    "        CS1 = ax.contourf(X, Y, Qeff_max, levels=[0., q_level], colors=('g'), alpha=0.3)\n",
    "        CS1 = ax.contourf(X, Y, Qeff_min_rom, levels=[0., q_level], colors=('g'), alpha=0.35)\n",
    "    else:   \n",
    "        ax.plot([-1, -2], [-1, -2], '-', color='g', label=r'$\\mathrm{Q_{eff}^{min}}$', lw=20, alpha=0.3)\n",
    "        ax.plot([-1, -2], [-1, -2], '-', color='g', label=r'$\\mathrm{Q_{eff}^{max}}$', lw=20, alpha=0.6)\n",
    "        ax.plot([-1, -2], [-1, -2], '-', color=[181/256., 208/256., 124/256.], \n",
    "                label=r'$\\mathrm{Q_{eff}^{RF}}$', lw=20, alpha=0.9)\n",
    "        ax.plot([-1, -2], [-1, -2], '-', color='m', label=r'$\\mathrm{Q_{g}}$', lw=20, alpha=0.3)\n",
    "    \n",
    "        legend = ax.legend(loc=(0.845, 0.7), shadow=False, fontsize=45)\n",
    "        legend.get_frame().set_facecolor('#FFFFFF')\n",
    "\n",
    "    CS2 = ax.contour(X, Y, log_Halpha_SFR_, levels=[h_level], colors=('grey'), alpha=0.5)\n",
    "    CS3 = ax.contourf(X, Y, log_Halpha_SFR_, levels=[h_level, -0.99], colors=('none'), hatches=['.'], alpha=0.)\n",
    "    \n",
    "    # CS = plt.contour(X, Y, Sigma_HI, levels=[5., 10.], aspect='auto', alpha=0.5)\n",
    "    \n",
    "#     ax.add_colorbar()\n",
    "    # CS = plt.contour(X, Y, Qeff_min, levels=[2.5], colors=('g'))\n",
    "    \n",
    "    ax.text(2, 45, [r'$\\mathrm{Q_{eff}}$', r'$\\mathrm{Q_{g}}$'][ind], fontsize=70, color='r')\n",
    "\n",
    "    CS = ax.contour(X, Y, dist_, levels=[140.])\n",
    "\n",
    "#     mark_stars(colors=('y'), levels=[0.999, 1.001], ax=ax)\n",
    "    \n",
    "#     add_SFR_contours(colors=('red'), levels=[h_limit], ax=ax, linewidths=(2.))\n",
    "\n",
    "    circle2 = plt.Circle((4+Nx/2, 1+Ny/2), 7., color='b', fill=False, lw=6, ls='--')\n",
    "    ax.add_artist(circle2)\n",
    "\n",
    "#     add_spirals(ax, colors=['m', 'm'], lw=10, alpha=0.2)\n",
    "    \n",
    "    ax.set_xlim(0, Nx-1)\n",
    "    ax.set_ylim(0, Ny-1)\n",
    "#     ax.set_yticklabels(ax.get_yticks(), fontsize=20)\n",
    "    ax.set_yticks([(l*Ny/108.)+28. for l in np.arange(-40., 60, 20)])\n",
    "    ax.set_yticklabels(['{:2.0f}'.format(l) for l in np.arange(-40., 60, 20)], fontsize=30)\n",
    "    ax.set_ylabel(r'$\\Delta Y, \\mathrm{arcsec}$', fontsize=45)\n",
    "    ax.tick_params(axis='both', length=8, width=3)\n",
    "    ax.tick_params(axis='both', length=4, width=2, which='minor')\n",
    "    ax.xaxis.set_minor_locator(AutoMinorLocator(3))\n",
    "    ax.yaxis.set_minor_locator(AutoMinorLocator(2))\n",
    "\n",
    "\n",
    "# cbar = fig.colorbar(quadmesh, ticks=[2, 3, 4], orientation='horizontal')\n",
    "# cbar.ax.set_yticklabels(['< -1', '0', '> 1'])  # vertically oriented colorbar\n",
    "\n",
    "plt.xticks([(l*Nx/328.1)+81. for l in np.arange(-150., 180, 30)], \n",
    "           ['{:2.0f}'.format(l) for l in np.arange(-150., 180, 30)], fontsize=30)\n",
    "plt.xlabel(r'$\\Delta X, \\mathrm{arcsec}$', fontsize=45)\n",
    "\n",
    "# cbar_ax = fig.add_axes([0.905, 0.10, 0.02, 0.8])\n",
    "# fig.colorbar(quadmesh, cax=cbar_ax, ticks=np.arange(2., 4.5, 0.5))\n",
    "# cbar_ax.set_yticklabels(['< 2.0', '2.5', '3.0', '3.5', '> 4.0'], fontsize=25)\n",
    "# # plt.ylabel(r'$\\mathrm{Q}$', fontsize=30, rotation=0)\n",
    "\n",
    "\n",
    "fig.subplots_adjust(wspace=0.2, hspace=0.0)\n",
    "# plt.savefig(paper_imgs_dir3 +'threshold_results.eps', format='eps', bbox_inches='tight')\n",
    "# plt.savefig(paper_imgs_dir3 +'threshold_results.png', format='png', bbox_inches='tight')\n",
    "# plt.savefig(paper_imgs_dir3 +'threshold_results.pdf', format='pdf', dpi=150, bbox_inches='tight')\n",
    "plt.show()"
   ]
  },
  {
   "cell_type": "code",
   "execution_count": null,
   "metadata": {
    "hidden": true
   },
   "outputs": [],
   "source": [
    "# fig= plt.figure(figsize=[30,10])\n",
    "\n",
    "# ax = plt.gca()\n",
    "# q_level = 3.\n",
    "# h_level = -2.3\n",
    "# ax.set_title('q={:3.2f}, h={:3.2f}'.format(q_level, h_level), fontsize=19)\n",
    "# CS = ax.contourf(X, Y, Qeff_min, levels=[0., q_level], colors=('g'), alpha=0.3)\n",
    "# CS1 = ax.contourf(X, Y, Qeff_max, levels=[0., q_level], colors=('g'), alpha=0.3)\n",
    "# #         plt.title(r'$Qeff,min={}$'.format(q_level), fontsize=30)\n",
    "# #         add_SFR_contours(levels=[h_level], colors=('red'), ax=ax)\n",
    "# CS2 = ax.contour(X, Y, log_Halpha_SFR_, levels=[h_level], colors=('grey'), alpha=0.3)\n",
    "# CS3 = ax.contourf(X, Y, log_Halpha_SFR_, levels=[h_level, -0.99], colors=('none'), hatches=['.'], alpha=0.)\n",
    "# mark_stars(ax=ax, colors=('b'), levels=[0.999, 1.001])\n",
    "# plt.show()\n",
    "\n",
    "\n",
    "fig, axes = plt.subplots(figsize=[30, 18], ncols=1, nrows=2, sharex=True)\n",
    "\n",
    "h_level = -2.23\n",
    "q_level = 3.0\n",
    "mask = dist_ < 140.\n",
    "\n",
    "for ind, Q in enumerate([Qeff_min, Qgs]):\n",
    "    ax = axes[ind]\n",
    "#     quadmesh = ax.pcolormesh(X, Y, Q, cmap=cm.gist_yarg)\n",
    "#     quadmesh.set_clim(vmin=2.0, vmax=4.)\n",
    "    \n",
    "    masked_array = np.ma.array(Q, mask=sig_los == 0)\n",
    "    imcmap = matplotlib.cm.gist_yarg\n",
    "    imcmap.set_bad('y',alpha=0.5)\n",
    "#     quadmesh = ax.imshow(masked_array[::-1, :], cmap=imcmap, vmin=2., vmax=4., interpolation='none')\n",
    "#     quadmesh = ax.pcolormesh(X, Y, masked_array, cmap=cm.gist_yarg)\n",
    "#     quadmesh.set_clim(vmin=2.0, vmax=4.)\n",
    "\n",
    "    CS = ax.contourf(X, Y, Q, levels=[0., q_level], colors=(['g', 'm'][ind]), alpha=0.9)\n",
    "    if ind == 0: \n",
    "        CS1 = ax.contourf(X, Y, Qeff_max, levels=[0., q_level], colors=('b'), alpha=0.9)\n",
    "        CS1 = ax.contourf(X, Y, Qeff_min_rom, levels=[0., q_level], colors=('m'), alpha=0.9)\n",
    "    else:   \n",
    "        ax.plot([-1, -2], [-1, -2], '-', color='g', label=r'$\\mathrm{Q_{eff}^{min}}$', lw=20, alpha=0.3)\n",
    "        ax.plot([-1, -2], [-1, -2], '-', color='g', label=r'$\\mathrm{Q_{eff}^{max}}$', lw=20, alpha=0.6)\n",
    "        ax.plot([-1, -2], [-1, -2], '-', color=[181/256., 208/256., 124/256.], \n",
    "                label=r'$\\mathrm{Q_{eff}^{RF}}$', lw=20, alpha=0.9)\n",
    "        ax.plot([-1, -2], [-1, -2], '-', color='m', label=r'$\\mathrm{Q_{g}}$', lw=20, alpha=0.3)\n",
    "    \n",
    "        legend = ax.legend(loc=(0.845, 0.7), shadow=False, fontsize=45)\n",
    "        legend.get_frame().set_facecolor('#FFFFFF')\n",
    "\n",
    "    CS2 = ax.contour(X, Y, log_Halpha_SFR_, levels=[h_level], colors=('grey'), alpha=1.)\n",
    "    CS3 = ax.contourf(X, Y, log_Halpha_SFR_, levels=[h_level, -0.99], colors=('none'), hatches=['.'], alpha=0.)\n",
    "    \n",
    "    # CS = plt.contour(X, Y, Sigma_HI, levels=[5., 10.], aspect='auto', alpha=0.5)\n",
    "    \n",
    "#     ax.add_colorbar()\n",
    "    # CS = plt.contour(X, Y, Qeff_min, levels=[2.5], colors=('g'))\n",
    "    \n",
    "    ax.text(2, 45, [r'$\\mathrm{Q_{eff}}$', r'$\\mathrm{Q_{g}}$'][ind], fontsize=70, color='r')\n",
    "\n",
    "    CS = ax.contour(X, Y, dist_, levels=[140.])\n",
    "\n",
    "#     mark_stars(colors=('y'), levels=[0.999, 1.001], ax=ax)\n",
    "    \n",
    "#     add_SFR_contours(colors=('red'), levels=[h_limit], ax=ax, linewidths=(2.))\n",
    "\n",
    "    circle2 = plt.Circle((4+Nx/2, 1+Ny/2), 7., color='b', fill=False, lw=6, ls='--')\n",
    "    ax.add_artist(circle2)\n",
    "\n",
    "#     add_spirals(ax, colors=['m', 'm'], lw=10, alpha=0.2)\n",
    "    \n",
    "    ax.set_xlim(0, Nx-1)\n",
    "    ax.set_ylim(0, Ny-1)\n",
    "#     ax.set_yticklabels(ax.get_yticks(), fontsize=20)\n",
    "    ax.set_yticks([(l*Ny/108.)+28. for l in np.arange(-40., 60, 20)])\n",
    "    ax.set_yticklabels(['{:2.0f}'.format(l) for l in np.arange(-40., 60, 20)], fontsize=30)\n",
    "    ax.set_ylabel(r'$\\Delta Y, \\mathrm{arcsec}$', fontsize=45)\n",
    "    ax.tick_params(axis='both', length=8, width=3)\n",
    "    ax.tick_params(axis='both', length=4, width=2, which='minor')\n",
    "    ax.xaxis.set_minor_locator(AutoMinorLocator(3))\n",
    "    ax.yaxis.set_minor_locator(AutoMinorLocator(2))\n",
    "\n",
    "\n",
    "# cbar = fig.colorbar(quadmesh, ticks=[2, 3, 4], orientation='horizontal')\n",
    "# cbar.ax.set_yticklabels(['< -1', '0', '> 1'])  # vertically oriented colorbar\n",
    "\n",
    "plt.xticks([(l*Nx/328.1)+81. for l in np.arange(-150., 180, 30)], \n",
    "           ['{:2.0f}'.format(l) for l in np.arange(-150., 180, 30)], fontsize=30)\n",
    "plt.xlabel(r'$\\Delta X, \\mathrm{arcsec}$', fontsize=45)\n",
    "\n",
    "# cbar_ax = fig.add_axes([0.905, 0.10, 0.02, 0.8])\n",
    "# fig.colorbar(quadmesh, cax=cbar_ax, ticks=np.arange(2., 4.5, 0.5))\n",
    "# cbar_ax.set_yticklabels(['< 2.0', '2.5', '3.0', '3.5', '> 4.0'], fontsize=25)\n",
    "# # plt.ylabel(r'$\\mathrm{Q}$', fontsize=30, rotation=0)\n",
    "\n",
    "\n",
    "fig.subplots_adjust(wspace=0.2, hspace=0.0)\n",
    "# plt.savefig(paper_imgs_dir3 +'threshold_results.eps', format='eps', bbox_inches='tight')\n",
    "# plt.savefig(paper_imgs_dir3 +'threshold_results.png', format='png', bbox_inches='tight')\n",
    "# plt.savefig(paper_imgs_dir3 +'threshold_results.pdf', format='pdf', dpi=150, bbox_inches='tight')\n",
    "plt.show()"
   ]
  },
  {
   "cell_type": "code",
   "execution_count": null,
   "metadata": {
    "hidden": true
   },
   "outputs": [],
   "source": [
    "fig, axes = plt.subplots(figsize=[30, 18], ncols=1, nrows=2, sharex=True)\n",
    "\n",
    "h_level = -2.23\n",
    "q_level = 3.0\n",
    "mask = dist_ < 140.\n",
    "\n",
    "Q_tmp = Qeff_min.copy()\n",
    "Q_tmp[Qeff_max < q_level] = q_level+1\n",
    "Q_tmp[Qeff_min_rom < q_level] = q_level+1\n",
    "\n",
    "Qeff_max_tmp = Qeff_max.copy()\n",
    "Qeff_max_tmp[Qeff_min_rom < q_level] = q_level+1\n",
    "\n",
    "for ind, Q in enumerate([Q_tmp, Qgs]):\n",
    "    ax = axes[ind]\n",
    "#     quadmesh = ax.pcolormesh(X, Y, Q, cmap=cm.gist_yarg)\n",
    "#     quadmesh.set_clim(vmin=2.0, vmax=4.)\n",
    "    \n",
    "    masked_array = np.ma.array(Q, mask=sig_los == 0)\n",
    "    imcmap = matplotlib.cm.gist_yarg\n",
    "    imcmap.set_bad('y',alpha=0.5)\n",
    "#     quadmesh = ax.imshow(masked_array[::-1, :], cmap=imcmap, vmin=2., vmax=4., interpolation='none')\n",
    "#     quadmesh = ax.pcolormesh(X, Y, masked_array, cmap=cm.gist_yarg)\n",
    "#     quadmesh.set_clim(vmin=2.0, vmax=4.)\n",
    "\n",
    "    CS = ax.contourf(X, Y, Q, levels=[0., q_level], colors=(['g', 'm'][ind]), alpha=0.3)\n",
    "    if ind == 0: \n",
    "        CS1 = ax.contourf(X, Y, Qeff_max_tmp, levels=[0., q_level], colors=('b'), alpha=0.3)\n",
    "        CS1 = ax.contourf(X, Y, Qeff_min_rom, levels=[0., q_level], colors=('m'), alpha=0.3)\n",
    "    else:   \n",
    "        ax.plot([-1, -2], [-1, -2], '-', color='g', label=r'$\\mathrm{Q_{eff}^{min}}$', lw=20, alpha=0.3)\n",
    "        ax.plot([-1, -2], [-1, -2], '-', color='g', label=r'$\\mathrm{Q_{eff}^{max}}$', lw=20, alpha=0.6)\n",
    "        ax.plot([-1, -2], [-1, -2], '-', color=[181/256., 208/256., 124/256.], \n",
    "                label=r'$\\mathrm{Q_{eff}^{RF}}$', lw=20, alpha=0.9)\n",
    "        ax.plot([-1, -2], [-1, -2], '-', color='m', label=r'$\\mathrm{Q_{g}}$', lw=20, alpha=0.3)\n",
    "    \n",
    "        legend = ax.legend(loc=(0.845, 0.7), shadow=False, fontsize=45)\n",
    "        legend.get_frame().set_facecolor('#FFFFFF')\n",
    "\n",
    "    CS2 = ax.contour(X, Y, log_Halpha_SFR_, levels=[h_level], colors=('grey'), alpha=1.)\n",
    "    CS3 = ax.contourf(X, Y, log_Halpha_SFR_, levels=[h_level, -0.99], colors=('none'), hatches=['.'], alpha=0.)\n",
    "    \n",
    "    # CS = plt.contour(X, Y, Sigma_HI, levels=[5., 10.], aspect='auto', alpha=0.5)\n",
    "    \n",
    "#     ax.add_colorbar()\n",
    "    # CS = plt.contour(X, Y, Qeff_min, levels=[2.5], colors=('g'))\n",
    "    \n",
    "    ax.text(2, 45, [r'$\\mathrm{Q_{eff}}$', r'$\\mathrm{Q_{g}}$'][ind], fontsize=70, color='r')\n",
    "\n",
    "    CS = ax.contour(X, Y, dist_, levels=[140.])\n",
    "\n",
    "#     mark_stars(colors=('y'), levels=[0.999, 1.001], ax=ax)\n",
    "    \n",
    "#     add_SFR_contours(colors=('red'), levels=[h_limit], ax=ax, linewidths=(2.))\n",
    "\n",
    "    circle2 = plt.Circle((4+Nx/2, 1+Ny/2), 7., color='b', fill=False, lw=6, ls='--')\n",
    "    ax.add_artist(circle2)\n",
    "\n",
    "#     add_spirals(ax, colors=['m', 'm'], lw=10, alpha=0.2)\n",
    "    \n",
    "    ax.set_xlim(0, Nx-1)\n",
    "    ax.set_ylim(0, Ny-1)\n",
    "#     ax.set_yticklabels(ax.get_yticks(), fontsize=20)\n",
    "    ax.set_yticks([(l*Ny/108.)+28. for l in np.arange(-40., 60, 20)])\n",
    "    ax.set_yticklabels(['{:2.0f}'.format(l) for l in np.arange(-40., 60, 20)], fontsize=30)\n",
    "    ax.set_ylabel(r'$\\Delta Y, \\mathrm{arcsec}$', fontsize=45)\n",
    "    ax.tick_params(axis='both', length=8, width=3)\n",
    "    ax.tick_params(axis='both', length=4, width=2, which='minor')\n",
    "    ax.xaxis.set_minor_locator(AutoMinorLocator(3))\n",
    "    ax.yaxis.set_minor_locator(AutoMinorLocator(2))\n",
    "\n",
    "\n",
    "# cbar = fig.colorbar(quadmesh, ticks=[2, 3, 4], orientation='horizontal')\n",
    "# cbar.ax.set_yticklabels(['< -1', '0', '> 1'])  # vertically oriented colorbar\n",
    "\n",
    "plt.xticks([(l*Nx/328.1)+81. for l in np.arange(-150., 180, 30)], \n",
    "           ['{:2.0f}'.format(l) for l in np.arange(-150., 180, 30)], fontsize=30)\n",
    "plt.xlabel(r'$\\Delta X, \\mathrm{arcsec}$', fontsize=45)\n",
    "\n",
    "# cbar_ax = fig.add_axes([0.905, 0.10, 0.02, 0.8])\n",
    "# fig.colorbar(quadmesh, cax=cbar_ax, ticks=np.arange(2., 4.5, 0.5))\n",
    "# cbar_ax.set_yticklabels(['< 2.0', '2.5', '3.0', '3.5', '> 4.0'], fontsize=25)\n",
    "# # plt.ylabel(r'$\\mathrm{Q}$', fontsize=30, rotation=0)\n",
    "\n",
    "\n",
    "fig.subplots_adjust(wspace=0.2, hspace=0.0)\n",
    "# plt.savefig(paper_imgs_dir3 +'threshold_results.eps', format='eps', bbox_inches='tight')\n",
    "# plt.savefig(paper_imgs_dir3 +'threshold_results.png', format='png', bbox_inches='tight')\n",
    "# plt.savefig(paper_imgs_dir3 +'threshold_results.pdf', format='pdf', dpi=150, bbox_inches='tight')\n",
    "plt.show()"
   ]
  },
  {
   "cell_type": "code",
   "execution_count": null,
   "metadata": {
    "hidden": true
   },
   "outputs": [],
   "source": [
    "fig, axes = plt.subplots(figsize=[30, 18], ncols=1, nrows=2, sharex=True)\n",
    "\n",
    "h_level = -2.23\n",
    "q_level = 3.0\n",
    "mask = dist_ < 140.\n",
    "\n",
    "Q_tmp = Qeff_min.copy()\n",
    "Q_tmp[Q_tmp > q_level] = q_level + 10\n",
    "Q_tmp[Qeff_max < q_level] = q_level+1\n",
    "Q_tmp[Qeff_min_rom < q_level] = q_level+2\n",
    "\n",
    "# Qeff_max_tmp = Qeff_max.copy()\n",
    "# Qeff_max_tmp[Qeff_min_rom < q_level] = q_level+1\n",
    "\n",
    "for ind, Q in enumerate([Q_tmp, Qgs]):\n",
    "    ax = axes[ind]\n",
    "#     quadmesh = ax.pcolormesh(X, Y, Q, cmap=cm.gist_yarg)\n",
    "#     quadmesh.set_clim(vmin=2.0, vmax=4.)\n",
    "    \n",
    "    masked_array = np.ma.array(Q, mask=sig_los == 0)\n",
    "    imcmap = matplotlib.cm.gist_yarg\n",
    "    imcmap.set_bad('y',alpha=0.5)\n",
    "#     quadmesh = ax.imshow(masked_array[::-1, :], cmap=imcmap, vmin=2., vmax=4., interpolation='none')\n",
    "#     quadmesh = ax.pcolormesh(X, Y, masked_array, cmap=cm.gist_yarg)\n",
    "#     quadmesh.set_clim(vmin=2.0, vmax=4.)\n",
    "\n",
    "    CS = ax.contourf(X, Y, Q, levels=[0., q_level], colors=(['g', 'm'][ind]), alpha=0.9)\n",
    "    if ind == 0: \n",
    "        CS1 = ax.contourf(X, Y, Q_tmp, levels=[q_level, q_level+1], colors=('b'), alpha=0.9)\n",
    "        CS1 = ax.contourf(X, Y, Q_tmp, levels=[q_level+1, q_level+2], colors=('m'), alpha=0.9)\n",
    "    else:   \n",
    "        ax.plot([-1, -2], [-1, -2], '-', color='g', label=r'$\\mathrm{Q_{eff}^{min}}$', lw=20, alpha=0.3)\n",
    "        ax.plot([-1, -2], [-1, -2], '-', color='g', label=r'$\\mathrm{Q_{eff}^{max}}$', lw=20, alpha=0.6)\n",
    "        ax.plot([-1, -2], [-1, -2], '-', color=[181/256., 208/256., 124/256.], \n",
    "                label=r'$\\mathrm{Q_{eff}^{RF}}$', lw=20, alpha=0.9)\n",
    "        ax.plot([-1, -2], [-1, -2], '-', color='m', label=r'$\\mathrm{Q_{g}}$', lw=20, alpha=0.3)\n",
    "    \n",
    "        legend = ax.legend(loc=(0.845, 0.7), shadow=False, fontsize=45)\n",
    "        legend.get_frame().set_facecolor('#FFFFFF')\n",
    "\n",
    "    CS2 = ax.contour(X, Y, log_Halpha_SFR_, levels=[h_level], colors=('grey'), alpha=1.)\n",
    "    CS3 = ax.contourf(X, Y, log_Halpha_SFR_, levels=[h_level, -0.99], colors=('none'), hatches=['...'], alpha=0.)\n",
    "    \n",
    "    # CS = plt.contour(X, Y, Sigma_HI, levels=[5., 10.], aspect='auto', alpha=0.5)\n",
    "    \n",
    "#     ax.add_colorbar()\n",
    "    # CS = plt.contour(X, Y, Qeff_min, levels=[2.5], colors=('g'))\n",
    "    \n",
    "    ax.text(2, 45, [r'$\\mathrm{Q_{eff}}$', r'$\\mathrm{Q_{g}}$'][ind], fontsize=70, color='r')\n",
    "\n",
    "    CS = ax.contour(X, Y, dist_, levels=[140.])\n",
    "\n",
    "#     mark_stars(colors=('y'), levels=[0.999, 1.001], ax=ax)\n",
    "    \n",
    "#     add_SFR_contours(colors=('red'), levels=[h_limit], ax=ax, linewidths=(2.))\n",
    "\n",
    "    circle2 = plt.Circle((4+Nx/2, 1+Ny/2), 7., color='b', fill=False, lw=6, ls='--')\n",
    "    ax.add_artist(circle2)\n",
    "\n",
    "#     add_spirals(ax, colors=['m', 'm'], lw=10, alpha=0.2)\n",
    "    \n",
    "    ax.set_xlim(0, Nx-1)\n",
    "    ax.set_ylim(0, Ny-1)\n",
    "#     ax.set_yticklabels(ax.get_yticks(), fontsize=20)\n",
    "    ax.set_yticks([(l*Ny/108.)+28. for l in np.arange(-40., 60, 20)])\n",
    "    ax.set_yticklabels(['{:2.0f}'.format(l) for l in np.arange(-40., 60, 20)], fontsize=30)\n",
    "    ax.set_ylabel(r'$\\Delta Y, \\mathrm{arcsec}$', fontsize=45)\n",
    "    ax.tick_params(axis='both', length=8, width=3)\n",
    "    ax.tick_params(axis='both', length=4, width=2, which='minor')\n",
    "    ax.xaxis.set_minor_locator(AutoMinorLocator(3))\n",
    "    ax.yaxis.set_minor_locator(AutoMinorLocator(2))\n",
    "\n",
    "\n",
    "# cbar = fig.colorbar(quadmesh, ticks=[2, 3, 4], orientation='horizontal')\n",
    "# cbar.ax.set_yticklabels(['< -1', '0', '> 1'])  # vertically oriented colorbar\n",
    "\n",
    "plt.xticks([(l*Nx/328.1)+81. for l in np.arange(-150., 180, 30)], \n",
    "           ['{:2.0f}'.format(l) for l in np.arange(-150., 180, 30)], fontsize=30)\n",
    "plt.xlabel(r'$\\Delta X, \\mathrm{arcsec}$', fontsize=45)\n",
    "\n",
    "# cbar_ax = fig.add_axes([0.905, 0.10, 0.02, 0.8])\n",
    "# fig.colorbar(quadmesh, cax=cbar_ax, ticks=np.arange(2., 4.5, 0.5))\n",
    "# cbar_ax.set_yticklabels(['< 2.0', '2.5', '3.0', '3.5', '> 4.0'], fontsize=25)\n",
    "# # plt.ylabel(r'$\\mathrm{Q}$', fontsize=30, rotation=0)\n",
    "\n",
    "\n",
    "fig.subplots_adjust(wspace=0.2, hspace=0.0)\n",
    "# plt.savefig(paper_imgs_dir3 +'threshold_results.eps', format='eps', bbox_inches='tight')\n",
    "# plt.savefig(paper_imgs_dir3 +'threshold_results.png', format='png', bbox_inches='tight')\n",
    "# plt.savefig(paper_imgs_dir3 +'threshold_results.pdf', format='pdf', dpi=150, bbox_inches='tight')\n",
    "plt.show()"
   ]
  },
  {
   "cell_type": "code",
   "execution_count": null,
   "metadata": {
    "hidden": true
   },
   "outputs": [],
   "source": [
    "fig, axes = plt.subplots(figsize=[30, 18], ncols=1, nrows=2, sharex=True)\n",
    "\n",
    "h_level = -2.23\n",
    "q_level = 3.0\n",
    "mask = dist_ < 140.\n",
    "\n",
    "for ind, Q in enumerate([Qeff_min, Qgs]):\n",
    "    ax = axes[ind]\n",
    "#     quadmesh = ax.pcolormesh(X, Y, Q, cmap=cm.gist_yarg)\n",
    "#     quadmesh.set_clim(vmin=2.0, vmax=4.)\n",
    "    \n",
    "    masked_array = np.ma.array(Q, mask=sig_los == 0)\n",
    "    imcmap = matplotlib.cm.gist_yarg\n",
    "    imcmap.set_bad('y',alpha=0.5)\n",
    "#     quadmesh = ax.imshow(masked_array[::-1, :], cmap=imcmap, vmin=2., vmax=4., interpolation='none')\n",
    "#     quadmesh = ax.pcolormesh(X, Y, masked_array, cmap=cm.gist_yarg)\n",
    "#     quadmesh.set_clim(vmin=2.0, vmax=4.)\n",
    "\n",
    "    CS = ax.contourf(X, Y, Q, levels=[0., q_level], colors=(['g', 'm'][ind]), alpha=0.3)\n",
    "    if ind == 0: \n",
    "        CS1 = ax.contourf(X, Y, Qeff_max, levels=[0., q_level], colors=('g'), alpha=0.3)\n",
    "        CS1 = ax.contourf(X, Y, Qeff_min_rom, levels=[0., q_level], colors=('r'), alpha=0.3)\n",
    "    else:   \n",
    "        ax.plot([-1, -2], [-1, -2], '-', color='g', label=r'$\\mathrm{Q_{eff}^{min}}$', lw=20, alpha=0.3)\n",
    "        ax.plot([-1, -2], [-1, -2], '-', color='g', label=r'$\\mathrm{Q_{eff}^{max}}$', lw=20, alpha=0.9)\n",
    "        ax.plot([-1, -2], [-1, -2], '-', color=[181/256., 208/256., 124/256.], \n",
    "                label=r'$\\mathrm{Q_{eff}^{RF}}$', lw=20, alpha=0.9)\n",
    "        ax.plot([-1, -2], [-1, -2], '-', color='m', label=r'$\\mathrm{Q_{g}}$', lw=20, alpha=0.3)\n",
    "    \n",
    "        legend = ax.legend(loc=(0.845, 0.7), shadow=False, fontsize=45)\n",
    "        legend.get_frame().set_facecolor('#FFFFFF')\n",
    "\n",
    "    CS2 = ax.contour(X, Y, log_Halpha_SFR_, levels=[h_level], colors=('grey'), alpha=0.5)\n",
    "    CS3 = ax.contourf(X, Y, log_Halpha_SFR_, levels=[h_level, -0.99], colors=('none'), hatches=['.'], alpha=0.)\n",
    "    \n",
    "    # CS = plt.contour(X, Y, Sigma_HI, levels=[5., 10.], aspect='auto', alpha=0.5)\n",
    "    \n",
    "#     ax.add_colorbar()\n",
    "    # CS = plt.contour(X, Y, Qeff_min, levels=[2.5], colors=('g'))\n",
    "    \n",
    "    ax.text(2, 45, [r'$\\mathrm{Q_{eff}}$', r'$\\mathrm{Q_{g}}$'][ind], fontsize=70, color='r')\n",
    "\n",
    "    CS = ax.contour(X, Y, dist_, levels=[140.])\n",
    "\n",
    "#     mark_stars(colors=('y'), levels=[0.999, 1.001], ax=ax)\n",
    "    \n",
    "#     add_SFR_contours(colors=('red'), levels=[h_limit], ax=ax, linewidths=(2.))\n",
    "\n",
    "    circle2 = plt.Circle((4+Nx/2, 1+Ny/2), 7., color='b', fill=False, lw=6, ls='--')\n",
    "    ax.add_artist(circle2)\n",
    "\n",
    "#     add_spirals(ax, colors=['m', 'm'], lw=10, alpha=0.2)\n",
    "    \n",
    "    ax.set_xlim(0, Nx-1)\n",
    "    ax.set_ylim(0, Ny-1)\n",
    "#     ax.set_yticklabels(ax.get_yticks(), fontsize=20)\n",
    "    ax.set_yticks([(l*Ny/108.)+28. for l in np.arange(-40., 60, 20)])\n",
    "    ax.set_yticklabels(['{:2.0f}'.format(l) for l in np.arange(-40., 60, 20)], fontsize=30)\n",
    "    ax.set_ylabel(r'$\\Delta Y, \\mathrm{arcsec}$', fontsize=45)\n",
    "    ax.tick_params(axis='both', length=8, width=3)\n",
    "    ax.tick_params(axis='both', length=4, width=2, which='minor')\n",
    "    ax.xaxis.set_minor_locator(AutoMinorLocator(3))\n",
    "    ax.yaxis.set_minor_locator(AutoMinorLocator(2))\n",
    "\n",
    "\n",
    "# cbar = fig.colorbar(quadmesh, ticks=[2, 3, 4], orientation='horizontal')\n",
    "# cbar.ax.set_yticklabels(['< -1', '0', '> 1'])  # vertically oriented colorbar\n",
    "\n",
    "plt.xticks([(l*Nx/328.1)+81. for l in np.arange(-150., 180, 30)], \n",
    "           ['{:2.0f}'.format(l) for l in np.arange(-150., 180, 30)], fontsize=30)\n",
    "plt.xlabel(r'$\\Delta X, \\mathrm{arcsec}$', fontsize=45)\n",
    "\n",
    "# cbar_ax = fig.add_axes([0.905, 0.10, 0.02, 0.8])\n",
    "# fig.colorbar(quadmesh, cax=cbar_ax, ticks=np.arange(2., 4.5, 0.5))\n",
    "# cbar_ax.set_yticklabels(['< 2.0', '2.5', '3.0', '3.5', '> 4.0'], fontsize=25)\n",
    "# # plt.ylabel(r'$\\mathrm{Q}$', fontsize=30, rotation=0)\n",
    "\n",
    "\n",
    "fig.subplots_adjust(wspace=0.2, hspace=0.0)\n",
    "# plt.savefig(paper_imgs_dir3 +'threshold_results.eps', format='eps', bbox_inches='tight')\n",
    "# plt.savefig(paper_imgs_dir3 +'threshold_results.png', format='png', bbox_inches='tight')\n",
    "# plt.savefig(paper_imgs_dir3 +'threshold_results.pdf', format='pdf', dpi=150, bbox_inches='tight')\n",
    "plt.show()"
   ]
  },
  {
   "cell_type": "code",
   "execution_count": null,
   "metadata": {
    "hidden": true
   },
   "outputs": [],
   "source": [
    "fig, axes = plt.subplots(figsize=[30, 18], ncols=1, nrows=2, sharex=True)\n",
    "\n",
    "h_level = -2.23\n",
    "q_level = 3.0\n",
    "mask = dist_ < 140.\n",
    "\n",
    "for ind, Q in enumerate([Qeff_min, Qgs]):\n",
    "    ax = axes[ind]\n",
    "#     quadmesh = ax.pcolormesh(X, Y, Q, cmap=cm.gist_yarg)\n",
    "#     quadmesh.set_clim(vmin=2.0, vmax=4.)\n",
    "    \n",
    "    masked_array = np.ma.array(Q, mask=sig_los == 0)\n",
    "    imcmap = matplotlib.cm.gist_yarg\n",
    "    imcmap.set_bad('y',alpha=0.5)\n",
    "#     quadmesh = ax.imshow(masked_array[::-1, :], cmap=imcmap, vmin=2., vmax=4., interpolation='none')\n",
    "#     quadmesh = ax.pcolormesh(X, Y, masked_array, cmap=cm.gist_yarg)\n",
    "#     quadmesh.set_clim(vmin=2.0, vmax=4.)\n",
    "\n",
    "    CS = ax.contourf(X, Y, Q, levels=[0., q_level], colors=(['g', 'm'][ind]), alpha=0.3)\n",
    "    if ind == 0: \n",
    "        CS1 = ax.contourf(X, Y, Qeff_max, levels=[0., q_level], colors=('g'), alpha=0.4)\n",
    "        CS1 = ax.contour(X, Y, Qeff_min_rom, levels=[0., q_level], colors=('r'), alpha=0.7, linewidths=(2.))\n",
    "    else:   \n",
    "        ax.plot([-1, -2], [-1, -2], '-', color='g', label=r'$\\mathrm{Q_{eff}^{min}}$', lw=20, alpha=0.3)\n",
    "        ax.plot([-1, -2], [-1, -2], '-', color='g', label=r'$\\mathrm{Q_{eff}^{max}}$', lw=20, alpha=0.7)\n",
    "#         ax.plot([-1, -2], [-1, -2], '-', color=[181/256., 208/256., 124/256.], \n",
    "#                 label=r'$\\mathrm{Q_{eff}^{RF}}$', lw=20, alpha=0.9)\n",
    "        ax.plot([-1, -2], [-1, -2], '-', color='r', \n",
    "                label=r'$\\mathrm{Q_{eff}^{RF}}$', lw=2, alpha=0.9)\n",
    "        ax.plot([-1, -2], [-1, -2], '-', color='m', label=r'$\\mathrm{Q_{g}}$', lw=20, alpha=0.3)\n",
    "    \n",
    "        legend = ax.legend(loc=(0.845, 0.7), shadow=False, fontsize=45)\n",
    "        legend.get_frame().set_facecolor('#FFFFFF')\n",
    "\n",
    "#     CS2 = ax.contour(X, Y, log_Halpha_SFR_, levels=[h_level], colors=('grey'), alpha=1.)\n",
    "    CS3 = ax.contourf(X, Y, log_Halpha_SFR_, levels=[h_level, -0.99], \n",
    "                      colors=('none'), hatches=['.'], alpha=0.)\n",
    "    \n",
    "    # CS = plt.contour(X, Y, Sigma_HI, levels=[5., 10.], aspect='auto', alpha=0.5)\n",
    "    \n",
    "#     ax.add_colorbar()\n",
    "    # CS = plt.contour(X, Y, Qeff_min, levels=[2.5], colors=('g'))\n",
    "    \n",
    "    ax.text(2, 45, [r'$\\mathrm{Q_{eff}}$', r'$\\mathrm{Q_{g}}$'][ind], fontsize=70, color='black', \n",
    "           bbox=dict(facecolor='white', edgecolor='none'))\n",
    "\n",
    "    CS = ax.contour(X, Y, dist_, levels=[140.])\n",
    "\n",
    "#     mark_stars(colors=('y'), levels=[0.999, 1.001], ax=ax)\n",
    "    \n",
    "#     add_SFR_contours(colors=('red'), levels=[h_limit], ax=ax, linewidths=(2.))\n",
    "\n",
    "    circle2 = plt.Circle((4+Nx/2, 1+Ny/2), 7., color='b', fill=False, lw=6, ls='--')\n",
    "    ax.add_artist(circle2)\n",
    "\n",
    "#     add_spirals(ax, colors=['m', 'm'], lw=10, alpha=0.2)\n",
    "    \n",
    "    ax.set_xlim(0, Nx-1)\n",
    "    ax.set_ylim(0, Ny-1)\n",
    "#     ax.set_yticklabels(ax.get_yticks(), fontsize=20)\n",
    "    ax.set_yticks([(l*Ny/108.)+28. for l in np.arange(-40., 60, 20)])\n",
    "    ax.set_yticklabels(['{:2.0f}'.format(l) for l in np.arange(-40., 60, 20)], fontsize=30)\n",
    "    ax.set_ylabel(r'$\\Delta Y, \\mathrm{arcsec}$', fontsize=45)\n",
    "    ax.tick_params(axis='both', length=8, width=3)\n",
    "    ax.tick_params(axis='both', length=4, width=2, which='minor')\n",
    "    ax.xaxis.set_minor_locator(AutoMinorLocator(3))\n",
    "    ax.yaxis.set_minor_locator(AutoMinorLocator(2))\n",
    "\n",
    "\n",
    "# cbar = fig.colorbar(quadmesh, ticks=[2, 3, 4], orientation='horizontal')\n",
    "# cbar.ax.set_yticklabels(['< -1', '0', '> 1'])  # vertically oriented colorbar\n",
    "\n",
    "plt.xticks([(l*Nx/328.1)+81. for l in np.arange(-150., 180, 30)], \n",
    "           ['{:2.0f}'.format(l) for l in np.arange(-150., 180, 30)], fontsize=30)\n",
    "plt.xlabel(r'$\\Delta X, \\mathrm{arcsec}$', fontsize=45)\n",
    "\n",
    "# cbar_ax = fig.add_axes([0.905, 0.10, 0.02, 0.8])\n",
    "# fig.colorbar(quadmesh, cax=cbar_ax, ticks=np.arange(2., 4.5, 0.5))\n",
    "# cbar_ax.set_yticklabels(['< 2.0', '2.5', '3.0', '3.5', '> 4.0'], fontsize=25)\n",
    "# # plt.ylabel(r'$\\mathrm{Q}$', fontsize=30, rotation=0)\n",
    "\n",
    "\n",
    "fig.subplots_adjust(wspace=0.2, hspace=0.0)\n",
    "plt.savefig(paper_imgs_dir3 +'threshold_results2.eps', format='eps', bbox_inches='tight')\n",
    "plt.savefig(paper_imgs_dir3 +'threshold_results2.png', format='png', bbox_inches='tight')\n",
    "plt.savefig(paper_imgs_dir3 +'threshold_results2.pdf', format='pdf', dpi=150, bbox_inches='tight')\n",
    "plt.show()"
   ]
  },
  {
   "cell_type": "code",
   "execution_count": null,
   "metadata": {
    "hidden": true
   },
   "outputs": [],
   "source": [
    "mpl.rcParams['hatch.linewidth'] = 0.1  # previous pdf hatch linewidth\n",
    "mpl.rcParams['hatch.linewidth'] = 1.8  # previous svg hatch linewidth"
   ]
  },
  {
   "cell_type": "code",
   "execution_count": null,
   "metadata": {
    "hidden": true,
    "scrolled": false
   },
   "outputs": [],
   "source": [
    "fig, axes = plt.subplots(figsize=[30, 18], ncols=1, nrows=2, sharex=True)\n",
    "\n",
    "h_level = -2.23\n",
    "q_level = 3.0\n",
    "mask = dist_ < 140.\n",
    "\n",
    "for ind, Q in enumerate([Qeff_min, Qgs]):\n",
    "    ax = axes[ind]\n",
    "#     quadmesh = ax.pcolormesh(X, Y, Q, cmap=cm.gist_yarg)\n",
    "#     quadmesh.set_clim(vmin=2.0, vmax=4.)\n",
    "    \n",
    "    masked_array = np.ma.array(Q, mask=sig_los == 0)\n",
    "    imcmap = matplotlib.cm.gist_yarg\n",
    "    imcmap.set_bad('y',alpha=0.5)\n",
    "#     quadmesh = ax.imshow(masked_array[::-1, :], cmap=imcmap, vmin=2., vmax=4., interpolation='none')\n",
    "#     quadmesh = ax.pcolormesh(X, Y, masked_array, cmap=cm.gist_yarg)\n",
    "#     quadmesh.set_clim(vmin=2.0, vmax=4.)\n",
    "\n",
    "    CS = ax.contourf(X, Y, Q, levels=[0., q_level], colors=(['g', 'm'][ind]), alpha=0.4)\n",
    "    if ind == 0: \n",
    "        CS1 = ax.contourf(X, Y, Qeff_max, levels=[0., q_level], colors=('b'), alpha=0.3)\n",
    "        CS1 = ax.contour(X, Y, Qeff_min_rom, levels=[0., q_level], colors=('r'), alpha=0.7, linewidths=(2.))\n",
    "    else:   \n",
    "        ax.plot([-1, -2], [-1, -2], '-', color='g', label=r'$\\mathrm{Q_{eff}^{min}}$', lw=20, alpha=0.4)\n",
    "#         ax.plot([-1, -2], [-1, -2], '-', color='g', label=r'$\\mathrm{Q_{eff}^{max}}$', lw=20, alpha=0.7)\n",
    "        ax.plot([-1, -2], [-1, -2], '-', color=[106/256., 142/256., 183/256.], \n",
    "                label=r'$\\mathrm{Q_{eff}^{max}}$', lw=20, alpha=0.9)\n",
    "#         ax.plot([-1, -2], [-1, -2], '-', color=[181/256., 208/256., 124/256.], \n",
    "#                 label=r'$\\mathrm{Q_{eff}^{RF}}$', lw=20, alpha=0.9)\n",
    "        ax.plot([-1, -2], [-1, -2], '-', color='r', \n",
    "                label=r'$\\mathrm{Q_{eff}^{RF}}$', lw=2, alpha=0.9)\n",
    "        ax.plot([-1, -2], [-1, -2], '-', color='m', label=r'$\\mathrm{Q_{g}}$', lw=20, alpha=0.3)\n",
    "    \n",
    "        legend = ax.legend(loc=(0.845, 0.7), shadow=False, fontsize=45)\n",
    "        legend.get_frame().set_facecolor('#FFFFFF')\n",
    "\n",
    "#     CS2 = ax.contour(X, Y, log_Halpha_SFR_, levels=[h_level], colors=('grey'), alpha=1.)\n",
    "    CS3 = ax.contourf(X, Y, log_Halpha_SFR_, levels=[h_level, -0.99], \n",
    "                      colors=('none'), hatches=['.'], alpha=0.)\n",
    "    \n",
    "    # CS = plt.contour(X, Y, Sigma_HI, levels=[5., 10.], aspect='auto', alpha=0.5)\n",
    "    \n",
    "#     ax.add_colorbar()\n",
    "    # CS = plt.contour(X, Y, Qeff_min, levels=[2.5], colors=('g'))\n",
    "    \n",
    "    ax.text(2, 45, [r'$\\mathrm{Q_{eff}}$', r'$\\mathrm{Q_{g}}$'][ind], fontsize=70, color='black', \n",
    "           bbox=dict(facecolor='white', edgecolor='none'))\n",
    "\n",
    "    CS = ax.contour(X, Y, dist_, levels=[140.])\n",
    "\n",
    "#     mark_stars(colors=('y'), levels=[0.999, 1.001], ax=ax)\n",
    "    \n",
    "#     add_SFR_contours(colors=('red'), levels=[h_limit], ax=ax, linewidths=(2.))\n",
    "\n",
    "    circle2 = plt.Circle((4+Nx/2, 1+Ny/2), 7., color='b', fill=False, lw=6, ls='--')\n",
    "    ax.add_artist(circle2)\n",
    "\n",
    "#     add_spirals(ax, colors=['m', 'm'], lw=10, alpha=0.2)\n",
    "    \n",
    "    ax.set_xlim(0, Nx-1)\n",
    "    ax.set_ylim(0, Ny-1)\n",
    "#     ax.set_yticklabels(ax.get_yticks(), fontsize=20)\n",
    "    ax.set_yticks([(l*Ny/108.)+28. for l in np.arange(-40., 60, 20)])\n",
    "    ax.set_yticklabels(['{:2.0f}'.format(l) for l in np.arange(-40., 60, 20)], fontsize=30)\n",
    "    ax.set_ylabel(r'$\\Delta Y, \\mathrm{arcsec}$', fontsize=45)\n",
    "    ax.tick_params(axis='both', length=8, width=3)\n",
    "    ax.tick_params(axis='both', length=4, width=2, which='minor')\n",
    "    ax.xaxis.set_minor_locator(AutoMinorLocator(3))\n",
    "    ax.yaxis.set_minor_locator(AutoMinorLocator(2))\n",
    "\n",
    "\n",
    "# cbar = fig.colorbar(quadmesh, ticks=[2, 3, 4], orientation='horizontal')\n",
    "# cbar.ax.set_yticklabels(['< -1', '0', '> 1'])  # vertically oriented colorbar\n",
    "\n",
    "plt.xticks([(l*Nx/328.1)+81. for l in np.arange(-150., 180, 30)], \n",
    "           ['{:2.0f}'.format(l) for l in np.arange(-150., 180, 30)], fontsize=30)\n",
    "plt.xlabel(r'$\\Delta X, \\mathrm{arcsec}$', fontsize=45)\n",
    "\n",
    "# cbar_ax = fig.add_axes([0.905, 0.10, 0.02, 0.8])\n",
    "# fig.colorbar(quadmesh, cax=cbar_ax, ticks=np.arange(2., 4.5, 0.5))\n",
    "# cbar_ax.set_yticklabels(['< 2.0', '2.5', '3.0', '3.5', '> 4.0'], fontsize=25)\n",
    "# # plt.ylabel(r'$\\mathrm{Q}$', fontsize=30, rotation=0)\n",
    "\n",
    "\n",
    "fig.subplots_adjust(wspace=0.2, hspace=0.0)\n",
    "plt.savefig(paper_imgs_dir3 +'threshold_results_c.eps', format='eps', bbox_inches='tight')\n",
    "plt.savefig(paper_imgs_dir3 +'threshold_results_c.png', format='png', bbox_inches='tight')\n",
    "plt.savefig(paper_imgs_dir3 +'threshold_results_c.pdf', format='pdf', dpi=150, bbox_inches='tight')\n",
    "plt.show()"
   ]
  },
  {
   "cell_type": "markdown",
   "metadata": {
    "collapsed": true,
    "heading_collapsed": true
   },
   "source": [
    "# Appendix"
   ]
  }
 ],
 "metadata": {
  "kernelspec": {
   "display_name": "Python 2",
   "language": "python",
   "name": "python2"
  },
  "language_info": {
   "codemirror_mode": {
    "name": "ipython",
    "version": 2
   },
   "file_extension": ".py",
   "mimetype": "text/x-python",
   "name": "python",
   "nbconvert_exporter": "python",
   "pygments_lexer": "ipython2",
   "version": "2.7.12"
  },
  "nav_menu": {},
  "toc": {
   "nav_menu": {
    "height": "495px",
    "width": "297px"
   },
   "number_sections": true,
   "sideBar": true,
   "skip_h1_title": false,
   "title_cell": "Table of Contents",
   "title_sidebar": "Contents",
   "toc_cell": false,
   "toc_position": {},
   "toc_section_display": "block",
   "toc_window_display": false
  }
 },
 "nbformat": 4,
 "nbformat_minor": 2
}
