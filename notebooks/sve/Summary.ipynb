{
 "cells": [
  {
   "cell_type": "code",
   "execution_count": 1,
   "metadata": {
    "collapsed": false
   },
   "outputs": [],
   "source": [
    "title = ['Имя', 'Тип', 'Наклон', 'sigma_R_0', 'alpha', 'диплом', 'газ']\n",
    "\n",
    "ngc0338 = ['NGC 338', 'Sab', 64, '150-130', 'Широкий минимум 0.4-0.8', 'да, согласуется фотометрия, но 1F=2F', 'да, много, 100-140']\n",
    "ngc1167 = ['NGC 1167', 'S0', 36, 'нет', 'нет', 'да, согласуется фотометрия, интересный результат', 'да, далекий Струве, 150-170']\n",
    "ngc2273 = ['NGC 2273', 'SB', 55, 'maj-110-190\\nmin-120-180', 'нет', 'да, декомп. противоречивая, сильный бар', 'да, Ноордерм., 155-195']\n",
    "ngc3245 = ['NGC 3245', 'S0', 62, 'min-250-200\\nmaj-220\\n exp min-120 maj-80-120', 'maj<0.6', 'нет', 'да, Засов, очень плохая, 160']\n",
    "ngc4150 = ['NGC 4150', 'S0', 56, '80-120', 'maj<0.6', 'нет', 'нет']\n",
    "ngc5440 = ['NGC 5440', 'Sa', 66, 'нет', 'нет', 'нет', 'да, Засов']"
   ]
  },
  {
   "cell_type": "code",
   "execution_count": 2,
   "metadata": {
    "collapsed": false
   },
   "outputs": [],
   "source": [
    "data = [title, ngc0338, ngc1167, ngc2273, ngc3245, ngc4150, ngc5440]\n",
    "\n",
    "class ListTable(list):\n",
    "    \"\"\" Overridden list class which takes a 2-dimensional list of \n",
    "        the form [[1,2,3],[4,5,6]], and renders an HTML Table in \n",
    "        IPython Notebook. \"\"\"\n",
    "    \n",
    "    def _repr_html_(self):\n",
    "        html = [\"<table>\"]\n",
    "        for row in self:\n",
    "            html.append(\"<tr>\")\n",
    "            \n",
    "            for col in row:\n",
    "                html.append(\"<td>{0}</td>\".format(col))\n",
    "            \n",
    "            html.append(\"</tr>\")\n",
    "        html.append(\"</table>\")\n",
    "        return ''.join(html)"
   ]
  },
  {
   "cell_type": "code",
   "execution_count": 11,
   "metadata": {
    "collapsed": false
   },
   "outputs": [
    {
     "data": {
      "text/html": [
       "<table><tr><td>Имя</td><td>Тип</td><td>Наклон</td><td>sigma_R_0</td><td>alpha</td><td>диплом</td><td>газ</td></tr><tr><td>NGC 338</td><td>Sab</td><td>64</td><td>150-130</td><td>Широкий минимум 0.4-0.8</td><td>да, согласуется фотометрия, но 1F=2F</td><td>да, много, 100-140</td></tr><tr><td>NGC 1167</td><td>S0</td><td>36</td><td>нет</td><td>нет</td><td>да, согласуется фотометрия, интересный результат</td><td>да, далекий Струве, 150-170</td></tr><tr><td>NGC 2273</td><td>SB</td><td>55</td><td>maj-110-190\n",
       "min-120-180</td><td>нет</td><td>да, декомп. противоречивая, сильный бар</td><td>да, Ноордерм., 155-195</td></tr><tr><td>NGC 3245</td><td>S0</td><td>62</td><td>min-250-200\n",
       "maj-220\n",
       " exp min-120 maj-80-120</td><td>maj<0.6</td><td>нет</td><td>да, Засов, очень плохая, 160</td></tr><tr><td>NGC 4150</td><td>S0</td><td>56</td><td>80-120</td><td>maj<0.6</td><td>нет</td><td>нет</td></tr><tr><td>NGC 5440</td><td>Sa</td><td>66</td><td>нет</td><td>нет</td><td>нет</td><td>да, Засов</td></tr></table>"
      ],
      "text/plain": [
       "[['\\xd0\\x98\\xd0\\xbc\\xd1\\x8f',\n",
       "  '\\xd0\\xa2\\xd0\\xb8\\xd0\\xbf',\n",
       "  '\\xd0\\x9d\\xd0\\xb0\\xd0\\xba\\xd0\\xbb\\xd0\\xbe\\xd0\\xbd',\n",
       "  'sigma_R_0',\n",
       "  'alpha',\n",
       "  '\\xd0\\xb4\\xd0\\xb8\\xd0\\xbf\\xd0\\xbb\\xd0\\xbe\\xd0\\xbc',\n",
       "  '\\xd0\\xb3\\xd0\\xb0\\xd0\\xb7'],\n",
       " ['NGC 338',\n",
       "  'Sab',\n",
       "  64,\n",
       "  '150-130',\n",
       "  '\\xd0\\xa8\\xd0\\xb8\\xd1\\x80\\xd0\\xbe\\xd0\\xba\\xd0\\xb8\\xd0\\xb9 \\xd0\\xbc\\xd0\\xb8\\xd0\\xbd\\xd0\\xb8\\xd0\\xbc\\xd1\\x83\\xd0\\xbc 0.4-0.8',\n",
       "  '\\xd0\\xb4\\xd0\\xb0, \\xd1\\x81\\xd0\\xbe\\xd0\\xb3\\xd0\\xbb\\xd0\\xb0\\xd1\\x81\\xd1\\x83\\xd0\\xb5\\xd1\\x82\\xd1\\x81\\xd1\\x8f \\xd1\\x84\\xd0\\xbe\\xd1\\x82\\xd0\\xbe\\xd0\\xbc\\xd0\\xb5\\xd1\\x82\\xd1\\x80\\xd0\\xb8\\xd1\\x8f, \\xd0\\xbd\\xd0\\xbe 1F=2F',\n",
       "  '\\xd0\\xb4\\xd0\\xb0, \\xd0\\xbc\\xd0\\xbd\\xd0\\xbe\\xd0\\xb3\\xd0\\xbe, 100-140'],\n",
       " ['NGC 1167',\n",
       "  'S0',\n",
       "  36,\n",
       "  '\\xd0\\xbd\\xd0\\xb5\\xd1\\x82',\n",
       "  '\\xd0\\xbd\\xd0\\xb5\\xd1\\x82',\n",
       "  '\\xd0\\xb4\\xd0\\xb0, \\xd1\\x81\\xd0\\xbe\\xd0\\xb3\\xd0\\xbb\\xd0\\xb0\\xd1\\x81\\xd1\\x83\\xd0\\xb5\\xd1\\x82\\xd1\\x81\\xd1\\x8f \\xd1\\x84\\xd0\\xbe\\xd1\\x82\\xd0\\xbe\\xd0\\xbc\\xd0\\xb5\\xd1\\x82\\xd1\\x80\\xd0\\xb8\\xd1\\x8f, \\xd0\\xb8\\xd0\\xbd\\xd1\\x82\\xd0\\xb5\\xd1\\x80\\xd0\\xb5\\xd1\\x81\\xd0\\xbd\\xd1\\x8b\\xd0\\xb9 \\xd1\\x80\\xd0\\xb5\\xd0\\xb7\\xd1\\x83\\xd0\\xbb\\xd1\\x8c\\xd1\\x82\\xd0\\xb0\\xd1\\x82',\n",
       "  '\\xd0\\xb4\\xd0\\xb0, \\xd0\\xb4\\xd0\\xb0\\xd0\\xbb\\xd0\\xb5\\xd0\\xba\\xd0\\xb8\\xd0\\xb9 \\xd0\\xa1\\xd1\\x82\\xd1\\x80\\xd1\\x83\\xd0\\xb2\\xd0\\xb5, 150-170'],\n",
       " ['NGC 2273',\n",
       "  'SB',\n",
       "  55,\n",
       "  'maj-110-190\\nmin-120-180',\n",
       "  '\\xd0\\xbd\\xd0\\xb5\\xd1\\x82',\n",
       "  '\\xd0\\xb4\\xd0\\xb0, \\xd0\\xb4\\xd0\\xb5\\xd0\\xba\\xd0\\xbe\\xd0\\xbc\\xd0\\xbf. \\xd0\\xbf\\xd1\\x80\\xd0\\xbe\\xd1\\x82\\xd0\\xb8\\xd0\\xb2\\xd0\\xbe\\xd1\\x80\\xd0\\xb5\\xd1\\x87\\xd0\\xb8\\xd0\\xb2\\xd0\\xb0\\xd1\\x8f, \\xd1\\x81\\xd0\\xb8\\xd0\\xbb\\xd1\\x8c\\xd0\\xbd\\xd1\\x8b\\xd0\\xb9 \\xd0\\xb1\\xd0\\xb0\\xd1\\x80',\n",
       "  '\\xd0\\xb4\\xd0\\xb0, \\xd0\\x9d\\xd0\\xbe\\xd0\\xbe\\xd1\\x80\\xd0\\xb4\\xd0\\xb5\\xd1\\x80\\xd0\\xbc., 155-195'],\n",
       " ['NGC 3245',\n",
       "  'S0',\n",
       "  62,\n",
       "  'min-250-200\\nmaj-220\\n exp min-120 maj-80-120',\n",
       "  'maj<0.6',\n",
       "  '\\xd0\\xbd\\xd0\\xb5\\xd1\\x82',\n",
       "  '\\xd0\\xb4\\xd0\\xb0, \\xd0\\x97\\xd0\\xb0\\xd1\\x81\\xd0\\xbe\\xd0\\xb2, \\xd0\\xbe\\xd1\\x87\\xd0\\xb5\\xd0\\xbd\\xd1\\x8c \\xd0\\xbf\\xd0\\xbb\\xd0\\xbe\\xd1\\x85\\xd0\\xb0\\xd1\\x8f, 160'],\n",
       " ['NGC 4150',\n",
       "  'S0',\n",
       "  56,\n",
       "  '80-120',\n",
       "  'maj<0.6',\n",
       "  '\\xd0\\xbd\\xd0\\xb5\\xd1\\x82',\n",
       "  '\\xd0\\xbd\\xd0\\xb5\\xd1\\x82'],\n",
       " ['NGC 5440',\n",
       "  'Sa',\n",
       "  66,\n",
       "  '\\xd0\\xbd\\xd0\\xb5\\xd1\\x82',\n",
       "  '\\xd0\\xbd\\xd0\\xb5\\xd1\\x82',\n",
       "  '\\xd0\\xbd\\xd0\\xb5\\xd1\\x82',\n",
       "  '\\xd0\\xb4\\xd0\\xb0, \\xd0\\x97\\xd0\\xb0\\xd1\\x81\\xd0\\xbe\\xd0\\xb2']]"
      ]
     },
     "execution_count": 11,
     "metadata": {},
     "output_type": "execute_result"
    }
   ],
   "source": [
    "import random\n",
    "table = ListTable()\n",
    "for d in data:\n",
    "    table.append(d)\n",
    "table"
   ]
  }
 ],
 "metadata": {
  "kernelspec": {
   "display_name": "Python 2",
   "language": "python",
   "name": "python2"
  },
  "language_info": {
   "codemirror_mode": {
    "name": "ipython",
    "version": 2
   },
   "file_extension": ".py",
   "mimetype": "text/x-python",
   "name": "python",
   "nbconvert_exporter": "python",
   "pygments_lexer": "ipython2",
   "version": "2.7.12"
  },
  "nav_menu": {},
  "toc": {
   "navigate_menu": true,
   "number_sections": true,
   "sideBar": true,
   "threshold": 6,
   "toc_cell": false,
   "toc_section_display": "block",
   "toc_window_display": false
  }
 },
 "nbformat": 4,
 "nbformat_minor": 0
}
