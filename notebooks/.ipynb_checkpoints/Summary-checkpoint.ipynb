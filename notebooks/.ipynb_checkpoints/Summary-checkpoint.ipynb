{
 "metadata": {
  "name": "",
  "signature": "sha256:3907793f2ba81384383faa9d9fb6ada0667b2c64137fbc2b7b322f7d6aa6963c"
 },
 "nbformat": 3,
 "nbformat_minor": 0,
 "worksheets": [
  {
   "cells": [
    {
     "cell_type": "code",
     "collapsed": false,
     "input": [
      "title = ['\u0418\u043c\u044f', '\u0422\u0438\u043f', '\u041d\u0430\u043a\u043b\u043e\u043d', 'sigma_R_0', 'alpha', '\u0434\u0438\u043f\u043b\u043e\u043c', '\u0433\u0430\u0437']\n",
      "\n",
      "ngc0338 = ['NGC 338', 'Sab', 64, '150-130', '\u0428\u0438\u0440\u043e\u043a\u0438\u0439 \u043c\u0438\u043d\u0438\u043c\u0443\u043c 0.4-0.8', '\u0434\u0430, \u0441\u043e\u0433\u043b\u0430\u0441\u0443\u0435\u0442\u0441\u044f \u0444\u043e\u0442\u043e\u043c\u0435\u0442\u0440\u0438\u044f, \u043d\u043e 1F=2F', '\u0434\u0430, \u043c\u043d\u043e\u0433\u043e, 100-140']\n",
      "ngc1167 = ['NGC 1167', 'S0', 36, '\u043d\u0435\u0442', '\u043d\u0435\u0442', '\u0434\u0430, \u0441\u043e\u0433\u043b\u0430\u0441\u0443\u0435\u0442\u0441\u044f \u0444\u043e\u0442\u043e\u043c\u0435\u0442\u0440\u0438\u044f, \u0438\u043d\u0442\u0435\u0440\u0435\u0441\u043d\u044b\u0439 \u0440\u0435\u0437\u0443\u043b\u044c\u0442\u0430\u0442', '\u0434\u0430, \u0434\u0430\u043b\u0435\u043a\u0438\u0439 \u0421\u0442\u0440\u0443\u0432\u0435, 150-170']\n",
      "ngc2273 = ['NGC 2273', 'SB', 55, 'maj-110-190\\nmin-120-180', '\u043d\u0435\u0442', '\u0434\u0430, \u0434\u0435\u043a\u043e\u043c\u043f. \u043f\u0440\u043e\u0442\u0438\u0432\u043e\u0440\u0435\u0447\u0438\u0432\u0430\u044f, \u0441\u0438\u043b\u044c\u043d\u044b\u0439 \u0431\u0430\u0440', '\u0434\u0430, \u041d\u043e\u043e\u0440\u0434\u0435\u0440\u043c., 155-195']\n",
      "ngc3245 = ['NGC 3245', 'S0', 62, 'min-250-200\\nmaj-220\\n exp min-120 maj-80-120', 'maj<0.6', '\u043d\u0435\u0442', '\u0434\u0430, \u0417\u0430\u0441\u043e\u0432, \u043e\u0447\u0435\u043d\u044c \u043f\u043b\u043e\u0445\u0430\u044f, 160']\n",
      "ngc4150 = ['NGC 4150', 'S0', 56, '80-120', 'maj<0.6', '\u043d\u0435\u0442', '\u043d\u0435\u0442']\n",
      "ngc5440 = ['NGC 5440', 'Sa', 66, '\u043d\u0435\u0442', '\u043d\u0435\u0442', '\u043d\u0435\u0442', '\u0434\u0430, \u0417\u0430\u0441\u043e\u0432']"
     ],
     "language": "python",
     "metadata": {},
     "outputs": [],
     "prompt_number": 1
    },
    {
     "cell_type": "code",
     "collapsed": false,
     "input": [
      "data = [title, ngc0338, ngc1167, ngc2273, ngc3245, ngc4150, ngc5440]\n",
      "\n",
      "class ListTable(list):\n",
      "    \"\"\" Overridden list class which takes a 2-dimensional list of \n",
      "        the form [[1,2,3],[4,5,6]], and renders an HTML Table in \n",
      "        IPython Notebook. \"\"\"\n",
      "    \n",
      "    def _repr_html_(self):\n",
      "        html = [\"<table>\"]\n",
      "        for row in self:\n",
      "            html.append(\"<tr>\")\n",
      "            \n",
      "            for col in row:\n",
      "                html.append(\"<td>{0}</td>\".format(col))\n",
      "            \n",
      "            html.append(\"</tr>\")\n",
      "        html.append(\"</table>\")\n",
      "        return ''.join(html)"
     ],
     "language": "python",
     "metadata": {},
     "outputs": [],
     "prompt_number": 2
    },
    {
     "cell_type": "code",
     "collapsed": false,
     "input": [
      "import random\n",
      "table = ListTable()\n",
      "for d in data:\n",
      "    table.append(d)\n",
      "table"
     ],
     "language": "python",
     "metadata": {},
     "outputs": [
      {
       "html": [
        "<table><tr><td>\u0418\u043c\u044f</td><td>\u0422\u0438\u043f</td><td>\u041d\u0430\u043a\u043b\u043e\u043d</td><td>sigma_R_0</td><td>alpha</td><td>\u0434\u0438\u043f\u043b\u043e\u043c</td><td>\u0433\u0430\u0437</td></tr><tr><td>NGC 338</td><td>Sab</td><td>64</td><td>150-130</td><td>\u0428\u0438\u0440\u043e\u043a\u0438\u0439 \u043c\u0438\u043d\u0438\u043c\u0443\u043c 0.4-0.8</td><td>\u0434\u0430, \u0441\u043e\u0433\u043b\u0430\u0441\u0443\u0435\u0442\u0441\u044f \u0444\u043e\u0442\u043e\u043c\u0435\u0442\u0440\u0438\u044f, \u043d\u043e 1F=2F</td><td>\u0434\u0430, \u043c\u043d\u043e\u0433\u043e, 100-140</td></tr><tr><td>NGC 1167</td><td>S0</td><td>36</td><td>\u043d\u0435\u0442</td><td>\u043d\u0435\u0442</td><td>\u0434\u0430, \u0441\u043e\u0433\u043b\u0430\u0441\u0443\u0435\u0442\u0441\u044f \u0444\u043e\u0442\u043e\u043c\u0435\u0442\u0440\u0438\u044f, \u0438\u043d\u0442\u0435\u0440\u0435\u0441\u043d\u044b\u0439 \u0440\u0435\u0437\u0443\u043b\u044c\u0442\u0430\u0442</td><td>\u0434\u0430, \u0434\u0430\u043b\u0435\u043a\u0438\u0439 \u0421\u0442\u0440\u0443\u0432\u0435, 150-170</td></tr><tr><td>NGC 2273</td><td>SB</td><td>55</td><td>maj-110-190\n",
        "min-120-180</td><td>\u043d\u0435\u0442</td><td>\u0434\u0430, \u0434\u0435\u043a\u043e\u043c\u043f. \u043f\u0440\u043e\u0442\u0438\u0432\u043e\u0440\u0435\u0447\u0438\u0432\u0430\u044f, \u0441\u0438\u043b\u044c\u043d\u044b\u0439 \u0431\u0430\u0440</td><td>\u0434\u0430, \u041d\u043e\u043e\u0440\u0434\u0435\u0440\u043c., 155-195</td></tr><tr><td>NGC 3245</td><td>S0</td><td>62</td><td>min-250-200\n",
        "maj-220\n",
        " exp min-120 maj-80-120</td><td>maj<0.6</td><td>\u043d\u0435\u0442</td><td>\u0434\u0430, \u0417\u0430\u0441\u043e\u0432, \u043e\u0447\u0435\u043d\u044c \u043f\u043b\u043e\u0445\u0430\u044f, 160</td></tr><tr><td>NGC 4150</td><td>S0</td><td>56</td><td>80-120</td><td>maj<0.6</td><td>\u043d\u0435\u0442</td><td>\u043d\u0435\u0442</td></tr><tr><td>NGC 5440</td><td>Sa</td><td>66</td><td>\u043d\u0435\u0442</td><td>\u043d\u0435\u0442</td><td>\u043d\u0435\u0442</td><td>\u0434\u0430, \u0417\u0430\u0441\u043e\u0432</td></tr></table>"
       ],
       "metadata": {},
       "output_type": "pyout",
       "prompt_number": 11,
       "text": [
        "[['\\xd0\\x98\\xd0\\xbc\\xd1\\x8f',\n",
        "  '\\xd0\\xa2\\xd0\\xb8\\xd0\\xbf',\n",
        "  '\\xd0\\x9d\\xd0\\xb0\\xd0\\xba\\xd0\\xbb\\xd0\\xbe\\xd0\\xbd',\n",
        "  'sigma_R_0',\n",
        "  'alpha',\n",
        "  '\\xd0\\xb4\\xd0\\xb8\\xd0\\xbf\\xd0\\xbb\\xd0\\xbe\\xd0\\xbc',\n",
        "  '\\xd0\\xb3\\xd0\\xb0\\xd0\\xb7'],\n",
        " ['NGC 338',\n",
        "  'Sab',\n",
        "  64,\n",
        "  '150-130',\n",
        "  '\\xd0\\xa8\\xd0\\xb8\\xd1\\x80\\xd0\\xbe\\xd0\\xba\\xd0\\xb8\\xd0\\xb9 \\xd0\\xbc\\xd0\\xb8\\xd0\\xbd\\xd0\\xb8\\xd0\\xbc\\xd1\\x83\\xd0\\xbc 0.4-0.8',\n",
        "  '\\xd0\\xb4\\xd0\\xb0, \\xd1\\x81\\xd0\\xbe\\xd0\\xb3\\xd0\\xbb\\xd0\\xb0\\xd1\\x81\\xd1\\x83\\xd0\\xb5\\xd1\\x82\\xd1\\x81\\xd1\\x8f \\xd1\\x84\\xd0\\xbe\\xd1\\x82\\xd0\\xbe\\xd0\\xbc\\xd0\\xb5\\xd1\\x82\\xd1\\x80\\xd0\\xb8\\xd1\\x8f, \\xd0\\xbd\\xd0\\xbe 1F=2F',\n",
        "  '\\xd0\\xb4\\xd0\\xb0, \\xd0\\xbc\\xd0\\xbd\\xd0\\xbe\\xd0\\xb3\\xd0\\xbe, 100-140'],\n",
        " ['NGC 1167',\n",
        "  'S0',\n",
        "  36,\n",
        "  '\\xd0\\xbd\\xd0\\xb5\\xd1\\x82',\n",
        "  '\\xd0\\xbd\\xd0\\xb5\\xd1\\x82',\n",
        "  '\\xd0\\xb4\\xd0\\xb0, \\xd1\\x81\\xd0\\xbe\\xd0\\xb3\\xd0\\xbb\\xd0\\xb0\\xd1\\x81\\xd1\\x83\\xd0\\xb5\\xd1\\x82\\xd1\\x81\\xd1\\x8f \\xd1\\x84\\xd0\\xbe\\xd1\\x82\\xd0\\xbe\\xd0\\xbc\\xd0\\xb5\\xd1\\x82\\xd1\\x80\\xd0\\xb8\\xd1\\x8f, \\xd0\\xb8\\xd0\\xbd\\xd1\\x82\\xd0\\xb5\\xd1\\x80\\xd0\\xb5\\xd1\\x81\\xd0\\xbd\\xd1\\x8b\\xd0\\xb9 \\xd1\\x80\\xd0\\xb5\\xd0\\xb7\\xd1\\x83\\xd0\\xbb\\xd1\\x8c\\xd1\\x82\\xd0\\xb0\\xd1\\x82',\n",
        "  '\\xd0\\xb4\\xd0\\xb0, \\xd0\\xb4\\xd0\\xb0\\xd0\\xbb\\xd0\\xb5\\xd0\\xba\\xd0\\xb8\\xd0\\xb9 \\xd0\\xa1\\xd1\\x82\\xd1\\x80\\xd1\\x83\\xd0\\xb2\\xd0\\xb5, 150-170'],\n",
        " ['NGC 2273',\n",
        "  'SB',\n",
        "  55,\n",
        "  'maj-110-190\\nmin-120-180',\n",
        "  '\\xd0\\xbd\\xd0\\xb5\\xd1\\x82',\n",
        "  '\\xd0\\xb4\\xd0\\xb0, \\xd0\\xb4\\xd0\\xb5\\xd0\\xba\\xd0\\xbe\\xd0\\xbc\\xd0\\xbf. \\xd0\\xbf\\xd1\\x80\\xd0\\xbe\\xd1\\x82\\xd0\\xb8\\xd0\\xb2\\xd0\\xbe\\xd1\\x80\\xd0\\xb5\\xd1\\x87\\xd0\\xb8\\xd0\\xb2\\xd0\\xb0\\xd1\\x8f, \\xd1\\x81\\xd0\\xb8\\xd0\\xbb\\xd1\\x8c\\xd0\\xbd\\xd1\\x8b\\xd0\\xb9 \\xd0\\xb1\\xd0\\xb0\\xd1\\x80',\n",
        "  '\\xd0\\xb4\\xd0\\xb0, \\xd0\\x9d\\xd0\\xbe\\xd0\\xbe\\xd1\\x80\\xd0\\xb4\\xd0\\xb5\\xd1\\x80\\xd0\\xbc., 155-195'],\n",
        " ['NGC 3245',\n",
        "  'S0',\n",
        "  62,\n",
        "  'min-250-200\\nmaj-220\\n exp min-120 maj-80-120',\n",
        "  'maj<0.6',\n",
        "  '\\xd0\\xbd\\xd0\\xb5\\xd1\\x82',\n",
        "  '\\xd0\\xb4\\xd0\\xb0, \\xd0\\x97\\xd0\\xb0\\xd1\\x81\\xd0\\xbe\\xd0\\xb2, \\xd0\\xbe\\xd1\\x87\\xd0\\xb5\\xd0\\xbd\\xd1\\x8c \\xd0\\xbf\\xd0\\xbb\\xd0\\xbe\\xd1\\x85\\xd0\\xb0\\xd1\\x8f, 160'],\n",
        " ['NGC 4150',\n",
        "  'S0',\n",
        "  56,\n",
        "  '80-120',\n",
        "  'maj<0.6',\n",
        "  '\\xd0\\xbd\\xd0\\xb5\\xd1\\x82',\n",
        "  '\\xd0\\xbd\\xd0\\xb5\\xd1\\x82'],\n",
        " ['NGC 5440',\n",
        "  'Sa',\n",
        "  66,\n",
        "  '\\xd0\\xbd\\xd0\\xb5\\xd1\\x82',\n",
        "  '\\xd0\\xbd\\xd0\\xb5\\xd1\\x82',\n",
        "  '\\xd0\\xbd\\xd0\\xb5\\xd1\\x82',\n",
        "  '\\xd0\\xb4\\xd0\\xb0, \\xd0\\x97\\xd0\\xb0\\xd1\\x81\\xd0\\xbe\\xd0\\xb2']]"
       ]
      }
     ],
     "prompt_number": 11
    }
   ],
   "metadata": {}
  }
 ]
}