{
 "cells": [
  {
   "cell_type": "code",
   "execution_count": 14,
   "metadata": {
    "collapsed": false
   },
   "outputs": [
    {
     "name": "stdout",
     "output_type": "stream",
     "text": [
      "Using matplotlib backend: Qt4Agg\n",
      "Populating the interactive namespace from numpy and matplotlib\n"
     ]
    }
   ],
   "source": [
    "from IPython.display import Image\n",
    "import numpy as np\n",
    "import math\n",
    "\n",
    "%pylab\n",
    "%matplotlib inline"
   ]
  },
  {
   "cell_type": "markdown",
   "metadata": {},
   "source": [
    "# Сравнение S4G и 2MASS массовых моделей"
   ]
  },
  {
   "cell_type": "markdown",
   "metadata": {},
   "source": [
    "Идея в том, чтобы сравнить полные массы галактик из S4G и из 2MASS фотометрии, чтобы понять, почему диски так недооцениваются.\n",
    "\n",
    "Данные из https://irsa.ipac.caltech.edu/cgi-bin/Gator/nph-dd?catalog=s4gcat и https://ned.ipac.caltech.edu/forms/gmd.html"
   ]
  },
  {
   "cell_type": "code",
   "execution_count": 15,
   "metadata": {
    "collapsed": true
   },
   "outputs": [],
   "source": [
    "sun_abs_mags = {'U' : 5.61,\n",
    "                'B' : 5.48,\n",
    "                'V' : 4.83,\n",
    "                'R' : 4.42,\n",
    "                'I' : 4.08,\n",
    "                'J' : 3.64,\n",
    "                'H' : 3.32,\n",
    "                'K' : 3.28,\n",
    "                '3.6' : 3.24, # Oh et al. 2008\n",
    "                'u' : 6.77, #SDSS bands from http://mips.as.arizona.edu/~cnaw/sun.html\n",
    "                'g' : 5.36,\n",
    "                'r' : 4.67,\n",
    "                'i' : 4.48,\n",
    "                'z' : 4.42\n",
    "               }"
   ]
  },
  {
   "cell_type": "code",
   "execution_count": 16,
   "metadata": {
    "collapsed": true
   },
   "outputs": [],
   "source": [
    "s4g_rawdata = [] \n",
    "\n",
    "with open('IpacTableFromSource.tbl') as s4g:\n",
    "    for line in s4g.readlines():\n",
    "        if line[0] == '\\\\' or line[0] == '|':\n",
    "            pass\n",
    "        else:\n",
    "            s4g_rawdata.append(\" \".join(line.split()).split(' '))"
   ]
  },
  {
   "cell_type": "code",
   "execution_count": 17,
   "metadata": {
    "collapsed": false
   },
   "outputs": [
    {
     "name": "stdout",
     "output_type": "stream",
     "text": [
      "name    [3.6]   [4.5]   log10(stellar mass)   distance(Mpc)  std(distance)\n"
     ]
    }
   ],
   "source": [
    "print 'name    [3.6]   [4.5]   log10(stellar mass)   distance(Mpc)  std(distance)'"
   ]
  },
  {
   "cell_type": "code",
   "execution_count": 18,
   "metadata": {
    "collapsed": false
   },
   "outputs": [
    {
     "data": {
      "text/plain": [
       "['UGC00132', '-17.335', '-16.911', '9.058', 'null', 'null']"
      ]
     },
     "execution_count": 18,
     "metadata": {},
     "output_type": "execute_result"
    }
   ],
   "source": [
    "s4g_rawdata[0]"
   ]
  },
  {
   "cell_type": "markdown",
   "metadata": {},
   "source": [
    "Разброс M/L по калибровке $log(M/L) = −0.339(±0.057)\\times([3.6]−[4.5])−0.336(±0.002)$ https://arxiv.org/abs/1410.0009:"
   ]
  },
  {
   "cell_type": "code",
   "execution_count": 19,
   "metadata": {
    "collapsed": false
   },
   "outputs": [],
   "source": [
    "m_to_ls = []\n",
    "for l in s4g_rawdata:\n",
    "    if l[1] != 'null' and l[2] != 'null':\n",
    "        m_to_ls.append(np.power(10, -0.339*(float(l[1]) - float(l[2])) -0.336))"
   ]
  },
  {
   "cell_type": "code",
   "execution_count": 20,
   "metadata": {
    "collapsed": false
   },
   "outputs": [
    {
     "data": {
      "image/png": "[encoded data removed]",
      "text/plain": [
       "<matplotlib.figure.Figure at 0x82817b8>"
      ]
     },
     "metadata": {},
     "output_type": "display_data"
    }
   ],
   "source": [
    "plt.hist(m_to_ls, bins=20, alpha=0.2)\n",
    "plt.axvline(x=0.6);"
   ]
  },
  {
   "cell_type": "markdown",
   "metadata": {},
   "source": [
    "Разброс достаточно маленький."
   ]
  },
  {
   "cell_type": "code",
   "execution_count": 21,
   "metadata": {
    "collapsed": true
   },
   "outputs": [],
   "source": [
    "twomass_rawdata = [] \n",
    "\n",
    "with open('NED_S4G_2MASS_crossdata.txt') as crossdata:\n",
    "    for line in crossdata.readlines():\n",
    "            twomass_rawdata.append(\" \".join(line.split()).split('|'))"
   ]
  },
  {
   "cell_type": "code",
   "execution_count": 22,
   "metadata": {
    "collapsed": false
   },
   "outputs": [
    {
     "data": {
      "text/plain": [
       "['1 ',\n",
       " ' ',\n",
       " 'PGC041965 ',\n",
       " ' ',\n",
       " 'UGCA 289 ',\n",
       " '12h35m37.52s',\n",
       " '-07d52m40.1s',\n",
       " 'G ',\n",
       " ' 0.003269',\n",
       " ' ',\n",
       " ' 12.832',\n",
       " ' 0.058',\n",
       " ' 1.17E-28',\n",
       " ' 6.43E-30',\n",
       " ' 12.453',\n",
       " ' 0.103',\n",
       " ' 1.07E-28',\n",
       " ' 1.06E-29',\n",
       " ' 12.235',\n",
       " ' 0.149',\n",
       " ' 8.51E-29',\n",
       " ' 1.25E-29',\n",
       " '1']"
      ]
     },
     "execution_count": 22,
     "metadata": {},
     "output_type": "execute_result"
    }
   ],
   "source": [
    "twomass_rawdata[0]"
   ]
  },
  {
   "cell_type": "code",
   "execution_count": 23,
   "metadata": {
    "collapsed": false
   },
   "outputs": [
    {
     "name": "stdout",
     "output_type": "stream",
     "text": [
      "Name         J         H      K_s\n",
      "PGC041965   12.832  12.453  12.235\n"
     ]
    }
   ],
   "source": [
    "print 'Name         J         H      K_s'\n",
    "print twomass_rawdata[0][2], twomass_rawdata[0][10], twomass_rawdata[0][14], twomass_rawdata[0][18]"
   ]
  },
  {
   "cell_type": "code",
   "execution_count": 24,
   "metadata": {
    "collapsed": false
   },
   "outputs": [
    {
     "name": "stdout",
     "output_type": "stream",
     "text": [
      "['NGC4544', '-19.036', '-18.634', '9.721', '21.233', '0.824']\n",
      "5.26E+09\n"
     ]
    }
   ],
   "source": [
    "print s4g_rawdata[522]\n",
    "print '{:2.2E}'.format(np.power(10., float(s4g_rawdata[522][3])))"
   ]
  },
  {
   "cell_type": "code",
   "execution_count": 25,
   "metadata": {
    "collapsed": false
   },
   "outputs": [
    {
     "name": "stdout",
     "output_type": "stream",
     "text": [
      "699\n",
      "['19 ', ' ', 'NGC4544 ', ' ', 'NGC 4544 ', '12h35m36.57s', '+03d02m04.3s', 'G ', ' 0.003849', ' ', ' 11.140', ' 0.028', ' 5.57E-28', ' 1.46E-29', ' 10.416', ' 0.030', ' 6.98E-28', ' 1.96E-29', ' 10.110', ' 0.045', ' 6.03E-28', ' 2.55E-29', '19']\n"
     ]
    }
   ],
   "source": [
    "for ind, l in enumerate(twomass_rawdata):\n",
    "    if l[2] == 'NGC4544 ':\n",
    "        print ind\n",
    "        print l"
   ]
  },
  {
   "cell_type": "code",
   "execution_count": 26,
   "metadata": {
    "collapsed": false
   },
   "outputs": [
    {
     "name": "stdout",
     "output_type": "stream",
     "text": [
      "6.54E+09\n"
     ]
    }
   ],
   "source": [
    "M = float(twomass_rawdata[699][14]) - 5*np.log10(float(s4g_rawdata[522][4])) + 5 - 30.\n",
    "m_to_l = 1.0\n",
    "print '{:2.2E}'.format(m_to_l*np.power(10., 0.4*(sun_abs_mags['H'] - M)))"
   ]
  },
  {
   "cell_type": "code",
   "execution_count": 27,
   "metadata": {
    "collapsed": false
   },
   "outputs": [],
   "source": [
    "s4g_dict = {}\n",
    "for l in s4g_rawdata:\n",
    "    if l[3] != 'null' and l[4] != 'null' and l[5] != 'null':\n",
    "        s4g_dict[l[0]+' '] = (float(l[3]), float(l[4]), float(l[5]))"
   ]
  },
  {
   "cell_type": "code",
   "execution_count": 28,
   "metadata": {
    "collapsed": true
   },
   "outputs": [],
   "source": [
    "final = []\n",
    "for gal in twomass_rawdata:\n",
    "    if gal[2] in s4g_dict.keys() and gal[10] != ' ' and gal[14] != ' ' and gal[18] != ' ':\n",
    "        log_stellar, dist, err_dist = s4g_dict[gal[2]]\n",
    "        stellar_mass_s4g = np.power(10., log_stellar)\n",
    "        magJ, magH, magK = float(gal[10]), float(gal[14]), float(gal[18])\n",
    "        photom = []\n",
    "        for m_to_l, mag, band in zip([1.2, 1., 0.8], [magJ, magH, magK], ['J','H','K']):\n",
    "            M = mag - 5*np.log10(dist) - 30. + 5.\n",
    "            twomass_stellar = m_to_l*np.power(10., 0.4*(sun_abs_mags[band] - M))\n",
    "            photom.append(twomass_stellar)\n",
    "        final.append((gal[2], stellar_mass_s4g, photom))"
   ]
  },
  {
   "cell_type": "code",
   "execution_count": 29,
   "metadata": {
    "collapsed": false
   },
   "outputs": [
    {
     "data": {
      "text/plain": [
       "898"
      ]
     },
     "execution_count": 29,
     "metadata": {},
     "output_type": "execute_result"
    }
   ],
   "source": [
    "len(final)"
   ]
  },
  {
   "cell_type": "code",
   "execution_count": 30,
   "metadata": {
    "collapsed": false
   },
   "outputs": [
    {
     "data": {
      "image/png": "[encoded data removed]",
      "text/plain": [
       "<matplotlib.figure.Figure at 0x8aaf6a0>"
      ]
     },
     "metadata": {},
     "output_type": "display_data"
    }
   ],
   "source": [
    "fig = plt.figure(figsize = [16, 5])\n",
    "ax = plt.subplot('131')\n",
    "ax.plot([l[1] for l in final], [l[2][0] for l in final], '.')\n",
    "ax.set_title('J')\n",
    "ax.set_xlabel('S4G')\n",
    "ax.set_ylabel('2MASS')\n",
    "ax.plot(ax.get_xlim(), ax.get_ylim(), ls=\"--\", c=\".3\")\n",
    "\n",
    "ax = plt.subplot('132')\n",
    "ax.plot([l[1] for l in final], [l[2][1] for l in final], '.')\n",
    "ax.set_title('H')\n",
    "ax.set_xlabel('S4G')\n",
    "ax.set_ylabel('2MASS')\n",
    "ax.plot(ax.get_xlim(), ax.get_ylim(), ls=\"--\", c=\".3\")\n",
    "\n",
    "ax = plt.subplot('133')\n",
    "ax.plot([l[1] for l in final], [l[2][2] for l in final], '.')\n",
    "ax.set_title('K_s')\n",
    "ax.set_xlabel('S4G')\n",
    "ax.set_ylabel('2MASS')\n",
    "ax.plot(ax.get_xlim(), ax.get_ylim(), ls=\"--\", c=\".3\")\n",
    "\n",
    "plt.show()"
   ]
  },
  {
   "cell_type": "markdown",
   "metadata": {},
   "source": [
    "Как видим, все замечательно согласуется."
   ]
  },
  {
   "cell_type": "code",
   "execution_count": 31,
   "metadata": {
    "collapsed": false
   },
   "outputs": [
    {
     "data": {
      "image/png": "[encoded data removed]",
      "text/plain": [
       "<matplotlib.figure.Figure at 0x923c400>"
      ]
     },
     "metadata": {},
     "output_type": "display_data"
    }
   ],
   "source": [
    "fig = plt.figure(figsize = [8, 5])\n",
    "ax = plt.subplot()\n",
    "ax.plot([l[1] for l in final], [l[2][0] for l in final], '.', label='J')\n",
    "\n",
    "ax = plt.subplot()\n",
    "ax.plot([l[1] for l in final], [l[2][1] for l in final], '.', label='H')\n",
    "\n",
    "ax = plt.subplot()\n",
    "ax.plot([l[1] for l in final], [l[2][2] for l in final], '.', label='K')\n",
    "ax.set_title('J, H, K_s')\n",
    "ax.set_xlabel('S4G')\n",
    "ax.set_ylabel('2MASS')\n",
    "ax.plot(ax.get_xlim(), ax.get_ylim(), ls=\"--\", c=\".3\")\n",
    "plt.legend(loc='best')\n",
    "plt.show()"
   ]
  },
  {
   "cell_type": "code",
   "execution_count": 32,
   "metadata": {
    "collapsed": true
   },
   "outputs": [],
   "source": [
    "for l in final:\n",
    "    if l[0] in ['NGC2985 ', 'NGC4725 ', 'NGC4258 ']:\n",
    "        print l"
   ]
  },
  {
   "cell_type": "code",
   "execution_count": 33,
   "metadata": {
    "collapsed": false
   },
   "outputs": [
    {
     "name": "stdout",
     "output_type": "stream",
     "text": [
      "311\n",
      "['224', ' ', 'NGC4258 ', ' ', 'MESSIER 106 ', '12h18m57.50s', '+47d18m14.3s', 'G ', ' 0.001494', ' ', ' ', ' ', ' ', ' ', ' ', ' ', ' ', ' ', ' ', ' ', ' ', ' ', '224']\n",
      "389\n",
      "['9 ', ' ', 'NGC4725 ', ' ', 'NGC 4725 ', '12h50m26.58s', '+25d30m02.9s', 'G ', ' 0.004023', ' ', ' ', ' ', ' ', ' ', ' ', ' ', ' ', ' ', ' ', ' ', ' ', ' ', '9']\n",
      "1738\n",
      "['159', ' ', 'NGC2985 ', ' ', 'NGC 2985 ', '09h50m22.23s', '+72d16m43.1s', 'G ', ' 0.004410', ' ', ' ', ' ', ' ', ' ', ' ', ' ', ' ', ' ', ' ', ' ', ' ', ' ', '159']\n"
     ]
    }
   ],
   "source": [
    "for ind, l in enumerate(twomass_rawdata):\n",
    "    if l[2] in ['NGC2985 ', 'NGC4725 ', 'NGC4258 ']:\n",
    "        print ind\n",
    "        print l"
   ]
  },
  {
   "cell_type": "markdown",
   "metadata": {
    "collapsed": true
   },
   "source": [
    "Что насчет полной массы из калибровок, как она согласуется с табличной?"
   ]
  },
  {
   "cell_type": "markdown",
   "metadata": {},
   "source": [
    "https://irsa.ipac.caltech.edu/cgi-bin/2MASS/PubGalPS/nph-galps?locstr=147.592417+72.278967+eq&radius=5"
   ]
  },
  {
   "cell_type": "code",
   "execution_count": 34,
   "metadata": {
    "collapsed": false
   },
   "outputs": [
    {
     "name": "stdout",
     "output_type": "stream",
     "text": [
      "1692\n",
      "['NGC4258', '-21.328', '-20.881', '10.672', '7.444', '0.831']\n",
      "1829\n",
      "['NGC2985', '-21.746', '-21.276', '10.856', '21.500', '1.273']\n",
      "2006\n",
      "['NGC4725', '-21.762', '-21.267', '10.881', '13.637', '2.778']\n"
     ]
    }
   ],
   "source": [
    "for ind, l in enumerate(s4g_rawdata):\n",
    "    if l[0] in ['NGC2985', 'NGC4725', 'NGC4258']:\n",
    "        print ind\n",
    "        print l"
   ]
  },
  {
   "cell_type": "code",
   "execution_count": 35,
   "metadata": {
    "collapsed": false
   },
   "outputs": [
    {
     "name": "stdout",
     "output_type": "stream",
     "text": [
      "['NGC2985', '-21.746', '-21.276', '10.856', '21.500', '1.273']\n",
      "7.18E+10\n"
     ]
    }
   ],
   "source": [
    "print s4g_rawdata[1829]\n",
    "print '{:2.2E}'.format(np.power(10., float(s4g_rawdata[1829][3])))"
   ]
  },
  {
   "cell_type": "markdown",
   "metadata": {},
   "source": [
    "* j_m_ext\t8.307\n",
    "* h_m_ext\t7.493\n",
    "* k_m_ext\t7.360"
   ]
  },
  {
   "cell_type": "code",
   "execution_count": 36,
   "metadata": {
    "collapsed": false
   },
   "outputs": [
    {
     "name": "stdout",
     "output_type": "stream",
     "text": [
      "9.90E+10\n"
     ]
    }
   ],
   "source": [
    "M = 7.493 - 5*np.log10(float(s4g_rawdata[1829][4])) + 5 - 30.\n",
    "m_to_l = 1.0\n",
    "print '{:2.2E}'.format(m_to_l*np.power(10., 0.4*(sun_abs_mags['H'] - M)))"
   ]
  },
  {
   "cell_type": "code",
   "execution_count": 37,
   "metadata": {
    "collapsed": false
   },
   "outputs": [
    {
     "name": "stdout",
     "output_type": "stream",
     "text": [
      "7.54E+10\n"
     ]
    }
   ],
   "source": [
    "M = 8.307 - 5*np.log10(float(s4g_rawdata[1829][4])) + 5 - 30.\n",
    "m_to_l = 1.2\n",
    "print '{:2.2E}'.format(m_to_l*np.power(10., 0.4*(sun_abs_mags['J'] - M)))"
   ]
  },
  {
   "cell_type": "code",
   "execution_count": 38,
   "metadata": {
    "collapsed": false
   },
   "outputs": [
    {
     "name": "stdout",
     "output_type": "stream",
     "text": [
      "8.63E+10\n"
     ]
    }
   ],
   "source": [
    "M = 7.360 - 5*np.log10(float(s4g_rawdata[1829][4])) + 5 - 30.\n",
    "m_to_l = 0.8\n",
    "print '{:2.2E}'.format(m_to_l*np.power(10., 0.4*(sun_abs_mags['K'] - M)))"
   ]
  },
  {
   "cell_type": "code",
   "execution_count": null,
   "metadata": {
    "collapsed": true
   },
   "outputs": [],
   "source": []
  },
  {
   "cell_type": "code",
   "execution_count": 39,
   "metadata": {
    "collapsed": false
   },
   "outputs": [],
   "source": [
    "final_s4g = []\n",
    "for l in s4g_rawdata:\n",
    "    if l[1] != 'null' and l[2] != 'null' and l[3] != 'null':\n",
    "        stellar_mass_s4g = np.power(10., float(l[3]))\n",
    "        \n",
    "        m_to_l = np.power(10, -0.339*(float(l[1]) - float(l[2])) -0.336)\n",
    "        photom_stellar = m_to_l*np.power(10., 0.4*(sun_abs_mags['3.6'] - float(l[1])))\n",
    "        final_s4g.append((l[0], stellar_mass_s4g, photom_stellar))"
   ]
  },
  {
   "cell_type": "code",
   "execution_count": 40,
   "metadata": {
    "collapsed": false
   },
   "outputs": [
    {
     "data": {
      "text/plain": [
       "2328"
      ]
     },
     "execution_count": 40,
     "metadata": {},
     "output_type": "execute_result"
    }
   ],
   "source": [
    "len(final_s4g)"
   ]
  },
  {
   "cell_type": "code",
   "execution_count": 43,
   "metadata": {
    "collapsed": false
   },
   "outputs": [
    {
     "data": {
      "image/png": "[encoded data removed]",
      "text/plain": [
       "<matplotlib.figure.Figure at 0x923ce48>"
      ]
     },
     "metadata": {},
     "output_type": "display_data"
    }
   ],
   "source": [
    "fig = plt.figure(figsize = [5, 5])\n",
    "ax = plt.subplot()\n",
    "ax.plot(zip(*final_s4g)[1], zip(*final_s4g)[2], '.')\n",
    "\n",
    "ax.set_title('S4G calibration')\n",
    "ax.set_xlabel('stellar mass from table')\n",
    "ax.set_ylabel('from calibration')\n",
    "ax.plot(ax.get_xlim(), ax.get_ylim(), ls=\"--\", c=\".3\")\n",
    "plt.show()"
   ]
  },
  {
   "cell_type": "markdown",
   "metadata": {},
   "source": [
    "Хорошо согласуется."
   ]
  },
  {
   "cell_type": "code",
   "execution_count": 42,
   "metadata": {
    "collapsed": false
   },
   "outputs": [
    {
     "name": "stdout",
     "output_type": "stream",
     "text": [
      "('NGC4258', 46989410860.521606, 4392714726.0054045)\n",
      "('NGC2985', 71779429127.136154, 6572490998.7841606)\n",
      "('NGC4725', 76032627694.018219, 6801504660.8040466)\n"
     ]
    }
   ],
   "source": [
    "for l in final_s4g:\n",
    "    if l[0] in ['NGC2985', 'NGC4725', 'NGC4258']:\n",
    "        print l"
   ]
  }
 ],
 "metadata": {
  "kernelspec": {
   "display_name": "Python 2",
   "language": "python",
   "name": "python2"
  },
  "language_info": {
   "codemirror_mode": {
    "name": "ipython",
    "version": 2
   },
   "file_extension": ".py",
   "mimetype": "text/x-python",
   "name": "python",
   "nbconvert_exporter": "python",
   "pygments_lexer": "ipython2",
   "version": "2.7.12"
  },
  "nav_menu": {},
  "toc": {
   "navigate_menu": true,
   "number_sections": true,
   "sideBar": true,
   "threshold": 6,
   "toc_cell": false,
   "toc_section_display": "block",
   "toc_window_display": false
  }
 },
 "nbformat": 4,
 "nbformat_minor": 2
}
