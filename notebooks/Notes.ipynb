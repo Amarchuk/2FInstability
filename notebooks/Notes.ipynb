{
 "cells": [
  {
   "cell_type": "markdown",
   "metadata": {
    "collapsed": true
   },
   "source": [
    "<div class=\"alert alert-warning\">\n",
    "</div>"
   ]
  },
  {
   "cell_type": "markdown",
   "metadata": {},
   "source": [
    "Из https://arxiv.org/pdf/1609.03179.pdf (стр. 5):\n",
    "\n",
    "Звездообразование из УФ:\n",
    "\n",
    "$\\Sigma_{SFR}[M_{sun}{yr}^{-1}{kpc}^{-2}] = 0.68\\times10^{-28}\\times I_{FUV}[erg s^{−1} {Hz}^{−1}{kpc}^{−2}]$ ссылка на Bigiel et al. (2010)\n",
    "\n",
    "Пересчет потока $\\rm{HI}$ в плотность:\n",
    "\n",
    "$\\Sigma_{HI}[M_{sun} {pc}^{-2}] = 8840\\times\\frac{F_{HI}[Jy / beam \\times km/s]}{bmaj\\times bmin [arcsec]}$ where the bmaj and bmin are the major and minor axis size of the beam, respectively. FHI is the flux detected across all velocity channels."
   ]
  },
  {
   "cell_type": "markdown",
   "metadata": {
    "collapsed": true
   },
   "source": [
    "<div class=\"alert alert-warning\">\n",
    "</div>"
   ]
  },
  {
   "cell_type": "markdown",
   "metadata": {},
   "source": [
    "Из https://ui.adsabs.harvard.edu/#abs/2016MNRAS.460.1106W/abstract:\n",
    "два возможных вида связи между молекулярным и атомарным газом $R_{mol} = \\Sigma_{H_2}/\\Sigma_{HI}$:\n",
    "\n",
    "$$R_{mol} = \\Sigma_{star}/81$$ или $$R_{mol} = \\left(\\frac{P_h}{1.7 \\times 10^4 cm^{-3}K k_B } \\right),\\, P_h = \\frac{\\pi}{2}G\\Sigma_g(\\Sigma_g + \\frac{\\sigma_g}{\\sigma_z}\\Sigma_{star})$$"
   ]
  },
  {
   "cell_type": "markdown",
   "metadata": {},
   "source": [
    "Также у них там есть формула связи $\\Sigma_{H_2}$ и $SFR$ и $SFR$ из УФ данных."
   ]
  },
  {
   "cell_type": "markdown",
   "metadata": {},
   "source": [
    "<div class=\"alert alert-warning\">\n",
    "</div>"
   ]
  },
  {
   "cell_type": "markdown",
   "metadata": {},
   "source": [
    "Из Leroy 2008 https://ui.adsabs.harvard.edu/#abs/2008AJ....136.2782L/abstract:\n",
    "\n",
    "простенькая связь дисперсии звезд в вертикальном направлении и фотометрии (основано на 4х предположениях): \n",
    "$$\\sigma_z = \\sqrt{2\\pi G\\Sigma_{star}h_{star}}$$, где $h_{star}$ - exponential stellar scale height "
   ]
  },
  {
   "cell_type": "markdown",
   "metadata": {},
   "source": [
    "Еще разные методы образования звезд (см. соседний ноутбук)."
   ]
  },
  {
   "cell_type": "markdown",
   "metadata": {},
   "source": [
    "Еще Hunter et al. (1998a) and Blitz & Rosolowsky (2004) observed strong correlations between star and GMC formation and the distribution of stars, consistent with stellar gravity playing a key role in star formation. Yang et al. (2007) recently showed that Qstars+gas does an excellent job of predicting the location of star formation in the Large Magellanic Cloud and Boissier et al. (2003) showed that including stars improves the correspondence between Q and star formation in disk galaxies. Li et al. (2005, 2006) found the same results from numerical simulations of disk galaxies, i.e., that stability against large scale collapse depends critically on the stellar potential well, with star formation where Qstars+gas < 1.6."
   ]
  },
  {
   "cell_type": "markdown",
   "metadata": {},
   "source": [
    "Еще Table 3, где есть ссылки на наблюдения $\\Sigma_{HI}$, $\\Sigma_{H_2}$, $SFR$.  "
   ]
  },
  {
   "cell_type": "markdown",
   "metadata": {},
   "source": [
    "<div class=\"alert alert-warning\">\n",
    "</div>"
   ]
  },
  {
   "cell_type": "markdown",
   "metadata": {},
   "source": [
    "Из https://ui.adsabs.harvard.edu/#abs/2016arXiv160503384F/abstract:\n",
    "там достаточно сложная модель толстого диска, насколько я могу судить, с формулой для дисперсий и параметра Тумре $Q_{thick} = \\frac{\\sigma_R k}{3.36G\\Sigma}\\exp[1.61\\displaystyle{\\frac{\\sigma_z\\nu}{\\sigma_Rk}}]$  "
   ]
  },
  {
   "cell_type": "markdown",
   "metadata": {},
   "source": [
    "<div class=\"alert alert-warning\">\n",
    "</div>"
   ]
  },
  {
   "cell_type": "markdown",
   "metadata": {},
   "source": [
    "Отсюда https://ui.adsabs.harvard.edu/#abs/2013MNRAS.434.3389Z/abstract (2013):\n",
    "\n",
    "приведена еще одна модель для $R_{mol}$ (т.е. всего три, учитывая верхние).\n",
    "\n",
    "Есть данные по дисперсии газа (!) $\\sigma_g$, Fig.3, полученные по приватному каналу. Для 12 галактик есть профили $\\rm{HI}$ и достаточно много обсуждается двухжидкостная модель. "
   ]
  },
  {
   "cell_type": "markdown",
   "metadata": {},
   "source": [
    "<div class=\"alert alert-warning\">\n",
    "</div>"
   ]
  },
  {
   "cell_type": "markdown",
   "metadata": {},
   "source": [
    "Из https://ui.adsabs.harvard.edu/#abs/2016arXiv160501104N/abstract можно извлечь список работ с данными по молекулярным и гигантским молекулярным облакам"
   ]
  },
  {
   "cell_type": "markdown",
   "metadata": {},
   "source": [
    "<div class=\"alert alert-warning\">\n",
    "</div>"
   ]
  },
  {
   "cell_type": "markdown",
   "metadata": {},
   "source": [
    "Из https://ui.adsabs.harvard.edu/#abs/2016AJ....152...51D/abstract есть данные по профилям плотности $\\rm{HI}$, $\\rm{CO}$, $\\rm{[CII]}$ для примерно 10 галактик."
   ]
  },
  {
   "cell_type": "markdown",
   "metadata": {},
   "source": [
    "<div class=\"alert alert-warning\">\n",
    "</div>"
   ]
  },
  {
   "cell_type": "markdown",
   "metadata": {},
   "source": [
    "Отсюда https://arxiv.org/pdf/1406.0856v1.pdf как определяется $\\rm{SFR}$ через инфракрасный поток\n",
    ">The SFR of the central galaxies was calculated from the far-infrared luminosities (Kennicutt 1998):\n",
    "> $$\\rm{SFR} = \\frac{L_{FIR}}{2.2\\times 10^{43}} M_{sun} year^{-1}$$\n",
    "> with the $L_{FIR}$ in erg s−1 obtained from the far-infrared flux FIR defined after Helou et al. (1985) as:\n",
    "> $$L_{FIR} = 1.26\\times10^{-11}(2.58f_{60\\mu} + f_{100\\mu})$$\n",
    "> where f60µ and f100µ are the fluxes at 60 and 100 micron expressed\n",
    "in Jansky. In this work we used the IRAS fluxes taken\n",
    "from NED and HyperLEDA. All main galaxies in our sample\n",
    "are detected both at 60µ and 100µ. See Tab. A.1 for their main\n",
    "physical properties.\n"
   ]
  },
  {
   "cell_type": "markdown",
   "metadata": {},
   "source": [
    "<div class=\"alert alert-warning\">\n",
    "</div>"
   ]
  },
  {
   "cell_type": "markdown",
   "metadata": {},
   "source": [
    "Отсюда https://arxiv.org/pdf/1207.4916v1.pdf ссылки на GALEX, WHISP, WOW, THINGS обзоры\n",
    "> 3.1 WHISP Sample\n",
    "The starting dataset here is the 266 observations done as\n",
    "part of the Westerbork observations of neutral Hydrogen in\n",
    "Irregular and SPiral galaxies (WHISP, van der Hulst et al.\n",
    "2001; van der Hulst 2002, ; 339 individual galaxies) that also\n",
    "have reasonable quality FUV and NUV data.\n",
    "\n",
    "> 3.1.1 HI Data\n",
    "We use the highest available resolution zero-moment maps\n",
    "(beam size of ∼12” x 12”/sin(δ)), from the WOW (“Westerbork On the Web” (WOW) project at ASTRON\n",
    "(http://www.astron.nl/wow/)) website\n",
    "and converted these to M /pc2\n",
    "column density maps with\n",
    "J2000 coordinates and of the same size as the galex postage\n",
    "stamp (see for details Holwerda et al. 2011b).\n",
    "\n",
    "> 3.1.2 galex data\n",
    "To complement the H i column density maps, we retrieved\n",
    "galex (Martin et al. 2005) postage stamps from http://skyview.gsfc.nasa.gov, near- and far-ultraviolet\n",
    "\n",
    ">THINGS The morphological\n",
    "classifications are based on the public datasets from the\n",
    "H i Nearby Galaxy Survey (THINGS, Walter et al. 2008) (http://www.mpia.de/THINGS/Overview.html)\n",
    ",\n",
    "and GALEX Nearby Galaxy Atlas (NGA, Gil de Paz et al.\n",
    "2007a)4\n",
    ", retrieved from MAST (http://galex.stsci.edu)."
   ]
  },
  {
   "cell_type": "markdown",
   "metadata": {},
   "source": [
    "<div class=\"alert alert-warning\">\n",
    "</div>"
   ]
  },
  {
   "cell_type": "markdown",
   "metadata": {},
   "source": [
    "Вот тут в статье Караченцева http://iopscience.iop.org/article/10.1088/0004-6256/146/3/46/pdf есть формулы пересчета SFR из потоков $\\rm{H_{\\alpha}}$ или звездную величину в ультрофиолете $m_{FUV}$"
   ]
  }
 ],
 "metadata": {
  "kernelspec": {
   "display_name": "Python 2",
   "language": "python",
   "name": "python2"
  },
  "language_info": {
   "codemirror_mode": {
    "name": "ipython",
    "version": 2
   },
   "file_extension": ".py",
   "mimetype": "text/x-python",
   "name": "python",
   "nbconvert_exporter": "python",
   "pygments_lexer": "ipython2",
   "version": "2.7.12"
  }
 },
 "nbformat": 4,
 "nbformat_minor": 1
}
