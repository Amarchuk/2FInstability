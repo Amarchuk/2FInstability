{
 "cells": [
  {
   "cell_type": "markdown",
   "metadata": {},
   "source": []
  },
  {
   "cell_type": "code",
   "execution_count": null,
   "metadata": {
    "collapsed": true
   },
   "outputs": [],
   "source": []
  },
  {
   "cell_type": "code",
   "execution_count": null,
   "metadata": {
    "collapsed": true
   },
   "outputs": [],
   "source": []
  },
  {
   "cell_type": "markdown",
   "metadata": {},
   "source": [
    "Из https://arxiv.org/pdf/1609.03179.pdf (стр. 5):\n",
    "\n",
    "Звездообразование из УФ:\n",
    "\n",
    "$\\Sigma_{SFR}[M_{sun}{yr}^{-1}{kpc}^{-2}] = 0.68\\times10^{-28}\\times I_{FUV}[erg s^{−1} {Hz}^{−1}{kpc}^{−2}]$ ссылка на Bigiel et al. (2010)\n",
    "\n",
    "Пересчет потока $\\rm{HI}$ в плотность:\n",
    "\n",
    "$\\Sigma_{HI}[M_{sun} {pc}^{-2}] = 8840\\times\\frac{F_{HI}[Jy / beam \\times km/s]}{bmaj\\times bmin [arcsec]}$ where the bmaj and bmin are the major and minor axis size of the beam, respectively. FHI is the flux detected across all velocity channels."
   ]
  },
  {
   "cell_type": "code",
   "execution_count": null,
   "metadata": {
    "collapsed": true
   },
   "outputs": [],
   "source": []
  }
 ],
 "metadata": {
  "kernelspec": {
   "display_name": "Python 2",
   "language": "python",
   "name": "python2"
  },
  "language_info": {
   "codemirror_mode": {
    "name": "ipython",
    "version": 2
   },
   "file_extension": ".py",
   "mimetype": "text/x-python",
   "name": "python",
   "nbconvert_exporter": "python",
   "pygments_lexer": "ipython2",
   "version": "2.7.12"
  }
 },
 "nbformat": 4,
 "nbformat_minor": 1
}
