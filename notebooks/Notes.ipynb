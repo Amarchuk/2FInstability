{
 "cells": [
  {
   "cell_type": "markdown",
   "metadata": {
    "collapsed": true
   },
   "source": [
    "<div class=\"alert alert-warning\">\n",
    "</div>"
   ]
  },
  {
   "cell_type": "markdown",
   "metadata": {},
   "source": [
    "Из https://arxiv.org/pdf/1609.03179.pdf (стр. 5):\n",
    "\n",
    "Звездообразование из УФ:\n",
    "\n",
    "$\\Sigma_{SFR}[M_{sun}{yr}^{-1}{kpc}^{-2}] = 0.68\\times10^{-28}\\times I_{FUV}[erg s^{−1} {Hz}^{−1}{kpc}^{−2}]$ ссылка на Bigiel et al. (2010)\n",
    "\n",
    "Пересчет потока $\\rm{HI}$ в плотность:\n",
    "\n",
    "$\\Sigma_{HI}[M_{sun} {pc}^{-2}] = 8840\\times\\frac{F_{HI}[Jy / beam \\times km/s]}{bmaj\\times bmin [arcsec]}$ where the bmaj and bmin are the major and minor axis size of the beam, respectively. FHI is the flux detected across all velocity channels."
   ]
  },
  {
   "cell_type": "markdown",
   "metadata": {
    "collapsed": true
   },
   "source": [
    "<div class=\"alert alert-warning\">\n",
    "</div>"
   ]
  },
  {
   "cell_type": "markdown",
   "metadata": {},
   "source": [
    "Из https://ui.adsabs.harvard.edu/#abs/2016MNRAS.460.1106W/abstract:\n",
    "два возможных вида связи между молекулярным и атомарным газом $R_{mol} = \\Sigma_{H_2}/\\Sigma_{HI}$:\n",
    "\n",
    "$$R_{mol} = \\Sigma_{star}/81$$ или $$R_{mol} = \\left(\\frac{P_h}{1.7 \\times 10^4 cm^{-3}K k_B } \\right),\\, P_h = \\frac{\\pi}{2}G\\Sigma_g(\\Sigma_g + \\frac{\\sigma_g}{\\sigma_z}\\Sigma_{star})$$"
   ]
  },
  {
   "cell_type": "markdown",
   "metadata": {},
   "source": [
    "Также у них там есть формула связи $\\Sigma_{H_2}$ и $SFR$ и $SFR$ из УФ данных."
   ]
  },
  {
   "cell_type": "markdown",
   "metadata": {},
   "source": [
    "<div class=\"alert alert-warning\">\n",
    "</div>"
   ]
  },
  {
   "cell_type": "markdown",
   "metadata": {},
   "source": [
    "Из Leroy 2008 https://ui.adsabs.harvard.edu/#abs/2008AJ....136.2782L/abstract:\n",
    "\n",
    "простенькая связь дисперсии звезд в вертикальном направлении и фотометрии (основано на 4х предположениях): \n",
    "$$\\sigma_z = \\sqrt{2\\pi G\\Sigma_{star}h_{star}}$$, где $h_{star}$ - exponential stellar scale height "
   ]
  },
  {
   "cell_type": "markdown",
   "metadata": {},
   "source": [
    "Еще разные методы образования звезд (см. соседний ноутбук)."
   ]
  },
  {
   "cell_type": "markdown",
   "metadata": {},
   "source": [
    "Еще Hunter et al. (1998a) and Blitz & Rosolowsky (2004) observed strong correlations between star and GMC formation and the distribution of stars, consistent with stellar gravity playing a key role in star formation. Yang et al. (2007) recently showed that Qstars+gas does an excellent job of predicting the location of star formation in the Large Magellanic Cloud and Boissier et al. (2003) showed that including stars improves the correspondence between Q and star formation in disk galaxies. Li et al. (2005, 2006) found the same results from numerical simulations of disk galaxies, i.e., that stability against large scale collapse depends critically on the stellar potential well, with star formation where Qstars+gas < 1.6."
   ]
  },
  {
   "cell_type": "markdown",
   "metadata": {},
   "source": [
    "Еще Table 3, где есть ссылки на наблюдения $\\Sigma_{HI}$, $\\Sigma_{H_2}$, $SFR$.  "
   ]
  },
  {
   "cell_type": "markdown",
   "metadata": {},
   "source": [
    "<div class=\"alert alert-warning\">\n",
    "</div>"
   ]
  },
  {
   "cell_type": "markdown",
   "metadata": {},
   "source": [
    "Из https://ui.adsabs.harvard.edu/#abs/2016arXiv160503384F/abstract:\n",
    "там достаточно сложная модель толстого диска, насколько я могу судить, с формулой для дисперсий и параметра Тумре $Q_{thick} = \\frac{\\sigma_R k}{3.36G\\Sigma}\\exp[1.61\\displaystyle{\\frac{\\sigma_z\\nu}{\\sigma_Rk}}]$  "
   ]
  },
  {
   "cell_type": "markdown",
   "metadata": {},
   "source": [
    "<div class=\"alert alert-warning\">\n",
    "</div>"
   ]
  },
  {
   "cell_type": "markdown",
   "metadata": {},
   "source": [
    "Отсюда https://ui.adsabs.harvard.edu/#abs/2013MNRAS.434.3389Z/abstract (2013):\n",
    "\n",
    "приведена еще одна модель для $R_{mol}$ (т.е. всего три, учитывая верхние).\n",
    "\n",
    "Есть данные по дисперсии газа (!) $\\sigma_g$, Fig.3, полученные по приватному каналу. Для 12 галактик есть профили $\\rm{HI}$ и достаточно много обсуждается двухжидкостная модель. "
   ]
  },
  {
   "cell_type": "markdown",
   "metadata": {},
   "source": [
    "<div class=\"alert alert-warning\">\n",
    "</div>"
   ]
  },
  {
   "cell_type": "markdown",
   "metadata": {},
   "source": [
    "Из https://ui.adsabs.harvard.edu/#abs/2016arXiv160501104N/abstract можно извлечь список работ с данными по молекулярным и гигантским молеклярным облакам"
   ]
  },
  {
   "cell_type": "markdown",
   "metadata": {},
   "source": [
    "<div class=\"alert alert-warning\">\n",
    "</div>"
   ]
  },
  {
   "cell_type": "markdown",
   "metadata": {},
   "source": [
    "Из https://ui.adsabs.harvard.edu/#abs/2016AJ....152...51D/abstract есть данные по профилям плотности $\\rm{HI}$, $\\rm{CO}$, $\\rm{[CII]}$ для примерно 10 галактик."
   ]
  }
 ],
 "metadata": {
  "kernelspec": {
   "display_name": "Python 2",
   "language": "python",
   "name": "python2"
  },
  "language_info": {
   "codemirror_mode": {
    "name": "ipython",
    "version": 2
   },
   "file_extension": ".py",
   "mimetype": "text/x-python",
   "name": "python",
   "nbconvert_exporter": "python",
   "pygments_lexer": "ipython2",
   "version": "2.7.12"
  }
 },
 "nbformat": 4,
 "nbformat_minor": 1
}
