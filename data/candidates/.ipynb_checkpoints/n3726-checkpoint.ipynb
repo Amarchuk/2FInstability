{
 "cells": [
  {
   "cell_type": "markdown",
   "metadata": {},
   "source": [
    "# заготовка для кандидата\n",
    "## имя\n",
    "\n",
    "Необходимые данные:"
   ]
  },
  {
   "cell_type": "markdown",
   "metadata": {},
   "source": [
    "## Кинематические данные по звездам\n",
    "\n",
    "Дисперсии скоростей и кривая вращения"
   ]
  },
  {
   "cell_type": "markdown",
   "metadata": {},
   "source": [
    "## Данные по фотометрии\n",
    "\n",
    "Декомпозиция и "
   ]
  },
  {
   "cell_type": "markdown",
   "metadata": {},
   "source": [
    "## Данные по газу\n",
    "\n",
    "Кривая вращения, $\\Sigma_g$"
   ]
  },
  {
   "cell_type": "markdown",
   "metadata": {},
   "source": [
    "## Области звездообразования\n",
    "\n",
    "$\\rm{H_{\\alpha}}$, $UV$"
   ]
  }
 ],
 "metadata": {
  "kernelspec": {
   "display_name": "Python 2",
   "language": "python",
   "name": "python2"
  },
  "language_info": {
   "codemirror_mode": {
    "name": "ipython",
    "version": 2
   },
   "file_extension": ".py",
   "mimetype": "text/x-python",
   "name": "python",
   "nbconvert_exporter": "python",
   "pygments_lexer": "ipython2",
   "version": "2.7.12"
  }
 },
 "nbformat": 4,
 "nbformat_minor": 1
}
